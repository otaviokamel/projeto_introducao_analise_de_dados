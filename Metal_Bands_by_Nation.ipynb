{
  "nbformat": 4,
  "nbformat_minor": 5,
  "metadata": {
    "colab": {
      "name": "Metal_Bands_by_Nation.ipynb",
      "provenance": [],
      "collapsed_sections": [
        "utijTSbgyeRM",
        "USLZEv03fnMx",
        "8wq8VS7Hfsvy",
        "9mxa0aLryBER",
        "b688cdca",
        "7f25969a",
        "793bdf67-4434-475f-a288-dfc903180a33",
        "soX6ETnifcBZ",
        "8gcM-IoLPsj6",
        "qBjmvEVguCJM",
        "pXYzCDM1Jejh",
        "V9yYyU7ZI_-p",
        "h2ES2kgklv9g",
        "sQB25-Fb43Jk",
        "362fef02"
      ],
      "toc_visible": true
    },
    "interpreter": {
      "hash": "ebe18a5a3e63c5f45e2b50f9a05e9c962aeb2b839f9c9b16622fab96f6b1d586"
    },
    "kernelspec": {
      "display_name": "Python 3",
      "language": "python",
      "name": "python3"
    },
    "language_info": {
      "codemirror_mode": {
        "name": "ipython",
        "version": 3
      },
      "file_extension": ".py",
      "mimetype": "text/x-python",
      "name": "python",
      "nbconvert_exporter": "python",
      "pygments_lexer": "ipython3",
      "version": "3.8.8"
    }
  },
  "cells": [
    {
      "cell_type": "markdown",
      "metadata": {
        "id": "f2e19349"
      },
      "source": [
        "<h1><center>𝕸𝖊𝖙𝖆𝖑 𝕭𝖆𝖓𝖉𝖘 🇧​​​​​🇾​​​​​ 🇳​​​​​🇦​​​​​🇹​​​​​🇮​​​​​🇴​​​​​🇳​​​​​</center></h1>\n",
        "<center>\n",
        "1964 ~ 2016\n",
        "<br>\n",
        "<br>\n",
        "\n",
        "**Introdução à Ciência dos Dados**\n",
        "\n",
        "*Professor Luciano Barbosa*<br><br>\n",
        "\n",
        "**Grupo**<br>\n",
        "🤘 Arianne Macena [@annemacena](https://github.com/annemacena) - asm7@cin.ufpe.br<br>\n",
        "🤘 Otávio Kamel [@otaviokamel](https://github.com/otaviokamel) - oackb@cin.ufpe.br\n",
        "<br><br>\n",
        "<img src=\"https://media.giphy.com/media/XcLpNX8NFvhAc/giphy.gif\" align=\"center\"></center>"
      ],
      "id": "f2e19349"
    },
    {
      "cell_type": "markdown",
      "metadata": {
        "id": "DuqbI6KdP8aD"
      },
      "source": [
        "# Visão Geral"
      ],
      "id": "DuqbI6KdP8aD"
    },
    {
      "cell_type": "markdown",
      "metadata": {
        "id": "_zd50VY6Qlxi"
      },
      "source": [
        "Para o presente trabalho, foi escolhido o *dataset* \"Metal Bands by Nation\" com a finalidade de fazer uma análise de seus dados e aplicar técnicas de ciência de dados pontuadas em aula. O *dataset* possui dados sobre bandas do gênero \"**Metal**\" ao decorrer dos anos de **1964 até 2016**.\n",
        "\n",
        "Os dados foram coletados do site [Metal Storm](http://metalstorm.net/). Além de uma lista de bandas de Metal, o site possui diversas informações sobre *reviews* de álbums, concertos e entrevistas.\n",
        "\n",
        "A coleta de dados foi feita através de *web scraping* do site da Metal Storm e seu resultado foi hospedado no [Kaggle](https://www.kaggle.com/mrpantherson/metal-by-nation)."
      ],
      "id": "_zd50VY6Qlxi"
    },
    {
      "cell_type": "markdown",
      "metadata": {
        "id": "EsHnK97HyZvY"
      },
      "source": [
        "## Bibliotecas"
      ],
      "id": "EsHnK97HyZvY"
    },
    {
      "cell_type": "code",
      "metadata": {
        "execution": {
          "iopub.execute_input": "2021-10-14T13:13:47.850580Z",
          "iopub.status.busy": "2021-10-14T13:13:47.850580Z",
          "iopub.status.idle": "2021-10-14T13:13:55.057132Z",
          "shell.execute_reply": "2021-10-14T13:13:55.056132Z",
          "shell.execute_reply.started": "2021-10-14T13:13:47.850580Z"
        },
        "id": "5bc45560",
        "tags": []
      },
      "source": [
        "# Importação de bibliotecas\n",
        "import pandas as pd\n",
        "import numpy as np\n",
        "import seaborn as sns\n",
        "from matplotlib import pyplot as plt\n",
        "import matplotlib.patches as mpatches\n",
        "from IPython.display import HTML"
      ],
      "id": "5bc45560",
      "execution_count": 234,
      "outputs": []
    },
    {
      "cell_type": "markdown",
      "metadata": {
        "id": "yzmFGgit_yBE"
      },
      "source": [
        "### GeonamesCache"
      ],
      "id": "yzmFGgit_yBE"
    },
    {
      "cell_type": "code",
      "metadata": {
        "colab": {
          "base_uri": "https://localhost:8080/"
        },
        "execution": {
          "iopub.execute_input": "2021-10-14T13:13:55.059135Z",
          "iopub.status.busy": "2021-10-14T13:13:55.058134Z",
          "iopub.status.idle": "2021-10-14T13:14:04.710548Z",
          "shell.execute_reply": "2021-10-14T13:14:04.710548Z",
          "shell.execute_reply.started": "2021-10-14T13:13:55.058134Z"
        },
        "id": "oKt4hDpAyvXt",
        "outputId": "56684e26-a5cf-4c69-8573-31839eec58a5"
      },
      "source": [
        "# Biblioteca que possui todos os nomes de países e continentes de acordo com a ISO\n",
        "!pip install geonamescache"
      ],
      "id": "oKt4hDpAyvXt",
      "execution_count": 2,
      "outputs": [
        {
          "output_type": "stream",
          "name": "stdout",
          "text": [
            "Requirement already satisfied: geonamescache in /usr/local/lib/python3.7/dist-packages (1.2.0)\n"
          ]
        }
      ]
    },
    {
      "cell_type": "code",
      "metadata": {
        "execution": {
          "iopub.execute_input": "2021-10-14T13:14:04.712549Z",
          "iopub.status.busy": "2021-10-14T13:14:04.711548Z",
          "iopub.status.idle": "2021-10-14T13:14:04.726562Z",
          "shell.execute_reply": "2021-10-14T13:14:04.726562Z",
          "shell.execute_reply.started": "2021-10-14T13:14:04.712549Z"
        },
        "id": "uv0dlI29BymY"
      },
      "source": [
        "from geonamescache import GeonamesCache\n",
        "from geonamescache.mappers import country"
      ],
      "id": "uv0dlI29BymY",
      "execution_count": 3,
      "outputs": []
    },
    {
      "cell_type": "markdown",
      "metadata": {
        "id": "erQ0eZDWD02m"
      },
      "source": [
        "### GeoPandas"
      ],
      "id": "erQ0eZDWD02m"
    },
    {
      "cell_type": "code",
      "metadata": {
        "execution": {
          "iopub.execute_input": "2021-10-14T13:23:13.164808Z",
          "iopub.status.busy": "2021-10-14T13:23:13.163807Z",
          "iopub.status.idle": "2021-10-14T13:23:51.714829Z",
          "shell.execute_reply": "2021-10-14T13:23:51.713828Z",
          "shell.execute_reply.started": "2021-10-14T13:23:13.164808Z"
        },
        "id": "h1bEGlyqD8Y8",
        "tags": []
      },
      "source": [
        "# Descomente essas linhas caso esteja rodando no Google Colab,\n",
        "# essas libs serão instaladas localmente via conda\n",
        "# !pip install geopandas\n",
        "# !pip install mapclassify"
      ],
      "id": "h1bEGlyqD8Y8",
      "execution_count": 4,
      "outputs": []
    },
    {
      "cell_type": "code",
      "metadata": {
        "execution": {
          "iopub.execute_input": "2021-10-14T13:23:07.939870Z",
          "iopub.status.busy": "2021-10-14T13:23:07.938859Z",
          "iopub.status.idle": "2021-10-14T13:23:07.958970Z",
          "shell.execute_reply": "2021-10-14T13:23:07.957969Z",
          "shell.execute_reply.started": "2021-10-14T13:23:07.939870Z"
        },
        "id": "Hwf4vXcBD5QH",
        "tags": []
      },
      "source": [
        "import geopandas as gpd"
      ],
      "id": "Hwf4vXcBD5QH",
      "execution_count": 5,
      "outputs": []
    },
    {
      "cell_type": "markdown",
      "metadata": {
        "id": "utijTSbgyeRM"
      },
      "source": [
        "## Importação e informações do *dataset*"
      ],
      "id": "utijTSbgyeRM"
    },
    {
      "cell_type": "code",
      "metadata": {
        "execution": {
          "iopub.execute_input": "2021-10-14T13:19:37.106040Z",
          "iopub.status.busy": "2021-10-14T13:19:37.106040Z",
          "iopub.status.idle": "2021-10-14T13:19:37.186113Z",
          "shell.execute_reply": "2021-10-14T13:19:37.186113Z",
          "shell.execute_reply.started": "2021-10-14T13:19:37.106040Z"
        },
        "id": "81c2d8ef",
        "tags": []
      },
      "source": [
        "# importando arquivo com dados do dataset escolhido\n",
        "df = pd.read_csv('metal_bands_2017.csv', encoding='latin-1')"
      ],
      "id": "81c2d8ef",
      "execution_count": 6,
      "outputs": []
    },
    {
      "cell_type": "markdown",
      "metadata": {
        "id": "INNj4h5lWWxO"
      },
      "source": [
        "As colunas do *dataset* são compostas pelos seguintes dados:\n",
        "\n",
        "*   **band_name**: Nome da banda.\n",
        "*   **fans**: A quantidade de fãs a banda possui no site da Metal Storm.\n",
        "*   **formed**: O ano que a banda foi formada.\n",
        "*   **origin**: O país de onde a banda é.\n",
        "*   **split**: O ano que a banda se separou.\n",
        "*   **style**: O estilo ou subgênero da banda.\n",
        "\n"
      ],
      "id": "INNj4h5lWWxO"
    },
    {
      "cell_type": "code",
      "metadata": {
        "colab": {
          "base_uri": "https://localhost:8080/",
          "height": 0
        },
        "execution": {
          "iopub.execute_input": "2021-10-14T13:19:37.798572Z",
          "iopub.status.busy": "2021-10-14T13:19:37.798572Z",
          "iopub.status.idle": "2021-10-14T13:19:37.820591Z",
          "shell.execute_reply": "2021-10-14T13:19:37.820591Z",
          "shell.execute_reply.started": "2021-10-14T13:19:37.798572Z"
        },
        "id": "fe473277",
        "tags": [],
        "outputId": "9597890f-6755-4e54-df45-132988a2eb9e"
      },
      "source": [
        "# visualizando as 5 primeiras linhas do dataset\n",
        "df.head()"
      ],
      "id": "fe473277",
      "execution_count": 7,
      "outputs": [
        {
          "output_type": "execute_result",
          "data": {
            "text/html": [
              "<div>\n",
              "<style scoped>\n",
              "    .dataframe tbody tr th:only-of-type {\n",
              "        vertical-align: middle;\n",
              "    }\n",
              "\n",
              "    .dataframe tbody tr th {\n",
              "        vertical-align: top;\n",
              "    }\n",
              "\n",
              "    .dataframe thead th {\n",
              "        text-align: right;\n",
              "    }\n",
              "</style>\n",
              "<table border=\"1\" class=\"dataframe\">\n",
              "  <thead>\n",
              "    <tr style=\"text-align: right;\">\n",
              "      <th></th>\n",
              "      <th>Unnamed: 0</th>\n",
              "      <th>band_name</th>\n",
              "      <th>fans</th>\n",
              "      <th>formed</th>\n",
              "      <th>origin</th>\n",
              "      <th>split</th>\n",
              "      <th>style</th>\n",
              "    </tr>\n",
              "  </thead>\n",
              "  <tbody>\n",
              "    <tr>\n",
              "      <th>0</th>\n",
              "      <td>0</td>\n",
              "      <td>Iron Maiden</td>\n",
              "      <td>4195</td>\n",
              "      <td>1975</td>\n",
              "      <td>United Kingdom</td>\n",
              "      <td>-</td>\n",
              "      <td>New wave of british heavy,Heavy</td>\n",
              "    </tr>\n",
              "    <tr>\n",
              "      <th>1</th>\n",
              "      <td>1</td>\n",
              "      <td>Opeth</td>\n",
              "      <td>4147</td>\n",
              "      <td>1990</td>\n",
              "      <td>Sweden</td>\n",
              "      <td>1990</td>\n",
              "      <td>Extreme progressive,Progressive rock,Progressive</td>\n",
              "    </tr>\n",
              "    <tr>\n",
              "      <th>2</th>\n",
              "      <td>2</td>\n",
              "      <td>Metallica</td>\n",
              "      <td>3712</td>\n",
              "      <td>1981</td>\n",
              "      <td>USA</td>\n",
              "      <td>-</td>\n",
              "      <td>Heavy,Bay area thrash</td>\n",
              "    </tr>\n",
              "    <tr>\n",
              "      <th>3</th>\n",
              "      <td>3</td>\n",
              "      <td>Megadeth</td>\n",
              "      <td>3105</td>\n",
              "      <td>1983</td>\n",
              "      <td>USA</td>\n",
              "      <td>1983</td>\n",
              "      <td>Thrash,Heavy,Hard rock</td>\n",
              "    </tr>\n",
              "    <tr>\n",
              "      <th>4</th>\n",
              "      <td>4</td>\n",
              "      <td>Amon Amarth</td>\n",
              "      <td>3054</td>\n",
              "      <td>1988</td>\n",
              "      <td>Sweden</td>\n",
              "      <td>-</td>\n",
              "      <td>Melodic death</td>\n",
              "    </tr>\n",
              "  </tbody>\n",
              "</table>\n",
              "</div>"
            ],
            "text/plain": [
              "   Unnamed: 0  ...                                             style\n",
              "0           0  ...                   New wave of british heavy,Heavy\n",
              "1           1  ...  Extreme progressive,Progressive rock,Progressive\n",
              "2           2  ...                             Heavy,Bay area thrash\n",
              "3           3  ...                            Thrash,Heavy,Hard rock\n",
              "4           4  ...                                     Melodic death\n",
              "\n",
              "[5 rows x 7 columns]"
            ]
          },
          "metadata": {},
          "execution_count": 7
        }
      ]
    },
    {
      "cell_type": "code",
      "metadata": {
        "colab": {
          "base_uri": "https://localhost:8080/"
        },
        "execution": {
          "iopub.execute_input": "2021-10-14T13:19:37.851620Z",
          "iopub.status.busy": "2021-10-14T13:19:37.851620Z",
          "iopub.status.idle": "2021-10-14T13:19:37.868635Z",
          "shell.execute_reply": "2021-10-14T13:19:37.868635Z",
          "shell.execute_reply.started": "2021-10-14T13:19:37.851620Z"
        },
        "id": "b6b21a95",
        "tags": [],
        "outputId": "9c2dcfc5-8b89-47a5-96b4-a0cc13d308fb"
      },
      "source": [
        "# visualizando a dimensionalidade do dataset (linhas, colunas)\n",
        "df.shape"
      ],
      "id": "b6b21a95",
      "execution_count": 8,
      "outputs": [
        {
          "output_type": "execute_result",
          "data": {
            "text/plain": [
              "(5000, 7)"
            ]
          },
          "metadata": {},
          "execution_count": 8
        }
      ]
    },
    {
      "cell_type": "code",
      "metadata": {
        "colab": {
          "base_uri": "https://localhost:8080/",
          "height": 0
        },
        "execution": {
          "iopub.execute_input": "2021-10-14T13:19:37.870637Z",
          "iopub.status.busy": "2021-10-14T13:19:37.869636Z",
          "iopub.status.idle": "2021-10-14T13:19:37.899662Z",
          "shell.execute_reply": "2021-10-14T13:19:37.899662Z",
          "shell.execute_reply.started": "2021-10-14T13:19:37.870637Z"
        },
        "id": "O8bcKj5GR1_1",
        "tags": [],
        "outputId": "86b30580-4b4f-4deb-d06a-d94497e4260a"
      },
      "source": [
        "df.describe()"
      ],
      "id": "O8bcKj5GR1_1",
      "execution_count": 9,
      "outputs": [
        {
          "output_type": "execute_result",
          "data": {
            "text/html": [
              "<div>\n",
              "<style scoped>\n",
              "    .dataframe tbody tr th:only-of-type {\n",
              "        vertical-align: middle;\n",
              "    }\n",
              "\n",
              "    .dataframe tbody tr th {\n",
              "        vertical-align: top;\n",
              "    }\n",
              "\n",
              "    .dataframe thead th {\n",
              "        text-align: right;\n",
              "    }\n",
              "</style>\n",
              "<table border=\"1\" class=\"dataframe\">\n",
              "  <thead>\n",
              "    <tr style=\"text-align: right;\">\n",
              "      <th></th>\n",
              "      <th>Unnamed: 0</th>\n",
              "      <th>fans</th>\n",
              "    </tr>\n",
              "  </thead>\n",
              "  <tbody>\n",
              "    <tr>\n",
              "      <th>count</th>\n",
              "      <td>5000.000000</td>\n",
              "      <td>5000.000000</td>\n",
              "    </tr>\n",
              "    <tr>\n",
              "      <th>mean</th>\n",
              "      <td>2499.500000</td>\n",
              "      <td>87.805800</td>\n",
              "    </tr>\n",
              "    <tr>\n",
              "      <th>std</th>\n",
              "      <td>1443.520003</td>\n",
              "      <td>296.137523</td>\n",
              "    </tr>\n",
              "    <tr>\n",
              "      <th>min</th>\n",
              "      <td>0.000000</td>\n",
              "      <td>0.000000</td>\n",
              "    </tr>\n",
              "    <tr>\n",
              "      <th>25%</th>\n",
              "      <td>1249.750000</td>\n",
              "      <td>4.000000</td>\n",
              "    </tr>\n",
              "    <tr>\n",
              "      <th>50%</th>\n",
              "      <td>2499.500000</td>\n",
              "      <td>12.000000</td>\n",
              "    </tr>\n",
              "    <tr>\n",
              "      <th>75%</th>\n",
              "      <td>3749.250000</td>\n",
              "      <td>42.000000</td>\n",
              "    </tr>\n",
              "    <tr>\n",
              "      <th>max</th>\n",
              "      <td>4999.000000</td>\n",
              "      <td>4195.000000</td>\n",
              "    </tr>\n",
              "  </tbody>\n",
              "</table>\n",
              "</div>"
            ],
            "text/plain": [
              "        Unnamed: 0         fans\n",
              "count  5000.000000  5000.000000\n",
              "mean   2499.500000    87.805800\n",
              "std    1443.520003   296.137523\n",
              "min       0.000000     0.000000\n",
              "25%    1249.750000     4.000000\n",
              "50%    2499.500000    12.000000\n",
              "75%    3749.250000    42.000000\n",
              "max    4999.000000  4195.000000"
            ]
          },
          "metadata": {},
          "execution_count": 9
        }
      ]
    },
    {
      "cell_type": "code",
      "metadata": {
        "colab": {
          "base_uri": "https://localhost:8080/",
          "height": 0
        },
        "execution": {
          "iopub.execute_input": "2021-10-14T13:19:37.921682Z",
          "iopub.status.busy": "2021-10-14T13:19:37.921682Z",
          "iopub.status.idle": "2021-10-14T13:19:37.963720Z",
          "shell.execute_reply": "2021-10-14T13:19:37.963720Z",
          "shell.execute_reply.started": "2021-10-14T13:19:37.921682Z"
        },
        "id": "zpr-EJXcR3q5",
        "tags": [],
        "outputId": "ea447881-83c3-48e2-fbfe-ab8c0fde9851"
      },
      "source": [
        "df.describe(include='object')"
      ],
      "id": "zpr-EJXcR3q5",
      "execution_count": 10,
      "outputs": [
        {
          "output_type": "execute_result",
          "data": {
            "text/html": [
              "<div>\n",
              "<style scoped>\n",
              "    .dataframe tbody tr th:only-of-type {\n",
              "        vertical-align: middle;\n",
              "    }\n",
              "\n",
              "    .dataframe tbody tr th {\n",
              "        vertical-align: top;\n",
              "    }\n",
              "\n",
              "    .dataframe thead th {\n",
              "        text-align: right;\n",
              "    }\n",
              "</style>\n",
              "<table border=\"1\" class=\"dataframe\">\n",
              "  <thead>\n",
              "    <tr style=\"text-align: right;\">\n",
              "      <th></th>\n",
              "      <th>band_name</th>\n",
              "      <th>formed</th>\n",
              "      <th>origin</th>\n",
              "      <th>split</th>\n",
              "      <th>style</th>\n",
              "    </tr>\n",
              "  </thead>\n",
              "  <tbody>\n",
              "    <tr>\n",
              "      <th>count</th>\n",
              "      <td>5000</td>\n",
              "      <td>5000</td>\n",
              "      <td>4992</td>\n",
              "      <td>5000</td>\n",
              "      <td>5000</td>\n",
              "    </tr>\n",
              "    <tr>\n",
              "      <th>unique</th>\n",
              "      <td>4949</td>\n",
              "      <td>53</td>\n",
              "      <td>113</td>\n",
              "      <td>50</td>\n",
              "      <td>1227</td>\n",
              "    </tr>\n",
              "    <tr>\n",
              "      <th>top</th>\n",
              "      <td>Mastodon</td>\n",
              "      <td>2005</td>\n",
              "      <td>USA</td>\n",
              "      <td>-</td>\n",
              "      <td>Black</td>\n",
              "    </tr>\n",
              "    <tr>\n",
              "      <th>freq</th>\n",
              "      <td>2</td>\n",
              "      <td>270</td>\n",
              "      <td>1139</td>\n",
              "      <td>2215</td>\n",
              "      <td>345</td>\n",
              "    </tr>\n",
              "  </tbody>\n",
              "</table>\n",
              "</div>"
            ],
            "text/plain": [
              "       band_name formed origin split  style\n",
              "count       5000   5000   4992  5000   5000\n",
              "unique      4949     53    113    50   1227\n",
              "top     Mastodon   2005    USA     -  Black\n",
              "freq           2    270   1139  2215    345"
            ]
          },
          "metadata": {},
          "execution_count": 10
        }
      ]
    },
    {
      "cell_type": "markdown",
      "metadata": {
        "id": "e4bdfd4e"
      },
      "source": [
        "# Pré-Processamento"
      ],
      "id": "e4bdfd4e"
    },
    {
      "cell_type": "markdown",
      "metadata": {
        "id": "ba6b3957"
      },
      "source": [
        "## Tratamento\tde\tdados\n"
      ],
      "id": "ba6b3957"
    },
    {
      "cell_type": "markdown",
      "metadata": {
        "id": "USLZEv03fnMx"
      },
      "source": [
        "### Dados faltantes"
      ],
      "id": "USLZEv03fnMx"
    },
    {
      "cell_type": "code",
      "metadata": {
        "execution": {
          "iopub.execute_input": "2021-10-14T13:19:38.043793Z",
          "iopub.status.busy": "2021-10-14T13:19:38.043793Z",
          "iopub.status.idle": "2021-10-14T13:19:38.060808Z",
          "shell.execute_reply": "2021-10-14T13:19:38.059807Z",
          "shell.execute_reply.started": "2021-10-14T13:19:38.043793Z"
        },
        "id": "88fb3cc4",
        "tags": []
      },
      "source": [
        "# a coluna Unnamed: 0 é apenas repetição do index do dataframe, vamos removê-la\n",
        "df.drop(columns=['Unnamed: 0'], inplace=True)"
      ],
      "id": "88fb3cc4",
      "execution_count": 11,
      "outputs": []
    },
    {
      "cell_type": "code",
      "metadata": {
        "colab": {
          "base_uri": "https://localhost:8080/",
          "height": 0
        },
        "execution": {
          "iopub.execute_input": "2021-10-14T13:19:38.070817Z",
          "iopub.status.busy": "2021-10-14T13:19:38.070817Z",
          "iopub.status.idle": "2021-10-14T13:19:38.091836Z",
          "shell.execute_reply": "2021-10-14T13:19:38.091836Z",
          "shell.execute_reply.started": "2021-10-14T13:19:38.070817Z"
        },
        "id": "zf6Q1rhuXWnx",
        "tags": [],
        "outputId": "e33fe0f8-e4a9-4150-d897-4214edc7f50a"
      },
      "source": [
        "df.head()"
      ],
      "id": "zf6Q1rhuXWnx",
      "execution_count": 12,
      "outputs": [
        {
          "output_type": "execute_result",
          "data": {
            "text/html": [
              "<div>\n",
              "<style scoped>\n",
              "    .dataframe tbody tr th:only-of-type {\n",
              "        vertical-align: middle;\n",
              "    }\n",
              "\n",
              "    .dataframe tbody tr th {\n",
              "        vertical-align: top;\n",
              "    }\n",
              "\n",
              "    .dataframe thead th {\n",
              "        text-align: right;\n",
              "    }\n",
              "</style>\n",
              "<table border=\"1\" class=\"dataframe\">\n",
              "  <thead>\n",
              "    <tr style=\"text-align: right;\">\n",
              "      <th></th>\n",
              "      <th>band_name</th>\n",
              "      <th>fans</th>\n",
              "      <th>formed</th>\n",
              "      <th>origin</th>\n",
              "      <th>split</th>\n",
              "      <th>style</th>\n",
              "    </tr>\n",
              "  </thead>\n",
              "  <tbody>\n",
              "    <tr>\n",
              "      <th>0</th>\n",
              "      <td>Iron Maiden</td>\n",
              "      <td>4195</td>\n",
              "      <td>1975</td>\n",
              "      <td>United Kingdom</td>\n",
              "      <td>-</td>\n",
              "      <td>New wave of british heavy,Heavy</td>\n",
              "    </tr>\n",
              "    <tr>\n",
              "      <th>1</th>\n",
              "      <td>Opeth</td>\n",
              "      <td>4147</td>\n",
              "      <td>1990</td>\n",
              "      <td>Sweden</td>\n",
              "      <td>1990</td>\n",
              "      <td>Extreme progressive,Progressive rock,Progressive</td>\n",
              "    </tr>\n",
              "    <tr>\n",
              "      <th>2</th>\n",
              "      <td>Metallica</td>\n",
              "      <td>3712</td>\n",
              "      <td>1981</td>\n",
              "      <td>USA</td>\n",
              "      <td>-</td>\n",
              "      <td>Heavy,Bay area thrash</td>\n",
              "    </tr>\n",
              "    <tr>\n",
              "      <th>3</th>\n",
              "      <td>Megadeth</td>\n",
              "      <td>3105</td>\n",
              "      <td>1983</td>\n",
              "      <td>USA</td>\n",
              "      <td>1983</td>\n",
              "      <td>Thrash,Heavy,Hard rock</td>\n",
              "    </tr>\n",
              "    <tr>\n",
              "      <th>4</th>\n",
              "      <td>Amon Amarth</td>\n",
              "      <td>3054</td>\n",
              "      <td>1988</td>\n",
              "      <td>Sweden</td>\n",
              "      <td>-</td>\n",
              "      <td>Melodic death</td>\n",
              "    </tr>\n",
              "  </tbody>\n",
              "</table>\n",
              "</div>"
            ],
            "text/plain": [
              "     band_name  fans  ... split                                             style\n",
              "0  Iron Maiden  4195  ...     -                   New wave of british heavy,Heavy\n",
              "1        Opeth  4147  ...  1990  Extreme progressive,Progressive rock,Progressive\n",
              "2    Metallica  3712  ...     -                             Heavy,Bay area thrash\n",
              "3     Megadeth  3105  ...  1983                            Thrash,Heavy,Hard rock\n",
              "4  Amon Amarth  3054  ...     -                                     Melodic death\n",
              "\n",
              "[5 rows x 6 columns]"
            ]
          },
          "metadata": {},
          "execution_count": 12
        }
      ]
    },
    {
      "cell_type": "code",
      "metadata": {
        "colab": {
          "base_uri": "https://localhost:8080/"
        },
        "execution": {
          "iopub.execute_input": "2021-10-14T13:19:38.099843Z",
          "iopub.status.busy": "2021-10-14T13:19:38.098842Z",
          "iopub.status.idle": "2021-10-14T13:19:38.107851Z",
          "shell.execute_reply": "2021-10-14T13:19:38.107851Z",
          "shell.execute_reply.started": "2021-10-14T13:19:38.099843Z"
        },
        "id": "rBUigf8uRHY9",
        "tags": [],
        "outputId": "3f9786ca-3a38-4dcb-b309-8617da14e101"
      },
      "source": [
        "# visualizando quantidade de dados por colunas que possuem dados faltantes\n",
        "df.isna().sum()"
      ],
      "id": "rBUigf8uRHY9",
      "execution_count": 13,
      "outputs": [
        {
          "output_type": "execute_result",
          "data": {
            "text/plain": [
              "band_name    0\n",
              "fans         0\n",
              "formed       0\n",
              "origin       8\n",
              "split        0\n",
              "style        0\n",
              "dtype: int64"
            ]
          },
          "metadata": {},
          "execution_count": 13
        }
      ]
    },
    {
      "cell_type": "markdown",
      "metadata": {
        "id": "0N0rfpODxH9d"
      },
      "source": [
        "A princípio, apenas a coluna 'origin' possui valores faltantes. Mas ao investigar o dataset mais a frente, veremos que existem alguns valores que foram preenchidos com um traço \"-\" para indicar a falta daquele atributo."
      ],
      "id": "0N0rfpODxH9d"
    },
    {
      "cell_type": "code",
      "metadata": {
        "colab": {
          "base_uri": "https://localhost:8080/",
          "height": 0
        },
        "execution": {
          "iopub.execute_input": "2021-10-14T13:19:38.131873Z",
          "iopub.status.busy": "2021-10-14T13:19:38.131873Z",
          "iopub.status.idle": "2021-10-14T13:19:38.155893Z",
          "shell.execute_reply": "2021-10-14T13:19:38.155893Z",
          "shell.execute_reply.started": "2021-10-14T13:19:38.131873Z"
        },
        "id": "07Y_xYVbXlTo",
        "tags": [],
        "outputId": "90341584-06e8-42e6-9bed-1bfd47247d0f"
      },
      "source": [
        "df[df['origin'].isna()]"
      ],
      "id": "07Y_xYVbXlTo",
      "execution_count": 14,
      "outputs": [
        {
          "output_type": "execute_result",
          "data": {
            "text/html": [
              "<div>\n",
              "<style scoped>\n",
              "    .dataframe tbody tr th:only-of-type {\n",
              "        vertical-align: middle;\n",
              "    }\n",
              "\n",
              "    .dataframe tbody tr th {\n",
              "        vertical-align: top;\n",
              "    }\n",
              "\n",
              "    .dataframe thead th {\n",
              "        text-align: right;\n",
              "    }\n",
              "</style>\n",
              "<table border=\"1\" class=\"dataframe\">\n",
              "  <thead>\n",
              "    <tr style=\"text-align: right;\">\n",
              "      <th></th>\n",
              "      <th>band_name</th>\n",
              "      <th>fans</th>\n",
              "      <th>formed</th>\n",
              "      <th>origin</th>\n",
              "      <th>split</th>\n",
              "      <th>style</th>\n",
              "    </tr>\n",
              "  </thead>\n",
              "  <tbody>\n",
              "    <tr>\n",
              "      <th>460</th>\n",
              "      <td>Enshine</td>\n",
              "      <td>175</td>\n",
              "      <td>2009</td>\n",
              "      <td>NaN</td>\n",
              "      <td>-</td>\n",
              "      <td>Gothic doom</td>\n",
              "    </tr>\n",
              "    <tr>\n",
              "      <th>989</th>\n",
              "      <td>Clouds</td>\n",
              "      <td>61</td>\n",
              "      <td>2013</td>\n",
              "      <td>NaN</td>\n",
              "      <td>2013</td>\n",
              "      <td>Atmospheric doom</td>\n",
              "    </tr>\n",
              "    <tr>\n",
              "      <th>1422</th>\n",
              "      <td>Subterranean Masquerade</td>\n",
              "      <td>35</td>\n",
              "      <td>1997</td>\n",
              "      <td>NaN</td>\n",
              "      <td>-</td>\n",
              "      <td>Progressive,Psychedelic rock</td>\n",
              "    </tr>\n",
              "    <tr>\n",
              "      <th>2614</th>\n",
              "      <td>Twilight Of The Gods</td>\n",
              "      <td>11</td>\n",
              "      <td>2010</td>\n",
              "      <td>NaN</td>\n",
              "      <td>-</td>\n",
              "      <td>Heavy</td>\n",
              "    </tr>\n",
              "    <tr>\n",
              "      <th>2996</th>\n",
              "      <td>Archivist</td>\n",
              "      <td>7</td>\n",
              "      <td>2015</td>\n",
              "      <td>NaN</td>\n",
              "      <td>-</td>\n",
              "      <td>Atmospheric black,Post-metal</td>\n",
              "    </tr>\n",
              "    <tr>\n",
              "      <th>3444</th>\n",
              "      <td>Metallic Taste Of Blood</td>\n",
              "      <td>5</td>\n",
              "      <td>2011</td>\n",
              "      <td>NaN</td>\n",
              "      <td>-</td>\n",
              "      <td>Progressive,Instrumental</td>\n",
              "    </tr>\n",
              "    <tr>\n",
              "      <th>3941</th>\n",
              "      <td>Level 10</td>\n",
              "      <td>3</td>\n",
              "      <td>2014</td>\n",
              "      <td>NaN</td>\n",
              "      <td>2014</td>\n",
              "      <td>Heavy,Power</td>\n",
              "    </tr>\n",
              "    <tr>\n",
              "      <th>4201</th>\n",
              "      <td>Death Penalty</td>\n",
              "      <td>2</td>\n",
              "      <td>2013</td>\n",
              "      <td>NaN</td>\n",
              "      <td>2013</td>\n",
              "      <td>Doom,Heavy</td>\n",
              "    </tr>\n",
              "  </tbody>\n",
              "</table>\n",
              "</div>"
            ],
            "text/plain": [
              "                    band_name  fans  ... split                         style\n",
              "460                   Enshine   175  ...     -                   Gothic doom\n",
              "989                    Clouds    61  ...  2013              Atmospheric doom\n",
              "1422  Subterranean Masquerade    35  ...     -  Progressive,Psychedelic rock\n",
              "2614     Twilight Of The Gods    11  ...     -                         Heavy\n",
              "2996                Archivist     7  ...     -  Atmospheric black,Post-metal\n",
              "3444  Metallic Taste Of Blood     5  ...     -      Progressive,Instrumental\n",
              "3941                 Level 10     3  ...  2014                   Heavy,Power\n",
              "4201            Death Penalty     2  ...  2013                    Doom,Heavy\n",
              "\n",
              "[8 rows x 6 columns]"
            ]
          },
          "metadata": {},
          "execution_count": 14
        }
      ]
    },
    {
      "cell_type": "code",
      "metadata": {
        "execution": {
          "iopub.execute_input": "2021-10-14T13:19:38.185921Z",
          "iopub.status.busy": "2021-10-14T13:19:38.185921Z",
          "iopub.status.idle": "2021-10-14T13:19:38.203937Z",
          "shell.execute_reply": "2021-10-14T13:19:38.203937Z",
          "shell.execute_reply.started": "2021-10-14T13:19:38.185921Z"
        },
        "id": "zDdjgy0YZCww",
        "tags": []
      },
      "source": [
        "# removendo linhas que possuem ano de origem faltante\n",
        "df.dropna(inplace=True)"
      ],
      "id": "zDdjgy0YZCww",
      "execution_count": 15,
      "outputs": []
    },
    {
      "cell_type": "code",
      "metadata": {
        "colab": {
          "base_uri": "https://localhost:8080/"
        },
        "execution": {
          "iopub.execute_input": "2021-10-14T13:19:38.205939Z",
          "iopub.status.busy": "2021-10-14T13:19:38.205939Z",
          "iopub.status.idle": "2021-10-14T13:19:38.219952Z",
          "shell.execute_reply": "2021-10-14T13:19:38.219952Z",
          "shell.execute_reply.started": "2021-10-14T13:19:38.205939Z"
        },
        "id": "PiMZQ3NmZVI7",
        "tags": [],
        "outputId": "b2a601cf-83dd-48fa-89eb-c6b940423498"
      },
      "source": [
        "df.isna().sum()"
      ],
      "id": "PiMZQ3NmZVI7",
      "execution_count": 16,
      "outputs": [
        {
          "output_type": "execute_result",
          "data": {
            "text/plain": [
              "band_name    0\n",
              "fans         0\n",
              "formed       0\n",
              "origin       0\n",
              "split        0\n",
              "style        0\n",
              "dtype: int64"
            ]
          },
          "metadata": {},
          "execution_count": 16
        }
      ]
    },
    {
      "cell_type": "markdown",
      "metadata": {
        "id": "8wq8VS7Hfsvy"
      },
      "source": [
        "### Dados duplicados"
      ],
      "id": "8wq8VS7Hfsvy"
    },
    {
      "cell_type": "code",
      "metadata": {
        "colab": {
          "base_uri": "https://localhost:8080/"
        },
        "execution": {
          "iopub.execute_input": "2021-10-14T13:19:38.281007Z",
          "iopub.status.busy": "2021-10-14T13:19:38.281007Z",
          "iopub.status.idle": "2021-10-14T13:19:38.300024Z",
          "shell.execute_reply": "2021-10-14T13:19:38.300024Z",
          "shell.execute_reply.started": "2021-10-14T13:19:38.281007Z"
        },
        "id": "wW-1-g3RZfSF",
        "tags": [],
        "outputId": "2661102f-d65b-48da-aad6-86047da191c1"
      },
      "source": [
        "# verificando se existem nomes de bandas duplicados\n",
        "df[\"band_name\"].duplicated().sum()"
      ],
      "id": "wW-1-g3RZfSF",
      "execution_count": 17,
      "outputs": [
        {
          "output_type": "execute_result",
          "data": {
            "text/plain": [
              "51"
            ]
          },
          "metadata": {},
          "execution_count": 17
        }
      ]
    },
    {
      "cell_type": "code",
      "metadata": {
        "colab": {
          "base_uri": "https://localhost:8080/"
        },
        "execution": {
          "iopub.execute_input": "2021-10-14T13:19:38.302026Z",
          "iopub.status.busy": "2021-10-14T13:19:38.301025Z",
          "iopub.status.idle": "2021-10-14T13:19:38.315037Z",
          "shell.execute_reply": "2021-10-14T13:19:38.315037Z",
          "shell.execute_reply.started": "2021-10-14T13:19:38.302026Z"
        },
        "id": "VAXEvIqgbana",
        "tags": [],
        "outputId": "9a8d8327-3789-40d6-f4e1-97f30a8ccbb4"
      },
      "source": [
        "df.shape"
      ],
      "id": "VAXEvIqgbana",
      "execution_count": 18,
      "outputs": [
        {
          "output_type": "execute_result",
          "data": {
            "text/plain": [
              "(4992, 6)"
            ]
          },
          "metadata": {},
          "execution_count": 18
        }
      ]
    },
    {
      "cell_type": "code",
      "metadata": {
        "execution": {
          "iopub.execute_input": "2021-10-14T13:19:38.348067Z",
          "iopub.status.busy": "2021-10-14T13:19:38.348067Z",
          "iopub.status.idle": "2021-10-14T13:19:38.363080Z",
          "shell.execute_reply": "2021-10-14T13:19:38.363080Z",
          "shell.execute_reply.started": "2021-10-14T13:19:38.348067Z"
        },
        "id": "LCECWTI5amCb",
        "tags": []
      },
      "source": [
        "# removendo linhas com nome de banda duplicado\n",
        "df.drop_duplicates(subset=\"band_name\", keep='first', inplace=True)"
      ],
      "id": "LCECWTI5amCb",
      "execution_count": 19,
      "outputs": []
    },
    {
      "cell_type": "code",
      "metadata": {
        "colab": {
          "base_uri": "https://localhost:8080/"
        },
        "execution": {
          "iopub.execute_input": "2021-10-14T13:19:38.365083Z",
          "iopub.status.busy": "2021-10-14T13:19:38.365083Z",
          "iopub.status.idle": "2021-10-14T13:19:38.379095Z",
          "shell.execute_reply": "2021-10-14T13:19:38.379095Z",
          "shell.execute_reply.started": "2021-10-14T13:19:38.365083Z"
        },
        "id": "nCrXULt_5IZ2",
        "tags": [],
        "outputId": "6ca327c0-90a5-4ccb-9bf4-7afaa76d27b9"
      },
      "source": [
        "df.shape"
      ],
      "id": "nCrXULt_5IZ2",
      "execution_count": 20,
      "outputs": [
        {
          "output_type": "execute_result",
          "data": {
            "text/plain": [
              "(4941, 6)"
            ]
          },
          "metadata": {},
          "execution_count": 20
        }
      ]
    },
    {
      "cell_type": "markdown",
      "metadata": {
        "id": "Y9kKj5hYfyEP"
      },
      "source": [
        "### Outros tratamentos"
      ],
      "id": "Y9kKj5hYfyEP"
    },
    {
      "cell_type": "markdown",
      "metadata": {
        "id": "9mxa0aLryBER"
      },
      "source": [
        "##### Removendo bandas sem data de criação"
      ],
      "id": "9mxa0aLryBER"
    },
    {
      "cell_type": "markdown",
      "metadata": {
        "id": "99wayzA9cHx1"
      },
      "source": [
        "Linhas com o caractere \"-\" em qualquer coluna indica que aquele dado não está disponível. Na coluna \"split\" não precisa necessáriamente ser tratado mas na coluna \"formed\" sim pois não tem indicação de qual ano a banda foi criada."
      ],
      "id": "99wayzA9cHx1"
    },
    {
      "cell_type": "code",
      "metadata": {
        "colab": {
          "base_uri": "https://localhost:8080/",
          "height": 0
        },
        "execution": {
          "iopub.execute_input": "2021-10-14T13:19:38.508213Z",
          "iopub.status.busy": "2021-10-14T13:19:38.508213Z",
          "iopub.status.idle": "2021-10-14T13:19:38.523225Z",
          "shell.execute_reply": "2021-10-14T13:19:38.523225Z",
          "shell.execute_reply.started": "2021-10-14T13:19:38.508213Z"
        },
        "id": "C1XwcpL3enFZ",
        "tags": [],
        "outputId": "ecceda76-cdf7-4b42-bf98-57d1fa87283b"
      },
      "source": [
        "df[df['formed'] == '-']"
      ],
      "id": "C1XwcpL3enFZ",
      "execution_count": 21,
      "outputs": [
        {
          "output_type": "execute_result",
          "data": {
            "text/html": [
              "<div>\n",
              "<style scoped>\n",
              "    .dataframe tbody tr th:only-of-type {\n",
              "        vertical-align: middle;\n",
              "    }\n",
              "\n",
              "    .dataframe tbody tr th {\n",
              "        vertical-align: top;\n",
              "    }\n",
              "\n",
              "    .dataframe thead th {\n",
              "        text-align: right;\n",
              "    }\n",
              "</style>\n",
              "<table border=\"1\" class=\"dataframe\">\n",
              "  <thead>\n",
              "    <tr style=\"text-align: right;\">\n",
              "      <th></th>\n",
              "      <th>band_name</th>\n",
              "      <th>fans</th>\n",
              "      <th>formed</th>\n",
              "      <th>origin</th>\n",
              "      <th>split</th>\n",
              "      <th>style</th>\n",
              "    </tr>\n",
              "  </thead>\n",
              "  <tbody>\n",
              "    <tr>\n",
              "      <th>4442</th>\n",
              "      <td>Throes Of Sanity</td>\n",
              "      <td>2</td>\n",
              "      <td>-</td>\n",
              "      <td>USA</td>\n",
              "      <td>-</td>\n",
              "      <td>Us power</td>\n",
              "    </tr>\n",
              "    <tr>\n",
              "      <th>4599</th>\n",
              "      <td>Doomocracy</td>\n",
              "      <td>1</td>\n",
              "      <td>-</td>\n",
              "      <td>Greece</td>\n",
              "      <td>-</td>\n",
              "      <td>Doom</td>\n",
              "    </tr>\n",
              "    <tr>\n",
              "      <th>4821</th>\n",
              "      <td>Rustless</td>\n",
              "      <td>1</td>\n",
              "      <td>-</td>\n",
              "      <td>Italy</td>\n",
              "      <td>-</td>\n",
              "      <td>Heavy</td>\n",
              "    </tr>\n",
              "    <tr>\n",
              "      <th>4948</th>\n",
              "      <td>Weapon UK</td>\n",
              "      <td>1</td>\n",
              "      <td>-</td>\n",
              "      <td>United Kingdom</td>\n",
              "      <td>-</td>\n",
              "      <td>New wave of british heavy,Heavy</td>\n",
              "    </tr>\n",
              "  </tbody>\n",
              "</table>\n",
              "</div>"
            ],
            "text/plain": [
              "             band_name  fans  ... split                            style\n",
              "4442  Throes Of Sanity     2  ...     -                         Us power\n",
              "4599        Doomocracy     1  ...     -                             Doom\n",
              "4821          Rustless     1  ...     -                            Heavy\n",
              "4948         Weapon UK     1  ...     -  New wave of british heavy,Heavy\n",
              "\n",
              "[4 rows x 6 columns]"
            ]
          },
          "metadata": {},
          "execution_count": 21
        }
      ]
    },
    {
      "cell_type": "code",
      "metadata": {
        "colab": {
          "base_uri": "https://localhost:8080/"
        },
        "execution": {
          "iopub.execute_input": "2021-10-14T13:19:38.525227Z",
          "iopub.status.busy": "2021-10-14T13:19:38.525227Z",
          "iopub.status.idle": "2021-10-14T13:19:38.538239Z",
          "shell.execute_reply": "2021-10-14T13:19:38.538239Z",
          "shell.execute_reply.started": "2021-10-14T13:19:38.525227Z"
        },
        "id": "49bf1c1b",
        "tags": [],
        "outputId": "a1787423-d42f-46ef-a5a9-171120791eae"
      },
      "source": [
        "indexNaNFormed = df[df['formed'] == '-'].index\n",
        "indexNaNFormed"
      ],
      "id": "49bf1c1b",
      "execution_count": 22,
      "outputs": [
        {
          "output_type": "execute_result",
          "data": {
            "text/plain": [
              "Int64Index([4442, 4599, 4821, 4948], dtype='int64')"
            ]
          },
          "metadata": {},
          "execution_count": 22
        }
      ]
    },
    {
      "cell_type": "code",
      "metadata": {
        "execution": {
          "iopub.execute_input": "2021-10-14T13:19:38.565263Z",
          "iopub.status.busy": "2021-10-14T13:19:38.565263Z",
          "iopub.status.idle": "2021-10-14T13:19:38.570267Z",
          "shell.execute_reply": "2021-10-14T13:19:38.570267Z",
          "shell.execute_reply.started": "2021-10-14T13:19:38.565263Z"
        },
        "id": "8RGd02TpcZvW",
        "tags": []
      },
      "source": [
        "# como são poucas linhas, vamos removê-las\n",
        "df.drop(indexNaNFormed , inplace=True)"
      ],
      "id": "8RGd02TpcZvW",
      "execution_count": 23,
      "outputs": []
    },
    {
      "cell_type": "code",
      "metadata": {
        "colab": {
          "base_uri": "https://localhost:8080/"
        },
        "execution": {
          "iopub.execute_input": "2021-10-14T13:19:38.594289Z",
          "iopub.status.busy": "2021-10-14T13:19:38.594289Z",
          "iopub.status.idle": "2021-10-14T13:19:38.602297Z",
          "shell.execute_reply": "2021-10-14T13:19:38.602297Z",
          "shell.execute_reply.started": "2021-10-14T13:19:38.594289Z"
        },
        "id": "gHoLRzhgetZr",
        "tags": [],
        "outputId": "e3df24c9-2b0c-4a86-a9a3-791528be367d"
      },
      "source": [
        "df.shape"
      ],
      "id": "gHoLRzhgetZr",
      "execution_count": 24,
      "outputs": [
        {
          "output_type": "execute_result",
          "data": {
            "text/plain": [
              "(4937, 6)"
            ]
          },
          "metadata": {},
          "execution_count": 24
        }
      ]
    },
    {
      "cell_type": "markdown",
      "metadata": {
        "id": "FhS8C3pThCoF"
      },
      "source": [
        "##### Separando subgêneros"
      ],
      "id": "FhS8C3pThCoF"
    },
    {
      "cell_type": "markdown",
      "metadata": {
        "id": "TBvuLzsSf6jT"
      },
      "source": [
        "A coluna \"*style*\" pode conter mais de um subgênero, então vamos dividí-los para que fique melhor a visualização"
      ],
      "id": "TBvuLzsSf6jT"
    },
    {
      "cell_type": "code",
      "metadata": {
        "colab": {
          "base_uri": "https://localhost:8080/"
        },
        "execution": {
          "iopub.execute_input": "2021-10-14T13:19:38.697382Z",
          "iopub.status.busy": "2021-10-14T13:19:38.697382Z",
          "iopub.status.idle": "2021-10-14T13:19:38.714398Z",
          "shell.execute_reply": "2021-10-14T13:19:38.714398Z",
          "shell.execute_reply.started": "2021-10-14T13:19:38.697382Z"
        },
        "id": "FQaZ2WxOgUQM",
        "tags": [],
        "outputId": "cd6a751a-0ce1-45d3-d0d2-6bdcfeffd026"
      },
      "source": [
        "generos = df['style'].str.split(',', expand = True)\n",
        "generos.count()"
      ],
      "id": "FQaZ2WxOgUQM",
      "execution_count": 25,
      "outputs": [
        {
          "output_type": "execute_result",
          "data": {
            "text/plain": [
              "0    4937\n",
              "1    2152\n",
              "2     434\n",
              "3      80\n",
              "4      15\n",
              "5       3\n",
              "dtype: int64"
            ]
          },
          "metadata": {},
          "execution_count": 25
        }
      ]
    },
    {
      "cell_type": "code",
      "metadata": {
        "colab": {
          "base_uri": "https://localhost:8080/",
          "height": 204
        },
        "execution": {
          "iopub.execute_input": "2021-10-14T13:19:38.726409Z",
          "iopub.status.busy": "2021-10-14T13:19:38.726409Z",
          "iopub.status.idle": "2021-10-14T13:19:38.746427Z",
          "shell.execute_reply": "2021-10-14T13:19:38.746427Z",
          "shell.execute_reply.started": "2021-10-14T13:19:38.726409Z"
        },
        "id": "HHmsI18th4rs",
        "tags": [],
        "outputId": "55b3a52b-9be5-41ae-d089-fae1aaca19bf"
      },
      "source": [
        "df.head()"
      ],
      "id": "HHmsI18th4rs",
      "execution_count": 26,
      "outputs": [
        {
          "output_type": "execute_result",
          "data": {
            "text/html": [
              "<div>\n",
              "<style scoped>\n",
              "    .dataframe tbody tr th:only-of-type {\n",
              "        vertical-align: middle;\n",
              "    }\n",
              "\n",
              "    .dataframe tbody tr th {\n",
              "        vertical-align: top;\n",
              "    }\n",
              "\n",
              "    .dataframe thead th {\n",
              "        text-align: right;\n",
              "    }\n",
              "</style>\n",
              "<table border=\"1\" class=\"dataframe\">\n",
              "  <thead>\n",
              "    <tr style=\"text-align: right;\">\n",
              "      <th></th>\n",
              "      <th>band_name</th>\n",
              "      <th>fans</th>\n",
              "      <th>formed</th>\n",
              "      <th>origin</th>\n",
              "      <th>split</th>\n",
              "      <th>style</th>\n",
              "    </tr>\n",
              "  </thead>\n",
              "  <tbody>\n",
              "    <tr>\n",
              "      <th>0</th>\n",
              "      <td>Iron Maiden</td>\n",
              "      <td>4195</td>\n",
              "      <td>1975</td>\n",
              "      <td>United Kingdom</td>\n",
              "      <td>-</td>\n",
              "      <td>New wave of british heavy,Heavy</td>\n",
              "    </tr>\n",
              "    <tr>\n",
              "      <th>1</th>\n",
              "      <td>Opeth</td>\n",
              "      <td>4147</td>\n",
              "      <td>1990</td>\n",
              "      <td>Sweden</td>\n",
              "      <td>1990</td>\n",
              "      <td>Extreme progressive,Progressive rock,Progressive</td>\n",
              "    </tr>\n",
              "    <tr>\n",
              "      <th>2</th>\n",
              "      <td>Metallica</td>\n",
              "      <td>3712</td>\n",
              "      <td>1981</td>\n",
              "      <td>USA</td>\n",
              "      <td>-</td>\n",
              "      <td>Heavy,Bay area thrash</td>\n",
              "    </tr>\n",
              "    <tr>\n",
              "      <th>3</th>\n",
              "      <td>Megadeth</td>\n",
              "      <td>3105</td>\n",
              "      <td>1983</td>\n",
              "      <td>USA</td>\n",
              "      <td>1983</td>\n",
              "      <td>Thrash,Heavy,Hard rock</td>\n",
              "    </tr>\n",
              "    <tr>\n",
              "      <th>4</th>\n",
              "      <td>Amon Amarth</td>\n",
              "      <td>3054</td>\n",
              "      <td>1988</td>\n",
              "      <td>Sweden</td>\n",
              "      <td>-</td>\n",
              "      <td>Melodic death</td>\n",
              "    </tr>\n",
              "  </tbody>\n",
              "</table>\n",
              "</div>"
            ],
            "text/plain": [
              "     band_name  fans  ... split                                             style\n",
              "0  Iron Maiden  4195  ...     -                   New wave of british heavy,Heavy\n",
              "1        Opeth  4147  ...  1990  Extreme progressive,Progressive rock,Progressive\n",
              "2    Metallica  3712  ...     -                             Heavy,Bay area thrash\n",
              "3     Megadeth  3105  ...  1983                            Thrash,Heavy,Hard rock\n",
              "4  Amon Amarth  3054  ...     -                                     Melodic death\n",
              "\n",
              "[5 rows x 6 columns]"
            ]
          },
          "metadata": {},
          "execution_count": 26
        }
      ]
    },
    {
      "cell_type": "markdown",
      "metadata": {
        "id": "lmLCHUNihTo2"
      },
      "source": [
        "Como as bandas podem ter até 5 subgêneros, mas nem a metade das bandas possui mais de 1 gênero. Então vamos manter pelo menos um subgênero principal e outro secundário."
      ],
      "id": "lmLCHUNihTo2"
    },
    {
      "cell_type": "code",
      "metadata": {
        "colab": {
          "base_uri": "https://localhost:8080/",
          "height": 204
        },
        "execution": {
          "iopub.execute_input": "2021-10-14T13:19:38.812486Z",
          "iopub.status.busy": "2021-10-14T13:19:38.811487Z",
          "iopub.status.idle": "2021-10-14T13:19:38.826499Z",
          "shell.execute_reply": "2021-10-14T13:19:38.826499Z",
          "shell.execute_reply.started": "2021-10-14T13:19:38.812486Z"
        },
        "id": "G_UBzmn0htgv",
        "tags": [],
        "outputId": "e574519d-9cf4-40ab-c47e-95566f6de890"
      },
      "source": [
        "df['main_style'] = generos[0]\n",
        "df['secondary_style'] = generos[1]\n",
        "\n",
        "df.head()"
      ],
      "id": "G_UBzmn0htgv",
      "execution_count": 27,
      "outputs": [
        {
          "output_type": "execute_result",
          "data": {
            "text/html": [
              "<div>\n",
              "<style scoped>\n",
              "    .dataframe tbody tr th:only-of-type {\n",
              "        vertical-align: middle;\n",
              "    }\n",
              "\n",
              "    .dataframe tbody tr th {\n",
              "        vertical-align: top;\n",
              "    }\n",
              "\n",
              "    .dataframe thead th {\n",
              "        text-align: right;\n",
              "    }\n",
              "</style>\n",
              "<table border=\"1\" class=\"dataframe\">\n",
              "  <thead>\n",
              "    <tr style=\"text-align: right;\">\n",
              "      <th></th>\n",
              "      <th>band_name</th>\n",
              "      <th>fans</th>\n",
              "      <th>formed</th>\n",
              "      <th>origin</th>\n",
              "      <th>split</th>\n",
              "      <th>style</th>\n",
              "      <th>main_style</th>\n",
              "      <th>secondary_style</th>\n",
              "    </tr>\n",
              "  </thead>\n",
              "  <tbody>\n",
              "    <tr>\n",
              "      <th>0</th>\n",
              "      <td>Iron Maiden</td>\n",
              "      <td>4195</td>\n",
              "      <td>1975</td>\n",
              "      <td>United Kingdom</td>\n",
              "      <td>-</td>\n",
              "      <td>New wave of british heavy,Heavy</td>\n",
              "      <td>New wave of british heavy</td>\n",
              "      <td>Heavy</td>\n",
              "    </tr>\n",
              "    <tr>\n",
              "      <th>1</th>\n",
              "      <td>Opeth</td>\n",
              "      <td>4147</td>\n",
              "      <td>1990</td>\n",
              "      <td>Sweden</td>\n",
              "      <td>1990</td>\n",
              "      <td>Extreme progressive,Progressive rock,Progressive</td>\n",
              "      <td>Extreme progressive</td>\n",
              "      <td>Progressive rock</td>\n",
              "    </tr>\n",
              "    <tr>\n",
              "      <th>2</th>\n",
              "      <td>Metallica</td>\n",
              "      <td>3712</td>\n",
              "      <td>1981</td>\n",
              "      <td>USA</td>\n",
              "      <td>-</td>\n",
              "      <td>Heavy,Bay area thrash</td>\n",
              "      <td>Heavy</td>\n",
              "      <td>Bay area thrash</td>\n",
              "    </tr>\n",
              "    <tr>\n",
              "      <th>3</th>\n",
              "      <td>Megadeth</td>\n",
              "      <td>3105</td>\n",
              "      <td>1983</td>\n",
              "      <td>USA</td>\n",
              "      <td>1983</td>\n",
              "      <td>Thrash,Heavy,Hard rock</td>\n",
              "      <td>Thrash</td>\n",
              "      <td>Heavy</td>\n",
              "    </tr>\n",
              "    <tr>\n",
              "      <th>4</th>\n",
              "      <td>Amon Amarth</td>\n",
              "      <td>3054</td>\n",
              "      <td>1988</td>\n",
              "      <td>Sweden</td>\n",
              "      <td>-</td>\n",
              "      <td>Melodic death</td>\n",
              "      <td>Melodic death</td>\n",
              "      <td>None</td>\n",
              "    </tr>\n",
              "  </tbody>\n",
              "</table>\n",
              "</div>"
            ],
            "text/plain": [
              "     band_name  fans  ...                 main_style   secondary_style\n",
              "0  Iron Maiden  4195  ...  New wave of british heavy             Heavy\n",
              "1        Opeth  4147  ...        Extreme progressive  Progressive rock\n",
              "2    Metallica  3712  ...                      Heavy   Bay area thrash\n",
              "3     Megadeth  3105  ...                     Thrash             Heavy\n",
              "4  Amon Amarth  3054  ...              Melodic death              None\n",
              "\n",
              "[5 rows x 8 columns]"
            ]
          },
          "metadata": {},
          "execution_count": 27
        }
      ]
    },
    {
      "cell_type": "code",
      "metadata": {
        "colab": {
          "base_uri": "https://localhost:8080/"
        },
        "execution": {
          "iopub.execute_input": "2021-10-14T13:19:38.828501Z",
          "iopub.status.busy": "2021-10-14T13:19:38.828501Z",
          "iopub.status.idle": "2021-10-14T13:19:38.842513Z",
          "shell.execute_reply": "2021-10-14T13:19:38.842513Z",
          "shell.execute_reply.started": "2021-10-14T13:19:38.828501Z"
        },
        "id": "dSi_Cupz5o1g",
        "tags": [],
        "outputId": "6b0b6172-f979-4275-cfd6-19355b1eedd3"
      },
      "source": [
        "df.shape"
      ],
      "id": "dSi_Cupz5o1g",
      "execution_count": 32,
      "outputs": [
        {
          "output_type": "execute_result",
          "data": {
            "text/plain": [
              "(4937, 8)"
            ]
          },
          "metadata": {},
          "execution_count": 32
        }
      ]
    },
    {
      "cell_type": "markdown",
      "metadata": {
        "id": "3nMIz5fEyORO"
      },
      "source": [
        "##### Tratando país de origem"
      ],
      "id": "3nMIz5fEyORO"
    },
    {
      "cell_type": "markdown",
      "metadata": {
        "id": "oHEvfatezKzR"
      },
      "source": [
        "Os dados dos países de origem não estão padronizados de acordo com a [ISO 3166-1 alpha-3 ](https://en.wikipedia.org/wiki/ISO_3166-1_alpha-3), é necessário tratá-los.\n",
        "\n",
        "Alguns exemplos de dados não tratados: \"Canada, France\", \"Korean, South\", etc. Vamos dividir esse dado e manter apenas o primeiro antes da vírgula."
      ],
      "id": "oHEvfatezKzR"
    },
    {
      "cell_type": "code",
      "metadata": {
        "colab": {
          "base_uri": "https://localhost:8080/"
        },
        "execution": {
          "iopub.execute_input": "2021-10-14T13:19:38.927590Z",
          "iopub.status.busy": "2021-10-14T13:19:38.927590Z",
          "iopub.status.idle": "2021-10-14T13:19:38.938600Z",
          "shell.execute_reply": "2021-10-14T13:19:38.938600Z",
          "shell.execute_reply.started": "2021-10-14T13:19:38.927590Z"
        },
        "id": "bZsBJ13NyS8p",
        "tags": [],
        "outputId": "e56e268b-ffec-4ccb-89d3-47a042de3035"
      },
      "source": [
        "df['origin'].value_counts()"
      ],
      "id": "bZsBJ13NyS8p",
      "execution_count": 29,
      "outputs": [
        {
          "output_type": "execute_result",
          "data": {
            "text/plain": [
              "USA                    1122\n",
              "Sweden                  469\n",
              "Germany                 392\n",
              "United Kingdom          338\n",
              "Finland                 300\n",
              "                       ... \n",
              "Canada, France            1\n",
              "Kyrgyzstan, Germany       1\n",
              "Finland, Sweden           1\n",
              "Norway, Finland           1\n",
              "Iraq                      1\n",
              "Name: origin, Length: 113, dtype: int64"
            ]
          },
          "metadata": {},
          "execution_count": 29
        }
      ]
    },
    {
      "cell_type": "markdown",
      "metadata": {
        "id": "6KlngyOAAgSb"
      },
      "source": [
        "Como estaremos usando uma [biblioteca](https://github.com/yaph/geonamescache) que precisam dos dados dos países (coluna \"origin\") no padrão ISO, precisamos tratar os valores que não estão conforme este padrão."
      ],
      "id": "6KlngyOAAgSb"
    },
    {
      "cell_type": "code",
      "metadata": {
        "execution": {
          "iopub.execute_input": "2021-10-14T13:19:39.011666Z",
          "iopub.status.busy": "2021-10-14T13:19:39.010665Z",
          "iopub.status.idle": "2021-10-14T13:19:39.017671Z",
          "shell.execute_reply": "2021-10-14T13:19:39.017671Z",
          "shell.execute_reply.started": "2021-10-14T13:19:39.010665Z"
        },
        "id": "5Q0bsfmrAVot",
        "tags": [],
        "colab": {
          "base_uri": "https://localhost:8080/"
        },
        "outputId": "cd13d69d-94b7-401e-8d1d-6a82bad41717"
      },
      "source": [
        "# printa todos os países que não estão no padrão ISO\n",
        "countries = GeonamesCache().get_countries_by_names()\n",
        "sorted(set(df.origin.unique()) - set(countries.keys()))"
      ],
      "id": "5Q0bsfmrAVot",
      "execution_count": 31,
      "outputs": [
        {
          "output_type": "execute_result",
          "data": {
            "text/plain": [
              "['Australia, United Kingdom',\n",
              " 'Belgium, United Kingdom',\n",
              " 'Bosnia and Herzegovina, Croatia',\n",
              " 'Canada, France',\n",
              " 'Colombia, USA',\n",
              " 'Czech Republic',\n",
              " 'Denmark, USA',\n",
              " 'Finland, Sweden',\n",
              " 'Greece, Sweden',\n",
              " 'Greece, USA',\n",
              " 'Hungary, United Kingdom',\n",
              " 'Iran, Norway',\n",
              " 'Iraq, USA',\n",
              " 'Israel, Germany',\n",
              " 'Israel, The Netherlands',\n",
              " 'Italy, Spain',\n",
              " 'Korea, South',\n",
              " 'Kyrgyzstan, Germany',\n",
              " 'Lithuania, Germany',\n",
              " 'Lithuania, United Kingdom',\n",
              " 'Macedonia',\n",
              " 'Mexico, USA',\n",
              " 'Norway, Finland',\n",
              " 'Poland, Sweden',\n",
              " 'Portugal, United Kingdom',\n",
              " 'Russia, Canada',\n",
              " 'Slovak Republic',\n",
              " 'Swaziland',\n",
              " 'Sweden, Finland',\n",
              " 'The Netherlands',\n",
              " 'Tunisia, France',\n",
              " 'UAE',\n",
              " 'USA',\n",
              " 'USA, Cyprus',\n",
              " 'Ukraine, Canada',\n",
              " 'United Kingdom, Greece',\n",
              " 'United Kingdom, USA']"
            ]
          },
          "metadata": {},
          "execution_count": 31
        }
      ]
    },
    {
      "cell_type": "markdown",
      "metadata": {
        "id": "tNSgH_Z887dX"
      },
      "source": [
        "Esse *dataset* tem um registro em específico com o dado da coluna \"origin\" igual à \"South, Korean\". Antes de fazermos o split dos dados da coluna \"origin\", vamos tratar esse registro individualmente."
      ],
      "id": "tNSgH_Z887dX"
    },
    {
      "cell_type": "code",
      "metadata": {
        "colab": {
          "base_uri": "https://localhost:8080/",
          "height": 80
        },
        "execution": {
          "iopub.execute_input": "2021-10-14T13:19:39.127771Z",
          "iopub.status.busy": "2021-10-14T13:19:39.127771Z",
          "iopub.status.idle": "2021-10-14T13:19:39.145787Z",
          "shell.execute_reply": "2021-10-14T13:19:39.145787Z",
          "shell.execute_reply.started": "2021-10-14T13:19:39.127771Z"
        },
        "id": "25CzMKQZ9s3q",
        "tags": [],
        "outputId": "d0eeff47-aebd-4139-b502-49c330e6fa0d"
      },
      "source": [
        "df[df['origin'] == 'Korea, South']"
      ],
      "id": "25CzMKQZ9s3q",
      "execution_count": 33,
      "outputs": [
        {
          "output_type": "execute_result",
          "data": {
            "text/html": [
              "<div>\n",
              "<style scoped>\n",
              "    .dataframe tbody tr th:only-of-type {\n",
              "        vertical-align: middle;\n",
              "    }\n",
              "\n",
              "    .dataframe tbody tr th {\n",
              "        vertical-align: top;\n",
              "    }\n",
              "\n",
              "    .dataframe thead th {\n",
              "        text-align: right;\n",
              "    }\n",
              "</style>\n",
              "<table border=\"1\" class=\"dataframe\">\n",
              "  <thead>\n",
              "    <tr style=\"text-align: right;\">\n",
              "      <th></th>\n",
              "      <th>band_name</th>\n",
              "      <th>fans</th>\n",
              "      <th>formed</th>\n",
              "      <th>origin</th>\n",
              "      <th>split</th>\n",
              "      <th>style</th>\n",
              "      <th>main_style</th>\n",
              "      <th>secondary_style</th>\n",
              "    </tr>\n",
              "  </thead>\n",
              "  <tbody>\n",
              "    <tr>\n",
              "      <th>2094</th>\n",
              "      <td>Jambinai</td>\n",
              "      <td>17</td>\n",
              "      <td>2009</td>\n",
              "      <td>Korea, South</td>\n",
              "      <td>-</td>\n",
              "      <td>Folk,Post-metal</td>\n",
              "      <td>Folk</td>\n",
              "      <td>Post-metal</td>\n",
              "    </tr>\n",
              "  </tbody>\n",
              "</table>\n",
              "</div>"
            ],
            "text/plain": [
              "     band_name  fans formed  ...            style main_style secondary_style\n",
              "2094  Jambinai    17   2009  ...  Folk,Post-metal       Folk      Post-metal\n",
              "\n",
              "[1 rows x 8 columns]"
            ]
          },
          "metadata": {},
          "execution_count": 33
        }
      ]
    },
    {
      "cell_type": "code",
      "metadata": {
        "execution": {
          "iopub.execute_input": "2021-10-14T13:19:39.147789Z",
          "iopub.status.busy": "2021-10-14T13:19:39.146788Z",
          "iopub.status.idle": "2021-10-14T13:19:39.161801Z",
          "shell.execute_reply": "2021-10-14T13:19:39.161801Z",
          "shell.execute_reply.started": "2021-10-14T13:19:39.147789Z"
        },
        "id": "wgletNGj-cbI",
        "tags": []
      },
      "source": [
        "df.loc[df['origin'] == 'Korea, South', 'origin'] = 'South Korea'"
      ],
      "id": "wgletNGj-cbI",
      "execution_count": 34,
      "outputs": []
    },
    {
      "cell_type": "code",
      "metadata": {
        "colab": {
          "base_uri": "https://localhost:8080/",
          "height": 80
        },
        "execution": {
          "iopub.execute_input": "2021-10-14T13:19:39.163803Z",
          "iopub.status.busy": "2021-10-14T13:19:39.162802Z",
          "iopub.status.idle": "2021-10-14T13:19:39.177816Z",
          "shell.execute_reply": "2021-10-14T13:19:39.177816Z",
          "shell.execute_reply.started": "2021-10-14T13:19:39.163803Z"
        },
        "id": "VKNinwam-sdq",
        "tags": [],
        "outputId": "9b6d58c7-167a-47d5-e50d-1460ddb1d15a"
      },
      "source": [
        "df[df['origin'].str.contains('Korea')]"
      ],
      "id": "VKNinwam-sdq",
      "execution_count": 35,
      "outputs": [
        {
          "output_type": "execute_result",
          "data": {
            "text/html": [
              "<div>\n",
              "<style scoped>\n",
              "    .dataframe tbody tr th:only-of-type {\n",
              "        vertical-align: middle;\n",
              "    }\n",
              "\n",
              "    .dataframe tbody tr th {\n",
              "        vertical-align: top;\n",
              "    }\n",
              "\n",
              "    .dataframe thead th {\n",
              "        text-align: right;\n",
              "    }\n",
              "</style>\n",
              "<table border=\"1\" class=\"dataframe\">\n",
              "  <thead>\n",
              "    <tr style=\"text-align: right;\">\n",
              "      <th></th>\n",
              "      <th>band_name</th>\n",
              "      <th>fans</th>\n",
              "      <th>formed</th>\n",
              "      <th>origin</th>\n",
              "      <th>split</th>\n",
              "      <th>style</th>\n",
              "      <th>main_style</th>\n",
              "      <th>secondary_style</th>\n",
              "    </tr>\n",
              "  </thead>\n",
              "  <tbody>\n",
              "    <tr>\n",
              "      <th>2094</th>\n",
              "      <td>Jambinai</td>\n",
              "      <td>17</td>\n",
              "      <td>2009</td>\n",
              "      <td>South Korea</td>\n",
              "      <td>-</td>\n",
              "      <td>Folk,Post-metal</td>\n",
              "      <td>Folk</td>\n",
              "      <td>Post-metal</td>\n",
              "    </tr>\n",
              "  </tbody>\n",
              "</table>\n",
              "</div>"
            ],
            "text/plain": [
              "     band_name  fans formed  ...            style main_style secondary_style\n",
              "2094  Jambinai    17   2009  ...  Folk,Post-metal       Folk      Post-metal\n",
              "\n",
              "[1 rows x 8 columns]"
            ]
          },
          "metadata": {},
          "execution_count": 35
        }
      ]
    },
    {
      "cell_type": "code",
      "metadata": {
        "execution": {
          "iopub.execute_input": "2021-10-14T13:19:39.202839Z",
          "iopub.status.busy": "2021-10-14T13:19:39.202839Z",
          "iopub.status.idle": "2021-10-14T13:19:39.577176Z",
          "shell.execute_reply": "2021-10-14T13:19:39.577176Z",
          "shell.execute_reply.started": "2021-10-14T13:19:39.202839Z"
        },
        "id": "XlGvo4Ai8Tt7",
        "tags": []
      },
      "source": [
        "# obtendo index das bandas que possuem dados da coluna \"origin\" mal formatados\n",
        "indexes = []\n",
        "for index, band in df.iterrows():\n",
        "    cell_origin = band['origin']\n",
        "    countries = cell_origin.split(',')\n",
        "    if (len(countries) > 1):\n",
        "        indexes.append(index)"
      ],
      "id": "XlGvo4Ai8Tt7",
      "execution_count": 36,
      "outputs": []
    },
    {
      "cell_type": "code",
      "metadata": {
        "colab": {
          "base_uri": "https://localhost:8080/",
          "height": 359
        },
        "execution": {
          "iopub.execute_input": "2021-10-14T13:19:39.579178Z",
          "iopub.status.busy": "2021-10-14T13:19:39.578177Z",
          "iopub.status.idle": "2021-10-14T13:19:39.592190Z",
          "shell.execute_reply": "2021-10-14T13:19:39.592190Z",
          "shell.execute_reply.started": "2021-10-14T13:19:39.579178Z"
        },
        "id": "tbweX-US8mEo",
        "tags": [],
        "outputId": "5962ce6f-61da-4096-c25e-4879329a75af"
      },
      "source": [
        "df[df.index.isin(indexes)].head(10)"
      ],
      "id": "tbweX-US8mEo",
      "execution_count": 37,
      "outputs": [
        {
          "output_type": "execute_result",
          "data": {
            "text/html": [
              "<div>\n",
              "<style scoped>\n",
              "    .dataframe tbody tr th:only-of-type {\n",
              "        vertical-align: middle;\n",
              "    }\n",
              "\n",
              "    .dataframe tbody tr th {\n",
              "        vertical-align: top;\n",
              "    }\n",
              "\n",
              "    .dataframe thead th {\n",
              "        text-align: right;\n",
              "    }\n",
              "</style>\n",
              "<table border=\"1\" class=\"dataframe\">\n",
              "  <thead>\n",
              "    <tr style=\"text-align: right;\">\n",
              "      <th></th>\n",
              "      <th>band_name</th>\n",
              "      <th>fans</th>\n",
              "      <th>formed</th>\n",
              "      <th>origin</th>\n",
              "      <th>split</th>\n",
              "      <th>style</th>\n",
              "      <th>main_style</th>\n",
              "      <th>secondary_style</th>\n",
              "    </tr>\n",
              "  </thead>\n",
              "  <tbody>\n",
              "    <tr>\n",
              "      <th>129</th>\n",
              "      <td>Motörhead</td>\n",
              "      <td>875</td>\n",
              "      <td>1975</td>\n",
              "      <td>United Kingdom, USA</td>\n",
              "      <td>1975</td>\n",
              "      <td>Heavy</td>\n",
              "      <td>Heavy</td>\n",
              "      <td>None</td>\n",
              "    </tr>\n",
              "    <tr>\n",
              "      <th>147</th>\n",
              "      <td>Ozzy Osbourne</td>\n",
              "      <td>750</td>\n",
              "      <td>1979</td>\n",
              "      <td>United Kingdom, USA</td>\n",
              "      <td>1979</td>\n",
              "      <td>Heavy</td>\n",
              "      <td>Heavy</td>\n",
              "      <td>None</td>\n",
              "    </tr>\n",
              "    <tr>\n",
              "      <th>159</th>\n",
              "      <td>King Diamond</td>\n",
              "      <td>641</td>\n",
              "      <td>1985</td>\n",
              "      <td>Denmark, USA</td>\n",
              "      <td>1985</td>\n",
              "      <td>Heavy</td>\n",
              "      <td>Heavy</td>\n",
              "      <td>None</td>\n",
              "    </tr>\n",
              "    <tr>\n",
              "      <th>194</th>\n",
              "      <td>Mercyful Fate</td>\n",
              "      <td>525</td>\n",
              "      <td>1981</td>\n",
              "      <td>Denmark, USA</td>\n",
              "      <td>-</td>\n",
              "      <td>Heavy,First wave of black</td>\n",
              "      <td>Heavy</td>\n",
              "      <td>First wave of black</td>\n",
              "    </tr>\n",
              "    <tr>\n",
              "      <th>295</th>\n",
              "      <td>Melechesh</td>\n",
              "      <td>307</td>\n",
              "      <td>1993</td>\n",
              "      <td>Israel, The Netherlands</td>\n",
              "      <td>1993</td>\n",
              "      <td>Melodic black,Folk</td>\n",
              "      <td>Melodic black</td>\n",
              "      <td>Folk</td>\n",
              "    </tr>\n",
              "    <tr>\n",
              "      <th>319</th>\n",
              "      <td>Myrath</td>\n",
              "      <td>275</td>\n",
              "      <td>2001</td>\n",
              "      <td>Tunisia, France</td>\n",
              "      <td>2001</td>\n",
              "      <td>Progressive,Oriental folk</td>\n",
              "      <td>Progressive</td>\n",
              "      <td>Oriental folk</td>\n",
              "    </tr>\n",
              "    <tr>\n",
              "      <th>448</th>\n",
              "      <td>Inquisition</td>\n",
              "      <td>184</td>\n",
              "      <td>1988</td>\n",
              "      <td>Colombia, USA</td>\n",
              "      <td>-</td>\n",
              "      <td>Black,Thrash</td>\n",
              "      <td>Black</td>\n",
              "      <td>Thrash</td>\n",
              "    </tr>\n",
              "    <tr>\n",
              "      <th>459</th>\n",
              "      <td>Thy Catafalque</td>\n",
              "      <td>177</td>\n",
              "      <td>1998</td>\n",
              "      <td>Hungary, United Kingdom</td>\n",
              "      <td>1998</td>\n",
              "      <td>Avantgarde black</td>\n",
              "      <td>Avantgarde black</td>\n",
              "      <td>None</td>\n",
              "    </tr>\n",
              "    <tr>\n",
              "      <th>545</th>\n",
              "      <td>Nightrage</td>\n",
              "      <td>138</td>\n",
              "      <td>2000</td>\n",
              "      <td>Greece, Sweden</td>\n",
              "      <td>2000</td>\n",
              "      <td>Melodic death</td>\n",
              "      <td>Melodic death</td>\n",
              "      <td>None</td>\n",
              "    </tr>\n",
              "    <tr>\n",
              "      <th>557</th>\n",
              "      <td>Sinergy</td>\n",
              "      <td>134</td>\n",
              "      <td>1997</td>\n",
              "      <td>Sweden, Finland</td>\n",
              "      <td>1997</td>\n",
              "      <td>Heavy,Power</td>\n",
              "      <td>Heavy</td>\n",
              "      <td>Power</td>\n",
              "    </tr>\n",
              "  </tbody>\n",
              "</table>\n",
              "</div>"
            ],
            "text/plain": [
              "          band_name  fans  ...        main_style      secondary_style\n",
              "129       Motörhead   875  ...             Heavy                 None\n",
              "147   Ozzy Osbourne   750  ...             Heavy                 None\n",
              "159    King Diamond   641  ...             Heavy                 None\n",
              "194   Mercyful Fate   525  ...             Heavy  First wave of black\n",
              "295       Melechesh   307  ...     Melodic black                 Folk\n",
              "319          Myrath   275  ...       Progressive        Oriental folk\n",
              "448     Inquisition   184  ...             Black               Thrash\n",
              "459  Thy Catafalque   177  ...  Avantgarde black                 None\n",
              "545       Nightrage   138  ...     Melodic death                 None\n",
              "557         Sinergy   134  ...             Heavy                Power\n",
              "\n",
              "[10 rows x 8 columns]"
            ]
          },
          "metadata": {},
          "execution_count": 37
        }
      ]
    },
    {
      "cell_type": "code",
      "metadata": {
        "colab": {
          "base_uri": "https://localhost:8080/"
        },
        "execution": {
          "iopub.execute_input": "2021-10-14T13:19:39.594191Z",
          "iopub.status.busy": "2021-10-14T13:19:39.594191Z",
          "iopub.status.idle": "2021-10-14T13:19:39.608204Z",
          "shell.execute_reply": "2021-10-14T13:19:39.608204Z",
          "shell.execute_reply.started": "2021-10-14T13:19:39.594191Z"
        },
        "id": "TrHdOG3J0LgI",
        "tags": [],
        "outputId": "9b5567e1-6b72-4273-bfdc-89c15f34f0f0"
      },
      "source": [
        "df[\"country\"] = df['origin'].str.split(',').str[0]\n",
        "df.shape"
      ],
      "id": "TrHdOG3J0LgI",
      "execution_count": 38,
      "outputs": [
        {
          "output_type": "execute_result",
          "data": {
            "text/plain": [
              "(4937, 9)"
            ]
          },
          "metadata": {},
          "execution_count": 38
        }
      ]
    },
    {
      "cell_type": "code",
      "metadata": {
        "colab": {
          "base_uri": "https://localhost:8080/",
          "height": 359
        },
        "execution": {
          "iopub.execute_input": "2021-10-14T13:19:39.610206Z",
          "iopub.status.busy": "2021-10-14T13:19:39.610206Z",
          "iopub.status.idle": "2021-10-14T13:19:39.624218Z",
          "shell.execute_reply": "2021-10-14T13:19:39.624218Z",
          "shell.execute_reply.started": "2021-10-14T13:19:39.610206Z"
        },
        "id": "3h8N2GAt8H-Q",
        "tags": [],
        "outputId": "d27e5289-8163-4697-e643-720d30855dcc"
      },
      "source": [
        "df[df.index.isin(indexes)].head(10)"
      ],
      "id": "3h8N2GAt8H-Q",
      "execution_count": 39,
      "outputs": [
        {
          "output_type": "execute_result",
          "data": {
            "text/html": [
              "<div>\n",
              "<style scoped>\n",
              "    .dataframe tbody tr th:only-of-type {\n",
              "        vertical-align: middle;\n",
              "    }\n",
              "\n",
              "    .dataframe tbody tr th {\n",
              "        vertical-align: top;\n",
              "    }\n",
              "\n",
              "    .dataframe thead th {\n",
              "        text-align: right;\n",
              "    }\n",
              "</style>\n",
              "<table border=\"1\" class=\"dataframe\">\n",
              "  <thead>\n",
              "    <tr style=\"text-align: right;\">\n",
              "      <th></th>\n",
              "      <th>band_name</th>\n",
              "      <th>fans</th>\n",
              "      <th>formed</th>\n",
              "      <th>origin</th>\n",
              "      <th>split</th>\n",
              "      <th>style</th>\n",
              "      <th>main_style</th>\n",
              "      <th>secondary_style</th>\n",
              "      <th>country</th>\n",
              "    </tr>\n",
              "  </thead>\n",
              "  <tbody>\n",
              "    <tr>\n",
              "      <th>129</th>\n",
              "      <td>Motörhead</td>\n",
              "      <td>875</td>\n",
              "      <td>1975</td>\n",
              "      <td>United Kingdom, USA</td>\n",
              "      <td>1975</td>\n",
              "      <td>Heavy</td>\n",
              "      <td>Heavy</td>\n",
              "      <td>None</td>\n",
              "      <td>United Kingdom</td>\n",
              "    </tr>\n",
              "    <tr>\n",
              "      <th>147</th>\n",
              "      <td>Ozzy Osbourne</td>\n",
              "      <td>750</td>\n",
              "      <td>1979</td>\n",
              "      <td>United Kingdom, USA</td>\n",
              "      <td>1979</td>\n",
              "      <td>Heavy</td>\n",
              "      <td>Heavy</td>\n",
              "      <td>None</td>\n",
              "      <td>United Kingdom</td>\n",
              "    </tr>\n",
              "    <tr>\n",
              "      <th>159</th>\n",
              "      <td>King Diamond</td>\n",
              "      <td>641</td>\n",
              "      <td>1985</td>\n",
              "      <td>Denmark, USA</td>\n",
              "      <td>1985</td>\n",
              "      <td>Heavy</td>\n",
              "      <td>Heavy</td>\n",
              "      <td>None</td>\n",
              "      <td>Denmark</td>\n",
              "    </tr>\n",
              "    <tr>\n",
              "      <th>194</th>\n",
              "      <td>Mercyful Fate</td>\n",
              "      <td>525</td>\n",
              "      <td>1981</td>\n",
              "      <td>Denmark, USA</td>\n",
              "      <td>-</td>\n",
              "      <td>Heavy,First wave of black</td>\n",
              "      <td>Heavy</td>\n",
              "      <td>First wave of black</td>\n",
              "      <td>Denmark</td>\n",
              "    </tr>\n",
              "    <tr>\n",
              "      <th>295</th>\n",
              "      <td>Melechesh</td>\n",
              "      <td>307</td>\n",
              "      <td>1993</td>\n",
              "      <td>Israel, The Netherlands</td>\n",
              "      <td>1993</td>\n",
              "      <td>Melodic black,Folk</td>\n",
              "      <td>Melodic black</td>\n",
              "      <td>Folk</td>\n",
              "      <td>Israel</td>\n",
              "    </tr>\n",
              "    <tr>\n",
              "      <th>319</th>\n",
              "      <td>Myrath</td>\n",
              "      <td>275</td>\n",
              "      <td>2001</td>\n",
              "      <td>Tunisia, France</td>\n",
              "      <td>2001</td>\n",
              "      <td>Progressive,Oriental folk</td>\n",
              "      <td>Progressive</td>\n",
              "      <td>Oriental folk</td>\n",
              "      <td>Tunisia</td>\n",
              "    </tr>\n",
              "    <tr>\n",
              "      <th>448</th>\n",
              "      <td>Inquisition</td>\n",
              "      <td>184</td>\n",
              "      <td>1988</td>\n",
              "      <td>Colombia, USA</td>\n",
              "      <td>-</td>\n",
              "      <td>Black,Thrash</td>\n",
              "      <td>Black</td>\n",
              "      <td>Thrash</td>\n",
              "      <td>Colombia</td>\n",
              "    </tr>\n",
              "    <tr>\n",
              "      <th>459</th>\n",
              "      <td>Thy Catafalque</td>\n",
              "      <td>177</td>\n",
              "      <td>1998</td>\n",
              "      <td>Hungary, United Kingdom</td>\n",
              "      <td>1998</td>\n",
              "      <td>Avantgarde black</td>\n",
              "      <td>Avantgarde black</td>\n",
              "      <td>None</td>\n",
              "      <td>Hungary</td>\n",
              "    </tr>\n",
              "    <tr>\n",
              "      <th>545</th>\n",
              "      <td>Nightrage</td>\n",
              "      <td>138</td>\n",
              "      <td>2000</td>\n",
              "      <td>Greece, Sweden</td>\n",
              "      <td>2000</td>\n",
              "      <td>Melodic death</td>\n",
              "      <td>Melodic death</td>\n",
              "      <td>None</td>\n",
              "      <td>Greece</td>\n",
              "    </tr>\n",
              "    <tr>\n",
              "      <th>557</th>\n",
              "      <td>Sinergy</td>\n",
              "      <td>134</td>\n",
              "      <td>1997</td>\n",
              "      <td>Sweden, Finland</td>\n",
              "      <td>1997</td>\n",
              "      <td>Heavy,Power</td>\n",
              "      <td>Heavy</td>\n",
              "      <td>Power</td>\n",
              "      <td>Sweden</td>\n",
              "    </tr>\n",
              "  </tbody>\n",
              "</table>\n",
              "</div>"
            ],
            "text/plain": [
              "          band_name  fans  ...      secondary_style         country\n",
              "129       Motörhead   875  ...                 None  United Kingdom\n",
              "147   Ozzy Osbourne   750  ...                 None  United Kingdom\n",
              "159    King Diamond   641  ...                 None         Denmark\n",
              "194   Mercyful Fate   525  ...  First wave of black         Denmark\n",
              "295       Melechesh   307  ...                 Folk          Israel\n",
              "319          Myrath   275  ...        Oriental folk         Tunisia\n",
              "448     Inquisition   184  ...               Thrash        Colombia\n",
              "459  Thy Catafalque   177  ...                 None         Hungary\n",
              "545       Nightrage   138  ...                 None          Greece\n",
              "557         Sinergy   134  ...                Power          Sweden\n",
              "\n",
              "[10 rows x 9 columns]"
            ]
          },
          "metadata": {},
          "execution_count": 39
        }
      ]
    },
    {
      "cell_type": "markdown",
      "metadata": {
        "id": "nRyYWNf4A8_-"
      },
      "source": [
        "Mesmo depois do tratamento, alguns países ainda não estão no padrão. Vamos tratá-los individualmente e acrescentar o código ISO em todos os registros do *dataframe* para que esses dados possam ser usados posteriormente."
      ],
      "id": "nRyYWNf4A8_-"
    },
    {
      "cell_type": "code",
      "metadata": {
        "execution": {
          "iopub.execute_input": "2021-10-14T13:19:39.626220Z",
          "iopub.status.busy": "2021-10-14T13:19:39.625219Z",
          "iopub.status.idle": "2021-10-14T13:19:39.641234Z",
          "shell.execute_reply": "2021-10-14T13:19:39.640233Z",
          "shell.execute_reply.started": "2021-10-14T13:19:39.626220Z"
        },
        "id": "BOcPWbbH_9SL",
        "tags": [],
        "colab": {
          "base_uri": "https://localhost:8080/"
        },
        "outputId": "4665c7e4-9eb0-4aa0-eeb8-d8634b81b38c"
      },
      "source": [
        "countries = GeonamesCache().get_countries_by_names()\n",
        "sorted(set(df.country.unique()) - set(countries.keys()))"
      ],
      "id": "BOcPWbbH_9SL",
      "execution_count": 40,
      "outputs": [
        {
          "output_type": "execute_result",
          "data": {
            "text/plain": [
              "['Czech Republic',\n",
              " 'Macedonia',\n",
              " 'Slovak Republic',\n",
              " 'Swaziland',\n",
              " 'The Netherlands',\n",
              " 'UAE',\n",
              " 'USA']"
            ]
          },
          "metadata": {},
          "execution_count": 40
        }
      ]
    },
    {
      "cell_type": "code",
      "metadata": {
        "colab": {
          "base_uri": "https://localhost:8080/",
          "height": 204
        },
        "execution": {
          "iopub.status.busy": "2021-10-14T13:19:39.641234Z",
          "iopub.status.idle": "2021-10-14T13:19:39.642235Z",
          "shell.execute_reply": "2021-10-14T13:19:39.642235Z"
        },
        "id": "SwVC3raLCrFD",
        "tags": [],
        "outputId": "66cbd0d2-47a1-485a-84bf-8e277a8660c6"
      },
      "source": [
        "# função da lib geonamescache para mapear o código da iso dado o nome do país\n",
        "mapper = country(from_key='name', to_key='iso3')\n",
        "\n",
        "country_index = {}\n",
        "country_index['Czech Republic'] = 'CZE'\n",
        "country_index['Slovak Republic'] = 'SVK'\n",
        "country_index['The Netherlands'] = 'NLD'\n",
        "country_index['UAE'] = 'ARE'\n",
        "country_index['USA'] = 'USA'\n",
        "country_index['Swaziland'] = 'SZ'\n",
        "country_index['Macedonia'] = 'MKD'\n",
        "\n",
        "df['iso3'] = df.country.apply(lambda x: country_index.get(x, mapper(x)))\n",
        "assert all(~df['iso3'].isna()) # confirmar que todos os registros possuem o dado da coluna \"iso3\"\n",
        "df.head()"
      ],
      "id": "SwVC3raLCrFD",
      "execution_count": 41,
      "outputs": [
        {
          "output_type": "execute_result",
          "data": {
            "text/html": [
              "<div>\n",
              "<style scoped>\n",
              "    .dataframe tbody tr th:only-of-type {\n",
              "        vertical-align: middle;\n",
              "    }\n",
              "\n",
              "    .dataframe tbody tr th {\n",
              "        vertical-align: top;\n",
              "    }\n",
              "\n",
              "    .dataframe thead th {\n",
              "        text-align: right;\n",
              "    }\n",
              "</style>\n",
              "<table border=\"1\" class=\"dataframe\">\n",
              "  <thead>\n",
              "    <tr style=\"text-align: right;\">\n",
              "      <th></th>\n",
              "      <th>band_name</th>\n",
              "      <th>fans</th>\n",
              "      <th>formed</th>\n",
              "      <th>origin</th>\n",
              "      <th>split</th>\n",
              "      <th>style</th>\n",
              "      <th>main_style</th>\n",
              "      <th>secondary_style</th>\n",
              "      <th>country</th>\n",
              "      <th>iso3</th>\n",
              "    </tr>\n",
              "  </thead>\n",
              "  <tbody>\n",
              "    <tr>\n",
              "      <th>0</th>\n",
              "      <td>Iron Maiden</td>\n",
              "      <td>4195</td>\n",
              "      <td>1975</td>\n",
              "      <td>United Kingdom</td>\n",
              "      <td>-</td>\n",
              "      <td>New wave of british heavy,Heavy</td>\n",
              "      <td>New wave of british heavy</td>\n",
              "      <td>Heavy</td>\n",
              "      <td>United Kingdom</td>\n",
              "      <td>GBR</td>\n",
              "    </tr>\n",
              "    <tr>\n",
              "      <th>1</th>\n",
              "      <td>Opeth</td>\n",
              "      <td>4147</td>\n",
              "      <td>1990</td>\n",
              "      <td>Sweden</td>\n",
              "      <td>1990</td>\n",
              "      <td>Extreme progressive,Progressive rock,Progressive</td>\n",
              "      <td>Extreme progressive</td>\n",
              "      <td>Progressive rock</td>\n",
              "      <td>Sweden</td>\n",
              "      <td>SWE</td>\n",
              "    </tr>\n",
              "    <tr>\n",
              "      <th>2</th>\n",
              "      <td>Metallica</td>\n",
              "      <td>3712</td>\n",
              "      <td>1981</td>\n",
              "      <td>USA</td>\n",
              "      <td>-</td>\n",
              "      <td>Heavy,Bay area thrash</td>\n",
              "      <td>Heavy</td>\n",
              "      <td>Bay area thrash</td>\n",
              "      <td>USA</td>\n",
              "      <td>USA</td>\n",
              "    </tr>\n",
              "    <tr>\n",
              "      <th>3</th>\n",
              "      <td>Megadeth</td>\n",
              "      <td>3105</td>\n",
              "      <td>1983</td>\n",
              "      <td>USA</td>\n",
              "      <td>1983</td>\n",
              "      <td>Thrash,Heavy,Hard rock</td>\n",
              "      <td>Thrash</td>\n",
              "      <td>Heavy</td>\n",
              "      <td>USA</td>\n",
              "      <td>USA</td>\n",
              "    </tr>\n",
              "    <tr>\n",
              "      <th>4</th>\n",
              "      <td>Amon Amarth</td>\n",
              "      <td>3054</td>\n",
              "      <td>1988</td>\n",
              "      <td>Sweden</td>\n",
              "      <td>-</td>\n",
              "      <td>Melodic death</td>\n",
              "      <td>Melodic death</td>\n",
              "      <td>None</td>\n",
              "      <td>Sweden</td>\n",
              "      <td>SWE</td>\n",
              "    </tr>\n",
              "  </tbody>\n",
              "</table>\n",
              "</div>"
            ],
            "text/plain": [
              "     band_name  fans formed  ...   secondary_style         country iso3\n",
              "0  Iron Maiden  4195   1975  ...             Heavy  United Kingdom  GBR\n",
              "1        Opeth  4147   1990  ...  Progressive rock          Sweden  SWE\n",
              "2    Metallica  3712   1981  ...   Bay area thrash             USA  USA\n",
              "3     Megadeth  3105   1983  ...             Heavy             USA  USA\n",
              "4  Amon Amarth  3054   1988  ...              None          Sweden  SWE\n",
              "\n",
              "[5 rows x 10 columns]"
            ]
          },
          "metadata": {},
          "execution_count": 41
        }
      ]
    },
    {
      "cell_type": "code",
      "metadata": {
        "colab": {
          "base_uri": "https://localhost:8080/"
        },
        "id": "QFfDpWr1JpEP",
        "outputId": "6f467280-38e1-4766-db62-59cabdb09c86"
      },
      "source": [
        "df.shape"
      ],
      "id": "QFfDpWr1JpEP",
      "execution_count": 80,
      "outputs": [
        {
          "output_type": "execute_result",
          "data": {
            "text/plain": [
              "(4937, 10)"
            ]
          },
          "metadata": {},
          "execution_count": 80
        }
      ]
    },
    {
      "cell_type": "markdown",
      "metadata": {
        "id": "b688cdca",
        "tags": []
      },
      "source": [
        "### Definição\tde\ttipos"
      ],
      "id": "b688cdca"
    },
    {
      "cell_type": "code",
      "metadata": {
        "colab": {
          "base_uri": "https://localhost:8080/"
        },
        "execution": {
          "iopub.status.busy": "2021-10-14T13:19:39.642235Z",
          "iopub.status.idle": "2021-10-14T13:19:39.643235Z",
          "shell.execute_reply": "2021-10-14T13:19:39.642235Z"
        },
        "id": "b3a52ab3",
        "tags": [],
        "outputId": "b639c1cf-e8de-47d1-a485-55f6cb4ec8e7"
      },
      "source": [
        "# visualizando tipos de dados por coluna\n",
        "df.dtypes"
      ],
      "id": "b3a52ab3",
      "execution_count": 43,
      "outputs": [
        {
          "output_type": "execute_result",
          "data": {
            "text/plain": [
              "band_name          object\n",
              "fans                int64\n",
              "formed             object\n",
              "origin             object\n",
              "split              object\n",
              "style              object\n",
              "main_style         object\n",
              "secondary_style    object\n",
              "country            object\n",
              "iso3               object\n",
              "dtype: object"
            ]
          },
          "metadata": {},
          "execution_count": 43
        }
      ]
    },
    {
      "cell_type": "code",
      "metadata": {
        "execution": {
          "iopub.status.busy": "2021-10-14T13:19:39.643235Z",
          "iopub.status.idle": "2021-10-14T13:19:39.644236Z",
          "shell.execute_reply": "2021-10-14T13:19:39.644236Z"
        },
        "id": "lFYxhBvZUNuK",
        "tags": []
      },
      "source": [
        "# ajustando tipos dos dados\n",
        "df['band_name'] = df['band_name'].astype('string')\n",
        "df['formed'] = df['formed'].astype('int64')\n",
        "df['origin'] = df['origin'].astype('string')\n",
        "df['style'] = df['style'].astype('string')\n",
        "df['main_style'] = df['main_style'].astype('string')\n",
        "df['secondary_style'] = df['secondary_style'].astype('string')\n",
        "df['country'] = df['country'].astype('string')\n",
        "df['iso3'] = df['iso3'].astype('string')"
      ],
      "id": "lFYxhBvZUNuK",
      "execution_count": 44,
      "outputs": []
    },
    {
      "cell_type": "code",
      "metadata": {
        "colab": {
          "base_uri": "https://localhost:8080/"
        },
        "execution": {
          "iopub.status.busy": "2021-10-14T13:19:39.645237Z",
          "iopub.status.idle": "2021-10-14T13:19:39.645237Z",
          "shell.execute_reply": "2021-10-14T13:19:39.645237Z"
        },
        "id": "XFy0AOCFU7X0",
        "tags": [],
        "outputId": "12179cf1-32d4-4709-ecc1-0b0d531fda87"
      },
      "source": [
        "df.dtypes"
      ],
      "id": "XFy0AOCFU7X0",
      "execution_count": 45,
      "outputs": [
        {
          "output_type": "execute_result",
          "data": {
            "text/plain": [
              "band_name          string\n",
              "fans                int64\n",
              "formed              int64\n",
              "origin             string\n",
              "split              object\n",
              "style              string\n",
              "main_style         string\n",
              "secondary_style    string\n",
              "country            string\n",
              "iso3               string\n",
              "dtype: object"
            ]
          },
          "metadata": {},
          "execution_count": 45
        }
      ]
    },
    {
      "cell_type": "markdown",
      "metadata": {
        "id": "7f25969a"
      },
      "source": [
        "## Detectando *outliers*"
      ],
      "id": "7f25969a"
    },
    {
      "cell_type": "code",
      "metadata": {
        "colab": {
          "base_uri": "https://localhost:8080/",
          "height": 279
        },
        "id": "clYSCINjx-oo",
        "outputId": "062716ec-7a84-4a03-f3ad-6b85f2c2b0b1"
      },
      "source": [
        "sns.boxplot(data=df, x='fans');"
      ],
      "id": "clYSCINjx-oo",
      "execution_count": 46,
      "outputs": [
        {
          "output_type": "display_data",
          "data": {
            "image/png": "[encoded data removed]",
            "text/plain": [
              "<Figure size 432x288 with 1 Axes>"
            ]
          },
          "metadata": {
            "needs_background": "light"
          }
        }
      ]
    },
    {
      "cell_type": "code",
      "metadata": {
        "colab": {
          "base_uri": "https://localhost:8080/",
          "height": 296
        },
        "id": "lzooOX-DyCYO",
        "outputId": "93d6f501-7881-402c-e48b-5bcbbce55b8b"
      },
      "source": [
        "sns.boxplot(data=df, x='formed')"
      ],
      "id": "lzooOX-DyCYO",
      "execution_count": 47,
      "outputs": [
        {
          "output_type": "execute_result",
          "data": {
            "text/plain": [
              "<matplotlib.axes._subplots.AxesSubplot at 0x7fb1b552bad0>"
            ]
          },
          "metadata": {},
          "execution_count": 47
        },
        {
          "output_type": "display_data",
          "data": {
            "image/png": "[encoded data removed]",
            "text/plain": [
              "<Figure size 432x288 with 1 Axes>"
            ]
          },
          "metadata": {
            "needs_background": "light"
          }
        }
      ]
    },
    {
      "cell_type": "markdown",
      "metadata": {
        "id": "957fa7b2"
      },
      "source": [
        "## Análises"
      ],
      "id": "957fa7b2"
    },
    {
      "cell_type": "markdown",
      "metadata": {
        "execution": {
          "iopub.execute_input": "2021-10-13T18:36:22.345105Z",
          "iopub.status.busy": "2021-10-13T18:36:22.345105Z",
          "iopub.status.idle": "2021-10-13T18:36:22.361119Z",
          "shell.execute_reply": "2021-10-13T18:36:22.361119Z",
          "shell.execute_reply.started": "2021-10-13T18:36:22.345105Z"
        },
        "id": "1e11886a-d9e7-4772-b35e-78e4ad75b84a",
        "tags": []
      },
      "source": [
        "### Tempo de Duração das Bandas"
      ],
      "id": "1e11886a-d9e7-4772-b35e-78e4ad75b84a"
    },
    {
      "cell_type": "code",
      "metadata": {
        "execution": {
          "iopub.execute_input": "2021-10-14T13:19:39.743327Z",
          "iopub.status.busy": "2021-10-14T13:19:39.743327Z",
          "iopub.status.idle": "2021-10-14T13:19:39.752334Z",
          "shell.execute_reply": "2021-10-14T13:19:39.751333Z",
          "shell.execute_reply.started": "2021-10-14T13:19:39.743327Z"
        },
        "id": "9039e1de-7088-47a5-9763-c1e1b78101fc",
        "tags": [],
        "colab": {
          "base_uri": "https://localhost:8080/"
        },
        "outputId": "691c5b6f-cf33-405f-da2a-8a850619b256"
      },
      "source": [
        "df[df['split'] == '-'].index"
      ],
      "id": "9039e1de-7088-47a5-9763-c1e1b78101fc",
      "execution_count": 48,
      "outputs": [
        {
          "output_type": "execute_result",
          "data": {
            "text/plain": [
              "Int64Index([   0,    2,    4,    8,   10,   12,   18,   20,   22,   24,\n",
              "            ...\n",
              "            4978, 4980, 4982, 4984, 4986, 4988, 4990, 4992, 4994, 4996],\n",
              "           dtype='int64', length=2183)"
            ]
          },
          "metadata": {},
          "execution_count": 48
        }
      ]
    },
    {
      "cell_type": "code",
      "metadata": {
        "execution": {
          "iopub.execute_input": "2021-10-14T13:19:39.756338Z",
          "iopub.status.busy": "2021-10-14T13:19:39.756338Z",
          "iopub.status.idle": "2021-10-14T13:19:39.767349Z",
          "shell.execute_reply": "2021-10-14T13:19:39.767349Z",
          "shell.execute_reply.started": "2021-10-14T13:19:39.756338Z"
        },
        "id": "e4b7103a-18d5-44df-be7c-9c0e6a0c5c22",
        "tags": []
      },
      "source": [
        "# para efeitos de comparação, bandas cujo ano de split é igual a \"-\" foram considerados bandas que ainda estão juntas\n",
        "df_split = df.drop(df[df['split'] == '-'].index)\n",
        "df_non_split = df.drop(df[df['split'] != '-'].index)"
      ],
      "id": "e4b7103a-18d5-44df-be7c-9c0e6a0c5c22",
      "execution_count": 49,
      "outputs": []
    },
    {
      "cell_type": "code",
      "metadata": {
        "execution": {
          "iopub.execute_input": "2021-10-14T13:19:39.789368Z",
          "iopub.status.busy": "2021-10-14T13:19:39.789368Z",
          "iopub.status.idle": "2021-10-14T13:19:39.800377Z",
          "shell.execute_reply": "2021-10-14T13:19:39.799377Z",
          "shell.execute_reply.started": "2021-10-14T13:19:39.789368Z"
        },
        "id": "5afc9028-7219-4e7b-8b23-73ec7f36446c",
        "tags": [],
        "colab": {
          "base_uri": "https://localhost:8080/"
        },
        "outputId": "1ccc9c89-c0fb-40a9-87ae-21fd1efecb12"
      },
      "source": [
        "df_split.shape"
      ],
      "id": "5afc9028-7219-4e7b-8b23-73ec7f36446c",
      "execution_count": 50,
      "outputs": [
        {
          "output_type": "execute_result",
          "data": {
            "text/plain": [
              "(2754, 10)"
            ]
          },
          "metadata": {},
          "execution_count": 50
        }
      ]
    },
    {
      "cell_type": "code",
      "metadata": {
        "execution": {
          "iopub.execute_input": "2021-10-14T13:19:39.893461Z",
          "iopub.status.busy": "2021-10-14T13:19:39.893461Z",
          "iopub.status.idle": "2021-10-14T13:19:39.911477Z",
          "shell.execute_reply": "2021-10-14T13:19:39.911477Z",
          "shell.execute_reply.started": "2021-10-14T13:19:39.893461Z"
        },
        "id": "18481250-ef4c-4e60-9b7d-81b0c6d40461",
        "tags": [],
        "colab": {
          "base_uri": "https://localhost:8080/"
        },
        "outputId": "d8cf75e7-3bac-4edb-d78a-47389b96c6ad"
      },
      "source": [
        "df_non_split.shape"
      ],
      "id": "18481250-ef4c-4e60-9b7d-81b0c6d40461",
      "execution_count": 51,
      "outputs": [
        {
          "output_type": "execute_result",
          "data": {
            "text/plain": [
              "(2183, 10)"
            ]
          },
          "metadata": {},
          "execution_count": 51
        }
      ]
    },
    {
      "cell_type": "markdown",
      "metadata": {
        "id": "Qhm7avkfDeMz"
      },
      "source": [
        "Como as bandas cujo valor da coluna \"split\" é igual a \"-\" consideramos como ainda em andamento, colocaremos o ano de 2017 (pois os valores do dataset vão até 2016), para considerar o tempo que as bandas estão juntas"
      ],
      "id": "Qhm7avkfDeMz"
    },
    {
      "cell_type": "code",
      "metadata": {
        "execution": {
          "iopub.execute_input": "2021-10-14T13:19:39.929494Z",
          "iopub.status.busy": "2021-10-14T13:19:39.929494Z",
          "iopub.status.idle": "2021-10-14T13:19:39.943506Z",
          "shell.execute_reply": "2021-10-14T13:19:39.943506Z",
          "shell.execute_reply.started": "2021-10-14T13:19:39.929494Z"
        },
        "id": "3173ed10-5682-4363-9ec6-6f3eb0debfd3",
        "tags": [],
        "colab": {
          "base_uri": "https://localhost:8080/"
        },
        "outputId": "98751445-98d8-4069-fa74-1e014731dd83"
      },
      "source": [
        "df_non_split['split'].sample(10)"
      ],
      "id": "3173ed10-5682-4363-9ec6-6f3eb0debfd3",
      "execution_count": 52,
      "outputs": [
        {
          "output_type": "execute_result",
          "data": {
            "text/plain": [
              "26      -\n",
              "4776    -\n",
              "4020    -\n",
              "20      -\n",
              "1306    -\n",
              "1582    -\n",
              "1976    -\n",
              "3632    -\n",
              "1602    -\n",
              "2422    -\n",
              "Name: split, dtype: object"
            ]
          },
          "metadata": {},
          "execution_count": 52
        }
      ]
    },
    {
      "cell_type": "code",
      "metadata": {
        "execution": {
          "iopub.execute_input": "2021-10-14T13:19:39.945509Z",
          "iopub.status.busy": "2021-10-14T13:19:39.944508Z",
          "iopub.status.idle": "2021-10-14T13:19:39.959520Z",
          "shell.execute_reply": "2021-10-14T13:19:39.959520Z",
          "shell.execute_reply.started": "2021-10-14T13:19:39.945509Z"
        },
        "id": "d52df1f5-a448-4791-b149-a12d0bda5553",
        "tags": []
      },
      "source": [
        "df_non_split['split'] = 2017"
      ],
      "id": "d52df1f5-a448-4791-b149-a12d0bda5553",
      "execution_count": 53,
      "outputs": []
    },
    {
      "cell_type": "code",
      "metadata": {
        "execution": {
          "iopub.execute_input": "2021-10-14T13:19:39.961522Z",
          "iopub.status.busy": "2021-10-14T13:19:39.960522Z",
          "iopub.status.idle": "2021-10-14T13:19:39.975536Z",
          "shell.execute_reply": "2021-10-14T13:19:39.975536Z",
          "shell.execute_reply.started": "2021-10-14T13:19:39.961522Z"
        },
        "id": "b534accd-24ca-4647-ae69-b279f234b3d3",
        "tags": [],
        "colab": {
          "base_uri": "https://localhost:8080/"
        },
        "outputId": "cca1bb28-5a7a-4265-d204-4ef9a431a315"
      },
      "source": [
        "df_non_split['split'].sample(10)"
      ],
      "id": "b534accd-24ca-4647-ae69-b279f234b3d3",
      "execution_count": 54,
      "outputs": [
        {
          "output_type": "execute_result",
          "data": {
            "text/plain": [
              "4606    2017\n",
              "4536    2017\n",
              "138     2017\n",
              "4266    2017\n",
              "4446    2017\n",
              "4614    2017\n",
              "4412    2017\n",
              "1006    2017\n",
              "4922    2017\n",
              "2060    2017\n",
              "Name: split, dtype: int64"
            ]
          },
          "metadata": {},
          "execution_count": 54
        }
      ]
    },
    {
      "cell_type": "code",
      "metadata": {
        "execution": {
          "iopub.execute_input": "2021-10-14T13:19:40.008565Z",
          "iopub.status.busy": "2021-10-14T13:19:40.007565Z",
          "iopub.status.idle": "2021-10-14T13:19:40.022577Z",
          "shell.execute_reply": "2021-10-14T13:19:40.022577Z",
          "shell.execute_reply.started": "2021-10-14T13:19:40.007565Z"
        },
        "id": "660b77f6-bd29-4636-85af-fd2a342cfc8f",
        "tags": [],
        "colab": {
          "base_uri": "https://localhost:8080/"
        },
        "outputId": "c39d97bd-6e03-4aa8-b011-846a8da96aca"
      },
      "source": [
        "df_split['split'].sample(10)"
      ],
      "id": "660b77f6-bd29-4636-85af-fd2a342cfc8f",
      "execution_count": 55,
      "outputs": [
        {
          "output_type": "execute_result",
          "data": {
            "text/plain": [
              "3183    2008\n",
              "1439    1991\n",
              "1557    2004\n",
              "153     1995\n",
              "1093    2007\n",
              "3097    1999\n",
              "2531    1996\n",
              "2512    1987\n",
              "687     2003\n",
              "1717    2016\n",
              "Name: split, dtype: object"
            ]
          },
          "metadata": {},
          "execution_count": 55
        }
      ]
    },
    {
      "cell_type": "code",
      "metadata": {
        "execution": {
          "iopub.execute_input": "2021-10-14T13:19:40.024580Z",
          "iopub.status.busy": "2021-10-14T13:19:40.024580Z",
          "iopub.status.idle": "2021-10-14T13:19:40.038592Z",
          "shell.execute_reply": "2021-10-14T13:19:40.038592Z",
          "shell.execute_reply.started": "2021-10-14T13:19:40.024580Z"
        },
        "id": "6803d299-51a5-4270-88bf-47bda62f3cc2",
        "tags": [],
        "colab": {
          "base_uri": "https://localhost:8080/"
        },
        "outputId": "947ed2d2-2119-4498-d9ee-c11bd79c9d9e"
      },
      "source": [
        "df_non_split['split'].sample(10)"
      ],
      "id": "6803d299-51a5-4270-88bf-47bda62f3cc2",
      "execution_count": 56,
      "outputs": [
        {
          "output_type": "execute_result",
          "data": {
            "text/plain": [
              "3006    2017\n",
              "2550    2017\n",
              "1938    2017\n",
              "1750    2017\n",
              "4204    2017\n",
              "474     2017\n",
              "4188    2017\n",
              "3672    2017\n",
              "3608    2017\n",
              "736     2017\n",
              "Name: split, dtype: int64"
            ]
          },
          "metadata": {},
          "execution_count": 56
        }
      ]
    },
    {
      "cell_type": "code",
      "metadata": {
        "execution": {
          "iopub.execute_input": "2021-10-14T13:19:40.059611Z",
          "iopub.status.busy": "2021-10-14T13:19:40.058611Z",
          "iopub.status.idle": "2021-10-14T13:19:40.070621Z",
          "shell.execute_reply": "2021-10-14T13:19:40.070621Z",
          "shell.execute_reply.started": "2021-10-14T13:19:40.059611Z"
        },
        "id": "1d1a88c4-55b2-419c-947b-6191d958d1d9",
        "tags": []
      },
      "source": [
        "df_split['split'] = df_split['split'].astype('int64')\n",
        "df_split['formed'] = df_split['formed'].astype('int64')"
      ],
      "id": "1d1a88c4-55b2-419c-947b-6191d958d1d9",
      "execution_count": 57,
      "outputs": []
    },
    {
      "cell_type": "code",
      "metadata": {
        "execution": {
          "iopub.execute_input": "2021-10-14T13:19:40.080630Z",
          "iopub.status.busy": "2021-10-14T13:19:40.080630Z",
          "iopub.status.idle": "2021-10-14T13:19:40.167709Z",
          "shell.execute_reply": "2021-10-14T13:19:40.166708Z",
          "shell.execute_reply.started": "2021-10-14T13:19:40.080630Z"
        },
        "id": "d6c8f92d-104b-47d2-9b02-c04a70f29e62",
        "tags": []
      },
      "source": [
        "df_split['band_duration'] = df_split['split'] - df_split['formed']"
      ],
      "id": "d6c8f92d-104b-47d2-9b02-c04a70f29e62",
      "execution_count": 58,
      "outputs": []
    },
    {
      "cell_type": "code",
      "metadata": {
        "execution": {
          "iopub.status.busy": "2021-10-14T13:19:40.168710Z",
          "iopub.status.idle": "2021-10-14T13:19:40.168710Z",
          "shell.execute_reply": "2021-10-14T13:19:40.168710Z"
        },
        "id": "ec9ce9c9-283e-482a-aa08-77e669e4cf12",
        "tags": [],
        "colab": {
          "base_uri": "https://localhost:8080/",
          "height": 359
        },
        "outputId": "4488fa8c-5f31-4f76-af1e-f237ebc15383"
      },
      "source": [
        "df_split.sample(10)"
      ],
      "id": "ec9ce9c9-283e-482a-aa08-77e669e4cf12",
      "execution_count": 59,
      "outputs": [
        {
          "output_type": "execute_result",
          "data": {
            "text/html": [
              "<div>\n",
              "<style scoped>\n",
              "    .dataframe tbody tr th:only-of-type {\n",
              "        vertical-align: middle;\n",
              "    }\n",
              "\n",
              "    .dataframe tbody tr th {\n",
              "        vertical-align: top;\n",
              "    }\n",
              "\n",
              "    .dataframe thead th {\n",
              "        text-align: right;\n",
              "    }\n",
              "</style>\n",
              "<table border=\"1\" class=\"dataframe\">\n",
              "  <thead>\n",
              "    <tr style=\"text-align: right;\">\n",
              "      <th></th>\n",
              "      <th>band_name</th>\n",
              "      <th>fans</th>\n",
              "      <th>formed</th>\n",
              "      <th>origin</th>\n",
              "      <th>split</th>\n",
              "      <th>style</th>\n",
              "      <th>main_style</th>\n",
              "      <th>secondary_style</th>\n",
              "      <th>country</th>\n",
              "      <th>iso3</th>\n",
              "      <th>band_duration</th>\n",
              "    </tr>\n",
              "  </thead>\n",
              "  <tbody>\n",
              "    <tr>\n",
              "      <th>2512</th>\n",
              "      <td>V8</td>\n",
              "      <td>12</td>\n",
              "      <td>1979</td>\n",
              "      <td>Argentina</td>\n",
              "      <td>1987</td>\n",
              "      <td>Heavy</td>\n",
              "      <td>Heavy</td>\n",
              "      <td>&lt;NA&gt;</td>\n",
              "      <td>Argentina</td>\n",
              "      <td>ARG</td>\n",
              "      <td>8</td>\n",
              "    </tr>\n",
              "    <tr>\n",
              "      <th>2287</th>\n",
              "      <td>Dopethrone</td>\n",
              "      <td>14</td>\n",
              "      <td>2009</td>\n",
              "      <td>Canada</td>\n",
              "      <td>2009</td>\n",
              "      <td>Stoner</td>\n",
              "      <td>Stoner</td>\n",
              "      <td>&lt;NA&gt;</td>\n",
              "      <td>Canada</td>\n",
              "      <td>CAN</td>\n",
              "      <td>0</td>\n",
              "    </tr>\n",
              "    <tr>\n",
              "      <th>4123</th>\n",
              "      <td>Aftershok</td>\n",
              "      <td>2</td>\n",
              "      <td>1996</td>\n",
              "      <td>USA</td>\n",
              "      <td>1996</td>\n",
              "      <td>Heavy</td>\n",
              "      <td>Heavy</td>\n",
              "      <td>&lt;NA&gt;</td>\n",
              "      <td>USA</td>\n",
              "      <td>USA</td>\n",
              "      <td>0</td>\n",
              "    </tr>\n",
              "    <tr>\n",
              "      <th>4373</th>\n",
              "      <td>Revelation's Hammer</td>\n",
              "      <td>2</td>\n",
              "      <td>2007</td>\n",
              "      <td>Norway</td>\n",
              "      <td>2007</td>\n",
              "      <td>Black</td>\n",
              "      <td>Black</td>\n",
              "      <td>&lt;NA&gt;</td>\n",
              "      <td>Norway</td>\n",
              "      <td>NOR</td>\n",
              "      <td>0</td>\n",
              "    </tr>\n",
              "    <tr>\n",
              "      <th>2247</th>\n",
              "      <td>Riger</td>\n",
              "      <td>15</td>\n",
              "      <td>1996</td>\n",
              "      <td>Germany</td>\n",
              "      <td>1996</td>\n",
              "      <td>Pagan black</td>\n",
              "      <td>Pagan black</td>\n",
              "      <td>&lt;NA&gt;</td>\n",
              "      <td>Germany</td>\n",
              "      <td>DEU</td>\n",
              "      <td>0</td>\n",
              "    </tr>\n",
              "    <tr>\n",
              "      <th>2191</th>\n",
              "      <td>The Answer</td>\n",
              "      <td>16</td>\n",
              "      <td>2000</td>\n",
              "      <td>United Kingdom</td>\n",
              "      <td>2000</td>\n",
              "      <td>Hard rock</td>\n",
              "      <td>Hard rock</td>\n",
              "      <td>&lt;NA&gt;</td>\n",
              "      <td>United Kingdom</td>\n",
              "      <td>GBR</td>\n",
              "      <td>0</td>\n",
              "    </tr>\n",
              "    <tr>\n",
              "      <th>1621</th>\n",
              "      <td>Beautiful Sin</td>\n",
              "      <td>27</td>\n",
              "      <td>2005</td>\n",
              "      <td>Germany</td>\n",
              "      <td>2005</td>\n",
              "      <td>Heavy</td>\n",
              "      <td>Heavy</td>\n",
              "      <td>&lt;NA&gt;</td>\n",
              "      <td>Germany</td>\n",
              "      <td>DEU</td>\n",
              "      <td>0</td>\n",
              "    </tr>\n",
              "    <tr>\n",
              "      <th>1177</th>\n",
              "      <td>Ophis</td>\n",
              "      <td>47</td>\n",
              "      <td>2001</td>\n",
              "      <td>Germany</td>\n",
              "      <td>2001</td>\n",
              "      <td>Death doom</td>\n",
              "      <td>Death doom</td>\n",
              "      <td>&lt;NA&gt;</td>\n",
              "      <td>Germany</td>\n",
              "      <td>DEU</td>\n",
              "      <td>0</td>\n",
              "    </tr>\n",
              "    <tr>\n",
              "      <th>4669</th>\n",
              "      <td>Ilsa</td>\n",
              "      <td>1</td>\n",
              "      <td>2008</td>\n",
              "      <td>USA</td>\n",
              "      <td>2008</td>\n",
              "      <td>Death doom,Crust,Punk</td>\n",
              "      <td>Death doom</td>\n",
              "      <td>Crust</td>\n",
              "      <td>USA</td>\n",
              "      <td>USA</td>\n",
              "      <td>0</td>\n",
              "    </tr>\n",
              "    <tr>\n",
              "      <th>3463</th>\n",
              "      <td>Parasitic Extirpation</td>\n",
              "      <td>5</td>\n",
              "      <td>2007</td>\n",
              "      <td>USA</td>\n",
              "      <td>2007</td>\n",
              "      <td>Brutal death,Technical death</td>\n",
              "      <td>Brutal death</td>\n",
              "      <td>Technical death</td>\n",
              "      <td>USA</td>\n",
              "      <td>USA</td>\n",
              "      <td>0</td>\n",
              "    </tr>\n",
              "  </tbody>\n",
              "</table>\n",
              "</div>"
            ],
            "text/plain": [
              "                  band_name  fans  formed  ...         country  iso3 band_duration\n",
              "2512                     V8    12    1979  ...       Argentina   ARG             8\n",
              "2287             Dopethrone    14    2009  ...          Canada   CAN             0\n",
              "4123              Aftershok     2    1996  ...             USA   USA             0\n",
              "4373    Revelation's Hammer     2    2007  ...          Norway   NOR             0\n",
              "2247                  Riger    15    1996  ...         Germany   DEU             0\n",
              "2191             The Answer    16    2000  ...  United Kingdom   GBR             0\n",
              "1621          Beautiful Sin    27    2005  ...         Germany   DEU             0\n",
              "1177                  Ophis    47    2001  ...         Germany   DEU             0\n",
              "4669                   Ilsa     1    2008  ...             USA   USA             0\n",
              "3463  Parasitic Extirpation     5    2007  ...             USA   USA             0\n",
              "\n",
              "[10 rows x 11 columns]"
            ]
          },
          "metadata": {},
          "execution_count": 59
        }
      ]
    },
    {
      "cell_type": "code",
      "metadata": {
        "execution": {
          "iopub.status.busy": "2021-10-14T13:19:40.169711Z",
          "iopub.status.idle": "2021-10-14T13:19:40.170711Z",
          "shell.execute_reply": "2021-10-14T13:19:40.169711Z"
        },
        "id": "d0648eaa-0e5e-4e03-b247-34e28202dcf4",
        "tags": []
      },
      "source": [
        "df_non_split['band_duration'] = df_non_split['split'] - df_non_split['formed']"
      ],
      "id": "d0648eaa-0e5e-4e03-b247-34e28202dcf4",
      "execution_count": 60,
      "outputs": []
    },
    {
      "cell_type": "code",
      "metadata": {
        "execution": {
          "iopub.execute_input": "2021-10-14T13:19:40.277808Z",
          "iopub.status.busy": "2021-10-14T13:19:40.276807Z",
          "iopub.status.idle": "2021-10-14T13:19:40.293823Z",
          "shell.execute_reply": "2021-10-14T13:19:40.293823Z",
          "shell.execute_reply.started": "2021-10-14T13:19:40.276807Z"
        },
        "id": "07466a1a-afeb-4060-ac5c-a2a61b013621",
        "tags": [],
        "colab": {
          "base_uri": "https://localhost:8080/",
          "height": 359
        },
        "outputId": "d7543849-4611-47c7-85c6-cb926358a35f"
      },
      "source": [
        "df_non_split.sample(10)"
      ],
      "id": "07466a1a-afeb-4060-ac5c-a2a61b013621",
      "execution_count": 61,
      "outputs": [
        {
          "output_type": "execute_result",
          "data": {
            "text/html": [
              "<div>\n",
              "<style scoped>\n",
              "    .dataframe tbody tr th:only-of-type {\n",
              "        vertical-align: middle;\n",
              "    }\n",
              "\n",
              "    .dataframe tbody tr th {\n",
              "        vertical-align: top;\n",
              "    }\n",
              "\n",
              "    .dataframe thead th {\n",
              "        text-align: right;\n",
              "    }\n",
              "</style>\n",
              "<table border=\"1\" class=\"dataframe\">\n",
              "  <thead>\n",
              "    <tr style=\"text-align: right;\">\n",
              "      <th></th>\n",
              "      <th>band_name</th>\n",
              "      <th>fans</th>\n",
              "      <th>formed</th>\n",
              "      <th>origin</th>\n",
              "      <th>split</th>\n",
              "      <th>style</th>\n",
              "      <th>main_style</th>\n",
              "      <th>secondary_style</th>\n",
              "      <th>country</th>\n",
              "      <th>iso3</th>\n",
              "      <th>band_duration</th>\n",
              "    </tr>\n",
              "  </thead>\n",
              "  <tbody>\n",
              "    <tr>\n",
              "      <th>2262</th>\n",
              "      <td>Weedpecker</td>\n",
              "      <td>15</td>\n",
              "      <td>2012</td>\n",
              "      <td>Poland</td>\n",
              "      <td>2017</td>\n",
              "      <td>Psychedelic stoner,Grunge</td>\n",
              "      <td>Psychedelic stoner</td>\n",
              "      <td>Grunge</td>\n",
              "      <td>Poland</td>\n",
              "      <td>POL</td>\n",
              "      <td>5</td>\n",
              "    </tr>\n",
              "    <tr>\n",
              "      <th>2978</th>\n",
              "      <td>Young And In The Way</td>\n",
              "      <td>8</td>\n",
              "      <td>2009</td>\n",
              "      <td>USA</td>\n",
              "      <td>2017</td>\n",
              "      <td>Black,Crust,Punk</td>\n",
              "      <td>Black</td>\n",
              "      <td>Crust</td>\n",
              "      <td>USA</td>\n",
              "      <td>USA</td>\n",
              "      <td>8</td>\n",
              "    </tr>\n",
              "    <tr>\n",
              "      <th>3516</th>\n",
              "      <td>Unseelie</td>\n",
              "      <td>5</td>\n",
              "      <td>2010</td>\n",
              "      <td>France</td>\n",
              "      <td>2017</td>\n",
              "      <td>Gothic</td>\n",
              "      <td>Gothic</td>\n",
              "      <td>&lt;NA&gt;</td>\n",
              "      <td>France</td>\n",
              "      <td>FRA</td>\n",
              "      <td>7</td>\n",
              "    </tr>\n",
              "    <tr>\n",
              "      <th>2984</th>\n",
              "      <td>A Sense Of Gravity</td>\n",
              "      <td>7</td>\n",
              "      <td>2011</td>\n",
              "      <td>USA</td>\n",
              "      <td>2017</td>\n",
              "      <td>Progressive math</td>\n",
              "      <td>Progressive math</td>\n",
              "      <td>&lt;NA&gt;</td>\n",
              "      <td>USA</td>\n",
              "      <td>USA</td>\n",
              "      <td>6</td>\n",
              "    </tr>\n",
              "    <tr>\n",
              "      <th>660</th>\n",
              "      <td>Violator</td>\n",
              "      <td>108</td>\n",
              "      <td>2002</td>\n",
              "      <td>Brazil</td>\n",
              "      <td>2017</td>\n",
              "      <td>Thrash</td>\n",
              "      <td>Thrash</td>\n",
              "      <td>&lt;NA&gt;</td>\n",
              "      <td>Brazil</td>\n",
              "      <td>BRA</td>\n",
              "      <td>15</td>\n",
              "    </tr>\n",
              "    <tr>\n",
              "      <th>4530</th>\n",
              "      <td>Baptists</td>\n",
              "      <td>1</td>\n",
              "      <td>2010</td>\n",
              "      <td>Canada</td>\n",
              "      <td>2017</td>\n",
              "      <td>Hardcore,Punk</td>\n",
              "      <td>Hardcore</td>\n",
              "      <td>Punk</td>\n",
              "      <td>Canada</td>\n",
              "      <td>CAN</td>\n",
              "      <td>7</td>\n",
              "    </tr>\n",
              "    <tr>\n",
              "      <th>2676</th>\n",
              "      <td>Fjorsvartnir</td>\n",
              "      <td>10</td>\n",
              "      <td>2007</td>\n",
              "      <td>Denmark</td>\n",
              "      <td>2017</td>\n",
              "      <td>Melodic black</td>\n",
              "      <td>Melodic black</td>\n",
              "      <td>&lt;NA&gt;</td>\n",
              "      <td>Denmark</td>\n",
              "      <td>DNK</td>\n",
              "      <td>10</td>\n",
              "    </tr>\n",
              "    <tr>\n",
              "      <th>1776</th>\n",
              "      <td>Demonica</td>\n",
              "      <td>23</td>\n",
              "      <td>2008</td>\n",
              "      <td>Denmark</td>\n",
              "      <td>2017</td>\n",
              "      <td>Thrash</td>\n",
              "      <td>Thrash</td>\n",
              "      <td>&lt;NA&gt;</td>\n",
              "      <td>Denmark</td>\n",
              "      <td>DNK</td>\n",
              "      <td>9</td>\n",
              "    </tr>\n",
              "    <tr>\n",
              "      <th>2624</th>\n",
              "      <td>6:33</td>\n",
              "      <td>10</td>\n",
              "      <td>2010</td>\n",
              "      <td>France</td>\n",
              "      <td>2017</td>\n",
              "      <td>Alternative,Avantgarde</td>\n",
              "      <td>Alternative</td>\n",
              "      <td>Avantgarde</td>\n",
              "      <td>France</td>\n",
              "      <td>FRA</td>\n",
              "      <td>7</td>\n",
              "    </tr>\n",
              "    <tr>\n",
              "      <th>754</th>\n",
              "      <td>40 Watt Sun</td>\n",
              "      <td>90</td>\n",
              "      <td>2009</td>\n",
              "      <td>United Kingdom</td>\n",
              "      <td>2017</td>\n",
              "      <td>Doom</td>\n",
              "      <td>Doom</td>\n",
              "      <td>&lt;NA&gt;</td>\n",
              "      <td>United Kingdom</td>\n",
              "      <td>GBR</td>\n",
              "      <td>8</td>\n",
              "    </tr>\n",
              "  </tbody>\n",
              "</table>\n",
              "</div>"
            ],
            "text/plain": [
              "                 band_name  fans  formed  ...         country  iso3 band_duration\n",
              "2262            Weedpecker    15    2012  ...          Poland   POL             5\n",
              "2978  Young And In The Way     8    2009  ...             USA   USA             8\n",
              "3516              Unseelie     5    2010  ...          France   FRA             7\n",
              "2984    A Sense Of Gravity     7    2011  ...             USA   USA             6\n",
              "660               Violator   108    2002  ...          Brazil   BRA            15\n",
              "4530              Baptists     1    2010  ...          Canada   CAN             7\n",
              "2676          Fjorsvartnir    10    2007  ...         Denmark   DNK            10\n",
              "1776              Demonica    23    2008  ...         Denmark   DNK             9\n",
              "2624                  6:33    10    2010  ...          France   FRA             7\n",
              "754            40 Watt Sun    90    2009  ...  United Kingdom   GBR             8\n",
              "\n",
              "[10 rows x 11 columns]"
            ]
          },
          "metadata": {},
          "execution_count": 61
        }
      ]
    },
    {
      "cell_type": "markdown",
      "metadata": {
        "id": "06f38ff3-3351-4f14-8ee4-55a733fe3df8",
        "tags": []
      },
      "source": [
        "#### Bandas que terminaram"
      ],
      "id": "06f38ff3-3351-4f14-8ee4-55a733fe3df8"
    },
    {
      "cell_type": "code",
      "metadata": {
        "execution": {
          "iopub.execute_input": "2021-10-14T13:19:40.295824Z",
          "iopub.status.busy": "2021-10-14T13:19:40.294824Z",
          "iopub.status.idle": "2021-10-14T13:19:40.358881Z",
          "shell.execute_reply": "2021-10-14T13:19:40.357880Z",
          "shell.execute_reply.started": "2021-10-14T13:19:40.295824Z"
        },
        "id": "49ec6186-63d5-4d48-a66e-15d54603ddef",
        "tags": [],
        "colab": {
          "base_uri": "https://localhost:8080/"
        },
        "outputId": "e72e21e4-9577-4bca-bacf-fbc8811eb4d3"
      },
      "source": [
        "df_split['band_duration'].mean()"
      ],
      "id": "49ec6186-63d5-4d48-a66e-15d54603ddef",
      "execution_count": 62,
      "outputs": [
        {
          "output_type": "execute_result",
          "data": {
            "text/plain": [
              "1.0777051561365287"
            ]
          },
          "metadata": {},
          "execution_count": 62
        }
      ]
    },
    {
      "cell_type": "code",
      "metadata": {
        "execution": {
          "iopub.status.busy": "2021-10-14T13:19:40.360883Z",
          "iopub.status.idle": "2021-10-14T13:19:40.360883Z",
          "shell.execute_reply": "2021-10-14T13:19:40.360883Z"
        },
        "id": "53fd4ee6-5ae7-469c-9e0e-b0a6f029de52",
        "tags": [],
        "colab": {
          "base_uri": "https://localhost:8080/",
          "height": 280
        },
        "outputId": "87eee750-db90-4d77-f48b-fddaa3ed51f3"
      },
      "source": [
        "sns.histplot(data=df_split, x='band_duration', bins=10);"
      ],
      "id": "53fd4ee6-5ae7-469c-9e0e-b0a6f029de52",
      "execution_count": 64,
      "outputs": [
        {
          "output_type": "display_data",
          "data": {
            "image/png": "[encoded data removed]",
            "text/plain": [
              "<Figure size 432x288 with 1 Axes>"
            ]
          },
          "metadata": {
            "needs_background": "light"
          }
        }
      ]
    },
    {
      "cell_type": "code",
      "metadata": {
        "execution": {
          "iopub.status.busy": "2021-10-14T13:19:40.361884Z",
          "iopub.status.idle": "2021-10-14T13:19:40.361884Z",
          "shell.execute_reply": "2021-10-14T13:19:40.361884Z"
        },
        "id": "e9f68c4e-c7bd-4b9f-a5c2-4c6c54b8b321",
        "tags": [],
        "colab": {
          "base_uri": "https://localhost:8080/",
          "height": 279
        },
        "outputId": "4d86dbbf-1da1-4bb8-b491-a274a842698b"
      },
      "source": [
        "sns.histplot(data=df_split, x='formed', bins=10);"
      ],
      "id": "e9f68c4e-c7bd-4b9f-a5c2-4c6c54b8b321",
      "execution_count": 65,
      "outputs": [
        {
          "output_type": "display_data",
          "data": {
            "image/png": "[encoded data removed]",
            "text/plain": [
              "<Figure size 432x288 with 1 Axes>"
            ]
          },
          "metadata": {
            "needs_background": "light"
          }
        }
      ]
    },
    {
      "cell_type": "code",
      "metadata": {
        "colab": {
          "base_uri": "https://localhost:8080/"
        },
        "id": "ffsIK61Ypf3-",
        "outputId": "867467bf-a804-4ca9-d742-f526dc953f03"
      },
      "source": [
        "# bandas que se separaram agrupadas por ano\n",
        "df_split_count = df_split[\"formed\"].value_counts()\n",
        "df_split_count.sum(), df_split.shape[0]"
      ],
      "id": "ffsIK61Ypf3-",
      "execution_count": 219,
      "outputs": [
        {
          "output_type": "execute_result",
          "data": {
            "text/plain": [
              "(2754, 2754)"
            ]
          },
          "metadata": {},
          "execution_count": 219
        }
      ]
    },
    {
      "cell_type": "markdown",
      "metadata": {
        "id": "bd746fb3-75b5-4fd2-bde3-57429a7e28d8",
        "tags": []
      },
      "source": [
        "#### Bandas que continuam na ativa"
      ],
      "id": "bd746fb3-75b5-4fd2-bde3-57429a7e28d8"
    },
    {
      "cell_type": "code",
      "metadata": {
        "execution": {
          "iopub.execute_input": "2021-10-14T13:19:40.660153Z",
          "iopub.status.busy": "2021-10-14T13:19:40.660153Z",
          "iopub.status.idle": "2021-10-14T13:19:40.707199Z",
          "shell.execute_reply": "2021-10-14T13:19:40.706194Z",
          "shell.execute_reply.started": "2021-10-14T13:19:40.660153Z"
        },
        "id": "8c9080e1-8752-4d7c-92e0-a6cb86716874",
        "tags": [],
        "colab": {
          "base_uri": "https://localhost:8080/"
        },
        "outputId": "929fa293-583f-4399-d4d4-5e615d86712c"
      },
      "source": [
        "df_non_split['band_duration'].mean()"
      ],
      "id": "8c9080e1-8752-4d7c-92e0-a6cb86716874",
      "execution_count": 67,
      "outputs": [
        {
          "output_type": "execute_result",
          "data": {
            "text/plain": [
              "16.154374713696747"
            ]
          },
          "metadata": {},
          "execution_count": 67
        }
      ]
    },
    {
      "cell_type": "code",
      "metadata": {
        "execution": {
          "iopub.status.busy": "2021-10-14T13:19:40.709197Z",
          "iopub.status.idle": "2021-10-14T13:19:40.709197Z",
          "shell.execute_reply": "2021-10-14T13:19:40.709197Z"
        },
        "id": "8371a64b-697b-4aff-b6c0-9e6fdf31dcc0",
        "tags": [],
        "colab": {
          "base_uri": "https://localhost:8080/",
          "height": 280
        },
        "outputId": "93e977c8-5a41-429d-cb59-17c40b43a237"
      },
      "source": [
        "sns.histplot(data=df_non_split, x='band_duration', bins=10);"
      ],
      "id": "8371a64b-697b-4aff-b6c0-9e6fdf31dcc0",
      "execution_count": 69,
      "outputs": [
        {
          "output_type": "display_data",
          "data": {
            "image/png": "[encoded data removed]",
            "text/plain": [
              "<Figure size 432x288 with 1 Axes>"
            ]
          },
          "metadata": {
            "needs_background": "light"
          }
        }
      ]
    },
    {
      "cell_type": "code",
      "metadata": {
        "execution": {
          "iopub.status.busy": "2021-10-14T13:19:40.710198Z",
          "iopub.status.idle": "2021-10-14T13:19:40.710198Z",
          "shell.execute_reply": "2021-10-14T13:19:40.710198Z"
        },
        "id": "06010537-402e-422f-86bd-41a0490f66c6",
        "tags": [],
        "colab": {
          "base_uri": "https://localhost:8080/",
          "height": 279
        },
        "outputId": "fba18e81-0089-4103-f442-ecd30476722d"
      },
      "source": [
        "sns.histplot(data=df_non_split, x='formed', bins=10);"
      ],
      "id": "06010537-402e-422f-86bd-41a0490f66c6",
      "execution_count": 70,
      "outputs": [
        {
          "output_type": "display_data",
          "data": {
            "image/png": "[encoded data removed]",
            "text/plain": [
              "<Figure size 432x288 with 1 Axes>"
            ]
          },
          "metadata": {
            "needs_background": "light"
          }
        }
      ]
    },
    {
      "cell_type": "code",
      "metadata": {
        "colab": {
          "base_uri": "https://localhost:8080/"
        },
        "id": "t4rPwQ4bon7z",
        "outputId": "da802341-c47f-434c-b55d-ae96bc176c4c"
      },
      "source": [
        "# bandas que continuam ativas agrupadas por ano\n",
        "df_non_split_count = df_non_split[\"formed\"].value_counts()\n",
        "df_non_split_count.sum(), df_non_split.shape[0]"
      ],
      "id": "t4rPwQ4bon7z",
      "execution_count": 220,
      "outputs": [
        {
          "output_type": "execute_result",
          "data": {
            "text/plain": [
              "(2183, 2183)"
            ]
          },
          "metadata": {},
          "execution_count": 220
        }
      ]
    },
    {
      "cell_type": "markdown",
      "metadata": {
        "id": "793bdf67-4434-475f-a288-dfc903180a33",
        "tags": []
      },
      "source": [
        "### Número de Fãs"
      ],
      "id": "793bdf67-4434-475f-a288-dfc903180a33"
    },
    {
      "cell_type": "code",
      "metadata": {
        "execution": {
          "iopub.execute_input": "2021-10-14T13:19:41.091542Z",
          "iopub.status.busy": "2021-10-14T13:19:41.090541Z",
          "iopub.status.idle": "2021-10-14T13:19:41.106555Z",
          "shell.execute_reply": "2021-10-14T13:19:41.105555Z",
          "shell.execute_reply.started": "2021-10-14T13:19:41.091542Z"
        },
        "id": "9e39a0cc",
        "tags": []
      },
      "source": [
        "df['formed'] = df['formed'].astype('int64')"
      ],
      "id": "9e39a0cc",
      "execution_count": 97,
      "outputs": []
    },
    {
      "cell_type": "code",
      "metadata": {
        "colab": {
          "base_uri": "https://localhost:8080/",
          "height": 359
        },
        "id": "a9xD9GRzZmxs",
        "outputId": "b1f9636e-770d-44f9-9757-9afe262a7022"
      },
      "source": [
        "df_fans_by_year = df[['formed', 'fans']].groupby('formed').sum().reset_index().sort_values('formed', ascending=True)\n",
        "df_fans_by_year.head(10)"
      ],
      "id": "a9xD9GRzZmxs",
      "execution_count": 139,
      "outputs": [
        {
          "output_type": "execute_result",
          "data": {
            "text/html": [
              "<div>\n",
              "<style scoped>\n",
              "    .dataframe tbody tr th:only-of-type {\n",
              "        vertical-align: middle;\n",
              "    }\n",
              "\n",
              "    .dataframe tbody tr th {\n",
              "        vertical-align: top;\n",
              "    }\n",
              "\n",
              "    .dataframe thead th {\n",
              "        text-align: right;\n",
              "    }\n",
              "</style>\n",
              "<table border=\"1\" class=\"dataframe\">\n",
              "  <thead>\n",
              "    <tr style=\"text-align: right;\">\n",
              "      <th></th>\n",
              "      <th>formed</th>\n",
              "      <th>fans</th>\n",
              "    </tr>\n",
              "  </thead>\n",
              "  <tbody>\n",
              "    <tr>\n",
              "      <th>0</th>\n",
              "      <td>1964</td>\n",
              "      <td>362</td>\n",
              "    </tr>\n",
              "    <tr>\n",
              "      <th>1</th>\n",
              "      <td>1965</td>\n",
              "      <td>519</td>\n",
              "    </tr>\n",
              "    <tr>\n",
              "      <th>2</th>\n",
              "      <td>1967</td>\n",
              "      <td>183</td>\n",
              "    </tr>\n",
              "    <tr>\n",
              "      <th>3</th>\n",
              "      <td>1968</td>\n",
              "      <td>5456</td>\n",
              "    </tr>\n",
              "    <tr>\n",
              "      <th>4</th>\n",
              "      <td>1969</td>\n",
              "      <td>2811</td>\n",
              "    </tr>\n",
              "    <tr>\n",
              "      <th>5</th>\n",
              "      <td>1970</td>\n",
              "      <td>64</td>\n",
              "    </tr>\n",
              "    <tr>\n",
              "      <th>6</th>\n",
              "      <td>1971</td>\n",
              "      <td>124</td>\n",
              "    </tr>\n",
              "    <tr>\n",
              "      <th>7</th>\n",
              "      <td>1972</td>\n",
              "      <td>844</td>\n",
              "    </tr>\n",
              "    <tr>\n",
              "      <th>8</th>\n",
              "      <td>1973</td>\n",
              "      <td>985</td>\n",
              "    </tr>\n",
              "    <tr>\n",
              "      <th>9</th>\n",
              "      <td>1974</td>\n",
              "      <td>74</td>\n",
              "    </tr>\n",
              "  </tbody>\n",
              "</table>\n",
              "</div>"
            ],
            "text/plain": [
              "   formed  fans\n",
              "0    1964   362\n",
              "1    1965   519\n",
              "2    1967   183\n",
              "3    1968  5456\n",
              "4    1969  2811\n",
              "5    1970    64\n",
              "6    1971   124\n",
              "7    1972   844\n",
              "8    1973   985\n",
              "9    1974    74"
            ]
          },
          "metadata": {},
          "execution_count": 139
        }
      ]
    },
    {
      "cell_type": "code",
      "metadata": {
        "execution": {
          "iopub.status.busy": "2021-10-14T13:19:40.712200Z",
          "iopub.status.idle": "2021-10-14T13:19:40.712200Z",
          "shell.execute_reply": "2021-10-14T13:19:40.712200Z"
        },
        "id": "d5968c84",
        "tags": [],
        "colab": {
          "base_uri": "https://localhost:8080/",
          "height": 359
        },
        "outputId": "881f4310-3c8a-48a0-a3bb-38084e89ba0d"
      },
      "source": [
        "df_fans_by_country = df[['country', 'fans']].groupby('country').sum().reset_index().sort_values('fans', ascending=False)\n",
        "df_fans_by_country.head(10)"
      ],
      "id": "d5968c84",
      "execution_count": 140,
      "outputs": [
        {
          "output_type": "execute_result",
          "data": {
            "text/html": [
              "<div>\n",
              "<style scoped>\n",
              "    .dataframe tbody tr th:only-of-type {\n",
              "        vertical-align: middle;\n",
              "    }\n",
              "\n",
              "    .dataframe tbody tr th {\n",
              "        vertical-align: top;\n",
              "    }\n",
              "\n",
              "    .dataframe thead th {\n",
              "        text-align: right;\n",
              "    }\n",
              "</style>\n",
              "<table border=\"1\" class=\"dataframe\">\n",
              "  <thead>\n",
              "    <tr style=\"text-align: right;\">\n",
              "      <th></th>\n",
              "      <th>country</th>\n",
              "      <th>fans</th>\n",
              "    </tr>\n",
              "  </thead>\n",
              "  <tbody>\n",
              "    <tr>\n",
              "      <th>82</th>\n",
              "      <td>USA</td>\n",
              "      <td>99466</td>\n",
              "    </tr>\n",
              "    <tr>\n",
              "      <th>74</th>\n",
              "      <td>Sweden</td>\n",
              "      <td>47326</td>\n",
              "    </tr>\n",
              "    <tr>\n",
              "      <th>84</th>\n",
              "      <td>United Kingdom</td>\n",
              "      <td>34228</td>\n",
              "    </tr>\n",
              "    <tr>\n",
              "      <th>27</th>\n",
              "      <td>Finland</td>\n",
              "      <td>32915</td>\n",
              "    </tr>\n",
              "    <tr>\n",
              "      <th>30</th>\n",
              "      <td>Germany</td>\n",
              "      <td>29545</td>\n",
              "    </tr>\n",
              "    <tr>\n",
              "      <th>58</th>\n",
              "      <td>Norway</td>\n",
              "      <td>22480</td>\n",
              "    </tr>\n",
              "    <tr>\n",
              "      <th>14</th>\n",
              "      <td>Canada</td>\n",
              "      <td>8897</td>\n",
              "    </tr>\n",
              "    <tr>\n",
              "      <th>78</th>\n",
              "      <td>The Netherlands</td>\n",
              "      <td>8819</td>\n",
              "    </tr>\n",
              "    <tr>\n",
              "      <th>41</th>\n",
              "      <td>Italy</td>\n",
              "      <td>7179</td>\n",
              "    </tr>\n",
              "    <tr>\n",
              "      <th>28</th>\n",
              "      <td>France</td>\n",
              "      <td>7164</td>\n",
              "    </tr>\n",
              "  </tbody>\n",
              "</table>\n",
              "</div>"
            ],
            "text/plain": [
              "            country   fans\n",
              "82              USA  99466\n",
              "74           Sweden  47326\n",
              "84   United Kingdom  34228\n",
              "27          Finland  32915\n",
              "30          Germany  29545\n",
              "58           Norway  22480\n",
              "14           Canada   8897\n",
              "78  The Netherlands   8819\n",
              "41            Italy   7179\n",
              "28           France   7164"
            ]
          },
          "metadata": {},
          "execution_count": 140
        }
      ]
    },
    {
      "cell_type": "code",
      "metadata": {
        "execution": {
          "iopub.execute_input": "2021-10-14T13:19:41.107557Z",
          "iopub.status.busy": "2021-10-14T13:19:41.107557Z",
          "iopub.status.idle": "2021-10-14T13:19:41.122570Z",
          "shell.execute_reply": "2021-10-14T13:19:41.121569Z",
          "shell.execute_reply.started": "2021-10-14T13:19:41.107557Z"
        },
        "id": "bf0dca19",
        "tags": [],
        "colab": {
          "base_uri": "https://localhost:8080/",
          "height": 173
        },
        "outputId": "9bf6e74f-68e6-47a0-ef8a-ae9ba31ea5be"
      },
      "source": [
        "df.corr(method='pearson')"
      ],
      "id": "bf0dca19",
      "execution_count": 98,
      "outputs": [
        {
          "output_type": "execute_result",
          "data": {
            "text/html": [
              "<div>\n",
              "<style scoped>\n",
              "    .dataframe tbody tr th:only-of-type {\n",
              "        vertical-align: middle;\n",
              "    }\n",
              "\n",
              "    .dataframe tbody tr th {\n",
              "        vertical-align: top;\n",
              "    }\n",
              "\n",
              "    .dataframe thead th {\n",
              "        text-align: right;\n",
              "    }\n",
              "</style>\n",
              "<table border=\"1\" class=\"dataframe\">\n",
              "  <thead>\n",
              "    <tr style=\"text-align: right;\">\n",
              "      <th></th>\n",
              "      <th>fans</th>\n",
              "      <th>formed</th>\n",
              "      <th>formed_normalizado</th>\n",
              "      <th>fans_normalizado</th>\n",
              "    </tr>\n",
              "  </thead>\n",
              "  <tbody>\n",
              "    <tr>\n",
              "      <th>fans</th>\n",
              "      <td>1.000000</td>\n",
              "      <td>-0.267575</td>\n",
              "      <td>-0.267575</td>\n",
              "      <td>1.000000</td>\n",
              "    </tr>\n",
              "    <tr>\n",
              "      <th>formed</th>\n",
              "      <td>-0.267575</td>\n",
              "      <td>1.000000</td>\n",
              "      <td>1.000000</td>\n",
              "      <td>-0.267575</td>\n",
              "    </tr>\n",
              "    <tr>\n",
              "      <th>formed_normalizado</th>\n",
              "      <td>-0.267575</td>\n",
              "      <td>1.000000</td>\n",
              "      <td>1.000000</td>\n",
              "      <td>-0.267575</td>\n",
              "    </tr>\n",
              "    <tr>\n",
              "      <th>fans_normalizado</th>\n",
              "      <td>1.000000</td>\n",
              "      <td>-0.267575</td>\n",
              "      <td>-0.267575</td>\n",
              "      <td>1.000000</td>\n",
              "    </tr>\n",
              "  </tbody>\n",
              "</table>\n",
              "</div>"
            ],
            "text/plain": [
              "                        fans    formed  formed_normalizado  fans_normalizado\n",
              "fans                1.000000 -0.267575           -0.267575          1.000000\n",
              "formed             -0.267575  1.000000            1.000000         -0.267575\n",
              "formed_normalizado -0.267575  1.000000            1.000000         -0.267575\n",
              "fans_normalizado    1.000000 -0.267575           -0.267575          1.000000"
            ]
          },
          "metadata": {},
          "execution_count": 98
        }
      ]
    },
    {
      "cell_type": "code",
      "metadata": {
        "execution": {
          "iopub.execute_input": "2021-10-14T13:19:41.123571Z",
          "iopub.status.busy": "2021-10-14T13:19:41.123571Z",
          "iopub.status.idle": "2021-10-14T13:19:41.137584Z",
          "shell.execute_reply": "2021-10-14T13:19:41.137584Z",
          "shell.execute_reply.started": "2021-10-14T13:19:41.123571Z"
        },
        "id": "18ada6a4",
        "tags": [],
        "colab": {
          "base_uri": "https://localhost:8080/",
          "height": 173
        },
        "outputId": "a0349b56-4410-44bf-ce76-a43466f96193"
      },
      "source": [
        "df.corr(method='kendall')"
      ],
      "id": "18ada6a4",
      "execution_count": 99,
      "outputs": [
        {
          "output_type": "execute_result",
          "data": {
            "text/html": [
              "<div>\n",
              "<style scoped>\n",
              "    .dataframe tbody tr th:only-of-type {\n",
              "        vertical-align: middle;\n",
              "    }\n",
              "\n",
              "    .dataframe tbody tr th {\n",
              "        vertical-align: top;\n",
              "    }\n",
              "\n",
              "    .dataframe thead th {\n",
              "        text-align: right;\n",
              "    }\n",
              "</style>\n",
              "<table border=\"1\" class=\"dataframe\">\n",
              "  <thead>\n",
              "    <tr style=\"text-align: right;\">\n",
              "      <th></th>\n",
              "      <th>fans</th>\n",
              "      <th>formed</th>\n",
              "      <th>formed_normalizado</th>\n",
              "      <th>fans_normalizado</th>\n",
              "    </tr>\n",
              "  </thead>\n",
              "  <tbody>\n",
              "    <tr>\n",
              "      <th>fans</th>\n",
              "      <td>1.000000</td>\n",
              "      <td>-0.263232</td>\n",
              "      <td>-0.263232</td>\n",
              "      <td>1.000000</td>\n",
              "    </tr>\n",
              "    <tr>\n",
              "      <th>formed</th>\n",
              "      <td>-0.263232</td>\n",
              "      <td>1.000000</td>\n",
              "      <td>1.000000</td>\n",
              "      <td>-0.263232</td>\n",
              "    </tr>\n",
              "    <tr>\n",
              "      <th>formed_normalizado</th>\n",
              "      <td>-0.263232</td>\n",
              "      <td>1.000000</td>\n",
              "      <td>1.000000</td>\n",
              "      <td>-0.263232</td>\n",
              "    </tr>\n",
              "    <tr>\n",
              "      <th>fans_normalizado</th>\n",
              "      <td>1.000000</td>\n",
              "      <td>-0.263232</td>\n",
              "      <td>-0.263232</td>\n",
              "      <td>1.000000</td>\n",
              "    </tr>\n",
              "  </tbody>\n",
              "</table>\n",
              "</div>"
            ],
            "text/plain": [
              "                        fans    formed  formed_normalizado  fans_normalizado\n",
              "fans                1.000000 -0.263232           -0.263232          1.000000\n",
              "formed             -0.263232  1.000000            1.000000         -0.263232\n",
              "formed_normalizado -0.263232  1.000000            1.000000         -0.263232\n",
              "fans_normalizado    1.000000 -0.263232           -0.263232          1.000000"
            ]
          },
          "metadata": {},
          "execution_count": 99
        }
      ]
    },
    {
      "cell_type": "code",
      "metadata": {
        "execution": {
          "iopub.execute_input": "2021-10-14T13:19:41.139585Z",
          "iopub.status.busy": "2021-10-14T13:19:41.139585Z",
          "iopub.status.idle": "2021-10-14T13:19:41.153598Z",
          "shell.execute_reply": "2021-10-14T13:19:41.153598Z",
          "shell.execute_reply.started": "2021-10-14T13:19:41.139585Z"
        },
        "id": "3ab7efa2",
        "tags": [],
        "colab": {
          "base_uri": "https://localhost:8080/",
          "height": 173
        },
        "outputId": "3b06e968-e31c-4aee-ea6f-1aadb64649be"
      },
      "source": [
        "df.corr(method='spearman')"
      ],
      "id": "3ab7efa2",
      "execution_count": 100,
      "outputs": [
        {
          "output_type": "execute_result",
          "data": {
            "text/html": [
              "<div>\n",
              "<style scoped>\n",
              "    .dataframe tbody tr th:only-of-type {\n",
              "        vertical-align: middle;\n",
              "    }\n",
              "\n",
              "    .dataframe tbody tr th {\n",
              "        vertical-align: top;\n",
              "    }\n",
              "\n",
              "    .dataframe thead th {\n",
              "        text-align: right;\n",
              "    }\n",
              "</style>\n",
              "<table border=\"1\" class=\"dataframe\">\n",
              "  <thead>\n",
              "    <tr style=\"text-align: right;\">\n",
              "      <th></th>\n",
              "      <th>fans</th>\n",
              "      <th>formed</th>\n",
              "      <th>formed_normalizado</th>\n",
              "      <th>fans_normalizado</th>\n",
              "    </tr>\n",
              "  </thead>\n",
              "  <tbody>\n",
              "    <tr>\n",
              "      <th>fans</th>\n",
              "      <td>1.000000</td>\n",
              "      <td>-0.373901</td>\n",
              "      <td>-0.373901</td>\n",
              "      <td>1.000000</td>\n",
              "    </tr>\n",
              "    <tr>\n",
              "      <th>formed</th>\n",
              "      <td>-0.373901</td>\n",
              "      <td>1.000000</td>\n",
              "      <td>1.000000</td>\n",
              "      <td>-0.373901</td>\n",
              "    </tr>\n",
              "    <tr>\n",
              "      <th>formed_normalizado</th>\n",
              "      <td>-0.373901</td>\n",
              "      <td>1.000000</td>\n",
              "      <td>1.000000</td>\n",
              "      <td>-0.373901</td>\n",
              "    </tr>\n",
              "    <tr>\n",
              "      <th>fans_normalizado</th>\n",
              "      <td>1.000000</td>\n",
              "      <td>-0.373901</td>\n",
              "      <td>-0.373901</td>\n",
              "      <td>1.000000</td>\n",
              "    </tr>\n",
              "  </tbody>\n",
              "</table>\n",
              "</div>"
            ],
            "text/plain": [
              "                        fans    formed  formed_normalizado  fans_normalizado\n",
              "fans                1.000000 -0.373901           -0.373901          1.000000\n",
              "formed             -0.373901  1.000000            1.000000         -0.373901\n",
              "formed_normalizado -0.373901  1.000000            1.000000         -0.373901\n",
              "fans_normalizado    1.000000 -0.373901           -0.373901          1.000000"
            ]
          },
          "metadata": {},
          "execution_count": 100
        }
      ]
    },
    {
      "cell_type": "markdown",
      "metadata": {
        "id": "8f64f0fa"
      },
      "source": [
        "# Visualização de dados"
      ],
      "id": "8f64f0fa"
    },
    {
      "cell_type": "markdown",
      "metadata": {
        "id": "uLGzU6dGPZ-6"
      },
      "source": [
        "## Relação de formação de bandas por ano"
      ],
      "id": "uLGzU6dGPZ-6"
    },
    {
      "cell_type": "code",
      "metadata": {
        "id": "4qTKE_O6giBo"
      },
      "source": [
        "df_bands_by_year = df.sort_values(by='formed', ascending=True)"
      ],
      "id": "4qTKE_O6giBo",
      "execution_count": 207,
      "outputs": []
    },
    {
      "cell_type": "code",
      "metadata": {
        "colab": {
          "base_uri": "https://localhost:8080/"
        },
        "id": "eTP7FCYfgWoX",
        "outputId": "411dbab5-2f78-4092-b9d2-844f4626be95"
      },
      "source": [
        "print(f\"\\nNeste dataset, foram contabilizadas bandas de {len(df_bands_by_year['formed'].unique())} anos diferentes entre os anos de {df_bands_by_year['formed'].iloc[0]} e {df_bands_by_year['formed'].iloc[-1]}.\\n\")"
      ],
      "id": "eTP7FCYfgWoX",
      "execution_count": 208,
      "outputs": [
        {
          "output_type": "stream",
          "name": "stdout",
          "text": [
            "\n",
            "Neste dataset, foram contabilizadas bandas de 52 anos diferentes entre os anos de 1964 e 2016.\n",
            "\n"
          ]
        }
      ]
    },
    {
      "cell_type": "markdown",
      "metadata": {
        "id": "CruFogFTfUFk"
      },
      "source": [
        "### Bandas"
      ],
      "id": "CruFogFTfUFk"
    },
    {
      "cell_type": "code",
      "metadata": {
        "colab": {
          "base_uri": "https://localhost:8080/",
          "height": 204
        },
        "id": "ABrakQHXYnqs",
        "outputId": "db823136-64a9-44a2-8192-889ab293374e"
      },
      "source": [
        "df_bands_by_year.head()"
      ],
      "id": "ABrakQHXYnqs",
      "execution_count": 173,
      "outputs": [
        {
          "output_type": "execute_result",
          "data": {
            "text/html": [
              "<div>\n",
              "<style scoped>\n",
              "    .dataframe tbody tr th:only-of-type {\n",
              "        vertical-align: middle;\n",
              "    }\n",
              "\n",
              "    .dataframe tbody tr th {\n",
              "        vertical-align: top;\n",
              "    }\n",
              "\n",
              "    .dataframe thead th {\n",
              "        text-align: right;\n",
              "    }\n",
              "</style>\n",
              "<table border=\"1\" class=\"dataframe\">\n",
              "  <thead>\n",
              "    <tr style=\"text-align: right;\">\n",
              "      <th></th>\n",
              "      <th>band_name</th>\n",
              "      <th>fans</th>\n",
              "      <th>formed</th>\n",
              "      <th>origin</th>\n",
              "      <th>split</th>\n",
              "      <th>style</th>\n",
              "      <th>main_style</th>\n",
              "      <th>secondary_style</th>\n",
              "      <th>country</th>\n",
              "      <th>iso3</th>\n",
              "      <th>formed_normalizado</th>\n",
              "      <th>fans_normalizado</th>\n",
              "    </tr>\n",
              "  </thead>\n",
              "  <tbody>\n",
              "    <tr>\n",
              "      <th>256</th>\n",
              "      <td>Alice Cooper</td>\n",
              "      <td>362</td>\n",
              "      <td>1964</td>\n",
              "      <td>USA</td>\n",
              "      <td>-</td>\n",
              "      <td>Hard rock,Glam rock,New,Wave ,Heavy</td>\n",
              "      <td>Hard rock</td>\n",
              "      <td>Glam rock</td>\n",
              "      <td>USA</td>\n",
              "      <td>USA</td>\n",
              "      <td>0.000000</td>\n",
              "      <td>9.486486</td>\n",
              "    </tr>\n",
              "    <tr>\n",
              "      <th>197</th>\n",
              "      <td>Scorpions</td>\n",
              "      <td>519</td>\n",
              "      <td>1965</td>\n",
              "      <td>Germany</td>\n",
              "      <td>1965</td>\n",
              "      <td>Progressive rock,Hard rock,Heavy</td>\n",
              "      <td>Progressive rock</td>\n",
              "      <td>Hard rock</td>\n",
              "      <td>Germany</td>\n",
              "      <td>DEU</td>\n",
              "      <td>0.019231</td>\n",
              "      <td>13.729730</td>\n",
              "    </tr>\n",
              "    <tr>\n",
              "      <th>1669</th>\n",
              "      <td>Elf</td>\n",
              "      <td>26</td>\n",
              "      <td>1967</td>\n",
              "      <td>USA</td>\n",
              "      <td>1967</td>\n",
              "      <td>Blues rock,Hard rock</td>\n",
              "      <td>Blues rock</td>\n",
              "      <td>Hard rock</td>\n",
              "      <td>USA</td>\n",
              "      <td>USA</td>\n",
              "      <td>0.057692</td>\n",
              "      <td>0.405405</td>\n",
              "    </tr>\n",
              "    <tr>\n",
              "      <th>609</th>\n",
              "      <td>Blue Öyster Cult</td>\n",
              "      <td>118</td>\n",
              "      <td>1967</td>\n",
              "      <td>USA</td>\n",
              "      <td>1967</td>\n",
              "      <td>Hard rock</td>\n",
              "      <td>Hard rock</td>\n",
              "      <td>&lt;NA&gt;</td>\n",
              "      <td>USA</td>\n",
              "      <td>USA</td>\n",
              "      <td>0.057692</td>\n",
              "      <td>2.891892</td>\n",
              "    </tr>\n",
              "    <tr>\n",
              "      <th>1314</th>\n",
              "      <td>Budgie</td>\n",
              "      <td>39</td>\n",
              "      <td>1967</td>\n",
              "      <td>United Kingdom</td>\n",
              "      <td>-</td>\n",
              "      <td>Hard rock,Heavy,Progressive rock</td>\n",
              "      <td>Hard rock</td>\n",
              "      <td>Heavy</td>\n",
              "      <td>United Kingdom</td>\n",
              "      <td>GBR</td>\n",
              "      <td>0.057692</td>\n",
              "      <td>0.756757</td>\n",
              "    </tr>\n",
              "  </tbody>\n",
              "</table>\n",
              "</div>"
            ],
            "text/plain": [
              "             band_name  fans  formed  ... iso3 formed_normalizado fans_normalizado\n",
              "256       Alice Cooper   362    1964  ...  USA           0.000000         9.486486\n",
              "197          Scorpions   519    1965  ...  DEU           0.019231        13.729730\n",
              "1669               Elf    26    1967  ...  USA           0.057692         0.405405\n",
              "609   Blue Öyster Cult   118    1967  ...  USA           0.057692         2.891892\n",
              "1314            Budgie    39    1967  ...  GBR           0.057692         0.756757\n",
              "\n",
              "[5 rows x 12 columns]"
            ]
          },
          "metadata": {},
          "execution_count": 173
        }
      ]
    },
    {
      "cell_type": "code",
      "metadata": {
        "colab": {
          "base_uri": "https://localhost:8080/",
          "height": 591
        },
        "id": "LUkqyBQV1eLH",
        "outputId": "9f986993-2d0a-446b-c8d6-53460a735435"
      },
      "source": [
        "violinplot_bands_formed_by_year = sns.violinplot(data=df_bands_by_year, y='formed')\n",
        "violinplot_bands_formed_by_year.set(ylabel='Ano de formação')\n",
        "violinplot_bands_formed_by_year.set_title(\"Relação de formação de bandas por ano\")\n",
        "plt.show()"
      ],
      "id": "LUkqyBQV1eLH",
      "execution_count": 267,
      "outputs": [
        {
          "output_type": "display_data",
          "data": {
            "image/png": "[encoded data removed]",
            "text/plain": [
              "<Figure size 1440x720 with 1 Axes>"
            ]
          },
          "metadata": {}
        }
      ]
    },
    {
      "cell_type": "code",
      "metadata": {
        "colab": {
          "base_uri": "https://localhost:8080/",
          "height": 591
        },
        "id": "MIDWc2sgLmtC",
        "outputId": "85fe2bce-c5ae-4e26-ebe8-f13a257f2b9b"
      },
      "source": [
        "violinplot_bands_by_year = sns.violinplot(data=df_split, y='split')\n",
        "violinplot_bands_by_year.set(ylabel='Ano de separação')\n",
        "violinplot_bands_by_year.set_title(\"Relação de separação de bandas por ano\")\n",
        "plt.show()"
      ],
      "id": "MIDWc2sgLmtC",
      "execution_count": 268,
      "outputs": [
        {
          "output_type": "display_data",
          "data": {
            "image/png": "[encoded data removed]",
            "text/plain": [
              "<Figure size 1440x720 with 1 Axes>"
            ]
          },
          "metadata": {}
        }
      ]
    },
    {
      "cell_type": "code",
      "metadata": {
        "colab": {
          "base_uri": "https://localhost:8080/",
          "height": 204
        },
        "id": "hymd4z6lUIJT",
        "outputId": "faeba7b1-6a82-493e-db73-767c86e2b78e"
      },
      "source": [
        "style_df.head()"
      ],
      "id": "hymd4z6lUIJT",
      "execution_count": 289,
      "outputs": [
        {
          "output_type": "execute_result",
          "data": {
            "text/html": [
              "<div>\n",
              "<style scoped>\n",
              "    .dataframe tbody tr th:only-of-type {\n",
              "        vertical-align: middle;\n",
              "    }\n",
              "\n",
              "    .dataframe tbody tr th {\n",
              "        vertical-align: top;\n",
              "    }\n",
              "\n",
              "    .dataframe thead th {\n",
              "        text-align: right;\n",
              "    }\n",
              "</style>\n",
              "<table border=\"1\" class=\"dataframe\">\n",
              "  <thead>\n",
              "    <tr style=\"text-align: right;\">\n",
              "      <th></th>\n",
              "      <th>Style</th>\n",
              "      <th>Pure</th>\n",
              "      <th>Mixed</th>\n",
              "    </tr>\n",
              "  </thead>\n",
              "  <tbody>\n",
              "    <tr>\n",
              "      <th>51</th>\n",
              "      <td>Thrash</td>\n",
              "      <td>129.0</td>\n",
              "      <td>168</td>\n",
              "    </tr>\n",
              "    <tr>\n",
              "      <th>3</th>\n",
              "      <td>Death</td>\n",
              "      <td>249.0</td>\n",
              "      <td>128</td>\n",
              "    </tr>\n",
              "    <tr>\n",
              "      <th>43</th>\n",
              "      <td>Doom</td>\n",
              "      <td>94.0</td>\n",
              "      <td>117</td>\n",
              "    </tr>\n",
              "    <tr>\n",
              "      <th>0</th>\n",
              "      <td>Heavy</td>\n",
              "      <td>178.0</td>\n",
              "      <td>114</td>\n",
              "    </tr>\n",
              "    <tr>\n",
              "      <th>13</th>\n",
              "      <td>Power</td>\n",
              "      <td>146.0</td>\n",
              "      <td>106</td>\n",
              "    </tr>\n",
              "  </tbody>\n",
              "</table>\n",
              "</div>"
            ],
            "text/plain": [
              "     Style   Pure  Mixed\n",
              "51  Thrash  129.0    168\n",
              "3    Death  249.0    128\n",
              "43    Doom   94.0    117\n",
              "0    Heavy  178.0    114\n",
              "13   Power  146.0    106"
            ]
          },
          "metadata": {},
          "execution_count": 289
        }
      ]
    },
    {
      "cell_type": "code",
      "metadata": {
        "colab": {
          "base_uri": "https://localhost:8080/"
        },
        "id": "0hleVseSUSeZ",
        "outputId": "5f64db8b-13df-4ffd-f00c-9f8873ab619e"
      },
      "source": [
        "df_non_split_count.head()"
      ],
      "id": "0hleVseSUSeZ",
      "execution_count": 291,
      "outputs": [
        {
          "output_type": "execute_result",
          "data": {
            "text/plain": [
              "2006    124\n",
              "2007    119\n",
              "2005    107\n",
              "2003    102\n",
              "2004     98\n",
              "Name: formed, dtype: int64"
            ]
          },
          "metadata": {},
          "execution_count": 291
        }
      ]
    },
    {
      "cell_type": "code",
      "metadata": {
        "id": "2SJArcQRWfEj"
      },
      "source": [
        "df_active_splitted_bands = pd.DataFrame(columns=[\"year\", \"active\", \"splitted\"])\n",
        "df_active_splitted_bands[\"year\"] = df[\"formed\"].unique()\n",
        "\n",
        "df_active_splitted_bands[\"active\"] = df_active_splitted_bands[\"year\"].map(df_non_split_count.to_dict())\n",
        "df_active_splitted_bands[\"splitted\"] = df_active_splitted_bands[\"year\"].map(df_split_count.to_dict())\n",
        "df_active_splitted_bands = df_active_splitted_bands.sort_values(by='year', ascending=True)"
      ],
      "id": "2SJArcQRWfEj",
      "execution_count": null,
      "outputs": []
    },
    {
      "cell_type": "code",
      "metadata": {
        "colab": {
          "base_uri": "https://localhost:8080/",
          "height": 645
        },
        "id": "lXJ6Xt4ScclD",
        "outputId": "40969e9c-1a75-4cad-e185-90abe562c275"
      },
      "source": [
        "ax = df_active_splitted_bands[['active', 'splitted']].plot(kind='bar', color=['#DD2763', '#74BBA4'])\n",
        "ax.set_xticklabels(df_active_splitted_bands['year'], rotation=90)\n",
        "plt.title('Relação entre quantidade de bandas que se separaram e bandas que estão ativas')\n",
        "splitted_legend = mpatches.Patch(color='#DD2763', label='Bandas separadas')\n",
        "active_legend = mpatches.Patch(color='#74BBA4', label='Bandas ativas')\n",
        "plt.legend(handles=[splitted_legend, active_legend])\n",
        "plt.figure(figsize=(20,10))\n",
        "\n",
        "sns.set(rc={'figure.figsize':(20, 10)})\n",
        "sns.set(font_scale=1)"
      ],
      "id": "lXJ6Xt4ScclD",
      "execution_count": 340,
      "outputs": [
        {
          "output_type": "display_data",
          "data": {
            "image/png": "[encoded data removed]",
            "text/plain": [
              "<Figure size 1440x720 with 1 Axes>"
            ]
          },
          "metadata": {}
        },
        {
          "output_type": "display_data",
          "data": {
            "text/plain": [
              "<Figure size 1440x720 with 0 Axes>"
            ]
          },
          "metadata": {}
        }
      ]
    },
    {
      "cell_type": "markdown",
      "metadata": {
        "id": "aXVo3m-KPgO0"
      },
      "source": [
        "### Fãs"
      ],
      "id": "aXVo3m-KPgO0"
    },
    {
      "cell_type": "code",
      "metadata": {
        "colab": {
          "base_uri": "https://localhost:8080/",
          "height": 1000
        },
        "id": "CIZYTTISwdfg",
        "outputId": "40d4450a-f0f3-4de7-8ee2-7b063a80d9dc"
      },
      "source": [
        "df_fans_by_year = df[['formed', 'fans']].groupby('formed').sum().reset_index().sort_values('formed', ascending=True)\n",
        "df_fans_by_year"
      ],
      "id": "CIZYTTISwdfg",
      "execution_count": 257,
      "outputs": [
        {
          "output_type": "execute_result",
          "data": {
            "text/html": [
              "<div>\n",
              "<style scoped>\n",
              "    .dataframe tbody tr th:only-of-type {\n",
              "        vertical-align: middle;\n",
              "    }\n",
              "\n",
              "    .dataframe tbody tr th {\n",
              "        vertical-align: top;\n",
              "    }\n",
              "\n",
              "    .dataframe thead th {\n",
              "        text-align: right;\n",
              "    }\n",
              "</style>\n",
              "<table border=\"1\" class=\"dataframe\">\n",
              "  <thead>\n",
              "    <tr style=\"text-align: right;\">\n",
              "      <th></th>\n",
              "      <th>formed</th>\n",
              "      <th>fans</th>\n",
              "    </tr>\n",
              "  </thead>\n",
              "  <tbody>\n",
              "    <tr>\n",
              "      <th>0</th>\n",
              "      <td>1964</td>\n",
              "      <td>362</td>\n",
              "    </tr>\n",
              "    <tr>\n",
              "      <th>1</th>\n",
              "      <td>1965</td>\n",
              "      <td>519</td>\n",
              "    </tr>\n",
              "    <tr>\n",
              "      <th>2</th>\n",
              "      <td>1967</td>\n",
              "      <td>183</td>\n",
              "    </tr>\n",
              "    <tr>\n",
              "      <th>3</th>\n",
              "      <td>1968</td>\n",
              "      <td>5456</td>\n",
              "    </tr>\n",
              "    <tr>\n",
              "      <th>4</th>\n",
              "      <td>1969</td>\n",
              "      <td>2811</td>\n",
              "    </tr>\n",
              "    <tr>\n",
              "      <th>5</th>\n",
              "      <td>1970</td>\n",
              "      <td>64</td>\n",
              "    </tr>\n",
              "    <tr>\n",
              "      <th>6</th>\n",
              "      <td>1971</td>\n",
              "      <td>124</td>\n",
              "    </tr>\n",
              "    <tr>\n",
              "      <th>7</th>\n",
              "      <td>1972</td>\n",
              "      <td>844</td>\n",
              "    </tr>\n",
              "    <tr>\n",
              "      <th>8</th>\n",
              "      <td>1973</td>\n",
              "      <td>985</td>\n",
              "    </tr>\n",
              "    <tr>\n",
              "      <th>9</th>\n",
              "      <td>1974</td>\n",
              "      <td>74</td>\n",
              "    </tr>\n",
              "    <tr>\n",
              "      <th>10</th>\n",
              "      <td>1975</td>\n",
              "      <td>5612</td>\n",
              "    </tr>\n",
              "    <tr>\n",
              "      <th>11</th>\n",
              "      <td>1976</td>\n",
              "      <td>1140</td>\n",
              "    </tr>\n",
              "    <tr>\n",
              "      <th>12</th>\n",
              "      <td>1977</td>\n",
              "      <td>511</td>\n",
              "    </tr>\n",
              "    <tr>\n",
              "      <th>13</th>\n",
              "      <td>1978</td>\n",
              "      <td>2818</td>\n",
              "    </tr>\n",
              "    <tr>\n",
              "      <th>14</th>\n",
              "      <td>1979</td>\n",
              "      <td>2241</td>\n",
              "    </tr>\n",
              "    <tr>\n",
              "      <th>15</th>\n",
              "      <td>1980</td>\n",
              "      <td>4407</td>\n",
              "    </tr>\n",
              "    <tr>\n",
              "      <th>16</th>\n",
              "      <td>1981</td>\n",
              "      <td>12549</td>\n",
              "    </tr>\n",
              "    <tr>\n",
              "      <th>17</th>\n",
              "      <td>1982</td>\n",
              "      <td>7065</td>\n",
              "    </tr>\n",
              "    <tr>\n",
              "      <th>18</th>\n",
              "      <td>1983</td>\n",
              "      <td>10785</td>\n",
              "    </tr>\n",
              "    <tr>\n",
              "      <th>19</th>\n",
              "      <td>1984</td>\n",
              "      <td>10443</td>\n",
              "    </tr>\n",
              "    <tr>\n",
              "      <th>20</th>\n",
              "      <td>1985</td>\n",
              "      <td>9736</td>\n",
              "    </tr>\n",
              "    <tr>\n",
              "      <th>21</th>\n",
              "      <td>1986</td>\n",
              "      <td>3708</td>\n",
              "    </tr>\n",
              "    <tr>\n",
              "      <th>22</th>\n",
              "      <td>1987</td>\n",
              "      <td>8603</td>\n",
              "    </tr>\n",
              "    <tr>\n",
              "      <th>23</th>\n",
              "      <td>1988</td>\n",
              "      <td>12202</td>\n",
              "    </tr>\n",
              "    <tr>\n",
              "      <th>24</th>\n",
              "      <td>1989</td>\n",
              "      <td>12939</td>\n",
              "    </tr>\n",
              "    <tr>\n",
              "      <th>25</th>\n",
              "      <td>1990</td>\n",
              "      <td>21481</td>\n",
              "    </tr>\n",
              "    <tr>\n",
              "      <th>26</th>\n",
              "      <td>1991</td>\n",
              "      <td>17512</td>\n",
              "    </tr>\n",
              "    <tr>\n",
              "      <th>27</th>\n",
              "      <td>1992</td>\n",
              "      <td>8217</td>\n",
              "    </tr>\n",
              "    <tr>\n",
              "      <th>28</th>\n",
              "      <td>1993</td>\n",
              "      <td>14631</td>\n",
              "    </tr>\n",
              "    <tr>\n",
              "      <th>29</th>\n",
              "      <td>1994</td>\n",
              "      <td>11313</td>\n",
              "    </tr>\n",
              "    <tr>\n",
              "      <th>30</th>\n",
              "      <td>1995</td>\n",
              "      <td>16719</td>\n",
              "    </tr>\n",
              "    <tr>\n",
              "      <th>31</th>\n",
              "      <td>1996</td>\n",
              "      <td>17819</td>\n",
              "    </tr>\n",
              "    <tr>\n",
              "      <th>32</th>\n",
              "      <td>1997</td>\n",
              "      <td>10053</td>\n",
              "    </tr>\n",
              "    <tr>\n",
              "      <th>33</th>\n",
              "      <td>1998</td>\n",
              "      <td>11729</td>\n",
              "    </tr>\n",
              "    <tr>\n",
              "      <th>34</th>\n",
              "      <td>1999</td>\n",
              "      <td>13333</td>\n",
              "    </tr>\n",
              "    <tr>\n",
              "      <th>35</th>\n",
              "      <td>2000</td>\n",
              "      <td>10703</td>\n",
              "    </tr>\n",
              "    <tr>\n",
              "      <th>36</th>\n",
              "      <td>2001</td>\n",
              "      <td>9734</td>\n",
              "    </tr>\n",
              "    <tr>\n",
              "      <th>37</th>\n",
              "      <td>2002</td>\n",
              "      <td>10495</td>\n",
              "    </tr>\n",
              "    <tr>\n",
              "      <th>38</th>\n",
              "      <td>2003</td>\n",
              "      <td>9642</td>\n",
              "    </tr>\n",
              "    <tr>\n",
              "      <th>39</th>\n",
              "      <td>2004</td>\n",
              "      <td>11778</td>\n",
              "    </tr>\n",
              "    <tr>\n",
              "      <th>40</th>\n",
              "      <td>2005</td>\n",
              "      <td>8284</td>\n",
              "    </tr>\n",
              "    <tr>\n",
              "      <th>41</th>\n",
              "      <td>2006</td>\n",
              "      <td>6032</td>\n",
              "    </tr>\n",
              "    <tr>\n",
              "      <th>42</th>\n",
              "      <td>2007</td>\n",
              "      <td>6593</td>\n",
              "    </tr>\n",
              "    <tr>\n",
              "      <th>43</th>\n",
              "      <td>2008</td>\n",
              "      <td>4361</td>\n",
              "    </tr>\n",
              "    <tr>\n",
              "      <th>44</th>\n",
              "      <td>2009</td>\n",
              "      <td>3155</td>\n",
              "    </tr>\n",
              "    <tr>\n",
              "      <th>45</th>\n",
              "      <td>2010</td>\n",
              "      <td>2634</td>\n",
              "    </tr>\n",
              "    <tr>\n",
              "      <th>46</th>\n",
              "      <td>2011</td>\n",
              "      <td>1841</td>\n",
              "    </tr>\n",
              "    <tr>\n",
              "      <th>47</th>\n",
              "      <td>2012</td>\n",
              "      <td>1123</td>\n",
              "    </tr>\n",
              "    <tr>\n",
              "      <th>48</th>\n",
              "      <td>2013</td>\n",
              "      <td>1343</td>\n",
              "    </tr>\n",
              "    <tr>\n",
              "      <th>49</th>\n",
              "      <td>2014</td>\n",
              "      <td>693</td>\n",
              "    </tr>\n",
              "    <tr>\n",
              "      <th>50</th>\n",
              "      <td>2015</td>\n",
              "      <td>371</td>\n",
              "    </tr>\n",
              "    <tr>\n",
              "      <th>51</th>\n",
              "      <td>2016</td>\n",
              "      <td>48</td>\n",
              "    </tr>\n",
              "  </tbody>\n",
              "</table>\n",
              "</div>"
            ],
            "text/plain": [
              "    formed   fans\n",
              "0     1964    362\n",
              "1     1965    519\n",
              "2     1967    183\n",
              "3     1968   5456\n",
              "4     1969   2811\n",
              "5     1970     64\n",
              "6     1971    124\n",
              "7     1972    844\n",
              "8     1973    985\n",
              "9     1974     74\n",
              "10    1975   5612\n",
              "11    1976   1140\n",
              "12    1977    511\n",
              "13    1978   2818\n",
              "14    1979   2241\n",
              "15    1980   4407\n",
              "16    1981  12549\n",
              "17    1982   7065\n",
              "18    1983  10785\n",
              "19    1984  10443\n",
              "20    1985   9736\n",
              "21    1986   3708\n",
              "22    1987   8603\n",
              "23    1988  12202\n",
              "24    1989  12939\n",
              "25    1990  21481\n",
              "26    1991  17512\n",
              "27    1992   8217\n",
              "28    1993  14631\n",
              "29    1994  11313\n",
              "30    1995  16719\n",
              "31    1996  17819\n",
              "32    1997  10053\n",
              "33    1998  11729\n",
              "34    1999  13333\n",
              "35    2000  10703\n",
              "36    2001   9734\n",
              "37    2002  10495\n",
              "38    2003   9642\n",
              "39    2004  11778\n",
              "40    2005   8284\n",
              "41    2006   6032\n",
              "42    2007   6593\n",
              "43    2008   4361\n",
              "44    2009   3155\n",
              "45    2010   2634\n",
              "46    2011   1841\n",
              "47    2012   1123\n",
              "48    2013   1343\n",
              "49    2014    693\n",
              "50    2015    371\n",
              "51    2016     48"
            ]
          },
          "metadata": {},
          "execution_count": 257
        }
      ]
    },
    {
      "cell_type": "code",
      "metadata": {
        "colab": {
          "base_uri": "https://localhost:8080/",
          "height": 629
        },
        "id": "wqTatha3F96r",
        "outputId": "48177dbe-b4f1-4669-960b-c5daea50657f"
      },
      "source": [
        "barplot_fans_by_style = sns.barplot(data=df_fans_by_year, x='formed', y='fans')\n",
        "barplot_fans_by_style.set(xlabel='Ano', ylabel='Quantidade de fãs')\n",
        "sns.set(font_scale = 1)\n",
        "plt.xticks(rotation=90)\n",
        "plt.show()"
      ],
      "id": "wqTatha3F96r",
      "execution_count": 255,
      "outputs": [
        {
          "output_type": "display_data",
          "data": {
            "image/png": "[encoded data removed]",
            "text/plain": [
              "<Figure size 1440x720 with 1 Axes>"
            ]
          },
          "metadata": {}
        }
      ]
    },
    {
      "cell_type": "markdown",
      "metadata": {
        "id": "2ERy9sWxKxyW"
      },
      "source": [
        "### Bônus\n",
        "\n",
        "\n",
        "Ao observar os gráficos podemos ver que:\n",
        "\n",
        "\n",
        "1. Os períodos de **2000 até 2010**, seguido de **1990 até 2000**, foram os que mais bandas foram formadas e separadas.\n",
        "2. **2005** foi o ano mais bandas formadas.\n",
        "3. **2007** foi o ano com mais bandas separadas.\n",
        "4. **1990, 1996, 1991 e 1995** foram os anos de formação de bandas com maior quantidade de fãs de Metal, enquanto **1967, 1970, 1974 e 2016** bandas com menor quantidade de fãs.\n",
        "\n",
        "Para conhecer um pouco mais sobre essas bandas, selecionamos algumas nesses períodos."
      ],
      "id": "2ERy9sWxKxyW"
    },
    {
      "cell_type": "code",
      "metadata": {
        "colab": {
          "base_uri": "https://localhost:8080/",
          "height": 80
        },
        "id": "M-Wkb2tUh0wk",
        "outputId": "6ede867f-d5dc-446f-fd89-cd095f98e6f0"
      },
      "source": [
        "# Banda com maior quantidade de fãs formada período de 1990, 1996, 1991 e 1995\n",
        "df_period_max_fans = df[df[\"formed\"].isin([\"1990\", \"1996\", \"1991\", \"1995\"])]\n",
        "df_period_max_fans = df_period_max_fans[df_period_max_fans['fans']==df_period_max_fans['fans'].max()].sort_values('formed', ascending=True)\n",
        "df_period_max_fans.head(1)[[\"band_name\", \"fans\", \"formed\", \"main_style\", \"country\"]]"
      ],
      "id": "M-Wkb2tUh0wk",
      "execution_count": 380,
      "outputs": [
        {
          "output_type": "execute_result",
          "data": {
            "text/html": [
              "<div>\n",
              "<style scoped>\n",
              "    .dataframe tbody tr th:only-of-type {\n",
              "        vertical-align: middle;\n",
              "    }\n",
              "\n",
              "    .dataframe tbody tr th {\n",
              "        vertical-align: top;\n",
              "    }\n",
              "\n",
              "    .dataframe thead th {\n",
              "        text-align: right;\n",
              "    }\n",
              "</style>\n",
              "<table border=\"1\" class=\"dataframe\">\n",
              "  <thead>\n",
              "    <tr style=\"text-align: right;\">\n",
              "      <th></th>\n",
              "      <th>band_name</th>\n",
              "      <th>fans</th>\n",
              "      <th>formed</th>\n",
              "      <th>main_style</th>\n",
              "      <th>country</th>\n",
              "    </tr>\n",
              "  </thead>\n",
              "  <tbody>\n",
              "    <tr>\n",
              "      <th>1</th>\n",
              "      <td>Opeth</td>\n",
              "      <td>4147</td>\n",
              "      <td>1990</td>\n",
              "      <td>Extreme progressive</td>\n",
              "      <td>Sweden</td>\n",
              "    </tr>\n",
              "  </tbody>\n",
              "</table>\n",
              "</div>"
            ],
            "text/plain": [
              "  band_name  fans  formed           main_style country\n",
              "1     Opeth  4147    1990  Extreme progressive  Sweden"
            ]
          },
          "metadata": {},
          "execution_count": 380
        }
      ]
    },
    {
      "cell_type": "code",
      "metadata": {
        "colab": {
          "base_uri": "https://localhost:8080/",
          "height": 336
        },
        "id": "nev7pr3GmEqC",
        "outputId": "0177e41d-d0e4-4b0b-fb21-f8ead651d273"
      },
      "source": [
        "HTML('<iframe width=\"560\" height=\"315\" src=\"https://www.youtube.com/embed/bSpqLqC7U6g\" frameborder=\"0\" allowfullscreen></iframe>')"
      ],
      "id": "nev7pr3GmEqC",
      "execution_count": 384,
      "outputs": [
        {
          "output_type": "execute_result",
          "data": {
            "text/html": [
              "<iframe width=\"560\" height=\"315\" src=\"https://www.youtube.com/embed/bSpqLqC7U6g\" frameborder=\"0\" allowfullscreen></iframe>"
            ],
            "text/plain": [
              "<IPython.core.display.HTML object>"
            ]
          },
          "metadata": {},
          "execution_count": 384
        }
      ]
    },
    {
      "cell_type": "code",
      "metadata": {
        "colab": {
          "base_uri": "https://localhost:8080/",
          "height": 80
        },
        "id": "xZMyl2ValHDL",
        "outputId": "4b5715db-14ff-4767-e95f-a8c3dcbcc9ca"
      },
      "source": [
        "# Banda com menor quantidade de fãs formada período de 1967, 1970, 1974 e 2016\n",
        "df_period_min_fans = df[df[\"formed\"].isin([\"1967\", \"1970\", \"1974\", \"2016\"])]\n",
        "df_period_min_fans = df_period_min_fans[df_period_min_fans['fans']==df_period_min_fans['fans'].max()].sort_values('formed', ascending=True)\n",
        "df_period_min_fans.head(1)[[\"band_name\", \"fans\", \"formed\", \"main_style\", \"country\"]]"
      ],
      "id": "xZMyl2ValHDL",
      "execution_count": 381,
      "outputs": [
        {
          "output_type": "execute_result",
          "data": {
            "text/html": [
              "<div>\n",
              "<style scoped>\n",
              "    .dataframe tbody tr th:only-of-type {\n",
              "        vertical-align: middle;\n",
              "    }\n",
              "\n",
              "    .dataframe tbody tr th {\n",
              "        vertical-align: top;\n",
              "    }\n",
              "\n",
              "    .dataframe thead th {\n",
              "        text-align: right;\n",
              "    }\n",
              "</style>\n",
              "<table border=\"1\" class=\"dataframe\">\n",
              "  <thead>\n",
              "    <tr style=\"text-align: right;\">\n",
              "      <th></th>\n",
              "      <th>band_name</th>\n",
              "      <th>fans</th>\n",
              "      <th>formed</th>\n",
              "      <th>main_style</th>\n",
              "      <th>country</th>\n",
              "    </tr>\n",
              "  </thead>\n",
              "  <tbody>\n",
              "    <tr>\n",
              "      <th>609</th>\n",
              "      <td>Blue Öyster Cult</td>\n",
              "      <td>118</td>\n",
              "      <td>1967</td>\n",
              "      <td>Hard rock</td>\n",
              "      <td>USA</td>\n",
              "    </tr>\n",
              "  </tbody>\n",
              "</table>\n",
              "</div>"
            ],
            "text/plain": [
              "            band_name  fans  formed main_style country\n",
              "609  Blue Öyster Cult   118    1967  Hard rock     USA"
            ]
          },
          "metadata": {},
          "execution_count": 381
        }
      ]
    },
    {
      "cell_type": "code",
      "metadata": {
        "colab": {
          "base_uri": "https://localhost:8080/",
          "height": 336
        },
        "id": "EzR2V6JDmySW",
        "outputId": "45455d8c-3c02-41aa-a355-fc79d7655185"
      },
      "source": [
        "HTML('<iframe width=\"560\" height=\"315\" src=\"https://www.youtube.com/embed/Dy4HA3vUv2c\" frameborder=\"0\" allowfullscreen></iframe>')"
      ],
      "id": "EzR2V6JDmySW",
      "execution_count": 385,
      "outputs": [
        {
          "output_type": "execute_result",
          "data": {
            "text/html": [
              "<iframe width=\"560\" height=\"315\" src=\"https://www.youtube.com/embed/Dy4HA3vUv2c\" frameborder=\"0\" allowfullscreen></iframe>"
            ],
            "text/plain": [
              "<IPython.core.display.HTML object>"
            ]
          },
          "metadata": {},
          "execution_count": 385
        }
      ]
    },
    {
      "cell_type": "code",
      "metadata": {
        "colab": {
          "base_uri": "https://localhost:8080/",
          "height": 80
        },
        "id": "Pf2f7fN7lHNt",
        "outputId": "fa97ba18-c052-4fbc-e578-901d5bb972df"
      },
      "source": [
        "# Banda mais antiga e ainda ativa com menor quantidade de fãs\n",
        "df_min_fans = df_non_split[df_non_split['fans']==df_non_split['fans'].min()].sort_values('formed', ascending=True)\n",
        "df_min_fans.head(1)[[\"band_name\", \"fans\", \"formed\", \"main_style\", \"country\"]]"
      ],
      "id": "Pf2f7fN7lHNt",
      "execution_count": 388,
      "outputs": [
        {
          "output_type": "execute_result",
          "data": {
            "text/html": [
              "<div>\n",
              "<style scoped>\n",
              "    .dataframe tbody tr th:only-of-type {\n",
              "        vertical-align: middle;\n",
              "    }\n",
              "\n",
              "    .dataframe tbody tr th {\n",
              "        vertical-align: top;\n",
              "    }\n",
              "\n",
              "    .dataframe thead th {\n",
              "        text-align: right;\n",
              "    }\n",
              "</style>\n",
              "<table border=\"1\" class=\"dataframe\">\n",
              "  <thead>\n",
              "    <tr style=\"text-align: right;\">\n",
              "      <th></th>\n",
              "      <th>band_name</th>\n",
              "      <th>fans</th>\n",
              "      <th>formed</th>\n",
              "      <th>main_style</th>\n",
              "      <th>country</th>\n",
              "    </tr>\n",
              "  </thead>\n",
              "  <tbody>\n",
              "    <tr>\n",
              "      <th>4992</th>\n",
              "      <td>Arrest</td>\n",
              "      <td>0</td>\n",
              "      <td>1992</td>\n",
              "      <td>Hard rock</td>\n",
              "      <td>Germany</td>\n",
              "    </tr>\n",
              "  </tbody>\n",
              "</table>\n",
              "</div>"
            ],
            "text/plain": [
              "     band_name  fans  formed main_style  country\n",
              "4992    Arrest     0    1992  Hard rock  Germany"
            ]
          },
          "metadata": {},
          "execution_count": 388
        }
      ]
    },
    {
      "cell_type": "code",
      "metadata": {
        "colab": {
          "base_uri": "https://localhost:8080/",
          "height": 336
        },
        "id": "i0lPEw8fn47c",
        "outputId": "f9b28d4c-c2db-43b7-9cd5-a925390b2523"
      },
      "source": [
        "HTML('<iframe width=\"560\" height=\"315\" src=\"https://www.youtube.com/embed/OBEQakLzlvA\" frameborder=\"0\" allowfullscreen></iframe>')"
      ],
      "id": "i0lPEw8fn47c",
      "execution_count": 389,
      "outputs": [
        {
          "output_type": "execute_result",
          "data": {
            "text/html": [
              "<iframe width=\"560\" height=\"315\" src=\"https://www.youtube.com/embed/OBEQakLzlvA\" frameborder=\"0\" allowfullscreen></iframe>"
            ],
            "text/plain": [
              "<IPython.core.display.HTML object>"
            ]
          },
          "metadata": {},
          "execution_count": 389
        }
      ]
    },
    {
      "cell_type": "code",
      "metadata": {
        "colab": {
          "base_uri": "https://localhost:8080/",
          "height": 80
        },
        "id": "VEJczvUklHZN",
        "outputId": "a85beaf1-197d-4893-c740-ed8abf07471b"
      },
      "source": [
        "# Banda mais antiga e ainda ativa com maior quantidade de fãs\n",
        "df_max_fans = df_non_split[df_non_split['fans']==df_non_split['fans'].max()].sort_values('formed', ascending=True)\n",
        "df_max_fans.head(1)[[\"band_name\", \"fans\", \"formed\", \"main_style\", \"country\"]]"
      ],
      "id": "VEJczvUklHZN",
      "execution_count": 386,
      "outputs": [
        {
          "output_type": "execute_result",
          "data": {
            "text/html": [
              "<div>\n",
              "<style scoped>\n",
              "    .dataframe tbody tr th:only-of-type {\n",
              "        vertical-align: middle;\n",
              "    }\n",
              "\n",
              "    .dataframe tbody tr th {\n",
              "        vertical-align: top;\n",
              "    }\n",
              "\n",
              "    .dataframe thead th {\n",
              "        text-align: right;\n",
              "    }\n",
              "</style>\n",
              "<table border=\"1\" class=\"dataframe\">\n",
              "  <thead>\n",
              "    <tr style=\"text-align: right;\">\n",
              "      <th></th>\n",
              "      <th>band_name</th>\n",
              "      <th>fans</th>\n",
              "      <th>formed</th>\n",
              "      <th>main_style</th>\n",
              "      <th>country</th>\n",
              "    </tr>\n",
              "  </thead>\n",
              "  <tbody>\n",
              "    <tr>\n",
              "      <th>0</th>\n",
              "      <td>Iron Maiden</td>\n",
              "      <td>4195</td>\n",
              "      <td>1975</td>\n",
              "      <td>New wave of british heavy</td>\n",
              "      <td>United Kingdom</td>\n",
              "    </tr>\n",
              "  </tbody>\n",
              "</table>\n",
              "</div>"
            ],
            "text/plain": [
              "     band_name  fans  formed                 main_style         country\n",
              "0  Iron Maiden  4195    1975  New wave of british heavy  United Kingdom"
            ]
          },
          "metadata": {},
          "execution_count": 386
        }
      ]
    },
    {
      "cell_type": "code",
      "metadata": {
        "colab": {
          "base_uri": "https://localhost:8080/",
          "height": 336
        },
        "id": "TAMpo0E4n5uV",
        "outputId": "dfa66da3-0644-4077-c16c-c0c153ee3c99"
      },
      "source": [
        "HTML('<iframe width=\"560\" height=\"315\" src=\"https://www.youtube.com/embed/X4bgXH3sJ2Q\" frameborder=\"0\" allowfullscreen></iframe>')"
      ],
      "id": "TAMpo0E4n5uV",
      "execution_count": 390,
      "outputs": [
        {
          "output_type": "execute_result",
          "data": {
            "text/html": [
              "<iframe width=\"560\" height=\"315\" src=\"https://www.youtube.com/embed/X4bgXH3sJ2Q\" frameborder=\"0\" allowfullscreen></iframe>"
            ],
            "text/plain": [
              "<IPython.core.display.HTML object>"
            ]
          },
          "metadata": {},
          "execution_count": 390
        }
      ]
    },
    {
      "cell_type": "markdown",
      "metadata": {
        "id": "uiOh37zBo30E"
      },
      "source": [
        "## Relação de bandas por subgênero"
      ],
      "id": "uiOh37zBo30E"
    },
    {
      "cell_type": "code",
      "metadata": {
        "colab": {
          "base_uri": "https://localhost:8080/"
        },
        "execution": {
          "iopub.execute_input": "2021-10-14T13:20:22.654223Z",
          "iopub.status.busy": "2021-10-14T13:20:22.654223Z",
          "iopub.status.idle": "2021-10-14T13:20:22.661229Z",
          "shell.execute_reply": "2021-10-14T13:20:22.661229Z",
          "shell.execute_reply.started": "2021-10-14T13:20:22.654223Z"
        },
        "id": "GMImXpPkVA8K",
        "tags": [],
        "outputId": "24e82126-b584-49bd-e37e-72659fa01fe9"
      },
      "source": [
        "print(f\"\\nNeste dataset, existem {len(df['main_style'].unique())} principais subgêneros e {len(df['secondary_style'].dropna())} bandas que mesclam mais de um subgênero,\\nassim como {', '.join(df['secondary_style'].dropna().unique()[0:5])}...\\n\")"
      ],
      "id": "GMImXpPkVA8K",
      "execution_count": 205,
      "outputs": [
        {
          "output_type": "stream",
          "name": "stdout",
          "text": [
            "\n",
            "Neste dataset, existem 208 principais subgêneros e 2152 bandas que mesclam mais de um subgênero,\n",
            "assim como Heavy, Progressive rock, Bay area thrash, Death, Gothic...\n",
            "\n"
          ]
        }
      ]
    },
    {
      "cell_type": "markdown",
      "metadata": {
        "id": "soX6ETnifcBZ"
      },
      "source": [
        "### Bandas"
      ],
      "id": "soX6ETnifcBZ"
    },
    {
      "cell_type": "code",
      "metadata": {
        "execution": {
          "iopub.execute_input": "2021-10-14T13:19:41.551958Z",
          "iopub.status.busy": "2021-10-14T13:19:41.550956Z",
          "iopub.status.idle": "2021-10-14T13:19:41.744130Z",
          "shell.execute_reply": "2021-10-14T13:19:41.743130Z",
          "shell.execute_reply.started": "2021-10-14T13:19:41.551958Z"
        },
        "id": "89bb5a89",
        "tags": []
      },
      "source": [
        "pure = {}\n",
        "mixed = {}\n",
        "style_df = pd.DataFrame(columns=['Style', 'Pure', 'Mixed'])\n",
        "for index, band in df.iterrows():\n",
        "    main_style = band['main_style']\n",
        "    secondary_style = band['secondary_style']\n",
        "    if (pd.isna(secondary_style)):\n",
        "        pure[main_style] = pure.get(main_style, 0) + 1\n",
        "    else:\n",
        "        mixed[secondary_style] = mixed.get(secondary_style, 0) + 1\n",
        "\n",
        "\n",
        "style_df['Style']= mixed.keys()\n",
        "style_df['Mixed']= style_df['Style'].map(mixed)\n",
        "style_df['Pure'] = style_df['Style'].map(pure)\n",
        "\n",
        "style_df = style_df.sort_values(by='Mixed', ascending=False)[:50]"
      ],
      "id": "89bb5a89",
      "execution_count": 88,
      "outputs": []
    },
    {
      "cell_type": "code",
      "metadata": {
        "colab": {
          "base_uri": "https://localhost:8080/",
          "height": 716
        },
        "execution": {
          "iopub.execute_input": "2021-10-14T13:20:11.346946Z",
          "iopub.status.busy": "2021-10-14T13:20:11.346946Z",
          "iopub.status.idle": "2021-10-14T13:20:12.747427Z",
          "shell.execute_reply": "2021-10-14T13:20:12.746426Z",
          "shell.execute_reply.started": "2021-10-14T13:20:11.346946Z"
        },
        "id": "ZYhb4_GtYMum",
        "tags": [],
        "outputId": "0cd059f4-b55d-45b3-d80e-29826a7a7379"
      },
      "source": [
        "ax = style_df[['Pure', 'Mixed']].plot(kind='bar', color=['#DD2763', '#74BBA4'])\n",
        "ax.set_xticklabels(style_df['Style'], rotation=90)\n",
        "plt.title('Relação entre subgêneros entre bandas de Metal')\n",
        "mixed_legend = mpatches.Patch(color='#DD2763', label='Subgênero puro')\n",
        "pure_legend = mpatches.Patch(color='#74BBA4', label='Subgêneros misturados')\n",
        "plt.legend(handles=[mixed_legend, pure_legend])\n",
        "plt.figure(figsize=(20,10))\n",
        "\n",
        "sns.set(rc={'figure.figsize':(20, 10)})\n",
        "sns.set(font_scale=1)"
      ],
      "id": "ZYhb4_GtYMum",
      "execution_count": 156,
      "outputs": [
        {
          "output_type": "display_data",
          "data": {
            "image/png": "[encoded data removed]",
            "text/plain": [
              "<Figure size 1440x720 with 1 Axes>"
            ]
          },
          "metadata": {}
        },
        {
          "output_type": "display_data",
          "data": {
            "text/plain": [
              "<Figure size 1440x720 with 0 Axes>"
            ]
          },
          "metadata": {}
        }
      ]
    },
    {
      "cell_type": "markdown",
      "metadata": {
        "id": "8gcM-IoLPsj6"
      },
      "source": [
        "### Fãs"
      ],
      "id": "8gcM-IoLPsj6"
    },
    {
      "cell_type": "code",
      "metadata": {
        "colab": {
          "base_uri": "https://localhost:8080/",
          "height": 419
        },
        "id": "s_ybitFKPwmZ",
        "outputId": "fc3b9516-b9da-4cdc-a90c-62121b4da56e"
      },
      "source": [
        "top_styles = df[['main_style', 'fans']].groupby('main_style').sum().reset_index().sort_values('fans', ascending=False)\n",
        "top_styles"
      ],
      "id": "s_ybitFKPwmZ",
      "execution_count": 161,
      "outputs": [
        {
          "output_type": "execute_result",
          "data": {
            "text/html": [
              "<div>\n",
              "<style scoped>\n",
              "    .dataframe tbody tr th:only-of-type {\n",
              "        vertical-align: middle;\n",
              "    }\n",
              "\n",
              "    .dataframe tbody tr th {\n",
              "        vertical-align: top;\n",
              "    }\n",
              "\n",
              "    .dataframe thead th {\n",
              "        text-align: right;\n",
              "    }\n",
              "</style>\n",
              "<table border=\"1\" class=\"dataframe\">\n",
              "  <thead>\n",
              "    <tr style=\"text-align: right;\">\n",
              "      <th></th>\n",
              "      <th>main_style</th>\n",
              "      <th>fans</th>\n",
              "    </tr>\n",
              "  </thead>\n",
              "  <tbody>\n",
              "    <tr>\n",
              "      <th>103</th>\n",
              "      <td>Heavy</td>\n",
              "      <td>28563</td>\n",
              "    </tr>\n",
              "    <tr>\n",
              "      <th>47</th>\n",
              "      <td>Death</td>\n",
              "      <td>27299</td>\n",
              "    </tr>\n",
              "    <tr>\n",
              "      <th>24</th>\n",
              "      <td>Black</td>\n",
              "      <td>20750</td>\n",
              "    </tr>\n",
              "    <tr>\n",
              "      <th>123</th>\n",
              "      <td>Melodic death</td>\n",
              "      <td>16999</td>\n",
              "    </tr>\n",
              "    <tr>\n",
              "      <th>151</th>\n",
              "      <td>Power</td>\n",
              "      <td>16167</td>\n",
              "    </tr>\n",
              "    <tr>\n",
              "      <th>...</th>\n",
              "      <td>...</td>\n",
              "      <td>...</td>\n",
              "    </tr>\n",
              "    <tr>\n",
              "      <th>7</th>\n",
              "      <td>Atmospheric</td>\n",
              "      <td>1</td>\n",
              "    </tr>\n",
              "    <tr>\n",
              "      <th>137</th>\n",
              "      <td>Neoclassical symphonic</td>\n",
              "      <td>1</td>\n",
              "    </tr>\n",
              "    <tr>\n",
              "      <th>171</th>\n",
              "      <td>Psychedelic death</td>\n",
              "      <td>1</td>\n",
              "    </tr>\n",
              "    <tr>\n",
              "      <th>141</th>\n",
              "      <td>Noise</td>\n",
              "      <td>1</td>\n",
              "    </tr>\n",
              "    <tr>\n",
              "      <th>20</th>\n",
              "      <td>Avantgarde death</td>\n",
              "      <td>0</td>\n",
              "    </tr>\n",
              "  </tbody>\n",
              "</table>\n",
              "<p>208 rows × 2 columns</p>\n",
              "</div>"
            ],
            "text/plain": [
              "                 main_style   fans\n",
              "103                   Heavy  28563\n",
              "47                    Death  27299\n",
              "24                    Black  20750\n",
              "123           Melodic death  16999\n",
              "151                   Power  16167\n",
              "..                      ...    ...\n",
              "7               Atmospheric      1\n",
              "137  Neoclassical symphonic      1\n",
              "171       Psychedelic death      1\n",
              "141                   Noise      1\n",
              "20         Avantgarde death      0\n",
              "\n",
              "[208 rows x 2 columns]"
            ]
          },
          "metadata": {},
          "execution_count": 161
        }
      ]
    },
    {
      "cell_type": "code",
      "metadata": {
        "colab": {
          "base_uri": "https://localhost:8080/",
          "height": 748
        },
        "id": "9X7xVW5jP0Lh",
        "outputId": "c5219fcb-7f91-4ec8-fde1-1ac8ec5d9b51"
      },
      "source": [
        "barplot_fans_by_style = sns.barplot(data=top_styles[:30], x='main_style', y='fans')\n",
        "barplot_fans_by_style.set(xlabel='Subgênero principal', ylabel='Quantidade de fãs')\n",
        "sns.set(font_scale = 1)\n",
        "plt.xticks(rotation=90)\n",
        "plt.show()"
      ],
      "id": "9X7xVW5jP0Lh",
      "execution_count": 170,
      "outputs": [
        {
          "output_type": "display_data",
          "data": {
            "image/png": "[encoded data removed]",
            "text/plain": [
              "<Figure size 1440x720 with 1 Axes>"
            ]
          },
          "metadata": {}
        }
      ]
    },
    {
      "cell_type": "markdown",
      "metadata": {
        "id": "qBjmvEVguCJM"
      },
      "source": [
        "### Bônus\n",
        "\n",
        "Como foi visto nos gráficos acima, os subgêneros com mais bandas e fãs foram os de \"Heavy\", \"Death\" e \"Black\"."
      ],
      "id": "qBjmvEVguCJM"
    },
    {
      "cell_type": "code",
      "metadata": {
        "colab": {
          "base_uri": "https://localhost:8080/",
          "height": 359
        },
        "id": "B8wRg1sDugso",
        "outputId": "103d1d7f-35d4-411b-9f65-0f23039767aa"
      },
      "source": [
        "df_sorted_by_fans = df.sort_values('fans', ascending=False)[[\"band_name\", \"main_style\", \"fans\"]]\n",
        "df_sorted_by_fans[df_sorted_by_fans[\"main_style\"].isin([\"Heavy\", \"Death\", \"Black\"])].head(10)"
      ],
      "id": "B8wRg1sDugso",
      "execution_count": 232,
      "outputs": [
        {
          "output_type": "execute_result",
          "data": {
            "text/html": [
              "<div>\n",
              "<style scoped>\n",
              "    .dataframe tbody tr th:only-of-type {\n",
              "        vertical-align: middle;\n",
              "    }\n",
              "\n",
              "    .dataframe tbody tr th {\n",
              "        vertical-align: top;\n",
              "    }\n",
              "\n",
              "    .dataframe thead th {\n",
              "        text-align: right;\n",
              "    }\n",
              "</style>\n",
              "<table border=\"1\" class=\"dataframe\">\n",
              "  <thead>\n",
              "    <tr style=\"text-align: right;\">\n",
              "      <th></th>\n",
              "      <th>band_name</th>\n",
              "      <th>main_style</th>\n",
              "      <th>fans</th>\n",
              "    </tr>\n",
              "  </thead>\n",
              "  <tbody>\n",
              "    <tr>\n",
              "      <th>2</th>\n",
              "      <td>Metallica</td>\n",
              "      <td>Heavy</td>\n",
              "      <td>3712</td>\n",
              "    </tr>\n",
              "    <tr>\n",
              "      <th>11</th>\n",
              "      <td>Judas Priest</td>\n",
              "      <td>Heavy</td>\n",
              "      <td>2094</td>\n",
              "    </tr>\n",
              "    <tr>\n",
              "      <th>14</th>\n",
              "      <td>Pantera</td>\n",
              "      <td>Heavy</td>\n",
              "      <td>1920</td>\n",
              "    </tr>\n",
              "    <tr>\n",
              "      <th>20</th>\n",
              "      <td>Behemoth</td>\n",
              "      <td>Death</td>\n",
              "      <td>1721</td>\n",
              "    </tr>\n",
              "    <tr>\n",
              "      <th>25</th>\n",
              "      <td>Amorphis</td>\n",
              "      <td>Death</td>\n",
              "      <td>1528</td>\n",
              "    </tr>\n",
              "    <tr>\n",
              "      <th>31</th>\n",
              "      <td>Immortal</td>\n",
              "      <td>Death</td>\n",
              "      <td>1436</td>\n",
              "    </tr>\n",
              "    <tr>\n",
              "      <th>33</th>\n",
              "      <td>Iced Earth</td>\n",
              "      <td>Heavy</td>\n",
              "      <td>1403</td>\n",
              "    </tr>\n",
              "    <tr>\n",
              "      <th>44</th>\n",
              "      <td>Therion</td>\n",
              "      <td>Death</td>\n",
              "      <td>1167</td>\n",
              "    </tr>\n",
              "    <tr>\n",
              "      <th>45</th>\n",
              "      <td>Cannibal Corpse</td>\n",
              "      <td>Death</td>\n",
              "      <td>1162</td>\n",
              "    </tr>\n",
              "    <tr>\n",
              "      <th>47</th>\n",
              "      <td>Emperor</td>\n",
              "      <td>Black</td>\n",
              "      <td>1132</td>\n",
              "    </tr>\n",
              "  </tbody>\n",
              "</table>\n",
              "</div>"
            ],
            "text/plain": [
              "          band_name main_style  fans\n",
              "2         Metallica      Heavy  3712\n",
              "11     Judas Priest      Heavy  2094\n",
              "14          Pantera      Heavy  1920\n",
              "20         Behemoth      Death  1721\n",
              "25         Amorphis      Death  1528\n",
              "31         Immortal      Death  1436\n",
              "33       Iced Earth      Heavy  1403\n",
              "44          Therion      Death  1167\n",
              "45  Cannibal Corpse      Death  1162\n",
              "47          Emperor      Black  1132"
            ]
          },
          "metadata": {},
          "execution_count": 232
        }
      ]
    },
    {
      "cell_type": "markdown",
      "metadata": {
        "id": "Udl7AtGCwUC3"
      },
      "source": [
        "Selecionamos algumas bandas desses gêneros que possuem as maiores quantidades de fãs.\n",
        "\n",
        "**Metallica** (Heavy)\n",
        "\n"
      ],
      "id": "Udl7AtGCwUC3"
    },
    {
      "cell_type": "code",
      "metadata": {
        "colab": {
          "base_uri": "https://localhost:8080/",
          "height": 336
        },
        "id": "YldPWFhSzUih",
        "outputId": "d356d7bf-46d9-449d-c763-34a7947351bf"
      },
      "source": [
        "HTML('<iframe width=\"560\" height=\"315\" src=\"https://www.youtube.com/embed/tAGnKpE4NCI\" frameborder=\"0\" allowfullscreen></iframe>')"
      ],
      "id": "YldPWFhSzUih",
      "execution_count": 238,
      "outputs": [
        {
          "output_type": "execute_result",
          "data": {
            "text/html": [
              "<iframe width=\"560\" height=\"315\" src=\"https://www.youtube.com/embed/tAGnKpE4NCI\" frameborder=\"0\" allowfullscreen></iframe>"
            ],
            "text/plain": [
              "<IPython.core.display.HTML object>"
            ]
          },
          "metadata": {},
          "execution_count": 238
        }
      ]
    },
    {
      "cell_type": "markdown",
      "metadata": {
        "id": "Wn3XAMJgwmW8"
      },
      "source": [
        "**Behemoth** (Death)"
      ],
      "id": "Wn3XAMJgwmW8"
    },
    {
      "cell_type": "code",
      "metadata": {
        "colab": {
          "base_uri": "https://localhost:8080/",
          "height": 336
        },
        "id": "YhTl9lx70KuP",
        "outputId": "73bc4767-d384-463a-96bb-98b3885b1138"
      },
      "source": [
        "HTML('<iframe width=\"560\" height=\"315\" src=\"https://www.youtube.com/embed/UA_j_72psoo\" frameborder=\"0\" allowfullscreen></iframe>')"
      ],
      "id": "YhTl9lx70KuP",
      "execution_count": 239,
      "outputs": [
        {
          "output_type": "execute_result",
          "data": {
            "text/html": [
              "<iframe width=\"560\" height=\"315\" src=\"https://www.youtube.com/embed/UA_j_72psoo\" frameborder=\"0\" allowfullscreen></iframe>"
            ],
            "text/plain": [
              "<IPython.core.display.HTML object>"
            ]
          },
          "metadata": {},
          "execution_count": 239
        }
      ]
    },
    {
      "cell_type": "markdown",
      "metadata": {
        "id": "Ts-X8MXswpQG"
      },
      "source": [
        "**Emperor** (Black)"
      ],
      "id": "Ts-X8MXswpQG"
    },
    {
      "cell_type": "code",
      "metadata": {
        "colab": {
          "base_uri": "https://localhost:8080/",
          "height": 336
        },
        "id": "sUa45SFk1vAV",
        "outputId": "001ee4ce-8c98-4301-c5c0-4cfdc718042f"
      },
      "source": [
        "HTML('<iframe width=\"560\" height=\"315\" src=\"https://www.youtube.com/embed/YgQRRI9goFg\" frameborder=\"0\" allowfullscreen></iframe>')"
      ],
      "id": "sUa45SFk1vAV",
      "execution_count": 240,
      "outputs": [
        {
          "output_type": "execute_result",
          "data": {
            "text/html": [
              "<iframe width=\"560\" height=\"315\" src=\"https://www.youtube.com/embed/YgQRRI9goFg\" frameborder=\"0\" allowfullscreen></iframe>"
            ],
            "text/plain": [
              "<IPython.core.display.HTML object>"
            ]
          },
          "metadata": {},
          "execution_count": 240
        }
      ]
    },
    {
      "cell_type": "markdown",
      "metadata": {
        "id": "mEUG__aUoprh"
      },
      "source": [
        "## Relação de bandas por país de origem"
      ],
      "id": "mEUG__aUoprh"
    },
    {
      "cell_type": "code",
      "metadata": {
        "colab": {
          "base_uri": "https://localhost:8080/"
        },
        "execution": {
          "iopub.status.busy": "2021-10-14T13:19:41.314744Z",
          "iopub.status.idle": "2021-10-14T13:19:41.315744Z",
          "shell.execute_reply": "2021-10-14T13:19:41.315744Z"
        },
        "id": "cgYaSYm7U0YD",
        "tags": [],
        "outputId": "4f3eb83c-53d2-49a0-a906-bfd03dd7e7d0"
      },
      "source": [
        "print(f\"\\nNeste dataset, existem {len(df['country'].unique())} países produzindo Metal, assim como {', '.join(df['country'].unique()[0:5])}... \\n\")"
      ],
      "id": "cgYaSYm7U0YD",
      "execution_count": 171,
      "outputs": [
        {
          "output_type": "stream",
          "name": "stdout",
          "text": [
            "\n",
            "Neste dataset, existem 86 países produzindo Metal, assim como United Kingdom, Sweden, USA, Finland, Germany... \n",
            "\n"
          ]
        }
      ]
    },
    {
      "cell_type": "markdown",
      "metadata": {
        "id": "pXYzCDM1Jejh"
      },
      "source": [
        "### TOP #10"
      ],
      "id": "pXYzCDM1Jejh"
    },
    {
      "cell_type": "code",
      "metadata": {
        "colab": {
          "base_uri": "https://localhost:8080/",
          "height": 591
        },
        "execution": {
          "iopub.status.busy": "2021-10-14T13:19:41.316745Z",
          "iopub.status.idle": "2021-10-14T13:19:41.316745Z",
          "shell.execute_reply": "2021-10-14T13:19:41.316745Z"
        },
        "id": "u2udIQ7tJmJ6",
        "tags": [],
        "outputId": "d4341759-74a0-445f-e4c0-cb72118be297"
      },
      "source": [
        "country_top20 = df[\"country\"].value_counts()[:10]\n",
        "\n",
        "def func(pct, allvalues):\n",
        "    absolute = int(pct / 100.*np.sum(allvalues))\n",
        "    return \"{:.1f}%\\n({:d})\".format(pct, absolute)\n",
        "\n",
        "fig = plt.figure(figsize =(20, 10))\n",
        "plt.title('TOP #10 Bandas de Metal por país até 2016')\n",
        "colors = sns.color_palette('pastel')\n",
        "plt.pie(country_top20.values,\n",
        "        labels = country_top20.keys(),\n",
        "        colors = colors,\n",
        "        autopct = lambda pct: func(pct, country_top20.values))\n",
        "\n",
        "plt.show()"
      ],
      "id": "u2udIQ7tJmJ6",
      "execution_count": 221,
      "outputs": [
        {
          "output_type": "display_data",
          "data": {
            "image/png": "[encoded data removed]",
            "text/plain": [
              "<Figure size 1440x720 with 1 Axes>"
            ]
          },
          "metadata": {}
        }
      ]
    },
    {
      "cell_type": "markdown",
      "metadata": {
        "id": "V9yYyU7ZI_-p"
      },
      "source": [
        "### Escala de 1 milhão de pessoas 🌽🤘"
      ],
      "id": "V9yYyU7ZI_-p"
    },
    {
      "cell_type": "code",
      "metadata": {
        "colab": {
          "base_uri": "https://localhost:8080/"
        },
        "execution": {
          "iopub.status.busy": "2021-10-14T13:19:41.317747Z",
          "iopub.status.idle": "2021-10-14T13:19:41.317747Z",
          "shell.execute_reply": "2021-10-14T13:19:41.317747Z"
        },
        "id": "d8c32c13",
        "tags": [],
        "outputId": "1a171caf-e8b7-4d9e-b901-e29ac1d31b3e"
      },
      "source": [
        "# Exemplo referência: https://ramiro.org/notebook/metal-bands-map/\n",
        "band_countries = df.iso3.value_counts()\n",
        "band_countries.name = \"bands\"\n",
        "band_countries"
      ],
      "id": "d8c32c13",
      "execution_count": 84,
      "outputs": [
        {
          "output_type": "execute_result",
          "data": {
            "text/plain": [
              "USA    1124\n",
              "SWE     470\n",
              "DEU     392\n",
              "GBR     342\n",
              "FIN     301\n",
              "       ... \n",
              "KOR       1\n",
              "ECU       1\n",
              "TUN       1\n",
              "SZ        1\n",
              "ARM       1\n",
              "Name: bands, Length: 86, dtype: Int64"
            ]
          },
          "metadata": {},
          "execution_count": 84
        }
      ]
    },
    {
      "cell_type": "code",
      "metadata": {
        "colab": {
          "base_uri": "https://localhost:8080/",
          "height": 204
        },
        "execution": {
          "iopub.execute_input": "2021-10-14T13:19:41.425844Z",
          "iopub.status.busy": "2021-10-14T13:19:41.424843Z",
          "iopub.status.idle": "2021-10-14T13:19:41.441858Z",
          "shell.execute_reply": "2021-10-14T13:19:41.440858Z",
          "shell.execute_reply.started": "2021-10-14T13:19:41.425844Z"
        },
        "id": "16078e05",
        "tags": [],
        "outputId": "8ec0383d-99c0-4b2a-dd04-31686f51fc37"
      },
      "source": [
        "world = gpd.read_file(gpd.datasets.get_path('naturalearth_lowres')).to_crs('+proj=robin')\n",
        "world = world[world.name != 'Antarctica'] # removendo antártica\n",
        "world = world.join(band_countries, on='iso_a3')\n",
        "\n",
        "# soma a contagem de bandas por país e bandas por 1 milhão de pessoas\n",
        "world['band_ratio'] = world['bands'] / world['pop_est'] * 1_000_000\n",
        "world.sort_values('band_ratio', ascending=False).head()"
      ],
      "id": "16078e05",
      "execution_count": 85,
      "outputs": [
        {
          "output_type": "execute_result",
          "data": {
            "text/html": [
              "<div>\n",
              "<style scoped>\n",
              "    .dataframe tbody tr th:only-of-type {\n",
              "        vertical-align: middle;\n",
              "    }\n",
              "\n",
              "    .dataframe tbody tr th {\n",
              "        vertical-align: top;\n",
              "    }\n",
              "\n",
              "    .dataframe thead th {\n",
              "        text-align: right;\n",
              "    }\n",
              "</style>\n",
              "<table border=\"1\" class=\"dataframe\">\n",
              "  <thead>\n",
              "    <tr style=\"text-align: right;\">\n",
              "      <th></th>\n",
              "      <th>pop_est</th>\n",
              "      <th>continent</th>\n",
              "      <th>name</th>\n",
              "      <th>iso_a3</th>\n",
              "      <th>gdp_md_est</th>\n",
              "      <th>geometry</th>\n",
              "      <th>bands</th>\n",
              "      <th>band_ratio</th>\n",
              "    </tr>\n",
              "  </thead>\n",
              "  <tbody>\n",
              "    <tr>\n",
              "      <th>144</th>\n",
              "      <td>339747</td>\n",
              "      <td>Europe</td>\n",
              "      <td>Iceland</td>\n",
              "      <td>ISL</td>\n",
              "      <td>16150.0</td>\n",
              "      <td>POLYGON ((-1025302.197 6952546.772, -1048898.3...</td>\n",
              "      <td>25</td>\n",
              "      <td>73.584167</td>\n",
              "    </tr>\n",
              "    <tr>\n",
              "      <th>151</th>\n",
              "      <td>5491218</td>\n",
              "      <td>Europe</td>\n",
              "      <td>Finland</td>\n",
              "      <td>FIN</td>\n",
              "      <td>224137.0</td>\n",
              "      <td>POLYGON ((1962483.961 7191405.690, 1968166.420...</td>\n",
              "      <td>301</td>\n",
              "      <td>54.814797</td>\n",
              "    </tr>\n",
              "    <tr>\n",
              "      <th>110</th>\n",
              "      <td>9960487</td>\n",
              "      <td>Europe</td>\n",
              "      <td>Sweden</td>\n",
              "      <td>SWE</td>\n",
              "      <td>498100.0</td>\n",
              "      <td>POLYGON ((840937.999 6223578.056, 869899.710 6...</td>\n",
              "      <td>470</td>\n",
              "      <td>47.186448</td>\n",
              "    </tr>\n",
              "    <tr>\n",
              "      <th>22</th>\n",
              "      <td>57713</td>\n",
              "      <td>North America</td>\n",
              "      <td>Greenland</td>\n",
              "      <td>GRL</td>\n",
              "      <td>2173.0</td>\n",
              "      <td>POLYGON ((-2627201.180 8280938.168, -2414731.2...</td>\n",
              "      <td>1</td>\n",
              "      <td>17.327119</td>\n",
              "    </tr>\n",
              "    <tr>\n",
              "      <th>142</th>\n",
              "      <td>5605948</td>\n",
              "      <td>Europe</td>\n",
              "      <td>Denmark</td>\n",
              "      <td>DNK</td>\n",
              "      <td>264800.0</td>\n",
              "      <td>MULTIPOLYGON (((782831.650 5836658.459, 733278...</td>\n",
              "      <td>70</td>\n",
              "      <td>12.486737</td>\n",
              "    </tr>\n",
              "  </tbody>\n",
              "</table>\n",
              "</div>"
            ],
            "text/plain": [
              "     pop_est      continent  ... bands band_ratio\n",
              "144   339747         Europe  ...    25  73.584167\n",
              "151  5491218         Europe  ...   301  54.814797\n",
              "110  9960487         Europe  ...   470  47.186448\n",
              "22     57713  North America  ...     1  17.327119\n",
              "142  5605948         Europe  ...    70  12.486737\n",
              "\n",
              "[5 rows x 8 columns]"
            ]
          },
          "metadata": {},
          "execution_count": 85
        }
      ]
    },
    {
      "cell_type": "code",
      "metadata": {
        "colab": {
          "base_uri": "https://localhost:8080/",
          "height": 639
        },
        "execution": {
          "iopub.status.busy": "2021-10-14T13:19:41.441858Z",
          "iopub.status.idle": "2021-10-14T13:19:41.442859Z",
          "shell.execute_reply": "2021-10-14T13:19:41.442859Z"
        },
        "id": "rrB1PA5FFEJC",
        "tags": [],
        "outputId": "552847c6-815c-4610-e911-45103efea0c4"
      },
      "source": [
        "paises_com_bandas = world.dropna(subset=['band_ratio'])\n",
        "paises_sem_bandas = world[world['band_ratio'].isna()]\n",
        "\n",
        "ax = paises_com_bandas.plot(column='band_ratio', cmap='inferno_r', figsize=(20, 12), scheme='fisher_jenks', k=9, legend=True, edgecolor='#aaaaaa')\n",
        "paises_sem_bandas.plot(ax=ax, color='#ffffff', hatch='//', edgecolor='#aaaaaa')\n",
        "\n",
        "ax.set_title('Bandas de Metal (escala de 1 milhão de pessoas)', fontdict={'fontsize': 20}, loc='left')\n",
        "description = '''\n",
        "Com base em bandas existentes e separadas listadas no site metalstorm.net em 2016,\\ndisponibilizadas no dataset Metal Bands by Nation kaggle.com/mrpantherson/metal-by-nation\\ne estimativas de população por naturalearthdata.com'''.strip()\n",
        "ax.annotate(description, xy=(0.07, 0.1), size=12, xycoords='figure fraction')\n",
        "\n",
        "ax.set_axis_off()\n",
        "legend = ax.get_legend()\n",
        "legend.set_bbox_to_anchor((.11, .4))\n",
        "legend.prop.set_size(12)"
      ],
      "id": "rrB1PA5FFEJC",
      "execution_count": 86,
      "outputs": [
        {
          "output_type": "display_data",
          "data": {
            "image/png": "[encoded data removed]",
            "text/plain": [
              "<Figure size 1440x864 with 1 Axes>"
            ]
          },
          "metadata": {
            "needs_background": "light"
          }
        }
      ]
    },
    {
      "cell_type": "markdown",
      "metadata": {
        "id": "h2ES2kgklv9g"
      },
      "source": [
        "### Relação por fãs por país de origem"
      ],
      "id": "h2ES2kgklv9g"
    },
    {
      "cell_type": "code",
      "metadata": {
        "colab": {
          "base_uri": "https://localhost:8080/",
          "height": 619
        },
        "execution": {
          "iopub.execute_input": "2021-10-14T13:19:41.171614Z",
          "iopub.status.busy": "2021-10-14T13:19:41.170613Z",
          "iopub.status.idle": "2021-10-14T13:19:41.314744Z",
          "shell.execute_reply": "2021-10-14T13:19:41.313743Z",
          "shell.execute_reply.started": "2021-10-14T13:19:41.171614Z"
        },
        "id": "681fedd7",
        "tags": [],
        "outputId": "446016b3-02fc-4068-c266-b6eee8b2c402"
      },
      "source": [
        "plt.figure(figsize=(16,9))\n",
        "plt.xticks(rotation=45)\n",
        "barplot = sns.barplot(data=df_fans_by_country.head(10), x='country', y='fans', palette=\"husl\")\n",
        "barplot.set(xlabel='País de origem', ylabel='Qtd de fãs')\n",
        "plt.show()"
      ],
      "id": "681fedd7",
      "execution_count": 127,
      "outputs": [
        {
          "output_type": "display_data",
          "data": {
            "image/png": "[encoded data removed]",
            "text/plain": [
              "<Figure size 1152x648 with 1 Axes>"
            ]
          },
          "metadata": {}
        }
      ]
    },
    {
      "cell_type": "markdown",
      "metadata": {
        "id": "sQB25-Fb43Jk"
      },
      "source": [
        "### Bônus\n",
        "\n",
        "Os gráficos que relacionam bandas e fãs à países mostram que o país que possui mais bandas e fãs é os Estados Unidos."
      ],
      "id": "sQB25-Fb43Jk"
    },
    {
      "cell_type": "code",
      "metadata": {
        "colab": {
          "base_uri": "https://localhost:8080/",
          "height": 204
        },
        "id": "xvY2Bla35LJg",
        "outputId": "6f4a0108-8a8e-42c4-a8b8-0435eb537ace"
      },
      "source": [
        "df_sorted_by_fans = df.sort_values('fans', ascending=False)[[\"band_name\", \"main_style\", \"fans\", \"country\"]]\n",
        "df_sorted_by_fans[df_sorted_by_fans[\"country\"] == \"USA\"].head(5)"
      ],
      "id": "xvY2Bla35LJg",
      "execution_count": 243,
      "outputs": [
        {
          "output_type": "execute_result",
          "data": {
            "text/html": [
              "<div>\n",
              "<style scoped>\n",
              "    .dataframe tbody tr th:only-of-type {\n",
              "        vertical-align: middle;\n",
              "    }\n",
              "\n",
              "    .dataframe tbody tr th {\n",
              "        vertical-align: top;\n",
              "    }\n",
              "\n",
              "    .dataframe thead th {\n",
              "        text-align: right;\n",
              "    }\n",
              "</style>\n",
              "<table border=\"1\" class=\"dataframe\">\n",
              "  <thead>\n",
              "    <tr style=\"text-align: right;\">\n",
              "      <th></th>\n",
              "      <th>band_name</th>\n",
              "      <th>main_style</th>\n",
              "      <th>fans</th>\n",
              "      <th>country</th>\n",
              "    </tr>\n",
              "  </thead>\n",
              "  <tbody>\n",
              "    <tr>\n",
              "      <th>2</th>\n",
              "      <td>Metallica</td>\n",
              "      <td>Heavy</td>\n",
              "      <td>3712</td>\n",
              "      <td>USA</td>\n",
              "    </tr>\n",
              "    <tr>\n",
              "      <th>3</th>\n",
              "      <td>Megadeth</td>\n",
              "      <td>Thrash</td>\n",
              "      <td>3105</td>\n",
              "      <td>USA</td>\n",
              "    </tr>\n",
              "    <tr>\n",
              "      <th>5</th>\n",
              "      <td>Slayer</td>\n",
              "      <td>Thrash</td>\n",
              "      <td>2955</td>\n",
              "      <td>USA</td>\n",
              "    </tr>\n",
              "    <tr>\n",
              "      <th>6</th>\n",
              "      <td>Death</td>\n",
              "      <td>Progressive death</td>\n",
              "      <td>2690</td>\n",
              "      <td>USA</td>\n",
              "    </tr>\n",
              "    <tr>\n",
              "      <th>7</th>\n",
              "      <td>Dream Theater</td>\n",
              "      <td>Progressive</td>\n",
              "      <td>2329</td>\n",
              "      <td>USA</td>\n",
              "    </tr>\n",
              "  </tbody>\n",
              "</table>\n",
              "</div>"
            ],
            "text/plain": [
              "       band_name         main_style  fans country\n",
              "2      Metallica              Heavy  3712     USA\n",
              "3       Megadeth             Thrash  3105     USA\n",
              "5         Slayer             Thrash  2955     USA\n",
              "6          Death  Progressive death  2690     USA\n",
              "7  Dream Theater        Progressive  2329     USA"
            ]
          },
          "metadata": {},
          "execution_count": 243
        }
      ]
    },
    {
      "cell_type": "markdown",
      "metadata": {
        "id": "MuKn2ipE5hPF"
      },
      "source": [
        "\"Metallica\" é a banda estadunidense com mais fãs, seguida da \"Megadeth\"."
      ],
      "id": "MuKn2ipE5hPF"
    },
    {
      "cell_type": "code",
      "metadata": {
        "colab": {
          "base_uri": "https://localhost:8080/",
          "height": 336
        },
        "id": "0zJjzg9y9jJn",
        "outputId": "2dc4d67c-e15b-4058-a126-4d3341874849"
      },
      "source": [
        "HTML('<iframe width=\"560\" height=\"315\" src=\"https://www.youtube.com/embed/9d4ui9q7eDM\" frameborder=\"0\" allowfullscreen></iframe>')"
      ],
      "id": "0zJjzg9y9jJn",
      "execution_count": 244,
      "outputs": [
        {
          "output_type": "execute_result",
          "data": {
            "text/html": [
              "<iframe width=\"560\" height=\"315\" src=\"https://www.youtube.com/embed/9d4ui9q7eDM\" frameborder=\"0\" allowfullscreen></iframe>"
            ],
            "text/plain": [
              "<IPython.core.display.HTML object>"
            ]
          },
          "metadata": {},
          "execution_count": 244
        }
      ]
    },
    {
      "cell_type": "markdown",
      "metadata": {
        "id": "362fef02"
      },
      "source": [
        "## Normalização\te\tdiscretização"
      ],
      "id": "362fef02"
    },
    {
      "cell_type": "code",
      "metadata": {
        "id": "jZjcYqpnf7Qe"
      },
      "source": [
        "from sklearn.preprocessing import RobustScaler, MinMaxScaler\n",
        "rs = RobustScaler()\n",
        "mms = MinMaxScaler()\n",
        "\n",
        "# reescalando o ano de formação das bandas com MinMaxScaler, e a coluna de número de fãs com RobustScaler, pois possui muitos outliers \n",
        "df['formed_normalizado'] = mms.fit_transform(df[['formed']].values)\n",
        "\n",
        "df['fans_normalizado'] = rs.fit_transform(df[['fans']].values)"
      ],
      "id": "jZjcYqpnf7Qe",
      "execution_count": 91,
      "outputs": []
    },
    {
      "cell_type": "code",
      "metadata": {
        "colab": {
          "base_uri": "https://localhost:8080/",
          "height": 204
        },
        "id": "T3zkW2Kbmdbm",
        "outputId": "0fea5aa3-c052-423c-967a-d1d4f40be407"
      },
      "source": [
        "df.head()"
      ],
      "id": "T3zkW2Kbmdbm",
      "execution_count": 92,
      "outputs": [
        {
          "output_type": "execute_result",
          "data": {
            "text/html": [
              "<div>\n",
              "<style scoped>\n",
              "    .dataframe tbody tr th:only-of-type {\n",
              "        vertical-align: middle;\n",
              "    }\n",
              "\n",
              "    .dataframe tbody tr th {\n",
              "        vertical-align: top;\n",
              "    }\n",
              "\n",
              "    .dataframe thead th {\n",
              "        text-align: right;\n",
              "    }\n",
              "</style>\n",
              "<table border=\"1\" class=\"dataframe\">\n",
              "  <thead>\n",
              "    <tr style=\"text-align: right;\">\n",
              "      <th></th>\n",
              "      <th>band_name</th>\n",
              "      <th>fans</th>\n",
              "      <th>formed</th>\n",
              "      <th>origin</th>\n",
              "      <th>split</th>\n",
              "      <th>style</th>\n",
              "      <th>main_style</th>\n",
              "      <th>secondary_style</th>\n",
              "      <th>country</th>\n",
              "      <th>iso3</th>\n",
              "      <th>formed_normalizado</th>\n",
              "      <th>fans_normalizado</th>\n",
              "    </tr>\n",
              "  </thead>\n",
              "  <tbody>\n",
              "    <tr>\n",
              "      <th>0</th>\n",
              "      <td>Iron Maiden</td>\n",
              "      <td>4195</td>\n",
              "      <td>1975</td>\n",
              "      <td>United Kingdom</td>\n",
              "      <td>-</td>\n",
              "      <td>New wave of british heavy,Heavy</td>\n",
              "      <td>New wave of british heavy</td>\n",
              "      <td>Heavy</td>\n",
              "      <td>United Kingdom</td>\n",
              "      <td>GBR</td>\n",
              "      <td>0.211538</td>\n",
              "      <td>113.081081</td>\n",
              "    </tr>\n",
              "    <tr>\n",
              "      <th>1</th>\n",
              "      <td>Opeth</td>\n",
              "      <td>4147</td>\n",
              "      <td>1990</td>\n",
              "      <td>Sweden</td>\n",
              "      <td>1990</td>\n",
              "      <td>Extreme progressive,Progressive rock,Progressive</td>\n",
              "      <td>Extreme progressive</td>\n",
              "      <td>Progressive rock</td>\n",
              "      <td>Sweden</td>\n",
              "      <td>SWE</td>\n",
              "      <td>0.500000</td>\n",
              "      <td>111.783784</td>\n",
              "    </tr>\n",
              "    <tr>\n",
              "      <th>2</th>\n",
              "      <td>Metallica</td>\n",
              "      <td>3712</td>\n",
              "      <td>1981</td>\n",
              "      <td>USA</td>\n",
              "      <td>-</td>\n",
              "      <td>Heavy,Bay area thrash</td>\n",
              "      <td>Heavy</td>\n",
              "      <td>Bay area thrash</td>\n",
              "      <td>USA</td>\n",
              "      <td>USA</td>\n",
              "      <td>0.326923</td>\n",
              "      <td>100.027027</td>\n",
              "    </tr>\n",
              "    <tr>\n",
              "      <th>3</th>\n",
              "      <td>Megadeth</td>\n",
              "      <td>3105</td>\n",
              "      <td>1983</td>\n",
              "      <td>USA</td>\n",
              "      <td>1983</td>\n",
              "      <td>Thrash,Heavy,Hard rock</td>\n",
              "      <td>Thrash</td>\n",
              "      <td>Heavy</td>\n",
              "      <td>USA</td>\n",
              "      <td>USA</td>\n",
              "      <td>0.365385</td>\n",
              "      <td>83.621622</td>\n",
              "    </tr>\n",
              "    <tr>\n",
              "      <th>4</th>\n",
              "      <td>Amon Amarth</td>\n",
              "      <td>3054</td>\n",
              "      <td>1988</td>\n",
              "      <td>Sweden</td>\n",
              "      <td>-</td>\n",
              "      <td>Melodic death</td>\n",
              "      <td>Melodic death</td>\n",
              "      <td>&lt;NA&gt;</td>\n",
              "      <td>Sweden</td>\n",
              "      <td>SWE</td>\n",
              "      <td>0.461538</td>\n",
              "      <td>82.243243</td>\n",
              "    </tr>\n",
              "  </tbody>\n",
              "</table>\n",
              "</div>"
            ],
            "text/plain": [
              "     band_name  fans  formed  ... iso3 formed_normalizado fans_normalizado\n",
              "0  Iron Maiden  4195    1975  ...  GBR           0.211538       113.081081\n",
              "1        Opeth  4147    1990  ...  SWE           0.500000       111.783784\n",
              "2    Metallica  3712    1981  ...  USA           0.326923       100.027027\n",
              "3     Megadeth  3105    1983  ...  USA           0.365385        83.621622\n",
              "4  Amon Amarth  3054    1988  ...  SWE           0.461538        82.243243\n",
              "\n",
              "[5 rows x 12 columns]"
            ]
          },
          "metadata": {},
          "execution_count": 92
        }
      ]
    },
    {
      "cell_type": "code",
      "metadata": {
        "colab": {
          "base_uri": "https://localhost:8080/",
          "height": 610
        },
        "id": "9OsWHI9HO_aA",
        "outputId": "6db2803b-3fdd-4243-fa3c-8dfde7a52946"
      },
      "source": [
        "df.hist();"
      ],
      "id": "9OsWHI9HO_aA",
      "execution_count": 128,
      "outputs": [
        {
          "output_type": "display_data",
          "data": {
            "image/png": "[encoded data removed]",
            "text/plain": [
              "<Figure size 1440x720 with 4 Axes>"
            ]
          },
          "metadata": {}
        }
      ]
    }
  ]
}