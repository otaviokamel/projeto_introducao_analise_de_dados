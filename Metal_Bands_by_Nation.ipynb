{
  "nbformat": 4,
  "nbformat_minor": 5,
  "metadata": {
    "colab": {
      "name": "Metal_Bands_by_Nation.ipynb",
      "provenance": [],
      "collapsed_sections": [
        "utijTSbgyeRM",
        "USLZEv03fnMx",
        "8wq8VS7Hfsvy",
        "9mxa0aLryBER",
        "b688cdca",
        "7f25969a",
        "793bdf67-4434-475f-a288-dfc903180a33",
        "soX6ETnifcBZ",
        "8gcM-IoLPsj6",
        "qBjmvEVguCJM",
        "pXYzCDM1Jejh",
        "V9yYyU7ZI_-p",
        "h2ES2kgklv9g",
        "sQB25-Fb43Jk",
        "362fef02"
      ],
      "toc_visible": true
    },
    "interpreter": {
      "hash": "ebe18a5a3e63c5f45e2b50f9a05e9c962aeb2b839f9c9b16622fab96f6b1d586"
    },
    "kernelspec": {
      "display_name": "Python 3",
      "language": "python",
      "name": "python3"
    },
    "language_info": {
      "codemirror_mode": {
        "name": "ipython",
        "version": 3
      },
      "file_extension": ".py",
      "mimetype": "text/x-python",
      "name": "python",
      "nbconvert_exporter": "python",
      "pygments_lexer": "ipython3",
      "version": "3.8.8"
    }
  },
  "cells": [
    {
      "cell_type": "markdown",
      "metadata": {
        "id": "f2e19349"
      },
      "source": [
        "<h1><center>𝕸𝖊𝖙𝖆𝖑 𝕭𝖆𝖓𝖉𝖘 🇧​​​​​🇾​​​​​ 🇳​​​​​🇦​​​​​🇹​​​​​🇮​​​​​🇴​​​​​🇳​​​​​</center></h1>\n",
        "<center>\n",
        "1964 ~ 2016\n",
        "<br>\n",
        "<br>\n",
        "\n",
        "**Introdução à Ciência dos Dados**\n",
        "\n",
        "*Professor Luciano Barbosa*<br><br>\n",
        "\n",
        "**Grupo**<br>\n",
        "🤘 Arianne Macena [@annemacena](https://github.com/annemacena) - asm7@cin.ufpe.br<br>\n",
        "🤘 Otávio Kamel [@otaviokamel](https://github.com/otaviokamel) - oackb@cin.ufpe.br\n",
        "<br><br>\n",
        "<img src=\"https://media.giphy.com/media/XcLpNX8NFvhAc/giphy.gif\" align=\"center\"></center>"
      ],
      "id": "f2e19349"
    },
    {
      "cell_type": "markdown",
      "metadata": {
        "id": "DuqbI6KdP8aD"
      },
      "source": [
        "# Visão Geral"
      ],
      "id": "DuqbI6KdP8aD"
    },
    {
      "cell_type": "markdown",
      "metadata": {
        "id": "_zd50VY6Qlxi"
      },
      "source": [
        "Para o presente trabalho, foi escolhido o *dataset* \"Metal Bands by Nation\" com a finalidade de fazer uma análise de seus dados e aplicar técnicas de ciência de dados pontuadas em aula. O *dataset* possui dados sobre bandas do gênero \"**Metal**\" ao decorrer dos anos de **1964 até 2016**.\n",
        "\n",
        "Os dados foram coletados do site [Metal Storm](http://metalstorm.net/). Além de uma lista de bandas de Metal, o site possui diversas informações sobre *reviews* de álbums, concertos e entrevistas.\n",
        "\n",
        "A coleta de dados foi feita através de *web scraping* do site da Metal Storm e seu resultado foi hospedado no [Kaggle](https://www.kaggle.com/mrpantherson/metal-by-nation)."
      ],
      "id": "_zd50VY6Qlxi"
    },
    {
      "cell_type": "markdown",
      "metadata": {
        "id": "EsHnK97HyZvY"
      },
      "source": [
        "## Bibliotecas"
      ],
      "id": "EsHnK97HyZvY"
    },
    {
      "cell_type": "code",
      "metadata": {
        "execution": {
          "iopub.execute_input": "2021-10-14T13:13:47.850580Z",
          "iopub.status.busy": "2021-10-14T13:13:47.850580Z",
          "iopub.status.idle": "2021-10-14T13:13:55.057132Z",
          "shell.execute_reply": "2021-10-14T13:13:55.056132Z",
          "shell.execute_reply.started": "2021-10-14T13:13:47.850580Z"
        },
        "id": "5bc45560",
        "tags": []
      },
      "source": [
        "# Importação de bibliotecas\n",
        "import pandas as pd\n",
        "import numpy as np\n",
        "import seaborn as sns\n",
        "from matplotlib import pyplot as plt\n",
        "import matplotlib.patches as mpatches\n",
        "from IPython.display import HTML"
      ],
      "id": "5bc45560",
      "execution_count": null,
      "outputs": []
    },
    {
      "cell_type": "markdown",
      "metadata": {
        "id": "yzmFGgit_yBE"
      },
      "source": [
        "### GeonamesCache"
      ],
      "id": "yzmFGgit_yBE"
    },
    {
      "cell_type": "code",
      "metadata": {
        "colab": {
          "base_uri": "https://localhost:8080/"
        },
        "execution": {
          "iopub.execute_input": "2021-10-14T13:13:55.059135Z",
          "iopub.status.busy": "2021-10-14T13:13:55.058134Z",
          "iopub.status.idle": "2021-10-14T13:14:04.710548Z",
          "shell.execute_reply": "2021-10-14T13:14:04.710548Z",
          "shell.execute_reply.started": "2021-10-14T13:13:55.058134Z"
        },
        "id": "oKt4hDpAyvXt",
        "outputId": "e2e9bed3-4e03-4336-e946-5606255ecbe6"
      },
      "source": [
        "# Biblioteca que possui todos os nomes de países e continentes de acordo com a ISO\n",
        "!pip install geonamescache"
      ],
      "id": "oKt4hDpAyvXt",
      "execution_count": null,
      "outputs": [
        {
          "output_type": "stream",
          "name": "stdout",
          "text": [
            "Requirement already satisfied: geonamescache in /usr/local/lib/python3.7/dist-packages (1.2.0)\n"
          ]
        }
      ]
    },
    {
      "cell_type": "code",
      "metadata": {
        "execution": {
          "iopub.execute_input": "2021-10-14T13:14:04.712549Z",
          "iopub.status.busy": "2021-10-14T13:14:04.711548Z",
          "iopub.status.idle": "2021-10-14T13:14:04.726562Z",
          "shell.execute_reply": "2021-10-14T13:14:04.726562Z",
          "shell.execute_reply.started": "2021-10-14T13:14:04.712549Z"
        },
        "id": "uv0dlI29BymY"
      },
      "source": [
        "from geonamescache import GeonamesCache\n",
        "from geonamescache.mappers import country"
      ],
      "id": "uv0dlI29BymY",
      "execution_count": null,
      "outputs": []
    },
    {
      "cell_type": "markdown",
      "metadata": {
        "id": "erQ0eZDWD02m"
      },
      "source": [
        "### GeoPandas"
      ],
      "id": "erQ0eZDWD02m"
    },
    {
      "cell_type": "code",
      "metadata": {
        "execution": {
          "iopub.execute_input": "2021-10-14T13:23:13.164808Z",
          "iopub.status.busy": "2021-10-14T13:23:13.163807Z",
          "iopub.status.idle": "2021-10-14T13:23:51.714829Z",
          "shell.execute_reply": "2021-10-14T13:23:51.713828Z",
          "shell.execute_reply.started": "2021-10-14T13:23:13.164808Z"
        },
        "id": "h1bEGlyqD8Y8",
        "tags": [],
        "colab": {
          "base_uri": "https://localhost:8080/"
        },
        "outputId": "91c8a942-3fa7-495e-aa61-d3c6cd23837b"
      },
      "source": [
        "#Descomente essas linhas caso esteja rodando no Google Colab,\n",
        "#essas libs serão instaladas localmente via conda\n",
        "!pip install geopandas\n",
        "!pip install mapclassify"
      ],
      "id": "h1bEGlyqD8Y8",
      "execution_count": null,
      "outputs": [
        {
          "output_type": "stream",
          "name": "stdout",
          "text": [
            "Collecting geopandas\n",
            "  Downloading geopandas-0.10.2-py2.py3-none-any.whl (1.0 MB)\n",
            "\u001b[K     |████████████████████████████████| 1.0 MB 7.5 MB/s \n",
            "\u001b[?25hCollecting pyproj>=2.2.0\n",
            "  Downloading pyproj-3.2.1-cp37-cp37m-manylinux2010_x86_64.whl (6.3 MB)\n",
            "\u001b[K     |████████████████████████████████| 6.3 MB 13.6 MB/s \n",
            "\u001b[?25hRequirement already satisfied: shapely>=1.6 in /usr/local/lib/python3.7/dist-packages (from geopandas) (1.7.1)\n",
            "Requirement already satisfied: pandas>=0.25.0 in /usr/local/lib/python3.7/dist-packages (from geopandas) (1.1.5)\n",
            "Collecting fiona>=1.8\n",
            "  Downloading Fiona-1.8.20-cp37-cp37m-manylinux1_x86_64.whl (15.4 MB)\n",
            "\u001b[K     |████████████████████████████████| 15.4 MB 39 kB/s \n",
            "\u001b[?25hRequirement already satisfied: certifi in /usr/local/lib/python3.7/dist-packages (from fiona>=1.8->geopandas) (2021.5.30)\n",
            "Requirement already satisfied: attrs>=17 in /usr/local/lib/python3.7/dist-packages (from fiona>=1.8->geopandas) (21.2.0)\n",
            "Collecting click-plugins>=1.0\n",
            "  Downloading click_plugins-1.1.1-py2.py3-none-any.whl (7.5 kB)\n",
            "Collecting munch\n",
            "  Downloading munch-2.5.0-py2.py3-none-any.whl (10 kB)\n",
            "Requirement already satisfied: six>=1.7 in /usr/local/lib/python3.7/dist-packages (from fiona>=1.8->geopandas) (1.15.0)\n",
            "Requirement already satisfied: click>=4.0 in /usr/local/lib/python3.7/dist-packages (from fiona>=1.8->geopandas) (7.1.2)\n",
            "Requirement already satisfied: setuptools in /usr/local/lib/python3.7/dist-packages (from fiona>=1.8->geopandas) (57.4.0)\n",
            "Collecting cligj>=0.5\n",
            "  Downloading cligj-0.7.2-py3-none-any.whl (7.1 kB)\n",
            "Requirement already satisfied: numpy>=1.15.4 in /usr/local/lib/python3.7/dist-packages (from pandas>=0.25.0->geopandas) (1.19.5)\n",
            "Requirement already satisfied: pytz>=2017.2 in /usr/local/lib/python3.7/dist-packages (from pandas>=0.25.0->geopandas) (2018.9)\n",
            "Requirement already satisfied: python-dateutil>=2.7.3 in /usr/local/lib/python3.7/dist-packages (from pandas>=0.25.0->geopandas) (2.8.2)\n",
            "Installing collected packages: munch, cligj, click-plugins, pyproj, fiona, geopandas\n",
            "Successfully installed click-plugins-1.1.1 cligj-0.7.2 fiona-1.8.20 geopandas-0.10.2 munch-2.5.0 pyproj-3.2.1\n",
            "Collecting mapclassify\n",
            "  Downloading mapclassify-2.4.3-py3-none-any.whl (38 kB)\n",
            "Requirement already satisfied: networkx in /usr/local/lib/python3.7/dist-packages (from mapclassify) (2.6.3)\n",
            "Requirement already satisfied: scikit-learn in /usr/local/lib/python3.7/dist-packages (from mapclassify) (0.22.2.post1)\n",
            "Requirement already satisfied: scipy>=1.0 in /usr/local/lib/python3.7/dist-packages (from mapclassify) (1.4.1)\n",
            "Requirement already satisfied: numpy>=1.3 in /usr/local/lib/python3.7/dist-packages (from mapclassify) (1.19.5)\n",
            "Requirement already satisfied: pandas>=1.0 in /usr/local/lib/python3.7/dist-packages (from mapclassify) (1.1.5)\n",
            "Requirement already satisfied: python-dateutil>=2.7.3 in /usr/local/lib/python3.7/dist-packages (from pandas>=1.0->mapclassify) (2.8.2)\n",
            "Requirement already satisfied: pytz>=2017.2 in /usr/local/lib/python3.7/dist-packages (from pandas>=1.0->mapclassify) (2018.9)\n",
            "Requirement already satisfied: six>=1.5 in /usr/local/lib/python3.7/dist-packages (from python-dateutil>=2.7.3->pandas>=1.0->mapclassify) (1.15.0)\n",
            "Requirement already satisfied: joblib>=0.11 in /usr/local/lib/python3.7/dist-packages (from scikit-learn->mapclassify) (1.0.1)\n",
            "Installing collected packages: mapclassify\n",
            "Successfully installed mapclassify-2.4.3\n"
          ]
        }
      ]
    },
    {
      "cell_type": "code",
      "metadata": {
        "execution": {
          "iopub.execute_input": "2021-10-14T13:23:07.939870Z",
          "iopub.status.busy": "2021-10-14T13:23:07.938859Z",
          "iopub.status.idle": "2021-10-14T13:23:07.958970Z",
          "shell.execute_reply": "2021-10-14T13:23:07.957969Z",
          "shell.execute_reply.started": "2021-10-14T13:23:07.939870Z"
        },
        "id": "Hwf4vXcBD5QH",
        "tags": []
      },
      "source": [
        "import geopandas as gpd"
      ],
      "id": "Hwf4vXcBD5QH",
      "execution_count": null,
      "outputs": []
    },
    {
      "cell_type": "markdown",
      "metadata": {
        "id": "utijTSbgyeRM"
      },
      "source": [
        "## Importação e informações do *dataset*"
      ],
      "id": "utijTSbgyeRM"
    },
    {
      "cell_type": "code",
      "metadata": {
        "execution": {
          "iopub.execute_input": "2021-10-14T13:19:37.106040Z",
          "iopub.status.busy": "2021-10-14T13:19:37.106040Z",
          "iopub.status.idle": "2021-10-14T13:19:37.186113Z",
          "shell.execute_reply": "2021-10-14T13:19:37.186113Z",
          "shell.execute_reply.started": "2021-10-14T13:19:37.106040Z"
        },
        "id": "81c2d8ef",
        "tags": []
      },
      "source": [
        "# importando arquivo com dados do dataset escolhido\n",
        "df = pd.read_csv('metal_bands_2017.csv', encoding='latin-1')"
      ],
      "id": "81c2d8ef",
      "execution_count": null,
      "outputs": []
    },
    {
      "cell_type": "markdown",
      "metadata": {
        "id": "INNj4h5lWWxO"
      },
      "source": [
        "As colunas do *dataset* são compostas pelos seguintes dados:\n",
        "\n",
        "*   **band_name**: Nome da banda.\n",
        "*   **fans**: A quantidade de fãs a banda possui no site da Metal Storm.\n",
        "*   **formed**: O ano que a banda foi formada.\n",
        "*   **origin**: O país de onde a banda é.\n",
        "*   **split**: O ano que a banda se separou.\n",
        "*   **style**: O estilo ou subgênero da banda.\n",
        "\n"
      ],
      "id": "INNj4h5lWWxO"
    },
    {
      "cell_type": "code",
      "metadata": {
        "colab": {
          "base_uri": "https://localhost:8080/",
          "height": 204
        },
        "execution": {
          "iopub.execute_input": "2021-10-14T13:19:37.798572Z",
          "iopub.status.busy": "2021-10-14T13:19:37.798572Z",
          "iopub.status.idle": "2021-10-14T13:19:37.820591Z",
          "shell.execute_reply": "2021-10-14T13:19:37.820591Z",
          "shell.execute_reply.started": "2021-10-14T13:19:37.798572Z"
        },
        "id": "fe473277",
        "tags": [],
        "outputId": "c91788fa-a006-48c3-cadf-8d8bc16e7971"
      },
      "source": [
        "# visualizando as 5 primeiras linhas do dataset\n",
        "df.head()"
      ],
      "id": "fe473277",
      "execution_count": null,
      "outputs": [
        {
          "output_type": "execute_result",
          "data": {
            "text/html": [
              "<div>\n",
              "<style scoped>\n",
              "    .dataframe tbody tr th:only-of-type {\n",
              "        vertical-align: middle;\n",
              "    }\n",
              "\n",
              "    .dataframe tbody tr th {\n",
              "        vertical-align: top;\n",
              "    }\n",
              "\n",
              "    .dataframe thead th {\n",
              "        text-align: right;\n",
              "    }\n",
              "</style>\n",
              "<table border=\"1\" class=\"dataframe\">\n",
              "  <thead>\n",
              "    <tr style=\"text-align: right;\">\n",
              "      <th></th>\n",
              "      <th>Unnamed: 0</th>\n",
              "      <th>band_name</th>\n",
              "      <th>fans</th>\n",
              "      <th>formed</th>\n",
              "      <th>origin</th>\n",
              "      <th>split</th>\n",
              "      <th>style</th>\n",
              "    </tr>\n",
              "  </thead>\n",
              "  <tbody>\n",
              "    <tr>\n",
              "      <th>0</th>\n",
              "      <td>0</td>\n",
              "      <td>Iron Maiden</td>\n",
              "      <td>4195</td>\n",
              "      <td>1975</td>\n",
              "      <td>United Kingdom</td>\n",
              "      <td>-</td>\n",
              "      <td>New wave of british heavy,Heavy</td>\n",
              "    </tr>\n",
              "    <tr>\n",
              "      <th>1</th>\n",
              "      <td>1</td>\n",
              "      <td>Opeth</td>\n",
              "      <td>4147</td>\n",
              "      <td>1990</td>\n",
              "      <td>Sweden</td>\n",
              "      <td>1990</td>\n",
              "      <td>Extreme progressive,Progressive rock,Progressive</td>\n",
              "    </tr>\n",
              "    <tr>\n",
              "      <th>2</th>\n",
              "      <td>2</td>\n",
              "      <td>Metallica</td>\n",
              "      <td>3712</td>\n",
              "      <td>1981</td>\n",
              "      <td>USA</td>\n",
              "      <td>-</td>\n",
              "      <td>Heavy,Bay area thrash</td>\n",
              "    </tr>\n",
              "    <tr>\n",
              "      <th>3</th>\n",
              "      <td>3</td>\n",
              "      <td>Megadeth</td>\n",
              "      <td>3105</td>\n",
              "      <td>1983</td>\n",
              "      <td>USA</td>\n",
              "      <td>1983</td>\n",
              "      <td>Thrash,Heavy,Hard rock</td>\n",
              "    </tr>\n",
              "    <tr>\n",
              "      <th>4</th>\n",
              "      <td>4</td>\n",
              "      <td>Amon Amarth</td>\n",
              "      <td>3054</td>\n",
              "      <td>1988</td>\n",
              "      <td>Sweden</td>\n",
              "      <td>-</td>\n",
              "      <td>Melodic death</td>\n",
              "    </tr>\n",
              "  </tbody>\n",
              "</table>\n",
              "</div>"
            ],
            "text/plain": [
              "   Unnamed: 0  ...                                             style\n",
              "0           0  ...                   New wave of british heavy,Heavy\n",
              "1           1  ...  Extreme progressive,Progressive rock,Progressive\n",
              "2           2  ...                             Heavy,Bay area thrash\n",
              "3           3  ...                            Thrash,Heavy,Hard rock\n",
              "4           4  ...                                     Melodic death\n",
              "\n",
              "[5 rows x 7 columns]"
            ]
          },
          "metadata": {},
          "execution_count": 23
        }
      ]
    },
    {
      "cell_type": "code",
      "metadata": {
        "colab": {
          "base_uri": "https://localhost:8080/"
        },
        "execution": {
          "iopub.execute_input": "2021-10-14T13:19:37.851620Z",
          "iopub.status.busy": "2021-10-14T13:19:37.851620Z",
          "iopub.status.idle": "2021-10-14T13:19:37.868635Z",
          "shell.execute_reply": "2021-10-14T13:19:37.868635Z",
          "shell.execute_reply.started": "2021-10-14T13:19:37.851620Z"
        },
        "id": "b6b21a95",
        "tags": [],
        "outputId": "c18a4cb4-34de-48af-f2b3-0caaaff596c8"
      },
      "source": [
        "# visualizando a dimensionalidade do dataset (linhas, colunas)\n",
        "df.shape"
      ],
      "id": "b6b21a95",
      "execution_count": null,
      "outputs": [
        {
          "output_type": "execute_result",
          "data": {
            "text/plain": [
              "(5000, 7)"
            ]
          },
          "metadata": {},
          "execution_count": 24
        }
      ]
    },
    {
      "cell_type": "code",
      "metadata": {
        "colab": {
          "base_uri": "https://localhost:8080/",
          "height": 297
        },
        "execution": {
          "iopub.execute_input": "2021-10-14T13:19:37.870637Z",
          "iopub.status.busy": "2021-10-14T13:19:37.869636Z",
          "iopub.status.idle": "2021-10-14T13:19:37.899662Z",
          "shell.execute_reply": "2021-10-14T13:19:37.899662Z",
          "shell.execute_reply.started": "2021-10-14T13:19:37.870637Z"
        },
        "id": "O8bcKj5GR1_1",
        "tags": [],
        "outputId": "e9711750-86ce-49e0-bea9-33d5fb605769"
      },
      "source": [
        "# Estatísticas descritivas sobre as colunas numéricas (os tipos de dados ainda não foram tratados)\n",
        "df.describe()"
      ],
      "id": "O8bcKj5GR1_1",
      "execution_count": null,
      "outputs": [
        {
          "output_type": "execute_result",
          "data": {
            "text/html": [
              "<div>\n",
              "<style scoped>\n",
              "    .dataframe tbody tr th:only-of-type {\n",
              "        vertical-align: middle;\n",
              "    }\n",
              "\n",
              "    .dataframe tbody tr th {\n",
              "        vertical-align: top;\n",
              "    }\n",
              "\n",
              "    .dataframe thead th {\n",
              "        text-align: right;\n",
              "    }\n",
              "</style>\n",
              "<table border=\"1\" class=\"dataframe\">\n",
              "  <thead>\n",
              "    <tr style=\"text-align: right;\">\n",
              "      <th></th>\n",
              "      <th>Unnamed: 0</th>\n",
              "      <th>fans</th>\n",
              "    </tr>\n",
              "  </thead>\n",
              "  <tbody>\n",
              "    <tr>\n",
              "      <th>count</th>\n",
              "      <td>5000.000000</td>\n",
              "      <td>5000.000000</td>\n",
              "    </tr>\n",
              "    <tr>\n",
              "      <th>mean</th>\n",
              "      <td>2499.500000</td>\n",
              "      <td>87.805800</td>\n",
              "    </tr>\n",
              "    <tr>\n",
              "      <th>std</th>\n",
              "      <td>1443.520003</td>\n",
              "      <td>296.137523</td>\n",
              "    </tr>\n",
              "    <tr>\n",
              "      <th>min</th>\n",
              "      <td>0.000000</td>\n",
              "      <td>0.000000</td>\n",
              "    </tr>\n",
              "    <tr>\n",
              "      <th>25%</th>\n",
              "      <td>1249.750000</td>\n",
              "      <td>4.000000</td>\n",
              "    </tr>\n",
              "    <tr>\n",
              "      <th>50%</th>\n",
              "      <td>2499.500000</td>\n",
              "      <td>12.000000</td>\n",
              "    </tr>\n",
              "    <tr>\n",
              "      <th>75%</th>\n",
              "      <td>3749.250000</td>\n",
              "      <td>42.000000</td>\n",
              "    </tr>\n",
              "    <tr>\n",
              "      <th>max</th>\n",
              "      <td>4999.000000</td>\n",
              "      <td>4195.000000</td>\n",
              "    </tr>\n",
              "  </tbody>\n",
              "</table>\n",
              "</div>"
            ],
            "text/plain": [
              "        Unnamed: 0         fans\n",
              "count  5000.000000  5000.000000\n",
              "mean   2499.500000    87.805800\n",
              "std    1443.520003   296.137523\n",
              "min       0.000000     0.000000\n",
              "25%    1249.750000     4.000000\n",
              "50%    2499.500000    12.000000\n",
              "75%    3749.250000    42.000000\n",
              "max    4999.000000  4195.000000"
            ]
          },
          "metadata": {},
          "execution_count": 25
        }
      ]
    },
    {
      "cell_type": "code",
      "metadata": {
        "colab": {
          "base_uri": "https://localhost:8080/",
          "height": 173
        },
        "execution": {
          "iopub.execute_input": "2021-10-14T13:19:37.921682Z",
          "iopub.status.busy": "2021-10-14T13:19:37.921682Z",
          "iopub.status.idle": "2021-10-14T13:19:37.963720Z",
          "shell.execute_reply": "2021-10-14T13:19:37.963720Z",
          "shell.execute_reply.started": "2021-10-14T13:19:37.921682Z"
        },
        "id": "zpr-EJXcR3q5",
        "tags": [],
        "outputId": "7943b303-13ee-4666-8c84-a7672ad048b0"
      },
      "source": [
        "# Estatísticas descritivas sobre as colunas categóricas\n",
        "df.describe(include='object')"
      ],
      "id": "zpr-EJXcR3q5",
      "execution_count": null,
      "outputs": [
        {
          "output_type": "execute_result",
          "data": {
            "text/html": [
              "<div>\n",
              "<style scoped>\n",
              "    .dataframe tbody tr th:only-of-type {\n",
              "        vertical-align: middle;\n",
              "    }\n",
              "\n",
              "    .dataframe tbody tr th {\n",
              "        vertical-align: top;\n",
              "    }\n",
              "\n",
              "    .dataframe thead th {\n",
              "        text-align: right;\n",
              "    }\n",
              "</style>\n",
              "<table border=\"1\" class=\"dataframe\">\n",
              "  <thead>\n",
              "    <tr style=\"text-align: right;\">\n",
              "      <th></th>\n",
              "      <th>band_name</th>\n",
              "      <th>formed</th>\n",
              "      <th>origin</th>\n",
              "      <th>split</th>\n",
              "      <th>style</th>\n",
              "    </tr>\n",
              "  </thead>\n",
              "  <tbody>\n",
              "    <tr>\n",
              "      <th>count</th>\n",
              "      <td>5000</td>\n",
              "      <td>5000</td>\n",
              "      <td>4992</td>\n",
              "      <td>5000</td>\n",
              "      <td>5000</td>\n",
              "    </tr>\n",
              "    <tr>\n",
              "      <th>unique</th>\n",
              "      <td>4949</td>\n",
              "      <td>53</td>\n",
              "      <td>113</td>\n",
              "      <td>50</td>\n",
              "      <td>1227</td>\n",
              "    </tr>\n",
              "    <tr>\n",
              "      <th>top</th>\n",
              "      <td>Michael Schenker's Temple Of Rock</td>\n",
              "      <td>2005</td>\n",
              "      <td>USA</td>\n",
              "      <td>-</td>\n",
              "      <td>Black</td>\n",
              "    </tr>\n",
              "    <tr>\n",
              "      <th>freq</th>\n",
              "      <td>2</td>\n",
              "      <td>270</td>\n",
              "      <td>1139</td>\n",
              "      <td>2215</td>\n",
              "      <td>345</td>\n",
              "    </tr>\n",
              "  </tbody>\n",
              "</table>\n",
              "</div>"
            ],
            "text/plain": [
              "                                band_name formed origin split  style\n",
              "count                                5000   5000   4992  5000   5000\n",
              "unique                               4949     53    113    50   1227\n",
              "top     Michael Schenker's Temple Of Rock   2005    USA     -  Black\n",
              "freq                                    2    270   1139  2215    345"
            ]
          },
          "metadata": {},
          "execution_count": 26
        }
      ]
    },
    {
      "cell_type": "markdown",
      "metadata": {
        "id": "e4bdfd4e"
      },
      "source": [
        "# Pré-Processamento"
      ],
      "id": "e4bdfd4e"
    },
    {
      "cell_type": "markdown",
      "metadata": {
        "id": "ba6b3957"
      },
      "source": [
        "## Tratamento\tde\tdados\n"
      ],
      "id": "ba6b3957"
    },
    {
      "cell_type": "markdown",
      "metadata": {
        "id": "USLZEv03fnMx"
      },
      "source": [
        "### Dados faltantes"
      ],
      "id": "USLZEv03fnMx"
    },
    {
      "cell_type": "code",
      "metadata": {
        "execution": {
          "iopub.execute_input": "2021-10-14T13:19:38.043793Z",
          "iopub.status.busy": "2021-10-14T13:19:38.043793Z",
          "iopub.status.idle": "2021-10-14T13:19:38.060808Z",
          "shell.execute_reply": "2021-10-14T13:19:38.059807Z",
          "shell.execute_reply.started": "2021-10-14T13:19:38.043793Z"
        },
        "id": "88fb3cc4",
        "tags": []
      },
      "source": [
        "# a coluna Unnamed: 0 é apenas repetição do index do dataframe, vamos removê-la\n",
        "df.drop(columns=['Unnamed: 0'], inplace=True)"
      ],
      "id": "88fb3cc4",
      "execution_count": null,
      "outputs": []
    },
    {
      "cell_type": "code",
      "metadata": {
        "colab": {
          "base_uri": "https://localhost:8080/",
          "height": 204
        },
        "execution": {
          "iopub.execute_input": "2021-10-14T13:19:38.070817Z",
          "iopub.status.busy": "2021-10-14T13:19:38.070817Z",
          "iopub.status.idle": "2021-10-14T13:19:38.091836Z",
          "shell.execute_reply": "2021-10-14T13:19:38.091836Z",
          "shell.execute_reply.started": "2021-10-14T13:19:38.070817Z"
        },
        "id": "zf6Q1rhuXWnx",
        "tags": [],
        "outputId": "626d0cbe-9872-4b91-f0e8-bbf78b7c7e50"
      },
      "source": [
        "df.head()"
      ],
      "id": "zf6Q1rhuXWnx",
      "execution_count": null,
      "outputs": [
        {
          "output_type": "execute_result",
          "data": {
            "text/html": [
              "<div>\n",
              "<style scoped>\n",
              "    .dataframe tbody tr th:only-of-type {\n",
              "        vertical-align: middle;\n",
              "    }\n",
              "\n",
              "    .dataframe tbody tr th {\n",
              "        vertical-align: top;\n",
              "    }\n",
              "\n",
              "    .dataframe thead th {\n",
              "        text-align: right;\n",
              "    }\n",
              "</style>\n",
              "<table border=\"1\" class=\"dataframe\">\n",
              "  <thead>\n",
              "    <tr style=\"text-align: right;\">\n",
              "      <th></th>\n",
              "      <th>band_name</th>\n",
              "      <th>fans</th>\n",
              "      <th>formed</th>\n",
              "      <th>origin</th>\n",
              "      <th>split</th>\n",
              "      <th>style</th>\n",
              "    </tr>\n",
              "  </thead>\n",
              "  <tbody>\n",
              "    <tr>\n",
              "      <th>0</th>\n",
              "      <td>Iron Maiden</td>\n",
              "      <td>4195</td>\n",
              "      <td>1975</td>\n",
              "      <td>United Kingdom</td>\n",
              "      <td>-</td>\n",
              "      <td>New wave of british heavy,Heavy</td>\n",
              "    </tr>\n",
              "    <tr>\n",
              "      <th>1</th>\n",
              "      <td>Opeth</td>\n",
              "      <td>4147</td>\n",
              "      <td>1990</td>\n",
              "      <td>Sweden</td>\n",
              "      <td>1990</td>\n",
              "      <td>Extreme progressive,Progressive rock,Progressive</td>\n",
              "    </tr>\n",
              "    <tr>\n",
              "      <th>2</th>\n",
              "      <td>Metallica</td>\n",
              "      <td>3712</td>\n",
              "      <td>1981</td>\n",
              "      <td>USA</td>\n",
              "      <td>-</td>\n",
              "      <td>Heavy,Bay area thrash</td>\n",
              "    </tr>\n",
              "    <tr>\n",
              "      <th>3</th>\n",
              "      <td>Megadeth</td>\n",
              "      <td>3105</td>\n",
              "      <td>1983</td>\n",
              "      <td>USA</td>\n",
              "      <td>1983</td>\n",
              "      <td>Thrash,Heavy,Hard rock</td>\n",
              "    </tr>\n",
              "    <tr>\n",
              "      <th>4</th>\n",
              "      <td>Amon Amarth</td>\n",
              "      <td>3054</td>\n",
              "      <td>1988</td>\n",
              "      <td>Sweden</td>\n",
              "      <td>-</td>\n",
              "      <td>Melodic death</td>\n",
              "    </tr>\n",
              "  </tbody>\n",
              "</table>\n",
              "</div>"
            ],
            "text/plain": [
              "     band_name  fans  ... split                                             style\n",
              "0  Iron Maiden  4195  ...     -                   New wave of british heavy,Heavy\n",
              "1        Opeth  4147  ...  1990  Extreme progressive,Progressive rock,Progressive\n",
              "2    Metallica  3712  ...     -                             Heavy,Bay area thrash\n",
              "3     Megadeth  3105  ...  1983                            Thrash,Heavy,Hard rock\n",
              "4  Amon Amarth  3054  ...     -                                     Melodic death\n",
              "\n",
              "[5 rows x 6 columns]"
            ]
          },
          "metadata": {},
          "execution_count": 28
        }
      ]
    },
    {
      "cell_type": "code",
      "metadata": {
        "colab": {
          "base_uri": "https://localhost:8080/"
        },
        "execution": {
          "iopub.execute_input": "2021-10-14T13:19:38.099843Z",
          "iopub.status.busy": "2021-10-14T13:19:38.098842Z",
          "iopub.status.idle": "2021-10-14T13:19:38.107851Z",
          "shell.execute_reply": "2021-10-14T13:19:38.107851Z",
          "shell.execute_reply.started": "2021-10-14T13:19:38.099843Z"
        },
        "id": "rBUigf8uRHY9",
        "tags": [],
        "outputId": "4ad3bf67-5662-451f-ebfb-597c1a0911e0"
      },
      "source": [
        "# visualizando quantidade de dados por colunas que possuem dados faltantes\n",
        "df.isna().sum()"
      ],
      "id": "rBUigf8uRHY9",
      "execution_count": null,
      "outputs": [
        {
          "output_type": "execute_result",
          "data": {
            "text/plain": [
              "band_name    0\n",
              "fans         0\n",
              "formed       0\n",
              "origin       8\n",
              "split        0\n",
              "style        0\n",
              "dtype: int64"
            ]
          },
          "metadata": {},
          "execution_count": 29
        }
      ]
    },
    {
      "cell_type": "markdown",
      "metadata": {
        "id": "0N0rfpODxH9d"
      },
      "source": [
        "A princípio, apenas a coluna 'origin' possui valores faltantes. Mas ao investigar o dataset mais a frente, veremos que existem alguns valores que foram preenchidos com um traço \"-\" para indicar a falta daquele atributo."
      ],
      "id": "0N0rfpODxH9d"
    },
    {
      "cell_type": "code",
      "metadata": {
        "colab": {
          "base_uri": "https://localhost:8080/",
          "height": 297
        },
        "execution": {
          "iopub.execute_input": "2021-10-14T13:19:38.131873Z",
          "iopub.status.busy": "2021-10-14T13:19:38.131873Z",
          "iopub.status.idle": "2021-10-14T13:19:38.155893Z",
          "shell.execute_reply": "2021-10-14T13:19:38.155893Z",
          "shell.execute_reply.started": "2021-10-14T13:19:38.131873Z"
        },
        "id": "07Y_xYVbXlTo",
        "tags": [],
        "outputId": "f6bc4ca9-bdcc-417b-f273-6e088cda5981"
      },
      "source": [
        "# Verificando quais registros possuem dados faltantes\n",
        "df[df['origin'].isna()]"
      ],
      "id": "07Y_xYVbXlTo",
      "execution_count": null,
      "outputs": [
        {
          "output_type": "execute_result",
          "data": {
            "text/html": [
              "<div>\n",
              "<style scoped>\n",
              "    .dataframe tbody tr th:only-of-type {\n",
              "        vertical-align: middle;\n",
              "    }\n",
              "\n",
              "    .dataframe tbody tr th {\n",
              "        vertical-align: top;\n",
              "    }\n",
              "\n",
              "    .dataframe thead th {\n",
              "        text-align: right;\n",
              "    }\n",
              "</style>\n",
              "<table border=\"1\" class=\"dataframe\">\n",
              "  <thead>\n",
              "    <tr style=\"text-align: right;\">\n",
              "      <th></th>\n",
              "      <th>band_name</th>\n",
              "      <th>fans</th>\n",
              "      <th>formed</th>\n",
              "      <th>origin</th>\n",
              "      <th>split</th>\n",
              "      <th>style</th>\n",
              "    </tr>\n",
              "  </thead>\n",
              "  <tbody>\n",
              "    <tr>\n",
              "      <th>460</th>\n",
              "      <td>Enshine</td>\n",
              "      <td>175</td>\n",
              "      <td>2009</td>\n",
              "      <td>NaN</td>\n",
              "      <td>-</td>\n",
              "      <td>Gothic doom</td>\n",
              "    </tr>\n",
              "    <tr>\n",
              "      <th>989</th>\n",
              "      <td>Clouds</td>\n",
              "      <td>61</td>\n",
              "      <td>2013</td>\n",
              "      <td>NaN</td>\n",
              "      <td>2013</td>\n",
              "      <td>Atmospheric doom</td>\n",
              "    </tr>\n",
              "    <tr>\n",
              "      <th>1422</th>\n",
              "      <td>Subterranean Masquerade</td>\n",
              "      <td>35</td>\n",
              "      <td>1997</td>\n",
              "      <td>NaN</td>\n",
              "      <td>-</td>\n",
              "      <td>Progressive,Psychedelic rock</td>\n",
              "    </tr>\n",
              "    <tr>\n",
              "      <th>2614</th>\n",
              "      <td>Twilight Of The Gods</td>\n",
              "      <td>11</td>\n",
              "      <td>2010</td>\n",
              "      <td>NaN</td>\n",
              "      <td>-</td>\n",
              "      <td>Heavy</td>\n",
              "    </tr>\n",
              "    <tr>\n",
              "      <th>2996</th>\n",
              "      <td>Archivist</td>\n",
              "      <td>7</td>\n",
              "      <td>2015</td>\n",
              "      <td>NaN</td>\n",
              "      <td>-</td>\n",
              "      <td>Atmospheric black,Post-metal</td>\n",
              "    </tr>\n",
              "    <tr>\n",
              "      <th>3444</th>\n",
              "      <td>Metallic Taste Of Blood</td>\n",
              "      <td>5</td>\n",
              "      <td>2011</td>\n",
              "      <td>NaN</td>\n",
              "      <td>-</td>\n",
              "      <td>Progressive,Instrumental</td>\n",
              "    </tr>\n",
              "    <tr>\n",
              "      <th>3941</th>\n",
              "      <td>Level 10</td>\n",
              "      <td>3</td>\n",
              "      <td>2014</td>\n",
              "      <td>NaN</td>\n",
              "      <td>2014</td>\n",
              "      <td>Heavy,Power</td>\n",
              "    </tr>\n",
              "    <tr>\n",
              "      <th>4201</th>\n",
              "      <td>Death Penalty</td>\n",
              "      <td>2</td>\n",
              "      <td>2013</td>\n",
              "      <td>NaN</td>\n",
              "      <td>2013</td>\n",
              "      <td>Doom,Heavy</td>\n",
              "    </tr>\n",
              "  </tbody>\n",
              "</table>\n",
              "</div>"
            ],
            "text/plain": [
              "                    band_name  fans  ... split                         style\n",
              "460                   Enshine   175  ...     -                   Gothic doom\n",
              "989                    Clouds    61  ...  2013              Atmospheric doom\n",
              "1422  Subterranean Masquerade    35  ...     -  Progressive,Psychedelic rock\n",
              "2614     Twilight Of The Gods    11  ...     -                         Heavy\n",
              "2996                Archivist     7  ...     -  Atmospheric black,Post-metal\n",
              "3444  Metallic Taste Of Blood     5  ...     -      Progressive,Instrumental\n",
              "3941                 Level 10     3  ...  2014                   Heavy,Power\n",
              "4201            Death Penalty     2  ...  2013                    Doom,Heavy\n",
              "\n",
              "[8 rows x 6 columns]"
            ]
          },
          "metadata": {},
          "execution_count": 30
        }
      ]
    },
    {
      "cell_type": "code",
      "metadata": {
        "execution": {
          "iopub.execute_input": "2021-10-14T13:19:38.185921Z",
          "iopub.status.busy": "2021-10-14T13:19:38.185921Z",
          "iopub.status.idle": "2021-10-14T13:19:38.203937Z",
          "shell.execute_reply": "2021-10-14T13:19:38.203937Z",
          "shell.execute_reply.started": "2021-10-14T13:19:38.185921Z"
        },
        "id": "zDdjgy0YZCww",
        "tags": []
      },
      "source": [
        "# removendo linhas que possuem ano de origem faltante\n",
        "df.dropna(inplace=True)"
      ],
      "id": "zDdjgy0YZCww",
      "execution_count": null,
      "outputs": []
    },
    {
      "cell_type": "code",
      "metadata": {
        "colab": {
          "base_uri": "https://localhost:8080/"
        },
        "execution": {
          "iopub.execute_input": "2021-10-14T13:19:38.205939Z",
          "iopub.status.busy": "2021-10-14T13:19:38.205939Z",
          "iopub.status.idle": "2021-10-14T13:19:38.219952Z",
          "shell.execute_reply": "2021-10-14T13:19:38.219952Z",
          "shell.execute_reply.started": "2021-10-14T13:19:38.205939Z"
        },
        "id": "PiMZQ3NmZVI7",
        "tags": [],
        "outputId": "4c717bff-40bf-4301-b16e-2ee1ce9612b5"
      },
      "source": [
        "df.isna().sum()"
      ],
      "id": "PiMZQ3NmZVI7",
      "execution_count": null,
      "outputs": [
        {
          "output_type": "execute_result",
          "data": {
            "text/plain": [
              "band_name    0\n",
              "fans         0\n",
              "formed       0\n",
              "origin       0\n",
              "split        0\n",
              "style        0\n",
              "dtype: int64"
            ]
          },
          "metadata": {},
          "execution_count": 32
        }
      ]
    },
    {
      "cell_type": "markdown",
      "metadata": {
        "id": "8wq8VS7Hfsvy"
      },
      "source": [
        "### Dados duplicados"
      ],
      "id": "8wq8VS7Hfsvy"
    },
    {
      "cell_type": "code",
      "metadata": {
        "colab": {
          "base_uri": "https://localhost:8080/"
        },
        "execution": {
          "iopub.execute_input": "2021-10-14T13:19:38.281007Z",
          "iopub.status.busy": "2021-10-14T13:19:38.281007Z",
          "iopub.status.idle": "2021-10-14T13:19:38.300024Z",
          "shell.execute_reply": "2021-10-14T13:19:38.300024Z",
          "shell.execute_reply.started": "2021-10-14T13:19:38.281007Z"
        },
        "id": "wW-1-g3RZfSF",
        "tags": [],
        "outputId": "436b3f67-19e9-4859-ac50-fc4b3fbcc86a"
      },
      "source": [
        "# verificando se existem nomes de bandas duplicados\n",
        "df[\"band_name\"].duplicated().sum()"
      ],
      "id": "wW-1-g3RZfSF",
      "execution_count": null,
      "outputs": [
        {
          "output_type": "execute_result",
          "data": {
            "text/plain": [
              "51"
            ]
          },
          "metadata": {},
          "execution_count": 33
        }
      ]
    },
    {
      "cell_type": "code",
      "metadata": {
        "colab": {
          "base_uri": "https://localhost:8080/"
        },
        "execution": {
          "iopub.execute_input": "2021-10-14T13:19:38.302026Z",
          "iopub.status.busy": "2021-10-14T13:19:38.301025Z",
          "iopub.status.idle": "2021-10-14T13:19:38.315037Z",
          "shell.execute_reply": "2021-10-14T13:19:38.315037Z",
          "shell.execute_reply.started": "2021-10-14T13:19:38.302026Z"
        },
        "id": "VAXEvIqgbana",
        "tags": [],
        "outputId": "a31942e0-2810-4ede-fce0-a941f8bbafc9"
      },
      "source": [
        "df.shape"
      ],
      "id": "VAXEvIqgbana",
      "execution_count": null,
      "outputs": [
        {
          "output_type": "execute_result",
          "data": {
            "text/plain": [
              "(4992, 6)"
            ]
          },
          "metadata": {},
          "execution_count": 34
        }
      ]
    },
    {
      "cell_type": "code",
      "metadata": {
        "execution": {
          "iopub.execute_input": "2021-10-14T13:19:38.348067Z",
          "iopub.status.busy": "2021-10-14T13:19:38.348067Z",
          "iopub.status.idle": "2021-10-14T13:19:38.363080Z",
          "shell.execute_reply": "2021-10-14T13:19:38.363080Z",
          "shell.execute_reply.started": "2021-10-14T13:19:38.348067Z"
        },
        "id": "LCECWTI5amCb",
        "tags": []
      },
      "source": [
        "# removendo linhas com nome de banda duplicado\n",
        "df.drop_duplicates(subset=\"band_name\", keep='first', inplace=True)"
      ],
      "id": "LCECWTI5amCb",
      "execution_count": null,
      "outputs": []
    },
    {
      "cell_type": "code",
      "metadata": {
        "colab": {
          "base_uri": "https://localhost:8080/"
        },
        "execution": {
          "iopub.execute_input": "2021-10-14T13:19:38.365083Z",
          "iopub.status.busy": "2021-10-14T13:19:38.365083Z",
          "iopub.status.idle": "2021-10-14T13:19:38.379095Z",
          "shell.execute_reply": "2021-10-14T13:19:38.379095Z",
          "shell.execute_reply.started": "2021-10-14T13:19:38.365083Z"
        },
        "id": "nCrXULt_5IZ2",
        "tags": [],
        "outputId": "4f3d4271-7e23-4d7c-b62f-b4c79feceddd"
      },
      "source": [
        "df.shape"
      ],
      "id": "nCrXULt_5IZ2",
      "execution_count": null,
      "outputs": [
        {
          "output_type": "execute_result",
          "data": {
            "text/plain": [
              "(4941, 6)"
            ]
          },
          "metadata": {},
          "execution_count": 36
        }
      ]
    },
    {
      "cell_type": "markdown",
      "metadata": {
        "id": "Y9kKj5hYfyEP"
      },
      "source": [
        "### Outros tratamentos"
      ],
      "id": "Y9kKj5hYfyEP"
    },
    {
      "cell_type": "markdown",
      "metadata": {
        "id": "9mxa0aLryBER"
      },
      "source": [
        "##### Removendo bandas sem data de criação"
      ],
      "id": "9mxa0aLryBER"
    },
    {
      "cell_type": "markdown",
      "metadata": {
        "id": "99wayzA9cHx1"
      },
      "source": [
        "Linhas com o caractere \"-\" em qualquer coluna indica que aquele dado não está disponível. Na coluna \"split\" não precisa necessáriamente ser tratado (já que pode indicar que a banda ainda está ativa), mas na coluna \"formed\" sim, pois não tem a informação de qual ano a banda foi criada."
      ],
      "id": "99wayzA9cHx1"
    },
    {
      "cell_type": "code",
      "metadata": {
        "colab": {
          "base_uri": "https://localhost:8080/",
          "height": 173
        },
        "execution": {
          "iopub.execute_input": "2021-10-14T13:19:38.508213Z",
          "iopub.status.busy": "2021-10-14T13:19:38.508213Z",
          "iopub.status.idle": "2021-10-14T13:19:38.523225Z",
          "shell.execute_reply": "2021-10-14T13:19:38.523225Z",
          "shell.execute_reply.started": "2021-10-14T13:19:38.508213Z"
        },
        "id": "C1XwcpL3enFZ",
        "tags": [],
        "outputId": "af4261e8-1384-4e05-b931-62514e0e2640"
      },
      "source": [
        "df[df['formed'] == '-']"
      ],
      "id": "C1XwcpL3enFZ",
      "execution_count": null,
      "outputs": [
        {
          "output_type": "execute_result",
          "data": {
            "text/html": [
              "<div>\n",
              "<style scoped>\n",
              "    .dataframe tbody tr th:only-of-type {\n",
              "        vertical-align: middle;\n",
              "    }\n",
              "\n",
              "    .dataframe tbody tr th {\n",
              "        vertical-align: top;\n",
              "    }\n",
              "\n",
              "    .dataframe thead th {\n",
              "        text-align: right;\n",
              "    }\n",
              "</style>\n",
              "<table border=\"1\" class=\"dataframe\">\n",
              "  <thead>\n",
              "    <tr style=\"text-align: right;\">\n",
              "      <th></th>\n",
              "      <th>band_name</th>\n",
              "      <th>fans</th>\n",
              "      <th>formed</th>\n",
              "      <th>origin</th>\n",
              "      <th>split</th>\n",
              "      <th>style</th>\n",
              "    </tr>\n",
              "  </thead>\n",
              "  <tbody>\n",
              "    <tr>\n",
              "      <th>4442</th>\n",
              "      <td>Throes Of Sanity</td>\n",
              "      <td>2</td>\n",
              "      <td>-</td>\n",
              "      <td>USA</td>\n",
              "      <td>-</td>\n",
              "      <td>Us power</td>\n",
              "    </tr>\n",
              "    <tr>\n",
              "      <th>4599</th>\n",
              "      <td>Doomocracy</td>\n",
              "      <td>1</td>\n",
              "      <td>-</td>\n",
              "      <td>Greece</td>\n",
              "      <td>-</td>\n",
              "      <td>Doom</td>\n",
              "    </tr>\n",
              "    <tr>\n",
              "      <th>4821</th>\n",
              "      <td>Rustless</td>\n",
              "      <td>1</td>\n",
              "      <td>-</td>\n",
              "      <td>Italy</td>\n",
              "      <td>-</td>\n",
              "      <td>Heavy</td>\n",
              "    </tr>\n",
              "    <tr>\n",
              "      <th>4948</th>\n",
              "      <td>Weapon UK</td>\n",
              "      <td>1</td>\n",
              "      <td>-</td>\n",
              "      <td>United Kingdom</td>\n",
              "      <td>-</td>\n",
              "      <td>New wave of british heavy,Heavy</td>\n",
              "    </tr>\n",
              "  </tbody>\n",
              "</table>\n",
              "</div>"
            ],
            "text/plain": [
              "             band_name  fans  ... split                            style\n",
              "4442  Throes Of Sanity     2  ...     -                         Us power\n",
              "4599        Doomocracy     1  ...     -                             Doom\n",
              "4821          Rustless     1  ...     -                            Heavy\n",
              "4948         Weapon UK     1  ...     -  New wave of british heavy,Heavy\n",
              "\n",
              "[4 rows x 6 columns]"
            ]
          },
          "metadata": {},
          "execution_count": 37
        }
      ]
    },
    {
      "cell_type": "code",
      "metadata": {
        "colab": {
          "base_uri": "https://localhost:8080/"
        },
        "execution": {
          "iopub.execute_input": "2021-10-14T13:19:38.525227Z",
          "iopub.status.busy": "2021-10-14T13:19:38.525227Z",
          "iopub.status.idle": "2021-10-14T13:19:38.538239Z",
          "shell.execute_reply": "2021-10-14T13:19:38.538239Z",
          "shell.execute_reply.started": "2021-10-14T13:19:38.525227Z"
        },
        "id": "49bf1c1b",
        "tags": [],
        "outputId": "37f7a442-f8be-4aa8-a831-bc5aae1adfd0"
      },
      "source": [
        "indexNaNFormed = df[df['formed'] == '-'].index\n",
        "indexNaNFormed"
      ],
      "id": "49bf1c1b",
      "execution_count": null,
      "outputs": [
        {
          "output_type": "execute_result",
          "data": {
            "text/plain": [
              "Int64Index([4442, 4599, 4821, 4948], dtype='int64')"
            ]
          },
          "metadata": {},
          "execution_count": 38
        }
      ]
    },
    {
      "cell_type": "code",
      "metadata": {
        "execution": {
          "iopub.execute_input": "2021-10-14T13:19:38.565263Z",
          "iopub.status.busy": "2021-10-14T13:19:38.565263Z",
          "iopub.status.idle": "2021-10-14T13:19:38.570267Z",
          "shell.execute_reply": "2021-10-14T13:19:38.570267Z",
          "shell.execute_reply.started": "2021-10-14T13:19:38.565263Z"
        },
        "id": "8RGd02TpcZvW",
        "tags": []
      },
      "source": [
        "# como são poucas linhas, vamos removê-las\n",
        "df.drop(indexNaNFormed , inplace=True)"
      ],
      "id": "8RGd02TpcZvW",
      "execution_count": null,
      "outputs": []
    },
    {
      "cell_type": "code",
      "metadata": {
        "colab": {
          "base_uri": "https://localhost:8080/"
        },
        "execution": {
          "iopub.execute_input": "2021-10-14T13:19:38.594289Z",
          "iopub.status.busy": "2021-10-14T13:19:38.594289Z",
          "iopub.status.idle": "2021-10-14T13:19:38.602297Z",
          "shell.execute_reply": "2021-10-14T13:19:38.602297Z",
          "shell.execute_reply.started": "2021-10-14T13:19:38.594289Z"
        },
        "id": "gHoLRzhgetZr",
        "tags": [],
        "outputId": "1bc02548-dba7-4a6e-e83a-d5a0d419b4c0"
      },
      "source": [
        "df.shape"
      ],
      "id": "gHoLRzhgetZr",
      "execution_count": null,
      "outputs": [
        {
          "output_type": "execute_result",
          "data": {
            "text/plain": [
              "(4937, 6)"
            ]
          },
          "metadata": {},
          "execution_count": 40
        }
      ]
    },
    {
      "cell_type": "markdown",
      "metadata": {
        "id": "FhS8C3pThCoF"
      },
      "source": [
        "##### Separando subgêneros"
      ],
      "id": "FhS8C3pThCoF"
    },
    {
      "cell_type": "markdown",
      "metadata": {
        "id": "TBvuLzsSf6jT"
      },
      "source": [
        "A coluna \"*style*\" pode conter mais de um subgênero, então vamos dividí-los para que fique melhor a visualização"
      ],
      "id": "TBvuLzsSf6jT"
    },
    {
      "cell_type": "code",
      "metadata": {
        "colab": {
          "base_uri": "https://localhost:8080/"
        },
        "execution": {
          "iopub.execute_input": "2021-10-14T13:19:38.697382Z",
          "iopub.status.busy": "2021-10-14T13:19:38.697382Z",
          "iopub.status.idle": "2021-10-14T13:19:38.714398Z",
          "shell.execute_reply": "2021-10-14T13:19:38.714398Z",
          "shell.execute_reply.started": "2021-10-14T13:19:38.697382Z"
        },
        "id": "FQaZ2WxOgUQM",
        "tags": [],
        "outputId": "b28bf29b-036a-458c-c62c-8f2e911247f8"
      },
      "source": [
        "generos = df['style'].str.split(',', expand = True)\n",
        "generos.count()"
      ],
      "id": "FQaZ2WxOgUQM",
      "execution_count": null,
      "outputs": [
        {
          "output_type": "execute_result",
          "data": {
            "text/plain": [
              "0    4937\n",
              "1    2152\n",
              "2     434\n",
              "3      80\n",
              "4      15\n",
              "5       3\n",
              "dtype: int64"
            ]
          },
          "metadata": {},
          "execution_count": 41
        }
      ]
    },
    {
      "cell_type": "code",
      "metadata": {
        "colab": {
          "base_uri": "https://localhost:8080/",
          "height": 204
        },
        "execution": {
          "iopub.execute_input": "2021-10-14T13:19:38.726409Z",
          "iopub.status.busy": "2021-10-14T13:19:38.726409Z",
          "iopub.status.idle": "2021-10-14T13:19:38.746427Z",
          "shell.execute_reply": "2021-10-14T13:19:38.746427Z",
          "shell.execute_reply.started": "2021-10-14T13:19:38.726409Z"
        },
        "id": "HHmsI18th4rs",
        "tags": [],
        "outputId": "7ac02282-899e-478e-97a8-8be442818c81"
      },
      "source": [
        "df.head()"
      ],
      "id": "HHmsI18th4rs",
      "execution_count": null,
      "outputs": [
        {
          "output_type": "execute_result",
          "data": {
            "text/html": [
              "<div>\n",
              "<style scoped>\n",
              "    .dataframe tbody tr th:only-of-type {\n",
              "        vertical-align: middle;\n",
              "    }\n",
              "\n",
              "    .dataframe tbody tr th {\n",
              "        vertical-align: top;\n",
              "    }\n",
              "\n",
              "    .dataframe thead th {\n",
              "        text-align: right;\n",
              "    }\n",
              "</style>\n",
              "<table border=\"1\" class=\"dataframe\">\n",
              "  <thead>\n",
              "    <tr style=\"text-align: right;\">\n",
              "      <th></th>\n",
              "      <th>band_name</th>\n",
              "      <th>fans</th>\n",
              "      <th>formed</th>\n",
              "      <th>origin</th>\n",
              "      <th>split</th>\n",
              "      <th>style</th>\n",
              "    </tr>\n",
              "  </thead>\n",
              "  <tbody>\n",
              "    <tr>\n",
              "      <th>0</th>\n",
              "      <td>Iron Maiden</td>\n",
              "      <td>4195</td>\n",
              "      <td>1975</td>\n",
              "      <td>United Kingdom</td>\n",
              "      <td>-</td>\n",
              "      <td>New wave of british heavy,Heavy</td>\n",
              "    </tr>\n",
              "    <tr>\n",
              "      <th>1</th>\n",
              "      <td>Opeth</td>\n",
              "      <td>4147</td>\n",
              "      <td>1990</td>\n",
              "      <td>Sweden</td>\n",
              "      <td>1990</td>\n",
              "      <td>Extreme progressive,Progressive rock,Progressive</td>\n",
              "    </tr>\n",
              "    <tr>\n",
              "      <th>2</th>\n",
              "      <td>Metallica</td>\n",
              "      <td>3712</td>\n",
              "      <td>1981</td>\n",
              "      <td>USA</td>\n",
              "      <td>-</td>\n",
              "      <td>Heavy,Bay area thrash</td>\n",
              "    </tr>\n",
              "    <tr>\n",
              "      <th>3</th>\n",
              "      <td>Megadeth</td>\n",
              "      <td>3105</td>\n",
              "      <td>1983</td>\n",
              "      <td>USA</td>\n",
              "      <td>1983</td>\n",
              "      <td>Thrash,Heavy,Hard rock</td>\n",
              "    </tr>\n",
              "    <tr>\n",
              "      <th>4</th>\n",
              "      <td>Amon Amarth</td>\n",
              "      <td>3054</td>\n",
              "      <td>1988</td>\n",
              "      <td>Sweden</td>\n",
              "      <td>-</td>\n",
              "      <td>Melodic death</td>\n",
              "    </tr>\n",
              "  </tbody>\n",
              "</table>\n",
              "</div>"
            ],
            "text/plain": [
              "     band_name  fans  ... split                                             style\n",
              "0  Iron Maiden  4195  ...     -                   New wave of british heavy,Heavy\n",
              "1        Opeth  4147  ...  1990  Extreme progressive,Progressive rock,Progressive\n",
              "2    Metallica  3712  ...     -                             Heavy,Bay area thrash\n",
              "3     Megadeth  3105  ...  1983                            Thrash,Heavy,Hard rock\n",
              "4  Amon Amarth  3054  ...     -                                     Melodic death\n",
              "\n",
              "[5 rows x 6 columns]"
            ]
          },
          "metadata": {},
          "execution_count": 42
        }
      ]
    },
    {
      "cell_type": "markdown",
      "metadata": {
        "id": "lmLCHUNihTo2"
      },
      "source": [
        "Como as bandas podem ter até 5 subgêneros, mas nem a metade das bandas possui mais de 1 gênero. Então vamos manter pelo menos um subgênero principal e outro secundário."
      ],
      "id": "lmLCHUNihTo2"
    },
    {
      "cell_type": "code",
      "metadata": {
        "colab": {
          "base_uri": "https://localhost:8080/",
          "height": 255
        },
        "execution": {
          "iopub.execute_input": "2021-10-14T13:19:38.812486Z",
          "iopub.status.busy": "2021-10-14T13:19:38.811487Z",
          "iopub.status.idle": "2021-10-14T13:19:38.826499Z",
          "shell.execute_reply": "2021-10-14T13:19:38.826499Z",
          "shell.execute_reply.started": "2021-10-14T13:19:38.812486Z"
        },
        "id": "G_UBzmn0htgv",
        "tags": [],
        "outputId": "ae1e37ef-dbc0-4b89-9abd-637c5b7cee6d"
      },
      "source": [
        "df['main_style'] = generos[0]\n",
        "df['secondary_style'] = generos[1]\n",
        "\n",
        "df.head()"
      ],
      "id": "G_UBzmn0htgv",
      "execution_count": null,
      "outputs": [
        {
          "output_type": "execute_result",
          "data": {
            "text/html": [
              "<div>\n",
              "<style scoped>\n",
              "    .dataframe tbody tr th:only-of-type {\n",
              "        vertical-align: middle;\n",
              "    }\n",
              "\n",
              "    .dataframe tbody tr th {\n",
              "        vertical-align: top;\n",
              "    }\n",
              "\n",
              "    .dataframe thead th {\n",
              "        text-align: right;\n",
              "    }\n",
              "</style>\n",
              "<table border=\"1\" class=\"dataframe\">\n",
              "  <thead>\n",
              "    <tr style=\"text-align: right;\">\n",
              "      <th></th>\n",
              "      <th>band_name</th>\n",
              "      <th>fans</th>\n",
              "      <th>formed</th>\n",
              "      <th>origin</th>\n",
              "      <th>split</th>\n",
              "      <th>style</th>\n",
              "      <th>main_style</th>\n",
              "      <th>secondary_style</th>\n",
              "    </tr>\n",
              "  </thead>\n",
              "  <tbody>\n",
              "    <tr>\n",
              "      <th>0</th>\n",
              "      <td>Iron Maiden</td>\n",
              "      <td>4195</td>\n",
              "      <td>1975</td>\n",
              "      <td>United Kingdom</td>\n",
              "      <td>-</td>\n",
              "      <td>New wave of british heavy,Heavy</td>\n",
              "      <td>New wave of british heavy</td>\n",
              "      <td>Heavy</td>\n",
              "    </tr>\n",
              "    <tr>\n",
              "      <th>1</th>\n",
              "      <td>Opeth</td>\n",
              "      <td>4147</td>\n",
              "      <td>1990</td>\n",
              "      <td>Sweden</td>\n",
              "      <td>1990</td>\n",
              "      <td>Extreme progressive,Progressive rock,Progressive</td>\n",
              "      <td>Extreme progressive</td>\n",
              "      <td>Progressive rock</td>\n",
              "    </tr>\n",
              "    <tr>\n",
              "      <th>2</th>\n",
              "      <td>Metallica</td>\n",
              "      <td>3712</td>\n",
              "      <td>1981</td>\n",
              "      <td>USA</td>\n",
              "      <td>-</td>\n",
              "      <td>Heavy,Bay area thrash</td>\n",
              "      <td>Heavy</td>\n",
              "      <td>Bay area thrash</td>\n",
              "    </tr>\n",
              "    <tr>\n",
              "      <th>3</th>\n",
              "      <td>Megadeth</td>\n",
              "      <td>3105</td>\n",
              "      <td>1983</td>\n",
              "      <td>USA</td>\n",
              "      <td>1983</td>\n",
              "      <td>Thrash,Heavy,Hard rock</td>\n",
              "      <td>Thrash</td>\n",
              "      <td>Heavy</td>\n",
              "    </tr>\n",
              "    <tr>\n",
              "      <th>4</th>\n",
              "      <td>Amon Amarth</td>\n",
              "      <td>3054</td>\n",
              "      <td>1988</td>\n",
              "      <td>Sweden</td>\n",
              "      <td>-</td>\n",
              "      <td>Melodic death</td>\n",
              "      <td>Melodic death</td>\n",
              "      <td>None</td>\n",
              "    </tr>\n",
              "  </tbody>\n",
              "</table>\n",
              "</div>"
            ],
            "text/plain": [
              "     band_name  fans  ...                 main_style   secondary_style\n",
              "0  Iron Maiden  4195  ...  New wave of british heavy             Heavy\n",
              "1        Opeth  4147  ...        Extreme progressive  Progressive rock\n",
              "2    Metallica  3712  ...                      Heavy   Bay area thrash\n",
              "3     Megadeth  3105  ...                     Thrash             Heavy\n",
              "4  Amon Amarth  3054  ...              Melodic death              None\n",
              "\n",
              "[5 rows x 8 columns]"
            ]
          },
          "metadata": {},
          "execution_count": 43
        }
      ]
    },
    {
      "cell_type": "code",
      "metadata": {
        "colab": {
          "base_uri": "https://localhost:8080/"
        },
        "execution": {
          "iopub.execute_input": "2021-10-14T13:19:38.828501Z",
          "iopub.status.busy": "2021-10-14T13:19:38.828501Z",
          "iopub.status.idle": "2021-10-14T13:19:38.842513Z",
          "shell.execute_reply": "2021-10-14T13:19:38.842513Z",
          "shell.execute_reply.started": "2021-10-14T13:19:38.828501Z"
        },
        "id": "dSi_Cupz5o1g",
        "tags": [],
        "outputId": "1a2a3094-d5cf-4ed5-eb13-ac59bb82db52"
      },
      "source": [
        "df.shape"
      ],
      "id": "dSi_Cupz5o1g",
      "execution_count": null,
      "outputs": [
        {
          "output_type": "execute_result",
          "data": {
            "text/plain": [
              "(4937, 8)"
            ]
          },
          "metadata": {},
          "execution_count": 44
        }
      ]
    },
    {
      "cell_type": "markdown",
      "metadata": {
        "id": "3nMIz5fEyORO"
      },
      "source": [
        "##### Tratando país de origem"
      ],
      "id": "3nMIz5fEyORO"
    },
    {
      "cell_type": "markdown",
      "metadata": {
        "id": "oHEvfatezKzR"
      },
      "source": [
        "Os dados dos países de origem não estão padronizados de acordo com a [ISO 3166-1 alpha-3 ](https://en.wikipedia.org/wiki/ISO_3166-1_alpha-3), é necessário tratá-los.\n",
        "\n",
        "Alguns exemplos de dados não tratados: \"Canada, France\", \"Korean, South\", etc. Vamos dividir esse dado e manter apenas o primeiro antes da vírgula."
      ],
      "id": "oHEvfatezKzR"
    },
    {
      "cell_type": "code",
      "metadata": {
        "colab": {
          "base_uri": "https://localhost:8080/"
        },
        "execution": {
          "iopub.execute_input": "2021-10-14T13:19:38.927590Z",
          "iopub.status.busy": "2021-10-14T13:19:38.927590Z",
          "iopub.status.idle": "2021-10-14T13:19:38.938600Z",
          "shell.execute_reply": "2021-10-14T13:19:38.938600Z",
          "shell.execute_reply.started": "2021-10-14T13:19:38.927590Z"
        },
        "id": "bZsBJ13NyS8p",
        "tags": [],
        "outputId": "af7d8cfb-c2c4-4731-ba3b-9b28e554153b"
      },
      "source": [
        "df['origin'].value_counts()"
      ],
      "id": "bZsBJ13NyS8p",
      "execution_count": null,
      "outputs": [
        {
          "output_type": "execute_result",
          "data": {
            "text/plain": [
              "USA                1122\n",
              "Sweden              469\n",
              "Germany             392\n",
              "United Kingdom      338\n",
              "Finland             300\n",
              "                   ... \n",
              "Iran, Norway          1\n",
              "Andorra               1\n",
              "Ukraine, Canada       1\n",
              "Norway, Finland       1\n",
              "Venezuela             1\n",
              "Name: origin, Length: 113, dtype: int64"
            ]
          },
          "metadata": {},
          "execution_count": 45
        }
      ]
    },
    {
      "cell_type": "markdown",
      "metadata": {
        "id": "6KlngyOAAgSb"
      },
      "source": [
        "Como estaremos usando uma [biblioteca](https://github.com/yaph/geonamescache) que precisam dos dados dos países (coluna \"origin\") no padrão ISO, precisamos tratar os valores que não estão conforme este padrão."
      ],
      "id": "6KlngyOAAgSb"
    },
    {
      "cell_type": "code",
      "metadata": {
        "execution": {
          "iopub.execute_input": "2021-10-14T13:19:39.011666Z",
          "iopub.status.busy": "2021-10-14T13:19:39.010665Z",
          "iopub.status.idle": "2021-10-14T13:19:39.017671Z",
          "shell.execute_reply": "2021-10-14T13:19:39.017671Z",
          "shell.execute_reply.started": "2021-10-14T13:19:39.010665Z"
        },
        "id": "5Q0bsfmrAVot",
        "tags": [],
        "colab": {
          "base_uri": "https://localhost:8080/"
        },
        "outputId": "d327908c-e235-49b7-f4cf-de0e371a2e76"
      },
      "source": [
        "# printa todos os países que não estão no padrão ISO\n",
        "countries = GeonamesCache().get_countries_by_names()\n",
        "sorted(set(df.origin.unique()) - set(countries.keys()))"
      ],
      "id": "5Q0bsfmrAVot",
      "execution_count": null,
      "outputs": [
        {
          "output_type": "execute_result",
          "data": {
            "text/plain": [
              "['Australia, United Kingdom',\n",
              " 'Belgium, United Kingdom',\n",
              " 'Bosnia and Herzegovina, Croatia',\n",
              " 'Canada, France',\n",
              " 'Colombia, USA',\n",
              " 'Czech Republic',\n",
              " 'Denmark, USA',\n",
              " 'Finland, Sweden',\n",
              " 'Greece, Sweden',\n",
              " 'Greece, USA',\n",
              " 'Hungary, United Kingdom',\n",
              " 'Iran, Norway',\n",
              " 'Iraq, USA',\n",
              " 'Israel, Germany',\n",
              " 'Israel, The Netherlands',\n",
              " 'Italy, Spain',\n",
              " 'Korea, South',\n",
              " 'Kyrgyzstan, Germany',\n",
              " 'Lithuania, Germany',\n",
              " 'Lithuania, United Kingdom',\n",
              " 'Macedonia',\n",
              " 'Mexico, USA',\n",
              " 'Norway, Finland',\n",
              " 'Poland, Sweden',\n",
              " 'Portugal, United Kingdom',\n",
              " 'Russia, Canada',\n",
              " 'Slovak Republic',\n",
              " 'Swaziland',\n",
              " 'Sweden, Finland',\n",
              " 'The Netherlands',\n",
              " 'Tunisia, France',\n",
              " 'UAE',\n",
              " 'USA',\n",
              " 'USA, Cyprus',\n",
              " 'Ukraine, Canada',\n",
              " 'United Kingdom, Greece',\n",
              " 'United Kingdom, USA']"
            ]
          },
          "metadata": {},
          "execution_count": 46
        }
      ]
    },
    {
      "cell_type": "markdown",
      "metadata": {
        "id": "tNSgH_Z887dX"
      },
      "source": [
        "Esse *dataset* tem um registro em específico com o dado da coluna \"origin\" igual à \"South, Korean\". Antes de fazermos o split dos dados da coluna \"origin\", vamos tratar esse registro individualmente."
      ],
      "id": "tNSgH_Z887dX"
    },
    {
      "cell_type": "code",
      "metadata": {
        "colab": {
          "base_uri": "https://localhost:8080/",
          "height": 80
        },
        "execution": {
          "iopub.execute_input": "2021-10-14T13:19:39.127771Z",
          "iopub.status.busy": "2021-10-14T13:19:39.127771Z",
          "iopub.status.idle": "2021-10-14T13:19:39.145787Z",
          "shell.execute_reply": "2021-10-14T13:19:39.145787Z",
          "shell.execute_reply.started": "2021-10-14T13:19:39.127771Z"
        },
        "id": "25CzMKQZ9s3q",
        "tags": [],
        "outputId": "efbc31aa-88cd-45f7-a2c8-847925e1481f"
      },
      "source": [
        "df[df['origin'] == 'Korea, South']"
      ],
      "id": "25CzMKQZ9s3q",
      "execution_count": null,
      "outputs": [
        {
          "output_type": "execute_result",
          "data": {
            "text/html": [
              "<div>\n",
              "<style scoped>\n",
              "    .dataframe tbody tr th:only-of-type {\n",
              "        vertical-align: middle;\n",
              "    }\n",
              "\n",
              "    .dataframe tbody tr th {\n",
              "        vertical-align: top;\n",
              "    }\n",
              "\n",
              "    .dataframe thead th {\n",
              "        text-align: right;\n",
              "    }\n",
              "</style>\n",
              "<table border=\"1\" class=\"dataframe\">\n",
              "  <thead>\n",
              "    <tr style=\"text-align: right;\">\n",
              "      <th></th>\n",
              "      <th>band_name</th>\n",
              "      <th>fans</th>\n",
              "      <th>formed</th>\n",
              "      <th>origin</th>\n",
              "      <th>split</th>\n",
              "      <th>style</th>\n",
              "      <th>main_style</th>\n",
              "      <th>secondary_style</th>\n",
              "    </tr>\n",
              "  </thead>\n",
              "  <tbody>\n",
              "    <tr>\n",
              "      <th>2094</th>\n",
              "      <td>Jambinai</td>\n",
              "      <td>17</td>\n",
              "      <td>2009</td>\n",
              "      <td>Korea, South</td>\n",
              "      <td>-</td>\n",
              "      <td>Folk,Post-metal</td>\n",
              "      <td>Folk</td>\n",
              "      <td>Post-metal</td>\n",
              "    </tr>\n",
              "  </tbody>\n",
              "</table>\n",
              "</div>"
            ],
            "text/plain": [
              "     band_name  fans formed  ...            style main_style secondary_style\n",
              "2094  Jambinai    17   2009  ...  Folk,Post-metal       Folk      Post-metal\n",
              "\n",
              "[1 rows x 8 columns]"
            ]
          },
          "metadata": {},
          "execution_count": 47
        }
      ]
    },
    {
      "cell_type": "code",
      "metadata": {
        "execution": {
          "iopub.execute_input": "2021-10-14T13:19:39.147789Z",
          "iopub.status.busy": "2021-10-14T13:19:39.146788Z",
          "iopub.status.idle": "2021-10-14T13:19:39.161801Z",
          "shell.execute_reply": "2021-10-14T13:19:39.161801Z",
          "shell.execute_reply.started": "2021-10-14T13:19:39.147789Z"
        },
        "id": "wgletNGj-cbI",
        "tags": []
      },
      "source": [
        "df.loc[df['origin'] == 'Korea, South', 'origin'] = 'South Korea'"
      ],
      "id": "wgletNGj-cbI",
      "execution_count": null,
      "outputs": []
    },
    {
      "cell_type": "code",
      "metadata": {
        "colab": {
          "base_uri": "https://localhost:8080/",
          "height": 80
        },
        "execution": {
          "iopub.execute_input": "2021-10-14T13:19:39.163803Z",
          "iopub.status.busy": "2021-10-14T13:19:39.162802Z",
          "iopub.status.idle": "2021-10-14T13:19:39.177816Z",
          "shell.execute_reply": "2021-10-14T13:19:39.177816Z",
          "shell.execute_reply.started": "2021-10-14T13:19:39.163803Z"
        },
        "id": "VKNinwam-sdq",
        "tags": [],
        "outputId": "50ac6e9d-5e43-41b9-e0e5-4381f5f15f17"
      },
      "source": [
        "df[df['origin'].str.contains('Korea')]"
      ],
      "id": "VKNinwam-sdq",
      "execution_count": null,
      "outputs": [
        {
          "output_type": "execute_result",
          "data": {
            "text/html": [
              "<div>\n",
              "<style scoped>\n",
              "    .dataframe tbody tr th:only-of-type {\n",
              "        vertical-align: middle;\n",
              "    }\n",
              "\n",
              "    .dataframe tbody tr th {\n",
              "        vertical-align: top;\n",
              "    }\n",
              "\n",
              "    .dataframe thead th {\n",
              "        text-align: right;\n",
              "    }\n",
              "</style>\n",
              "<table border=\"1\" class=\"dataframe\">\n",
              "  <thead>\n",
              "    <tr style=\"text-align: right;\">\n",
              "      <th></th>\n",
              "      <th>band_name</th>\n",
              "      <th>fans</th>\n",
              "      <th>formed</th>\n",
              "      <th>origin</th>\n",
              "      <th>split</th>\n",
              "      <th>style</th>\n",
              "      <th>main_style</th>\n",
              "      <th>secondary_style</th>\n",
              "    </tr>\n",
              "  </thead>\n",
              "  <tbody>\n",
              "    <tr>\n",
              "      <th>2094</th>\n",
              "      <td>Jambinai</td>\n",
              "      <td>17</td>\n",
              "      <td>2009</td>\n",
              "      <td>South Korea</td>\n",
              "      <td>-</td>\n",
              "      <td>Folk,Post-metal</td>\n",
              "      <td>Folk</td>\n",
              "      <td>Post-metal</td>\n",
              "    </tr>\n",
              "  </tbody>\n",
              "</table>\n",
              "</div>"
            ],
            "text/plain": [
              "     band_name  fans formed  ...            style main_style secondary_style\n",
              "2094  Jambinai    17   2009  ...  Folk,Post-metal       Folk      Post-metal\n",
              "\n",
              "[1 rows x 8 columns]"
            ]
          },
          "metadata": {},
          "execution_count": 49
        }
      ]
    },
    {
      "cell_type": "code",
      "metadata": {
        "execution": {
          "iopub.execute_input": "2021-10-14T13:19:39.202839Z",
          "iopub.status.busy": "2021-10-14T13:19:39.202839Z",
          "iopub.status.idle": "2021-10-14T13:19:39.577176Z",
          "shell.execute_reply": "2021-10-14T13:19:39.577176Z",
          "shell.execute_reply.started": "2021-10-14T13:19:39.202839Z"
        },
        "id": "XlGvo4Ai8Tt7",
        "tags": []
      },
      "source": [
        "# obtendo index das bandas que possuem dados da coluna \"origin\" mal formatados\n",
        "indexes = []\n",
        "for index, band in df.iterrows():\n",
        "    cell_origin = band['origin']\n",
        "    countries = cell_origin.split(',')\n",
        "    if (len(countries) > 1):\n",
        "        indexes.append(index)"
      ],
      "id": "XlGvo4Ai8Tt7",
      "execution_count": null,
      "outputs": []
    },
    {
      "cell_type": "code",
      "metadata": {
        "colab": {
          "base_uri": "https://localhost:8080/",
          "height": 359
        },
        "execution": {
          "iopub.execute_input": "2021-10-14T13:19:39.579178Z",
          "iopub.status.busy": "2021-10-14T13:19:39.578177Z",
          "iopub.status.idle": "2021-10-14T13:19:39.592190Z",
          "shell.execute_reply": "2021-10-14T13:19:39.592190Z",
          "shell.execute_reply.started": "2021-10-14T13:19:39.579178Z"
        },
        "id": "tbweX-US8mEo",
        "tags": [],
        "outputId": "d9b68f98-eb04-4503-b105-f9f8d8aae1c0"
      },
      "source": [
        "df[df.index.isin(indexes)].head(10)"
      ],
      "id": "tbweX-US8mEo",
      "execution_count": null,
      "outputs": [
        {
          "output_type": "execute_result",
          "data": {
            "text/html": [
              "<div>\n",
              "<style scoped>\n",
              "    .dataframe tbody tr th:only-of-type {\n",
              "        vertical-align: middle;\n",
              "    }\n",
              "\n",
              "    .dataframe tbody tr th {\n",
              "        vertical-align: top;\n",
              "    }\n",
              "\n",
              "    .dataframe thead th {\n",
              "        text-align: right;\n",
              "    }\n",
              "</style>\n",
              "<table border=\"1\" class=\"dataframe\">\n",
              "  <thead>\n",
              "    <tr style=\"text-align: right;\">\n",
              "      <th></th>\n",
              "      <th>band_name</th>\n",
              "      <th>fans</th>\n",
              "      <th>formed</th>\n",
              "      <th>origin</th>\n",
              "      <th>split</th>\n",
              "      <th>style</th>\n",
              "      <th>main_style</th>\n",
              "      <th>secondary_style</th>\n",
              "    </tr>\n",
              "  </thead>\n",
              "  <tbody>\n",
              "    <tr>\n",
              "      <th>129</th>\n",
              "      <td>Motörhead</td>\n",
              "      <td>875</td>\n",
              "      <td>1975</td>\n",
              "      <td>United Kingdom, USA</td>\n",
              "      <td>1975</td>\n",
              "      <td>Heavy</td>\n",
              "      <td>Heavy</td>\n",
              "      <td>None</td>\n",
              "    </tr>\n",
              "    <tr>\n",
              "      <th>147</th>\n",
              "      <td>Ozzy Osbourne</td>\n",
              "      <td>750</td>\n",
              "      <td>1979</td>\n",
              "      <td>United Kingdom, USA</td>\n",
              "      <td>1979</td>\n",
              "      <td>Heavy</td>\n",
              "      <td>Heavy</td>\n",
              "      <td>None</td>\n",
              "    </tr>\n",
              "    <tr>\n",
              "      <th>159</th>\n",
              "      <td>King Diamond</td>\n",
              "      <td>641</td>\n",
              "      <td>1985</td>\n",
              "      <td>Denmark, USA</td>\n",
              "      <td>1985</td>\n",
              "      <td>Heavy</td>\n",
              "      <td>Heavy</td>\n",
              "      <td>None</td>\n",
              "    </tr>\n",
              "    <tr>\n",
              "      <th>194</th>\n",
              "      <td>Mercyful Fate</td>\n",
              "      <td>525</td>\n",
              "      <td>1981</td>\n",
              "      <td>Denmark, USA</td>\n",
              "      <td>-</td>\n",
              "      <td>Heavy,First wave of black</td>\n",
              "      <td>Heavy</td>\n",
              "      <td>First wave of black</td>\n",
              "    </tr>\n",
              "    <tr>\n",
              "      <th>295</th>\n",
              "      <td>Melechesh</td>\n",
              "      <td>307</td>\n",
              "      <td>1993</td>\n",
              "      <td>Israel, The Netherlands</td>\n",
              "      <td>1993</td>\n",
              "      <td>Melodic black,Folk</td>\n",
              "      <td>Melodic black</td>\n",
              "      <td>Folk</td>\n",
              "    </tr>\n",
              "    <tr>\n",
              "      <th>319</th>\n",
              "      <td>Myrath</td>\n",
              "      <td>275</td>\n",
              "      <td>2001</td>\n",
              "      <td>Tunisia, France</td>\n",
              "      <td>2001</td>\n",
              "      <td>Progressive,Oriental folk</td>\n",
              "      <td>Progressive</td>\n",
              "      <td>Oriental folk</td>\n",
              "    </tr>\n",
              "    <tr>\n",
              "      <th>448</th>\n",
              "      <td>Inquisition</td>\n",
              "      <td>184</td>\n",
              "      <td>1988</td>\n",
              "      <td>Colombia, USA</td>\n",
              "      <td>-</td>\n",
              "      <td>Black,Thrash</td>\n",
              "      <td>Black</td>\n",
              "      <td>Thrash</td>\n",
              "    </tr>\n",
              "    <tr>\n",
              "      <th>459</th>\n",
              "      <td>Thy Catafalque</td>\n",
              "      <td>177</td>\n",
              "      <td>1998</td>\n",
              "      <td>Hungary, United Kingdom</td>\n",
              "      <td>1998</td>\n",
              "      <td>Avantgarde black</td>\n",
              "      <td>Avantgarde black</td>\n",
              "      <td>None</td>\n",
              "    </tr>\n",
              "    <tr>\n",
              "      <th>545</th>\n",
              "      <td>Nightrage</td>\n",
              "      <td>138</td>\n",
              "      <td>2000</td>\n",
              "      <td>Greece, Sweden</td>\n",
              "      <td>2000</td>\n",
              "      <td>Melodic death</td>\n",
              "      <td>Melodic death</td>\n",
              "      <td>None</td>\n",
              "    </tr>\n",
              "    <tr>\n",
              "      <th>557</th>\n",
              "      <td>Sinergy</td>\n",
              "      <td>134</td>\n",
              "      <td>1997</td>\n",
              "      <td>Sweden, Finland</td>\n",
              "      <td>1997</td>\n",
              "      <td>Heavy,Power</td>\n",
              "      <td>Heavy</td>\n",
              "      <td>Power</td>\n",
              "    </tr>\n",
              "  </tbody>\n",
              "</table>\n",
              "</div>"
            ],
            "text/plain": [
              "          band_name  fans  ...        main_style      secondary_style\n",
              "129       Motörhead   875  ...             Heavy                 None\n",
              "147   Ozzy Osbourne   750  ...             Heavy                 None\n",
              "159    King Diamond   641  ...             Heavy                 None\n",
              "194   Mercyful Fate   525  ...             Heavy  First wave of black\n",
              "295       Melechesh   307  ...     Melodic black                 Folk\n",
              "319          Myrath   275  ...       Progressive        Oriental folk\n",
              "448     Inquisition   184  ...             Black               Thrash\n",
              "459  Thy Catafalque   177  ...  Avantgarde black                 None\n",
              "545       Nightrage   138  ...     Melodic death                 None\n",
              "557         Sinergy   134  ...             Heavy                Power\n",
              "\n",
              "[10 rows x 8 columns]"
            ]
          },
          "metadata": {},
          "execution_count": 51
        }
      ]
    },
    {
      "cell_type": "code",
      "metadata": {
        "colab": {
          "base_uri": "https://localhost:8080/"
        },
        "execution": {
          "iopub.execute_input": "2021-10-14T13:19:39.594191Z",
          "iopub.status.busy": "2021-10-14T13:19:39.594191Z",
          "iopub.status.idle": "2021-10-14T13:19:39.608204Z",
          "shell.execute_reply": "2021-10-14T13:19:39.608204Z",
          "shell.execute_reply.started": "2021-10-14T13:19:39.594191Z"
        },
        "id": "TrHdOG3J0LgI",
        "tags": [],
        "outputId": "1698e632-e836-4f73-ecb6-bae8d11291f4"
      },
      "source": [
        "df[\"country\"] = df['origin'].str.split(',').str[0]\n",
        "df.shape"
      ],
      "id": "TrHdOG3J0LgI",
      "execution_count": null,
      "outputs": [
        {
          "output_type": "execute_result",
          "data": {
            "text/plain": [
              "(4937, 9)"
            ]
          },
          "metadata": {},
          "execution_count": 52
        }
      ]
    },
    {
      "cell_type": "code",
      "metadata": {
        "colab": {
          "base_uri": "https://localhost:8080/",
          "height": 478
        },
        "execution": {
          "iopub.execute_input": "2021-10-14T13:19:39.610206Z",
          "iopub.status.busy": "2021-10-14T13:19:39.610206Z",
          "iopub.status.idle": "2021-10-14T13:19:39.624218Z",
          "shell.execute_reply": "2021-10-14T13:19:39.624218Z",
          "shell.execute_reply.started": "2021-10-14T13:19:39.610206Z"
        },
        "id": "3h8N2GAt8H-Q",
        "tags": [],
        "outputId": "9cd5a472-2209-4862-b920-a38f4018cc12"
      },
      "source": [
        "df[df.index.isin(indexes)].head(10)"
      ],
      "id": "3h8N2GAt8H-Q",
      "execution_count": null,
      "outputs": [
        {
          "output_type": "execute_result",
          "data": {
            "text/html": [
              "<div>\n",
              "<style scoped>\n",
              "    .dataframe tbody tr th:only-of-type {\n",
              "        vertical-align: middle;\n",
              "    }\n",
              "\n",
              "    .dataframe tbody tr th {\n",
              "        vertical-align: top;\n",
              "    }\n",
              "\n",
              "    .dataframe thead th {\n",
              "        text-align: right;\n",
              "    }\n",
              "</style>\n",
              "<table border=\"1\" class=\"dataframe\">\n",
              "  <thead>\n",
              "    <tr style=\"text-align: right;\">\n",
              "      <th></th>\n",
              "      <th>band_name</th>\n",
              "      <th>fans</th>\n",
              "      <th>formed</th>\n",
              "      <th>origin</th>\n",
              "      <th>split</th>\n",
              "      <th>style</th>\n",
              "      <th>main_style</th>\n",
              "      <th>secondary_style</th>\n",
              "      <th>country</th>\n",
              "    </tr>\n",
              "  </thead>\n",
              "  <tbody>\n",
              "    <tr>\n",
              "      <th>129</th>\n",
              "      <td>Motörhead</td>\n",
              "      <td>875</td>\n",
              "      <td>1975</td>\n",
              "      <td>United Kingdom, USA</td>\n",
              "      <td>1975</td>\n",
              "      <td>Heavy</td>\n",
              "      <td>Heavy</td>\n",
              "      <td>None</td>\n",
              "      <td>United Kingdom</td>\n",
              "    </tr>\n",
              "    <tr>\n",
              "      <th>147</th>\n",
              "      <td>Ozzy Osbourne</td>\n",
              "      <td>750</td>\n",
              "      <td>1979</td>\n",
              "      <td>United Kingdom, USA</td>\n",
              "      <td>1979</td>\n",
              "      <td>Heavy</td>\n",
              "      <td>Heavy</td>\n",
              "      <td>None</td>\n",
              "      <td>United Kingdom</td>\n",
              "    </tr>\n",
              "    <tr>\n",
              "      <th>159</th>\n",
              "      <td>King Diamond</td>\n",
              "      <td>641</td>\n",
              "      <td>1985</td>\n",
              "      <td>Denmark, USA</td>\n",
              "      <td>1985</td>\n",
              "      <td>Heavy</td>\n",
              "      <td>Heavy</td>\n",
              "      <td>None</td>\n",
              "      <td>Denmark</td>\n",
              "    </tr>\n",
              "    <tr>\n",
              "      <th>194</th>\n",
              "      <td>Mercyful Fate</td>\n",
              "      <td>525</td>\n",
              "      <td>1981</td>\n",
              "      <td>Denmark, USA</td>\n",
              "      <td>-</td>\n",
              "      <td>Heavy,First wave of black</td>\n",
              "      <td>Heavy</td>\n",
              "      <td>First wave of black</td>\n",
              "      <td>Denmark</td>\n",
              "    </tr>\n",
              "    <tr>\n",
              "      <th>295</th>\n",
              "      <td>Melechesh</td>\n",
              "      <td>307</td>\n",
              "      <td>1993</td>\n",
              "      <td>Israel, The Netherlands</td>\n",
              "      <td>1993</td>\n",
              "      <td>Melodic black,Folk</td>\n",
              "      <td>Melodic black</td>\n",
              "      <td>Folk</td>\n",
              "      <td>Israel</td>\n",
              "    </tr>\n",
              "    <tr>\n",
              "      <th>319</th>\n",
              "      <td>Myrath</td>\n",
              "      <td>275</td>\n",
              "      <td>2001</td>\n",
              "      <td>Tunisia, France</td>\n",
              "      <td>2001</td>\n",
              "      <td>Progressive,Oriental folk</td>\n",
              "      <td>Progressive</td>\n",
              "      <td>Oriental folk</td>\n",
              "      <td>Tunisia</td>\n",
              "    </tr>\n",
              "    <tr>\n",
              "      <th>448</th>\n",
              "      <td>Inquisition</td>\n",
              "      <td>184</td>\n",
              "      <td>1988</td>\n",
              "      <td>Colombia, USA</td>\n",
              "      <td>-</td>\n",
              "      <td>Black,Thrash</td>\n",
              "      <td>Black</td>\n",
              "      <td>Thrash</td>\n",
              "      <td>Colombia</td>\n",
              "    </tr>\n",
              "    <tr>\n",
              "      <th>459</th>\n",
              "      <td>Thy Catafalque</td>\n",
              "      <td>177</td>\n",
              "      <td>1998</td>\n",
              "      <td>Hungary, United Kingdom</td>\n",
              "      <td>1998</td>\n",
              "      <td>Avantgarde black</td>\n",
              "      <td>Avantgarde black</td>\n",
              "      <td>None</td>\n",
              "      <td>Hungary</td>\n",
              "    </tr>\n",
              "    <tr>\n",
              "      <th>545</th>\n",
              "      <td>Nightrage</td>\n",
              "      <td>138</td>\n",
              "      <td>2000</td>\n",
              "      <td>Greece, Sweden</td>\n",
              "      <td>2000</td>\n",
              "      <td>Melodic death</td>\n",
              "      <td>Melodic death</td>\n",
              "      <td>None</td>\n",
              "      <td>Greece</td>\n",
              "    </tr>\n",
              "    <tr>\n",
              "      <th>557</th>\n",
              "      <td>Sinergy</td>\n",
              "      <td>134</td>\n",
              "      <td>1997</td>\n",
              "      <td>Sweden, Finland</td>\n",
              "      <td>1997</td>\n",
              "      <td>Heavy,Power</td>\n",
              "      <td>Heavy</td>\n",
              "      <td>Power</td>\n",
              "      <td>Sweden</td>\n",
              "    </tr>\n",
              "  </tbody>\n",
              "</table>\n",
              "</div>"
            ],
            "text/plain": [
              "          band_name  fans  ...      secondary_style         country\n",
              "129       Motörhead   875  ...                 None  United Kingdom\n",
              "147   Ozzy Osbourne   750  ...                 None  United Kingdom\n",
              "159    King Diamond   641  ...                 None         Denmark\n",
              "194   Mercyful Fate   525  ...  First wave of black         Denmark\n",
              "295       Melechesh   307  ...                 Folk          Israel\n",
              "319          Myrath   275  ...        Oriental folk         Tunisia\n",
              "448     Inquisition   184  ...               Thrash        Colombia\n",
              "459  Thy Catafalque   177  ...                 None         Hungary\n",
              "545       Nightrage   138  ...                 None          Greece\n",
              "557         Sinergy   134  ...                Power          Sweden\n",
              "\n",
              "[10 rows x 9 columns]"
            ]
          },
          "metadata": {},
          "execution_count": 53
        }
      ]
    },
    {
      "cell_type": "markdown",
      "metadata": {
        "id": "nRyYWNf4A8_-"
      },
      "source": [
        "Mesmo depois do tratamento, alguns países ainda não estão no padrão. Vamos tratá-los individualmente e acrescentar o código ISO em todos os registros do *dataframe* para que esses dados possam ser usados posteriormente."
      ],
      "id": "nRyYWNf4A8_-"
    },
    {
      "cell_type": "code",
      "metadata": {
        "execution": {
          "iopub.execute_input": "2021-10-14T13:19:39.626220Z",
          "iopub.status.busy": "2021-10-14T13:19:39.625219Z",
          "iopub.status.idle": "2021-10-14T13:19:39.641234Z",
          "shell.execute_reply": "2021-10-14T13:19:39.640233Z",
          "shell.execute_reply.started": "2021-10-14T13:19:39.626220Z"
        },
        "id": "BOcPWbbH_9SL",
        "tags": [],
        "colab": {
          "base_uri": "https://localhost:8080/"
        },
        "outputId": "b35ed38e-e0c5-495e-88d3-4745166e75e6"
      },
      "source": [
        "countries = GeonamesCache().get_countries_by_names()\n",
        "sorted(set(df.country.unique()) - set(countries.keys()))"
      ],
      "id": "BOcPWbbH_9SL",
      "execution_count": null,
      "outputs": [
        {
          "output_type": "execute_result",
          "data": {
            "text/plain": [
              "['Czech Republic',\n",
              " 'Macedonia',\n",
              " 'Slovak Republic',\n",
              " 'Swaziland',\n",
              " 'The Netherlands',\n",
              " 'UAE',\n",
              " 'USA']"
            ]
          },
          "metadata": {},
          "execution_count": 54
        }
      ]
    },
    {
      "cell_type": "code",
      "metadata": {
        "colab": {
          "base_uri": "https://localhost:8080/",
          "height": 272
        },
        "execution": {
          "iopub.status.busy": "2021-10-14T13:19:39.641234Z",
          "iopub.status.idle": "2021-10-14T13:19:39.642235Z",
          "shell.execute_reply": "2021-10-14T13:19:39.642235Z"
        },
        "id": "SwVC3raLCrFD",
        "tags": [],
        "outputId": "70139f74-9085-4cae-c690-57f6121af38d"
      },
      "source": [
        "# função da lib geonamescache para mapear o código da iso dado o nome do país\n",
        "mapper = country(from_key='name', to_key='iso3')\n",
        "\n",
        "country_index = {}\n",
        "country_index['Czech Republic'] = 'CZE'\n",
        "country_index['Slovak Republic'] = 'SVK'\n",
        "country_index['The Netherlands'] = 'NLD'\n",
        "country_index['UAE'] = 'ARE'\n",
        "country_index['USA'] = 'USA'\n",
        "country_index['Swaziland'] = 'SZ'\n",
        "country_index['Macedonia'] = 'MKD'\n",
        "\n",
        "df['iso3'] = df.country.apply(lambda x: country_index.get(x, mapper(x)))\n",
        "assert all(~df['iso3'].isna()) # confirmar que todos os registros possuem o dado da coluna \"iso3\"\n",
        "df.head()"
      ],
      "id": "SwVC3raLCrFD",
      "execution_count": null,
      "outputs": [
        {
          "output_type": "execute_result",
          "data": {
            "text/html": [
              "<div>\n",
              "<style scoped>\n",
              "    .dataframe tbody tr th:only-of-type {\n",
              "        vertical-align: middle;\n",
              "    }\n",
              "\n",
              "    .dataframe tbody tr th {\n",
              "        vertical-align: top;\n",
              "    }\n",
              "\n",
              "    .dataframe thead th {\n",
              "        text-align: right;\n",
              "    }\n",
              "</style>\n",
              "<table border=\"1\" class=\"dataframe\">\n",
              "  <thead>\n",
              "    <tr style=\"text-align: right;\">\n",
              "      <th></th>\n",
              "      <th>band_name</th>\n",
              "      <th>fans</th>\n",
              "      <th>formed</th>\n",
              "      <th>origin</th>\n",
              "      <th>split</th>\n",
              "      <th>style</th>\n",
              "      <th>main_style</th>\n",
              "      <th>secondary_style</th>\n",
              "      <th>country</th>\n",
              "      <th>iso3</th>\n",
              "    </tr>\n",
              "  </thead>\n",
              "  <tbody>\n",
              "    <tr>\n",
              "      <th>0</th>\n",
              "      <td>Iron Maiden</td>\n",
              "      <td>4195</td>\n",
              "      <td>1975</td>\n",
              "      <td>United Kingdom</td>\n",
              "      <td>-</td>\n",
              "      <td>New wave of british heavy,Heavy</td>\n",
              "      <td>New wave of british heavy</td>\n",
              "      <td>Heavy</td>\n",
              "      <td>United Kingdom</td>\n",
              "      <td>GBR</td>\n",
              "    </tr>\n",
              "    <tr>\n",
              "      <th>1</th>\n",
              "      <td>Opeth</td>\n",
              "      <td>4147</td>\n",
              "      <td>1990</td>\n",
              "      <td>Sweden</td>\n",
              "      <td>1990</td>\n",
              "      <td>Extreme progressive,Progressive rock,Progressive</td>\n",
              "      <td>Extreme progressive</td>\n",
              "      <td>Progressive rock</td>\n",
              "      <td>Sweden</td>\n",
              "      <td>SWE</td>\n",
              "    </tr>\n",
              "    <tr>\n",
              "      <th>2</th>\n",
              "      <td>Metallica</td>\n",
              "      <td>3712</td>\n",
              "      <td>1981</td>\n",
              "      <td>USA</td>\n",
              "      <td>-</td>\n",
              "      <td>Heavy,Bay area thrash</td>\n",
              "      <td>Heavy</td>\n",
              "      <td>Bay area thrash</td>\n",
              "      <td>USA</td>\n",
              "      <td>USA</td>\n",
              "    </tr>\n",
              "    <tr>\n",
              "      <th>3</th>\n",
              "      <td>Megadeth</td>\n",
              "      <td>3105</td>\n",
              "      <td>1983</td>\n",
              "      <td>USA</td>\n",
              "      <td>1983</td>\n",
              "      <td>Thrash,Heavy,Hard rock</td>\n",
              "      <td>Thrash</td>\n",
              "      <td>Heavy</td>\n",
              "      <td>USA</td>\n",
              "      <td>USA</td>\n",
              "    </tr>\n",
              "    <tr>\n",
              "      <th>4</th>\n",
              "      <td>Amon Amarth</td>\n",
              "      <td>3054</td>\n",
              "      <td>1988</td>\n",
              "      <td>Sweden</td>\n",
              "      <td>-</td>\n",
              "      <td>Melodic death</td>\n",
              "      <td>Melodic death</td>\n",
              "      <td>None</td>\n",
              "      <td>Sweden</td>\n",
              "      <td>SWE</td>\n",
              "    </tr>\n",
              "  </tbody>\n",
              "</table>\n",
              "</div>"
            ],
            "text/plain": [
              "     band_name  fans formed  ...   secondary_style         country iso3\n",
              "0  Iron Maiden  4195   1975  ...             Heavy  United Kingdom  GBR\n",
              "1        Opeth  4147   1990  ...  Progressive rock          Sweden  SWE\n",
              "2    Metallica  3712   1981  ...   Bay area thrash             USA  USA\n",
              "3     Megadeth  3105   1983  ...             Heavy             USA  USA\n",
              "4  Amon Amarth  3054   1988  ...              None          Sweden  SWE\n",
              "\n",
              "[5 rows x 10 columns]"
            ]
          },
          "metadata": {},
          "execution_count": 55
        }
      ]
    },
    {
      "cell_type": "code",
      "metadata": {
        "colab": {
          "base_uri": "https://localhost:8080/"
        },
        "id": "QFfDpWr1JpEP",
        "outputId": "b1188b00-2d52-476a-f5e1-df9e10468b0a"
      },
      "source": [
        "df.shape"
      ],
      "id": "QFfDpWr1JpEP",
      "execution_count": null,
      "outputs": [
        {
          "output_type": "execute_result",
          "data": {
            "text/plain": [
              "(4937, 10)"
            ]
          },
          "metadata": {},
          "execution_count": 56
        }
      ]
    },
    {
      "cell_type": "markdown",
      "metadata": {
        "id": "b688cdca",
        "tags": []
      },
      "source": [
        "### Definição\tde\ttipos"
      ],
      "id": "b688cdca"
    },
    {
      "cell_type": "code",
      "metadata": {
        "colab": {
          "base_uri": "https://localhost:8080/"
        },
        "execution": {
          "iopub.status.busy": "2021-10-14T13:19:39.642235Z",
          "iopub.status.idle": "2021-10-14T13:19:39.643235Z",
          "shell.execute_reply": "2021-10-14T13:19:39.642235Z"
        },
        "id": "b3a52ab3",
        "tags": [],
        "outputId": "986d2ef0-7df5-42f9-e1c3-a2a644507765"
      },
      "source": [
        "# visualizando tipos de dados por coluna\n",
        "df.dtypes"
      ],
      "id": "b3a52ab3",
      "execution_count": null,
      "outputs": [
        {
          "output_type": "execute_result",
          "data": {
            "text/plain": [
              "band_name          object\n",
              "fans                int64\n",
              "formed             object\n",
              "origin             object\n",
              "split              object\n",
              "style              object\n",
              "main_style         object\n",
              "secondary_style    object\n",
              "country            object\n",
              "iso3               object\n",
              "dtype: object"
            ]
          },
          "metadata": {},
          "execution_count": 57
        }
      ]
    },
    {
      "cell_type": "code",
      "metadata": {
        "execution": {
          "iopub.status.busy": "2021-10-14T13:19:39.643235Z",
          "iopub.status.idle": "2021-10-14T13:19:39.644236Z",
          "shell.execute_reply": "2021-10-14T13:19:39.644236Z"
        },
        "id": "lFYxhBvZUNuK",
        "tags": []
      },
      "source": [
        "# ajustando tipos dos dados\n",
        "df['band_name'] = df['band_name'].astype('string')\n",
        "df['formed'] = df['formed'].astype('int64')\n",
        "df['origin'] = df['origin'].astype('string')\n",
        "df['style'] = df['style'].astype('string')\n",
        "df['main_style'] = df['main_style'].astype('string')\n",
        "df['secondary_style'] = df['secondary_style'].astype('string')\n",
        "df['country'] = df['country'].astype('string')\n",
        "df['iso3'] = df['iso3'].astype('string')"
      ],
      "id": "lFYxhBvZUNuK",
      "execution_count": null,
      "outputs": []
    },
    {
      "cell_type": "code",
      "metadata": {
        "colab": {
          "base_uri": "https://localhost:8080/"
        },
        "execution": {
          "iopub.status.busy": "2021-10-14T13:19:39.645237Z",
          "iopub.status.idle": "2021-10-14T13:19:39.645237Z",
          "shell.execute_reply": "2021-10-14T13:19:39.645237Z"
        },
        "id": "XFy0AOCFU7X0",
        "tags": [],
        "outputId": "fbeda86d-a371-48f4-e246-07988cc16743"
      },
      "source": [
        "df.dtypes"
      ],
      "id": "XFy0AOCFU7X0",
      "execution_count": null,
      "outputs": [
        {
          "output_type": "execute_result",
          "data": {
            "text/plain": [
              "band_name          string\n",
              "fans                int64\n",
              "formed              int64\n",
              "origin             string\n",
              "split              object\n",
              "style              string\n",
              "main_style         string\n",
              "secondary_style    string\n",
              "country            string\n",
              "iso3               string\n",
              "dtype: object"
            ]
          },
          "metadata": {},
          "execution_count": 59
        }
      ]
    },
    {
      "cell_type": "markdown",
      "metadata": {
        "id": "7f25969a"
      },
      "source": [
        "## Detectando *outliers*"
      ],
      "id": "7f25969a"
    },
    {
      "cell_type": "code",
      "metadata": {
        "colab": {
          "base_uri": "https://localhost:8080/",
          "height": 279
        },
        "id": "clYSCINjx-oo",
        "outputId": "5be2591d-211c-43b6-c6e3-e249c57a2ae3"
      },
      "source": [
        "# A coluna de fãs possuem muitos outliers\n",
        "sns.boxplot(data=df, x='fans');"
      ],
      "id": "clYSCINjx-oo",
      "execution_count": null,
      "outputs": [
        {
          "output_type": "display_data",
          "data": {
            "image/png": "[encoded data removed]",
            "text/plain": [
              "<Figure size 432x288 with 1 Axes>"
            ]
          },
          "metadata": {
            "needs_background": "light"
          }
        }
      ]
    },
    {
      "cell_type": "code",
      "metadata": {
        "colab": {
          "base_uri": "https://localhost:8080/",
          "height": 279
        },
        "id": "lzooOX-DyCYO",
        "outputId": "acd59410-f9e3-4d6c-e596-f8fbb47d2807"
      },
      "source": [
        "# O ano de formação da banda possui alguns outliers, mas se concentra entre os anos de 1995 e 2008\n",
        "sns.boxplot(data=df, x='formed');"
      ],
      "id": "lzooOX-DyCYO",
      "execution_count": null,
      "outputs": [
        {
          "output_type": "display_data",
          "data": {
            "image/png": "[encoded data removed]",
            "text/plain": [
              "<Figure size 432x288 with 1 Axes>"
            ]
          },
          "metadata": {
            "needs_background": "light"
          }
        }
      ]
    },
    {
      "cell_type": "markdown",
      "metadata": {
        "id": "957fa7b2"
      },
      "source": [
        "## Análises"
      ],
      "id": "957fa7b2"
    },
    {
      "cell_type": "markdown",
      "metadata": {
        "execution": {
          "iopub.execute_input": "2021-10-13T18:36:22.345105Z",
          "iopub.status.busy": "2021-10-13T18:36:22.345105Z",
          "iopub.status.idle": "2021-10-13T18:36:22.361119Z",
          "shell.execute_reply": "2021-10-13T18:36:22.361119Z",
          "shell.execute_reply.started": "2021-10-13T18:36:22.345105Z"
        },
        "id": "1e11886a-d9e7-4772-b35e-78e4ad75b84a",
        "tags": []
      },
      "source": [
        "### Tempo de Duração das Bandas"
      ],
      "id": "1e11886a-d9e7-4772-b35e-78e4ad75b84a"
    },
    {
      "cell_type": "code",
      "metadata": {
        "execution": {
          "iopub.execute_input": "2021-10-14T13:19:39.743327Z",
          "iopub.status.busy": "2021-10-14T13:19:39.743327Z",
          "iopub.status.idle": "2021-10-14T13:19:39.752334Z",
          "shell.execute_reply": "2021-10-14T13:19:39.751333Z",
          "shell.execute_reply.started": "2021-10-14T13:19:39.743327Z"
        },
        "id": "9039e1de-7088-47a5-9763-c1e1b78101fc",
        "tags": [],
        "colab": {
          "base_uri": "https://localhost:8080/"
        },
        "outputId": "e0c6ce86-9ff3-42de-9e84-a23413050fa6"
      },
      "source": [
        "df[df['split'] == '-'].index"
      ],
      "id": "9039e1de-7088-47a5-9763-c1e1b78101fc",
      "execution_count": null,
      "outputs": [
        {
          "output_type": "execute_result",
          "data": {
            "text/plain": [
              "Int64Index([   0,    2,    4,    8,   10,   12,   18,   20,   22,   24,\n",
              "            ...\n",
              "            4978, 4980, 4982, 4984, 4986, 4988, 4990, 4992, 4994, 4996],\n",
              "           dtype='int64', length=2183)"
            ]
          },
          "metadata": {},
          "execution_count": 62
        }
      ]
    },
    {
      "cell_type": "code",
      "metadata": {
        "execution": {
          "iopub.execute_input": "2021-10-14T13:19:39.756338Z",
          "iopub.status.busy": "2021-10-14T13:19:39.756338Z",
          "iopub.status.idle": "2021-10-14T13:19:39.767349Z",
          "shell.execute_reply": "2021-10-14T13:19:39.767349Z",
          "shell.execute_reply.started": "2021-10-14T13:19:39.756338Z"
        },
        "id": "e4b7103a-18d5-44df-be7c-9c0e6a0c5c22",
        "tags": []
      },
      "source": [
        "# Para efeitos de análise, bandas cujo ano de split é igual a \"-\" foram considerados bandas que ainda estão juntas\n",
        "df_split = df.drop(df[df['split'] == '-'].index)\n",
        "df_non_split = df.drop(df[df['split'] != '-'].index)"
      ],
      "id": "e4b7103a-18d5-44df-be7c-9c0e6a0c5c22",
      "execution_count": null,
      "outputs": []
    },
    {
      "cell_type": "code",
      "metadata": {
        "execution": {
          "iopub.execute_input": "2021-10-14T13:19:39.789368Z",
          "iopub.status.busy": "2021-10-14T13:19:39.789368Z",
          "iopub.status.idle": "2021-10-14T13:19:39.800377Z",
          "shell.execute_reply": "2021-10-14T13:19:39.799377Z",
          "shell.execute_reply.started": "2021-10-14T13:19:39.789368Z"
        },
        "id": "5afc9028-7219-4e7b-8b23-73ec7f36446c",
        "tags": [],
        "colab": {
          "base_uri": "https://localhost:8080/"
        },
        "outputId": "34382d36-7b1e-4ba2-d098-d3982e72b965"
      },
      "source": [
        "df_split.shape"
      ],
      "id": "5afc9028-7219-4e7b-8b23-73ec7f36446c",
      "execution_count": null,
      "outputs": [
        {
          "output_type": "execute_result",
          "data": {
            "text/plain": [
              "(2754, 10)"
            ]
          },
          "metadata": {},
          "execution_count": 64
        }
      ]
    },
    {
      "cell_type": "code",
      "metadata": {
        "execution": {
          "iopub.execute_input": "2021-10-14T13:19:39.893461Z",
          "iopub.status.busy": "2021-10-14T13:19:39.893461Z",
          "iopub.status.idle": "2021-10-14T13:19:39.911477Z",
          "shell.execute_reply": "2021-10-14T13:19:39.911477Z",
          "shell.execute_reply.started": "2021-10-14T13:19:39.893461Z"
        },
        "id": "18481250-ef4c-4e60-9b7d-81b0c6d40461",
        "tags": [],
        "colab": {
          "base_uri": "https://localhost:8080/"
        },
        "outputId": "4153bdfa-dc08-4f1a-928c-c4995cbea884"
      },
      "source": [
        "df_non_split.shape"
      ],
      "id": "18481250-ef4c-4e60-9b7d-81b0c6d40461",
      "execution_count": null,
      "outputs": [
        {
          "output_type": "execute_result",
          "data": {
            "text/plain": [
              "(2183, 10)"
            ]
          },
          "metadata": {},
          "execution_count": 65
        }
      ]
    },
    {
      "cell_type": "markdown",
      "metadata": {
        "id": "Qhm7avkfDeMz"
      },
      "source": [
        "Como as bandas cujo valor da coluna \"split\" é igual a \"-\" consideramos como ainda em andamento, colocaremos o ano de 2017 (pois os valores do dataset vão até 2016), para considerar o tempo que as bandas estão juntas"
      ],
      "id": "Qhm7avkfDeMz"
    },
    {
      "cell_type": "code",
      "metadata": {
        "execution": {
          "iopub.execute_input": "2021-10-14T13:19:39.929494Z",
          "iopub.status.busy": "2021-10-14T13:19:39.929494Z",
          "iopub.status.idle": "2021-10-14T13:19:39.943506Z",
          "shell.execute_reply": "2021-10-14T13:19:39.943506Z",
          "shell.execute_reply.started": "2021-10-14T13:19:39.929494Z"
        },
        "id": "3173ed10-5682-4363-9ec6-6f3eb0debfd3",
        "tags": [],
        "colab": {
          "base_uri": "https://localhost:8080/"
        },
        "outputId": "c5b11b25-6c85-41a3-fd98-e14ada76c4d8"
      },
      "source": [
        "df_non_split['split'].sample(10)"
      ],
      "id": "3173ed10-5682-4363-9ec6-6f3eb0debfd3",
      "execution_count": null,
      "outputs": [
        {
          "output_type": "execute_result",
          "data": {
            "text/plain": [
              "1404    -\n",
              "1212    -\n",
              "228     -\n",
              "236     -\n",
              "640     -\n",
              "2986    -\n",
              "1148    -\n",
              "4636    -\n",
              "298     -\n",
              "3498    -\n",
              "Name: split, dtype: object"
            ]
          },
          "metadata": {},
          "execution_count": 66
        }
      ]
    },
    {
      "cell_type": "code",
      "metadata": {
        "execution": {
          "iopub.execute_input": "2021-10-14T13:19:39.945509Z",
          "iopub.status.busy": "2021-10-14T13:19:39.944508Z",
          "iopub.status.idle": "2021-10-14T13:19:39.959520Z",
          "shell.execute_reply": "2021-10-14T13:19:39.959520Z",
          "shell.execute_reply.started": "2021-10-14T13:19:39.945509Z"
        },
        "id": "d52df1f5-a448-4791-b149-a12d0bda5553",
        "tags": []
      },
      "source": [
        "df_non_split['split'] = 2017"
      ],
      "id": "d52df1f5-a448-4791-b149-a12d0bda5553",
      "execution_count": null,
      "outputs": []
    },
    {
      "cell_type": "code",
      "metadata": {
        "execution": {
          "iopub.execute_input": "2021-10-14T13:19:39.961522Z",
          "iopub.status.busy": "2021-10-14T13:19:39.960522Z",
          "iopub.status.idle": "2021-10-14T13:19:39.975536Z",
          "shell.execute_reply": "2021-10-14T13:19:39.975536Z",
          "shell.execute_reply.started": "2021-10-14T13:19:39.961522Z"
        },
        "id": "b534accd-24ca-4647-ae69-b279f234b3d3",
        "tags": [],
        "colab": {
          "base_uri": "https://localhost:8080/"
        },
        "outputId": "b009101f-6843-498b-bb2e-0076292d9a02"
      },
      "source": [
        "df_non_split['split'].sample(5)"
      ],
      "id": "b534accd-24ca-4647-ae69-b279f234b3d3",
      "execution_count": null,
      "outputs": [
        {
          "output_type": "execute_result",
          "data": {
            "text/plain": [
              "4156    2017\n",
              "3582    2017\n",
              "4050    2017\n",
              "190     2017\n",
              "2294    2017\n",
              "Name: split, dtype: int64"
            ]
          },
          "metadata": {},
          "execution_count": 68
        }
      ]
    },
    {
      "cell_type": "code",
      "metadata": {
        "execution": {
          "iopub.execute_input": "2021-10-14T13:19:40.008565Z",
          "iopub.status.busy": "2021-10-14T13:19:40.007565Z",
          "iopub.status.idle": "2021-10-14T13:19:40.022577Z",
          "shell.execute_reply": "2021-10-14T13:19:40.022577Z",
          "shell.execute_reply.started": "2021-10-14T13:19:40.007565Z"
        },
        "id": "660b77f6-bd29-4636-85af-fd2a342cfc8f",
        "tags": [],
        "colab": {
          "base_uri": "https://localhost:8080/"
        },
        "outputId": "030cfb1c-35e7-4335-e889-6906bcbbf6ad"
      },
      "source": [
        "df_split['split'].sample(5)"
      ],
      "id": "660b77f6-bd29-4636-85af-fd2a342cfc8f",
      "execution_count": null,
      "outputs": [
        {
          "output_type": "execute_result",
          "data": {
            "text/plain": [
              "2565    1996\n",
              "4065    1999\n",
              "2137    2010\n",
              "2407    2004\n",
              "4873    2011\n",
              "Name: split, dtype: object"
            ]
          },
          "metadata": {},
          "execution_count": 69
        }
      ]
    },
    {
      "cell_type": "code",
      "metadata": {
        "execution": {
          "iopub.execute_input": "2021-10-14T13:19:40.059611Z",
          "iopub.status.busy": "2021-10-14T13:19:40.058611Z",
          "iopub.status.idle": "2021-10-14T13:19:40.070621Z",
          "shell.execute_reply": "2021-10-14T13:19:40.070621Z",
          "shell.execute_reply.started": "2021-10-14T13:19:40.059611Z"
        },
        "id": "1d1a88c4-55b2-419c-947b-6191d958d1d9",
        "tags": []
      },
      "source": [
        "df_split['split'] = df_split['split'].astype('int64')\n",
        "df_split['formed'] = df_split['formed'].astype('int64')"
      ],
      "id": "1d1a88c4-55b2-419c-947b-6191d958d1d9",
      "execution_count": null,
      "outputs": []
    },
    {
      "cell_type": "code",
      "metadata": {
        "execution": {
          "iopub.execute_input": "2021-10-14T13:19:40.080630Z",
          "iopub.status.busy": "2021-10-14T13:19:40.080630Z",
          "iopub.status.idle": "2021-10-14T13:19:40.167709Z",
          "shell.execute_reply": "2021-10-14T13:19:40.166708Z",
          "shell.execute_reply.started": "2021-10-14T13:19:40.080630Z"
        },
        "id": "d6c8f92d-104b-47d2-9b02-c04a70f29e62",
        "tags": []
      },
      "source": [
        "df_split['band_duration'] = df_split['split'] - df_split['formed']"
      ],
      "id": "d6c8f92d-104b-47d2-9b02-c04a70f29e62",
      "execution_count": null,
      "outputs": []
    },
    {
      "cell_type": "code",
      "metadata": {
        "execution": {
          "iopub.status.busy": "2021-10-14T13:19:40.168710Z",
          "iopub.status.idle": "2021-10-14T13:19:40.168710Z",
          "shell.execute_reply": "2021-10-14T13:19:40.168710Z"
        },
        "id": "ec9ce9c9-283e-482a-aa08-77e669e4cf12",
        "tags": [],
        "colab": {
          "base_uri": "https://localhost:8080/",
          "height": 498
        },
        "outputId": "7dd74c39-4614-482a-c02f-342ef60cb3c1"
      },
      "source": [
        "df_split.sample(10)"
      ],
      "id": "ec9ce9c9-283e-482a-aa08-77e669e4cf12",
      "execution_count": null,
      "outputs": [
        {
          "output_type": "execute_result",
          "data": {
            "text/html": [
              "<div>\n",
              "<style scoped>\n",
              "    .dataframe tbody tr th:only-of-type {\n",
              "        vertical-align: middle;\n",
              "    }\n",
              "\n",
              "    .dataframe tbody tr th {\n",
              "        vertical-align: top;\n",
              "    }\n",
              "\n",
              "    .dataframe thead th {\n",
              "        text-align: right;\n",
              "    }\n",
              "</style>\n",
              "<table border=\"1\" class=\"dataframe\">\n",
              "  <thead>\n",
              "    <tr style=\"text-align: right;\">\n",
              "      <th></th>\n",
              "      <th>band_name</th>\n",
              "      <th>fans</th>\n",
              "      <th>formed</th>\n",
              "      <th>origin</th>\n",
              "      <th>split</th>\n",
              "      <th>style</th>\n",
              "      <th>main_style</th>\n",
              "      <th>secondary_style</th>\n",
              "      <th>country</th>\n",
              "      <th>iso3</th>\n",
              "      <th>band_duration</th>\n",
              "    </tr>\n",
              "  </thead>\n",
              "  <tbody>\n",
              "    <tr>\n",
              "      <th>4487</th>\n",
              "      <td>Abhorrent</td>\n",
              "      <td>1</td>\n",
              "      <td>2007</td>\n",
              "      <td>USA</td>\n",
              "      <td>2007</td>\n",
              "      <td>Brutal death,Technical death</td>\n",
              "      <td>Brutal death</td>\n",
              "      <td>Technical death</td>\n",
              "      <td>USA</td>\n",
              "      <td>USA</td>\n",
              "      <td>0</td>\n",
              "    </tr>\n",
              "    <tr>\n",
              "      <th>203</th>\n",
              "      <td>Gorgoroth</td>\n",
              "      <td>498</td>\n",
              "      <td>1992</td>\n",
              "      <td>Norway</td>\n",
              "      <td>1992</td>\n",
              "      <td>Black</td>\n",
              "      <td>Black</td>\n",
              "      <td>&lt;NA&gt;</td>\n",
              "      <td>Norway</td>\n",
              "      <td>NOR</td>\n",
              "      <td>0</td>\n",
              "    </tr>\n",
              "    <tr>\n",
              "      <th>4043</th>\n",
              "      <td>Svartelder</td>\n",
              "      <td>3</td>\n",
              "      <td>2015</td>\n",
              "      <td>Norway</td>\n",
              "      <td>2015</td>\n",
              "      <td>Black</td>\n",
              "      <td>Black</td>\n",
              "      <td>&lt;NA&gt;</td>\n",
              "      <td>Norway</td>\n",
              "      <td>NOR</td>\n",
              "      <td>0</td>\n",
              "    </tr>\n",
              "    <tr>\n",
              "      <th>3621</th>\n",
              "      <td>Eight Bells</td>\n",
              "      <td>4</td>\n",
              "      <td>2010</td>\n",
              "      <td>USA</td>\n",
              "      <td>2010</td>\n",
              "      <td>Experimental progressive</td>\n",
              "      <td>Experimental progressive</td>\n",
              "      <td>&lt;NA&gt;</td>\n",
              "      <td>USA</td>\n",
              "      <td>USA</td>\n",
              "      <td>0</td>\n",
              "    </tr>\n",
              "    <tr>\n",
              "      <th>1269</th>\n",
              "      <td>Otyg</td>\n",
              "      <td>42</td>\n",
              "      <td>1995</td>\n",
              "      <td>Sweden</td>\n",
              "      <td>1995</td>\n",
              "      <td>Folk</td>\n",
              "      <td>Folk</td>\n",
              "      <td>&lt;NA&gt;</td>\n",
              "      <td>Sweden</td>\n",
              "      <td>SWE</td>\n",
              "      <td>0</td>\n",
              "    </tr>\n",
              "    <tr>\n",
              "      <th>579</th>\n",
              "      <td>Spiritual Beggars</td>\n",
              "      <td>127</td>\n",
              "      <td>1992</td>\n",
              "      <td>Sweden</td>\n",
              "      <td>1992</td>\n",
              "      <td>Heavy,Stoner</td>\n",
              "      <td>Heavy</td>\n",
              "      <td>Stoner</td>\n",
              "      <td>Sweden</td>\n",
              "      <td>SWE</td>\n",
              "      <td>0</td>\n",
              "    </tr>\n",
              "    <tr>\n",
              "      <th>1907</th>\n",
              "      <td>Attacker</td>\n",
              "      <td>20</td>\n",
              "      <td>1983</td>\n",
              "      <td>USA</td>\n",
              "      <td>1983</td>\n",
              "      <td>Us power</td>\n",
              "      <td>Us power</td>\n",
              "      <td>&lt;NA&gt;</td>\n",
              "      <td>USA</td>\n",
              "      <td>USA</td>\n",
              "      <td>0</td>\n",
              "    </tr>\n",
              "    <tr>\n",
              "      <th>3797</th>\n",
              "      <td>Aenygmist</td>\n",
              "      <td>3</td>\n",
              "      <td>2007</td>\n",
              "      <td>Canada</td>\n",
              "      <td>2007</td>\n",
              "      <td>Melodic black</td>\n",
              "      <td>Melodic black</td>\n",
              "      <td>&lt;NA&gt;</td>\n",
              "      <td>Canada</td>\n",
              "      <td>CAN</td>\n",
              "      <td>0</td>\n",
              "    </tr>\n",
              "    <tr>\n",
              "      <th>1281</th>\n",
              "      <td>Darkestrah</td>\n",
              "      <td>41</td>\n",
              "      <td>1999</td>\n",
              "      <td>Kyrgyzstan, Germany</td>\n",
              "      <td>1999</td>\n",
              "      <td>Pagan black</td>\n",
              "      <td>Pagan black</td>\n",
              "      <td>&lt;NA&gt;</td>\n",
              "      <td>Kyrgyzstan</td>\n",
              "      <td>KGZ</td>\n",
              "      <td>0</td>\n",
              "    </tr>\n",
              "    <tr>\n",
              "      <th>4543</th>\n",
              "      <td>Blastanus</td>\n",
              "      <td>1</td>\n",
              "      <td>2007</td>\n",
              "      <td>Finland</td>\n",
              "      <td>2007</td>\n",
              "      <td>Brutal death,Grindcore</td>\n",
              "      <td>Brutal death</td>\n",
              "      <td>Grindcore</td>\n",
              "      <td>Finland</td>\n",
              "      <td>FIN</td>\n",
              "      <td>0</td>\n",
              "    </tr>\n",
              "  </tbody>\n",
              "</table>\n",
              "</div>"
            ],
            "text/plain": [
              "              band_name  fans  formed  ...     country  iso3 band_duration\n",
              "4487          Abhorrent     1    2007  ...         USA   USA             0\n",
              "203           Gorgoroth   498    1992  ...      Norway   NOR             0\n",
              "4043         Svartelder     3    2015  ...      Norway   NOR             0\n",
              "3621        Eight Bells     4    2010  ...         USA   USA             0\n",
              "1269               Otyg    42    1995  ...      Sweden   SWE             0\n",
              "579   Spiritual Beggars   127    1992  ...      Sweden   SWE             0\n",
              "1907           Attacker    20    1983  ...         USA   USA             0\n",
              "3797          Aenygmist     3    2007  ...      Canada   CAN             0\n",
              "1281         Darkestrah    41    1999  ...  Kyrgyzstan   KGZ             0\n",
              "4543          Blastanus     1    2007  ...     Finland   FIN             0\n",
              "\n",
              "[10 rows x 11 columns]"
            ]
          },
          "metadata": {},
          "execution_count": 72
        }
      ]
    },
    {
      "cell_type": "code",
      "metadata": {
        "execution": {
          "iopub.status.busy": "2021-10-14T13:19:40.169711Z",
          "iopub.status.idle": "2021-10-14T13:19:40.170711Z",
          "shell.execute_reply": "2021-10-14T13:19:40.169711Z"
        },
        "id": "d0648eaa-0e5e-4e03-b247-34e28202dcf4",
        "tags": []
      },
      "source": [
        "df_non_split['band_duration'] = df_non_split['split'] - df_non_split['formed']"
      ],
      "id": "d0648eaa-0e5e-4e03-b247-34e28202dcf4",
      "execution_count": null,
      "outputs": []
    },
    {
      "cell_type": "code",
      "metadata": {
        "execution": {
          "iopub.execute_input": "2021-10-14T13:19:40.277808Z",
          "iopub.status.busy": "2021-10-14T13:19:40.276807Z",
          "iopub.status.idle": "2021-10-14T13:19:40.293823Z",
          "shell.execute_reply": "2021-10-14T13:19:40.293823Z",
          "shell.execute_reply.started": "2021-10-14T13:19:40.276807Z"
        },
        "id": "07466a1a-afeb-4060-ac5c-a2a61b013621",
        "tags": [],
        "colab": {
          "base_uri": "https://localhost:8080/",
          "height": 481
        },
        "outputId": "9e44076a-b612-40a9-aff9-956e407d22de"
      },
      "source": [
        "df_non_split.sample(10)"
      ],
      "id": "07466a1a-afeb-4060-ac5c-a2a61b013621",
      "execution_count": null,
      "outputs": [
        {
          "output_type": "execute_result",
          "data": {
            "text/html": [
              "<div>\n",
              "<style scoped>\n",
              "    .dataframe tbody tr th:only-of-type {\n",
              "        vertical-align: middle;\n",
              "    }\n",
              "\n",
              "    .dataframe tbody tr th {\n",
              "        vertical-align: top;\n",
              "    }\n",
              "\n",
              "    .dataframe thead th {\n",
              "        text-align: right;\n",
              "    }\n",
              "</style>\n",
              "<table border=\"1\" class=\"dataframe\">\n",
              "  <thead>\n",
              "    <tr style=\"text-align: right;\">\n",
              "      <th></th>\n",
              "      <th>band_name</th>\n",
              "      <th>fans</th>\n",
              "      <th>formed</th>\n",
              "      <th>origin</th>\n",
              "      <th>split</th>\n",
              "      <th>style</th>\n",
              "      <th>main_style</th>\n",
              "      <th>secondary_style</th>\n",
              "      <th>country</th>\n",
              "      <th>iso3</th>\n",
              "      <th>band_duration</th>\n",
              "    </tr>\n",
              "  </thead>\n",
              "  <tbody>\n",
              "    <tr>\n",
              "      <th>3866</th>\n",
              "      <td>Destroying Divinity</td>\n",
              "      <td>3</td>\n",
              "      <td>2001</td>\n",
              "      <td>Czech Republic</td>\n",
              "      <td>2017</td>\n",
              "      <td>Death</td>\n",
              "      <td>Death</td>\n",
              "      <td>&lt;NA&gt;</td>\n",
              "      <td>Czech Republic</td>\n",
              "      <td>CZE</td>\n",
              "      <td>16</td>\n",
              "    </tr>\n",
              "    <tr>\n",
              "      <th>1224</th>\n",
              "      <td>The Old Dead Tree</td>\n",
              "      <td>44</td>\n",
              "      <td>1997</td>\n",
              "      <td>France</td>\n",
              "      <td>2017</td>\n",
              "      <td>Gothic</td>\n",
              "      <td>Gothic</td>\n",
              "      <td>&lt;NA&gt;</td>\n",
              "      <td>France</td>\n",
              "      <td>FRA</td>\n",
              "      <td>20</td>\n",
              "    </tr>\n",
              "    <tr>\n",
              "      <th>288</th>\n",
              "      <td>Demons And Wizards</td>\n",
              "      <td>315</td>\n",
              "      <td>1999</td>\n",
              "      <td>USA</td>\n",
              "      <td>2017</td>\n",
              "      <td>Heavy,Power</td>\n",
              "      <td>Heavy</td>\n",
              "      <td>Power</td>\n",
              "      <td>USA</td>\n",
              "      <td>USA</td>\n",
              "      <td>18</td>\n",
              "    </tr>\n",
              "    <tr>\n",
              "      <th>3546</th>\n",
              "      <td>Aethernaeum</td>\n",
              "      <td>4</td>\n",
              "      <td>2012</td>\n",
              "      <td>Germany</td>\n",
              "      <td>2017</td>\n",
              "      <td>Black,Folk</td>\n",
              "      <td>Black</td>\n",
              "      <td>Folk</td>\n",
              "      <td>Germany</td>\n",
              "      <td>DEU</td>\n",
              "      <td>5</td>\n",
              "    </tr>\n",
              "    <tr>\n",
              "      <th>4414</th>\n",
              "      <td>Soulless</td>\n",
              "      <td>2</td>\n",
              "      <td>1997</td>\n",
              "      <td>USA</td>\n",
              "      <td>2017</td>\n",
              "      <td>Melodic death,Thrash</td>\n",
              "      <td>Melodic death</td>\n",
              "      <td>Thrash</td>\n",
              "      <td>USA</td>\n",
              "      <td>USA</td>\n",
              "      <td>20</td>\n",
              "    </tr>\n",
              "    <tr>\n",
              "      <th>4528</th>\n",
              "      <td>Axial Lead</td>\n",
              "      <td>1</td>\n",
              "      <td>2011</td>\n",
              "      <td>Romania</td>\n",
              "      <td>2017</td>\n",
              "      <td>Progressive</td>\n",
              "      <td>Progressive</td>\n",
              "      <td>&lt;NA&gt;</td>\n",
              "      <td>Romania</td>\n",
              "      <td>ROU</td>\n",
              "      <td>6</td>\n",
              "    </tr>\n",
              "    <tr>\n",
              "      <th>3210</th>\n",
              "      <td>Fórn</td>\n",
              "      <td>6</td>\n",
              "      <td>2012</td>\n",
              "      <td>USA</td>\n",
              "      <td>2017</td>\n",
              "      <td>Doom,Sludge</td>\n",
              "      <td>Doom</td>\n",
              "      <td>Sludge</td>\n",
              "      <td>USA</td>\n",
              "      <td>USA</td>\n",
              "      <td>5</td>\n",
              "    </tr>\n",
              "    <tr>\n",
              "      <th>4172</th>\n",
              "      <td>Chaos Magic</td>\n",
              "      <td>2</td>\n",
              "      <td>2015</td>\n",
              "      <td>Chile</td>\n",
              "      <td>2017</td>\n",
              "      <td>Symphonic,Gothic</td>\n",
              "      <td>Symphonic</td>\n",
              "      <td>Gothic</td>\n",
              "      <td>Chile</td>\n",
              "      <td>CHL</td>\n",
              "      <td>2</td>\n",
              "    </tr>\n",
              "    <tr>\n",
              "      <th>3354</th>\n",
              "      <td>Bombs Of Hades</td>\n",
              "      <td>5</td>\n",
              "      <td>2002</td>\n",
              "      <td>Sweden</td>\n",
              "      <td>2017</td>\n",
              "      <td>Death</td>\n",
              "      <td>Death</td>\n",
              "      <td>&lt;NA&gt;</td>\n",
              "      <td>Sweden</td>\n",
              "      <td>SWE</td>\n",
              "      <td>15</td>\n",
              "    </tr>\n",
              "    <tr>\n",
              "      <th>356</th>\n",
              "      <td>Origin</td>\n",
              "      <td>243</td>\n",
              "      <td>1997</td>\n",
              "      <td>USA</td>\n",
              "      <td>2017</td>\n",
              "      <td>Technical death</td>\n",
              "      <td>Technical death</td>\n",
              "      <td>&lt;NA&gt;</td>\n",
              "      <td>USA</td>\n",
              "      <td>USA</td>\n",
              "      <td>20</td>\n",
              "    </tr>\n",
              "  </tbody>\n",
              "</table>\n",
              "</div>"
            ],
            "text/plain": [
              "                band_name  fans  formed  ...         country  iso3 band_duration\n",
              "3866  Destroying Divinity     3    2001  ...  Czech Republic   CZE            16\n",
              "1224    The Old Dead Tree    44    1997  ...          France   FRA            20\n",
              "288    Demons And Wizards   315    1999  ...             USA   USA            18\n",
              "3546          Aethernaeum     4    2012  ...         Germany   DEU             5\n",
              "4414             Soulless     2    1997  ...             USA   USA            20\n",
              "4528           Axial Lead     1    2011  ...         Romania   ROU             6\n",
              "3210                 Fórn     6    2012  ...             USA   USA             5\n",
              "4172          Chaos Magic     2    2015  ...           Chile   CHL             2\n",
              "3354       Bombs Of Hades     5    2002  ...          Sweden   SWE            15\n",
              "356                Origin   243    1997  ...             USA   USA            20\n",
              "\n",
              "[10 rows x 11 columns]"
            ]
          },
          "metadata": {},
          "execution_count": 74
        }
      ]
    },
    {
      "cell_type": "markdown",
      "metadata": {
        "id": "06f38ff3-3351-4f14-8ee4-55a733fe3df8",
        "tags": []
      },
      "source": [
        "#### Bandas que terminaram"
      ],
      "id": "06f38ff3-3351-4f14-8ee4-55a733fe3df8"
    },
    {
      "cell_type": "code",
      "metadata": {
        "execution": {
          "iopub.execute_input": "2021-10-14T13:19:40.295824Z",
          "iopub.status.busy": "2021-10-14T13:19:40.294824Z",
          "iopub.status.idle": "2021-10-14T13:19:40.358881Z",
          "shell.execute_reply": "2021-10-14T13:19:40.357880Z",
          "shell.execute_reply.started": "2021-10-14T13:19:40.295824Z"
        },
        "id": "49ec6186-63d5-4d48-a66e-15d54603ddef",
        "tags": [],
        "colab": {
          "base_uri": "https://localhost:8080/"
        },
        "outputId": "f10177e0-815a-47f4-d6bd-2ec6f5e42cec"
      },
      "source": [
        "df_split['band_duration'].mean()"
      ],
      "id": "49ec6186-63d5-4d48-a66e-15d54603ddef",
      "execution_count": null,
      "outputs": [
        {
          "output_type": "execute_result",
          "data": {
            "text/plain": [
              "1.0777051561365287"
            ]
          },
          "metadata": {},
          "execution_count": 75
        }
      ]
    },
    {
      "cell_type": "code",
      "metadata": {
        "execution": {
          "iopub.status.busy": "2021-10-14T13:19:40.360883Z",
          "iopub.status.idle": "2021-10-14T13:19:40.360883Z",
          "shell.execute_reply": "2021-10-14T13:19:40.360883Z"
        },
        "id": "53fd4ee6-5ae7-469c-9e0e-b0a6f029de52",
        "tags": [],
        "colab": {
          "base_uri": "https://localhost:8080/",
          "height": 280
        },
        "outputId": "88071a4a-40a2-451a-8f8c-524e8c63d53f"
      },
      "source": [
        "sns.histplot(data=df_split, x='band_duration', bins=10);"
      ],
      "id": "53fd4ee6-5ae7-469c-9e0e-b0a6f029de52",
      "execution_count": null,
      "outputs": [
        {
          "output_type": "display_data",
          "data": {
            "image/png": "[encoded data removed]",
            "text/plain": [
              "<Figure size 432x288 with 1 Axes>"
            ]
          },
          "metadata": {
            "needs_background": "light"
          }
        }
      ]
    },
    {
      "cell_type": "code",
      "metadata": {
        "execution": {
          "iopub.status.busy": "2021-10-14T13:19:40.361884Z",
          "iopub.status.idle": "2021-10-14T13:19:40.361884Z",
          "shell.execute_reply": "2021-10-14T13:19:40.361884Z"
        },
        "id": "e9f68c4e-c7bd-4b9f-a5c2-4c6c54b8b321",
        "tags": [],
        "colab": {
          "base_uri": "https://localhost:8080/",
          "height": 279
        },
        "outputId": "e2c9d0c5-f8d3-4634-83f9-760315786895"
      },
      "source": [
        "sns.histplot(data=df_split, x='formed', bins=10);"
      ],
      "id": "e9f68c4e-c7bd-4b9f-a5c2-4c6c54b8b321",
      "execution_count": null,
      "outputs": [
        {
          "output_type": "display_data",
          "data": {
            "image/png": "[encoded data removed]",
            "text/plain": [
              "<Figure size 432x288 with 1 Axes>"
            ]
          },
          "metadata": {
            "needs_background": "light"
          }
        }
      ]
    },
    {
      "cell_type": "code",
      "metadata": {
        "colab": {
          "base_uri": "https://localhost:8080/"
        },
        "id": "ffsIK61Ypf3-",
        "outputId": "047454fb-fb28-481a-d4b0-c1cb508a2b7e"
      },
      "source": [
        "# bandas que se separaram agrupadas por ano\n",
        "df_split_count = df_split[\"formed\"].value_counts()\n",
        "df_split_count.sum(), df_split.shape[0]"
      ],
      "id": "ffsIK61Ypf3-",
      "execution_count": null,
      "outputs": [
        {
          "output_type": "execute_result",
          "data": {
            "text/plain": [
              "(2754, 2754)"
            ]
          },
          "metadata": {},
          "execution_count": 78
        }
      ]
    },
    {
      "cell_type": "markdown",
      "metadata": {
        "id": "bd746fb3-75b5-4fd2-bde3-57429a7e28d8",
        "tags": []
      },
      "source": [
        "#### Bandas que continuam na ativa"
      ],
      "id": "bd746fb3-75b5-4fd2-bde3-57429a7e28d8"
    },
    {
      "cell_type": "code",
      "metadata": {
        "execution": {
          "iopub.execute_input": "2021-10-14T13:19:40.660153Z",
          "iopub.status.busy": "2021-10-14T13:19:40.660153Z",
          "iopub.status.idle": "2021-10-14T13:19:40.707199Z",
          "shell.execute_reply": "2021-10-14T13:19:40.706194Z",
          "shell.execute_reply.started": "2021-10-14T13:19:40.660153Z"
        },
        "id": "8c9080e1-8752-4d7c-92e0-a6cb86716874",
        "tags": [],
        "colab": {
          "base_uri": "https://localhost:8080/"
        },
        "outputId": "ab2b4fab-2b54-4065-c0c8-c4ea376b35b8"
      },
      "source": [
        "df_non_split['band_duration'].mean()"
      ],
      "id": "8c9080e1-8752-4d7c-92e0-a6cb86716874",
      "execution_count": null,
      "outputs": [
        {
          "output_type": "execute_result",
          "data": {
            "text/plain": [
              "16.154374713696747"
            ]
          },
          "metadata": {},
          "execution_count": 79
        }
      ]
    },
    {
      "cell_type": "code",
      "metadata": {
        "execution": {
          "iopub.status.busy": "2021-10-14T13:19:40.709197Z",
          "iopub.status.idle": "2021-10-14T13:19:40.709197Z",
          "shell.execute_reply": "2021-10-14T13:19:40.709197Z"
        },
        "id": "8371a64b-697b-4aff-b6c0-9e6fdf31dcc0",
        "tags": [],
        "colab": {
          "base_uri": "https://localhost:8080/",
          "height": 280
        },
        "outputId": "04c47cad-760b-49cc-e5b1-1572fd725ab2"
      },
      "source": [
        "sns.histplot(data=df_non_split, x='band_duration', bins=10);"
      ],
      "id": "8371a64b-697b-4aff-b6c0-9e6fdf31dcc0",
      "execution_count": null,
      "outputs": [
        {
          "output_type": "display_data",
          "data": {
            "image/png": "[encoded data removed]",
            "text/plain": [
              "<Figure size 432x288 with 1 Axes>"
            ]
          },
          "metadata": {
            "needs_background": "light"
          }
        }
      ]
    },
    {
      "cell_type": "code",
      "metadata": {
        "execution": {
          "iopub.status.busy": "2021-10-14T13:19:40.710198Z",
          "iopub.status.idle": "2021-10-14T13:19:40.710198Z",
          "shell.execute_reply": "2021-10-14T13:19:40.710198Z"
        },
        "id": "06010537-402e-422f-86bd-41a0490f66c6",
        "tags": [],
        "colab": {
          "base_uri": "https://localhost:8080/",
          "height": 279
        },
        "outputId": "8c0dd9f8-3bf4-456d-a921-0bba293beb4d"
      },
      "source": [
        "sns.histplot(data=df_non_split, x='formed', bins=10);"
      ],
      "id": "06010537-402e-422f-86bd-41a0490f66c6",
      "execution_count": null,
      "outputs": [
        {
          "output_type": "display_data",
          "data": {
            "image/png": "[encoded data removed]",
            "text/plain": [
              "<Figure size 432x288 with 1 Axes>"
            ]
          },
          "metadata": {
            "needs_background": "light"
          }
        }
      ]
    },
    {
      "cell_type": "code",
      "metadata": {
        "colab": {
          "base_uri": "https://localhost:8080/"
        },
        "id": "t4rPwQ4bon7z",
        "outputId": "2cc64f31-1d8f-4b9a-aebb-bf56ecb5370d"
      },
      "source": [
        "# bandas que continuam ativas agrupadas por ano\n",
        "df_non_split_count = df_non_split[\"formed\"].value_counts()\n",
        "df_non_split_count.sum(), df_non_split.shape[0]"
      ],
      "id": "t4rPwQ4bon7z",
      "execution_count": null,
      "outputs": [
        {
          "output_type": "execute_result",
          "data": {
            "text/plain": [
              "(2183, 2183)"
            ]
          },
          "metadata": {},
          "execution_count": 82
        }
      ]
    },
    {
      "cell_type": "markdown",
      "metadata": {
        "id": "793bdf67-4434-475f-a288-dfc903180a33",
        "tags": []
      },
      "source": [
        "### Número de Fãs"
      ],
      "id": "793bdf67-4434-475f-a288-dfc903180a33"
    },
    {
      "cell_type": "code",
      "metadata": {
        "execution": {
          "iopub.execute_input": "2021-10-14T13:19:41.091542Z",
          "iopub.status.busy": "2021-10-14T13:19:41.090541Z",
          "iopub.status.idle": "2021-10-14T13:19:41.106555Z",
          "shell.execute_reply": "2021-10-14T13:19:41.105555Z",
          "shell.execute_reply.started": "2021-10-14T13:19:41.091542Z"
        },
        "id": "9e39a0cc",
        "tags": []
      },
      "source": [
        "df['formed'] = df['formed'].astype('int64')"
      ],
      "id": "9e39a0cc",
      "execution_count": null,
      "outputs": []
    },
    {
      "cell_type": "code",
      "metadata": {
        "colab": {
          "base_uri": "https://localhost:8080/",
          "height": 359
        },
        "id": "a9xD9GRzZmxs",
        "outputId": "cda9a30e-a6e6-4c2d-f39f-58e968b2a953"
      },
      "source": [
        "df_fans_by_year = df[['formed', 'fans']].groupby('formed').sum().reset_index().sort_values('formed', ascending=True)\n",
        "df_fans_by_year.head(10)"
      ],
      "id": "a9xD9GRzZmxs",
      "execution_count": null,
      "outputs": [
        {
          "output_type": "execute_result",
          "data": {
            "text/html": [
              "<div>\n",
              "<style scoped>\n",
              "    .dataframe tbody tr th:only-of-type {\n",
              "        vertical-align: middle;\n",
              "    }\n",
              "\n",
              "    .dataframe tbody tr th {\n",
              "        vertical-align: top;\n",
              "    }\n",
              "\n",
              "    .dataframe thead th {\n",
              "        text-align: right;\n",
              "    }\n",
              "</style>\n",
              "<table border=\"1\" class=\"dataframe\">\n",
              "  <thead>\n",
              "    <tr style=\"text-align: right;\">\n",
              "      <th></th>\n",
              "      <th>formed</th>\n",
              "      <th>fans</th>\n",
              "    </tr>\n",
              "  </thead>\n",
              "  <tbody>\n",
              "    <tr>\n",
              "      <th>0</th>\n",
              "      <td>1964</td>\n",
              "      <td>362</td>\n",
              "    </tr>\n",
              "    <tr>\n",
              "      <th>1</th>\n",
              "      <td>1965</td>\n",
              "      <td>519</td>\n",
              "    </tr>\n",
              "    <tr>\n",
              "      <th>2</th>\n",
              "      <td>1967</td>\n",
              "      <td>183</td>\n",
              "    </tr>\n",
              "    <tr>\n",
              "      <th>3</th>\n",
              "      <td>1968</td>\n",
              "      <td>5456</td>\n",
              "    </tr>\n",
              "    <tr>\n",
              "      <th>4</th>\n",
              "      <td>1969</td>\n",
              "      <td>2811</td>\n",
              "    </tr>\n",
              "    <tr>\n",
              "      <th>5</th>\n",
              "      <td>1970</td>\n",
              "      <td>64</td>\n",
              "    </tr>\n",
              "    <tr>\n",
              "      <th>6</th>\n",
              "      <td>1971</td>\n",
              "      <td>124</td>\n",
              "    </tr>\n",
              "    <tr>\n",
              "      <th>7</th>\n",
              "      <td>1972</td>\n",
              "      <td>844</td>\n",
              "    </tr>\n",
              "    <tr>\n",
              "      <th>8</th>\n",
              "      <td>1973</td>\n",
              "      <td>985</td>\n",
              "    </tr>\n",
              "    <tr>\n",
              "      <th>9</th>\n",
              "      <td>1974</td>\n",
              "      <td>74</td>\n",
              "    </tr>\n",
              "  </tbody>\n",
              "</table>\n",
              "</div>"
            ],
            "text/plain": [
              "   formed  fans\n",
              "0    1964   362\n",
              "1    1965   519\n",
              "2    1967   183\n",
              "3    1968  5456\n",
              "4    1969  2811\n",
              "5    1970    64\n",
              "6    1971   124\n",
              "7    1972   844\n",
              "8    1973   985\n",
              "9    1974    74"
            ]
          },
          "metadata": {},
          "execution_count": 84
        }
      ]
    },
    {
      "cell_type": "code",
      "metadata": {
        "execution": {
          "iopub.status.busy": "2021-10-14T13:19:40.712200Z",
          "iopub.status.idle": "2021-10-14T13:19:40.712200Z",
          "shell.execute_reply": "2021-10-14T13:19:40.712200Z"
        },
        "id": "d5968c84",
        "tags": [],
        "colab": {
          "base_uri": "https://localhost:8080/",
          "height": 359
        },
        "outputId": "218843e5-d79a-4651-8db7-2689fa855ab0"
      },
      "source": [
        "df_fans_by_country = df[['country', 'fans']].groupby('country').sum().reset_index().sort_values('fans', ascending=False)\n",
        "df_fans_by_country.head(10)"
      ],
      "id": "d5968c84",
      "execution_count": null,
      "outputs": [
        {
          "output_type": "execute_result",
          "data": {
            "text/html": [
              "<div>\n",
              "<style scoped>\n",
              "    .dataframe tbody tr th:only-of-type {\n",
              "        vertical-align: middle;\n",
              "    }\n",
              "\n",
              "    .dataframe tbody tr th {\n",
              "        vertical-align: top;\n",
              "    }\n",
              "\n",
              "    .dataframe thead th {\n",
              "        text-align: right;\n",
              "    }\n",
              "</style>\n",
              "<table border=\"1\" class=\"dataframe\">\n",
              "  <thead>\n",
              "    <tr style=\"text-align: right;\">\n",
              "      <th></th>\n",
              "      <th>country</th>\n",
              "      <th>fans</th>\n",
              "    </tr>\n",
              "  </thead>\n",
              "  <tbody>\n",
              "    <tr>\n",
              "      <th>82</th>\n",
              "      <td>USA</td>\n",
              "      <td>99466</td>\n",
              "    </tr>\n",
              "    <tr>\n",
              "      <th>74</th>\n",
              "      <td>Sweden</td>\n",
              "      <td>47326</td>\n",
              "    </tr>\n",
              "    <tr>\n",
              "      <th>84</th>\n",
              "      <td>United Kingdom</td>\n",
              "      <td>34228</td>\n",
              "    </tr>\n",
              "    <tr>\n",
              "      <th>27</th>\n",
              "      <td>Finland</td>\n",
              "      <td>32915</td>\n",
              "    </tr>\n",
              "    <tr>\n",
              "      <th>30</th>\n",
              "      <td>Germany</td>\n",
              "      <td>29545</td>\n",
              "    </tr>\n",
              "    <tr>\n",
              "      <th>58</th>\n",
              "      <td>Norway</td>\n",
              "      <td>22480</td>\n",
              "    </tr>\n",
              "    <tr>\n",
              "      <th>14</th>\n",
              "      <td>Canada</td>\n",
              "      <td>8897</td>\n",
              "    </tr>\n",
              "    <tr>\n",
              "      <th>78</th>\n",
              "      <td>The Netherlands</td>\n",
              "      <td>8819</td>\n",
              "    </tr>\n",
              "    <tr>\n",
              "      <th>41</th>\n",
              "      <td>Italy</td>\n",
              "      <td>7179</td>\n",
              "    </tr>\n",
              "    <tr>\n",
              "      <th>28</th>\n",
              "      <td>France</td>\n",
              "      <td>7164</td>\n",
              "    </tr>\n",
              "  </tbody>\n",
              "</table>\n",
              "</div>"
            ],
            "text/plain": [
              "            country   fans\n",
              "82              USA  99466\n",
              "74           Sweden  47326\n",
              "84   United Kingdom  34228\n",
              "27          Finland  32915\n",
              "30          Germany  29545\n",
              "58           Norway  22480\n",
              "14           Canada   8897\n",
              "78  The Netherlands   8819\n",
              "41            Italy   7179\n",
              "28           France   7164"
            ]
          },
          "metadata": {},
          "execution_count": 85
        }
      ]
    },
    {
      "cell_type": "code",
      "metadata": {
        "execution": {
          "iopub.execute_input": "2021-10-14T13:19:41.107557Z",
          "iopub.status.busy": "2021-10-14T13:19:41.107557Z",
          "iopub.status.idle": "2021-10-14T13:19:41.122570Z",
          "shell.execute_reply": "2021-10-14T13:19:41.121569Z",
          "shell.execute_reply.started": "2021-10-14T13:19:41.107557Z"
        },
        "id": "bf0dca19",
        "tags": [],
        "colab": {
          "base_uri": "https://localhost:8080/",
          "height": 111
        },
        "outputId": "fb6bef87-7b6f-458d-c5c6-f15071acb99b"
      },
      "source": [
        "df.corr(method='pearson')"
      ],
      "id": "bf0dca19",
      "execution_count": null,
      "outputs": [
        {
          "output_type": "execute_result",
          "data": {
            "text/html": [
              "<div>\n",
              "<style scoped>\n",
              "    .dataframe tbody tr th:only-of-type {\n",
              "        vertical-align: middle;\n",
              "    }\n",
              "\n",
              "    .dataframe tbody tr th {\n",
              "        vertical-align: top;\n",
              "    }\n",
              "\n",
              "    .dataframe thead th {\n",
              "        text-align: right;\n",
              "    }\n",
              "</style>\n",
              "<table border=\"1\" class=\"dataframe\">\n",
              "  <thead>\n",
              "    <tr style=\"text-align: right;\">\n",
              "      <th></th>\n",
              "      <th>fans</th>\n",
              "      <th>formed</th>\n",
              "    </tr>\n",
              "  </thead>\n",
              "  <tbody>\n",
              "    <tr>\n",
              "      <th>fans</th>\n",
              "      <td>1.000000</td>\n",
              "      <td>-0.267575</td>\n",
              "    </tr>\n",
              "    <tr>\n",
              "      <th>formed</th>\n",
              "      <td>-0.267575</td>\n",
              "      <td>1.000000</td>\n",
              "    </tr>\n",
              "  </tbody>\n",
              "</table>\n",
              "</div>"
            ],
            "text/plain": [
              "            fans    formed\n",
              "fans    1.000000 -0.267575\n",
              "formed -0.267575  1.000000"
            ]
          },
          "metadata": {},
          "execution_count": 86
        }
      ]
    },
    {
      "cell_type": "code",
      "metadata": {
        "execution": {
          "iopub.execute_input": "2021-10-14T13:19:41.123571Z",
          "iopub.status.busy": "2021-10-14T13:19:41.123571Z",
          "iopub.status.idle": "2021-10-14T13:19:41.137584Z",
          "shell.execute_reply": "2021-10-14T13:19:41.137584Z",
          "shell.execute_reply.started": "2021-10-14T13:19:41.123571Z"
        },
        "id": "18ada6a4",
        "tags": [],
        "colab": {
          "base_uri": "https://localhost:8080/",
          "height": 111
        },
        "outputId": "e558abba-9b38-44d9-de34-8a4b5f525cb4"
      },
      "source": [
        "df.corr(method='kendall')"
      ],
      "id": "18ada6a4",
      "execution_count": null,
      "outputs": [
        {
          "output_type": "execute_result",
          "data": {
            "text/html": [
              "<div>\n",
              "<style scoped>\n",
              "    .dataframe tbody tr th:only-of-type {\n",
              "        vertical-align: middle;\n",
              "    }\n",
              "\n",
              "    .dataframe tbody tr th {\n",
              "        vertical-align: top;\n",
              "    }\n",
              "\n",
              "    .dataframe thead th {\n",
              "        text-align: right;\n",
              "    }\n",
              "</style>\n",
              "<table border=\"1\" class=\"dataframe\">\n",
              "  <thead>\n",
              "    <tr style=\"text-align: right;\">\n",
              "      <th></th>\n",
              "      <th>fans</th>\n",
              "      <th>formed</th>\n",
              "    </tr>\n",
              "  </thead>\n",
              "  <tbody>\n",
              "    <tr>\n",
              "      <th>fans</th>\n",
              "      <td>1.000000</td>\n",
              "      <td>-0.263232</td>\n",
              "    </tr>\n",
              "    <tr>\n",
              "      <th>formed</th>\n",
              "      <td>-0.263232</td>\n",
              "      <td>1.000000</td>\n",
              "    </tr>\n",
              "  </tbody>\n",
              "</table>\n",
              "</div>"
            ],
            "text/plain": [
              "            fans    formed\n",
              "fans    1.000000 -0.263232\n",
              "formed -0.263232  1.000000"
            ]
          },
          "metadata": {},
          "execution_count": 87
        }
      ]
    },
    {
      "cell_type": "code",
      "metadata": {
        "execution": {
          "iopub.execute_input": "2021-10-14T13:19:41.139585Z",
          "iopub.status.busy": "2021-10-14T13:19:41.139585Z",
          "iopub.status.idle": "2021-10-14T13:19:41.153598Z",
          "shell.execute_reply": "2021-10-14T13:19:41.153598Z",
          "shell.execute_reply.started": "2021-10-14T13:19:41.139585Z"
        },
        "id": "3ab7efa2",
        "tags": [],
        "colab": {
          "base_uri": "https://localhost:8080/",
          "height": 111
        },
        "outputId": "7a91770f-b6d2-4a65-a72c-798758677508"
      },
      "source": [
        "df.corr(method='spearman')"
      ],
      "id": "3ab7efa2",
      "execution_count": null,
      "outputs": [
        {
          "output_type": "execute_result",
          "data": {
            "text/html": [
              "<div>\n",
              "<style scoped>\n",
              "    .dataframe tbody tr th:only-of-type {\n",
              "        vertical-align: middle;\n",
              "    }\n",
              "\n",
              "    .dataframe tbody tr th {\n",
              "        vertical-align: top;\n",
              "    }\n",
              "\n",
              "    .dataframe thead th {\n",
              "        text-align: right;\n",
              "    }\n",
              "</style>\n",
              "<table border=\"1\" class=\"dataframe\">\n",
              "  <thead>\n",
              "    <tr style=\"text-align: right;\">\n",
              "      <th></th>\n",
              "      <th>fans</th>\n",
              "      <th>formed</th>\n",
              "    </tr>\n",
              "  </thead>\n",
              "  <tbody>\n",
              "    <tr>\n",
              "      <th>fans</th>\n",
              "      <td>1.000000</td>\n",
              "      <td>-0.373901</td>\n",
              "    </tr>\n",
              "    <tr>\n",
              "      <th>formed</th>\n",
              "      <td>-0.373901</td>\n",
              "      <td>1.000000</td>\n",
              "    </tr>\n",
              "  </tbody>\n",
              "</table>\n",
              "</div>"
            ],
            "text/plain": [
              "            fans    formed\n",
              "fans    1.000000 -0.373901\n",
              "formed -0.373901  1.000000"
            ]
          },
          "metadata": {},
          "execution_count": 88
        }
      ]
    },
    {
      "cell_type": "markdown",
      "metadata": {
        "id": "8f64f0fa"
      },
      "source": [
        "# Visualização de dados"
      ],
      "id": "8f64f0fa"
    },
    {
      "cell_type": "markdown",
      "metadata": {
        "id": "uLGzU6dGPZ-6"
      },
      "source": [
        "## Relação de formação de bandas por ano"
      ],
      "id": "uLGzU6dGPZ-6"
    },
    {
      "cell_type": "code",
      "metadata": {
        "id": "4qTKE_O6giBo"
      },
      "source": [
        "df_bands_by_year = df.sort_values(by='formed', ascending=True)"
      ],
      "id": "4qTKE_O6giBo",
      "execution_count": null,
      "outputs": []
    },
    {
      "cell_type": "code",
      "metadata": {
        "colab": {
          "base_uri": "https://localhost:8080/"
        },
        "id": "eTP7FCYfgWoX",
        "outputId": "de432e24-1458-4d19-cbce-a5c591a52a24"
      },
      "source": [
        "print(f\"\\nNeste dataset, foram contabilizadas bandas de {len(df_bands_by_year['formed'].unique())} anos diferentes entre os anos de {df_bands_by_year['formed'].iloc[0]} e {df_bands_by_year['formed'].iloc[-1]}.\\n\")"
      ],
      "id": "eTP7FCYfgWoX",
      "execution_count": null,
      "outputs": [
        {
          "output_type": "stream",
          "name": "stdout",
          "text": [
            "\n",
            "Neste dataset, foram contabilizadas bandas de 52 anos diferentes entre os anos de 1964 e 2016.\n",
            "\n"
          ]
        }
      ]
    },
    {
      "cell_type": "markdown",
      "metadata": {
        "id": "CruFogFTfUFk"
      },
      "source": [
        "### Bandas"
      ],
      "id": "CruFogFTfUFk"
    },
    {
      "cell_type": "code",
      "metadata": {
        "colab": {
          "base_uri": "https://localhost:8080/",
          "height": 272
        },
        "id": "ABrakQHXYnqs",
        "outputId": "27fa22b4-c004-4580-a3f1-7203ad737761"
      },
      "source": [
        "df_bands_by_year.head()"
      ],
      "id": "ABrakQHXYnqs",
      "execution_count": null,
      "outputs": [
        {
          "output_type": "execute_result",
          "data": {
            "text/html": [
              "<div>\n",
              "<style scoped>\n",
              "    .dataframe tbody tr th:only-of-type {\n",
              "        vertical-align: middle;\n",
              "    }\n",
              "\n",
              "    .dataframe tbody tr th {\n",
              "        vertical-align: top;\n",
              "    }\n",
              "\n",
              "    .dataframe thead th {\n",
              "        text-align: right;\n",
              "    }\n",
              "</style>\n",
              "<table border=\"1\" class=\"dataframe\">\n",
              "  <thead>\n",
              "    <tr style=\"text-align: right;\">\n",
              "      <th></th>\n",
              "      <th>band_name</th>\n",
              "      <th>fans</th>\n",
              "      <th>formed</th>\n",
              "      <th>origin</th>\n",
              "      <th>split</th>\n",
              "      <th>style</th>\n",
              "      <th>main_style</th>\n",
              "      <th>secondary_style</th>\n",
              "      <th>country</th>\n",
              "      <th>iso3</th>\n",
              "    </tr>\n",
              "  </thead>\n",
              "  <tbody>\n",
              "    <tr>\n",
              "      <th>256</th>\n",
              "      <td>Alice Cooper</td>\n",
              "      <td>362</td>\n",
              "      <td>1964</td>\n",
              "      <td>USA</td>\n",
              "      <td>-</td>\n",
              "      <td>Hard rock,Glam rock,New,Wave ,Heavy</td>\n",
              "      <td>Hard rock</td>\n",
              "      <td>Glam rock</td>\n",
              "      <td>USA</td>\n",
              "      <td>USA</td>\n",
              "    </tr>\n",
              "    <tr>\n",
              "      <th>197</th>\n",
              "      <td>Scorpions</td>\n",
              "      <td>519</td>\n",
              "      <td>1965</td>\n",
              "      <td>Germany</td>\n",
              "      <td>1965</td>\n",
              "      <td>Progressive rock,Hard rock,Heavy</td>\n",
              "      <td>Progressive rock</td>\n",
              "      <td>Hard rock</td>\n",
              "      <td>Germany</td>\n",
              "      <td>DEU</td>\n",
              "    </tr>\n",
              "    <tr>\n",
              "      <th>1669</th>\n",
              "      <td>Elf</td>\n",
              "      <td>26</td>\n",
              "      <td>1967</td>\n",
              "      <td>USA</td>\n",
              "      <td>1967</td>\n",
              "      <td>Blues rock,Hard rock</td>\n",
              "      <td>Blues rock</td>\n",
              "      <td>Hard rock</td>\n",
              "      <td>USA</td>\n",
              "      <td>USA</td>\n",
              "    </tr>\n",
              "    <tr>\n",
              "      <th>609</th>\n",
              "      <td>Blue Öyster Cult</td>\n",
              "      <td>118</td>\n",
              "      <td>1967</td>\n",
              "      <td>USA</td>\n",
              "      <td>1967</td>\n",
              "      <td>Hard rock</td>\n",
              "      <td>Hard rock</td>\n",
              "      <td>&lt;NA&gt;</td>\n",
              "      <td>USA</td>\n",
              "      <td>USA</td>\n",
              "    </tr>\n",
              "    <tr>\n",
              "      <th>1314</th>\n",
              "      <td>Budgie</td>\n",
              "      <td>39</td>\n",
              "      <td>1967</td>\n",
              "      <td>United Kingdom</td>\n",
              "      <td>-</td>\n",
              "      <td>Hard rock,Heavy,Progressive rock</td>\n",
              "      <td>Hard rock</td>\n",
              "      <td>Heavy</td>\n",
              "      <td>United Kingdom</td>\n",
              "      <td>GBR</td>\n",
              "    </tr>\n",
              "  </tbody>\n",
              "</table>\n",
              "</div>"
            ],
            "text/plain": [
              "             band_name  fans  formed  ... secondary_style         country iso3\n",
              "256       Alice Cooper   362    1964  ...       Glam rock             USA  USA\n",
              "197          Scorpions   519    1965  ...       Hard rock         Germany  DEU\n",
              "1669               Elf    26    1967  ...       Hard rock             USA  USA\n",
              "609   Blue Öyster Cult   118    1967  ...            <NA>             USA  USA\n",
              "1314            Budgie    39    1967  ...           Heavy  United Kingdom  GBR\n",
              "\n",
              "[5 rows x 10 columns]"
            ]
          },
          "metadata": {},
          "execution_count": 91
        }
      ]
    },
    {
      "cell_type": "code",
      "metadata": {
        "colab": {
          "base_uri": "https://localhost:8080/",
          "height": 268
        },
        "id": "LUkqyBQV1eLH",
        "outputId": "c231f18a-63f0-46fc-dcb1-df99c99ce5a9"
      },
      "source": [
        "violinplot_bands_formed_by_year = sns.violinplot(data=df_bands_by_year, y='formed')\n",
        "violinplot_bands_formed_by_year.set(ylabel='Ano de formação')\n",
        "violinplot_bands_formed_by_year.set_title(\"Relação de formação de bandas por ano\")\n",
        "plt.show()"
      ],
      "id": "LUkqyBQV1eLH",
      "execution_count": null,
      "outputs": [
        {
          "output_type": "display_data",
          "data": {
            "image/png": "[encoded data removed]",
            "text/plain": [
              "<Figure size 432x288 with 1 Axes>"
            ]
          },
          "metadata": {
            "needs_background": "light"
          }
        }
      ]
    },
    {
      "cell_type": "code",
      "metadata": {
        "colab": {
          "base_uri": "https://localhost:8080/",
          "height": 268
        },
        "id": "MIDWc2sgLmtC",
        "outputId": "e644d56a-9e9c-40c2-a0bb-c7f3e6a8e34b"
      },
      "source": [
        "violinplot_bands_by_year = sns.violinplot(data=df_split, y='split')\n",
        "violinplot_bands_by_year.set(ylabel='Ano de separação')\n",
        "violinplot_bands_by_year.set_title(\"Relação de separação de bandas por ano\")\n",
        "plt.show()"
      ],
      "id": "MIDWc2sgLmtC",
      "execution_count": null,
      "outputs": [
        {
          "output_type": "display_data",
          "data": {
            "image/png": "[encoded data removed]",
            "text/plain": [
              "<Figure size 432x288 with 1 Axes>"
            ]
          },
          "metadata": {
            "needs_background": "light"
          }
        }
      ]
    },
    {
      "cell_type": "code",
      "metadata": {
        "colab": {
          "base_uri": "https://localhost:8080/"
        },
        "id": "0hleVseSUSeZ",
        "outputId": "dd988299-05b8-4556-beb7-a3378148f56e"
      },
      "source": [
        "df_non_split_count.head()"
      ],
      "id": "0hleVseSUSeZ",
      "execution_count": null,
      "outputs": [
        {
          "output_type": "execute_result",
          "data": {
            "text/plain": [
              "2006    124\n",
              "2007    119\n",
              "2005    107\n",
              "2003    102\n",
              "2004     98\n",
              "Name: formed, dtype: int64"
            ]
          },
          "metadata": {},
          "execution_count": 94
        }
      ]
    },
    {
      "cell_type": "code",
      "metadata": {
        "id": "2SJArcQRWfEj"
      },
      "source": [
        "df_active_splitted_bands = pd.DataFrame(columns=[\"year\", \"active\", \"splitted\"])\n",
        "df_active_splitted_bands[\"year\"] = df[\"formed\"].unique()\n",
        "\n",
        "df_active_splitted_bands[\"active\"] = df_active_splitted_bands[\"year\"].map(df_non_split_count.to_dict())\n",
        "df_active_splitted_bands[\"splitted\"] = df_active_splitted_bands[\"year\"].map(df_split_count.to_dict())\n",
        "df_active_splitted_bands = df_active_splitted_bands.sort_values(by='year', ascending=True)"
      ],
      "id": "2SJArcQRWfEj",
      "execution_count": null,
      "outputs": []
    },
    {
      "cell_type": "code",
      "metadata": {
        "colab": {
          "base_uri": "https://localhost:8080/",
          "height": 531
        },
        "id": "lXJ6Xt4ScclD",
        "outputId": "5d994f3c-e9f3-4e99-e3c2-8c85b8e50387"
      },
      "source": [
        "ax = df_active_splitted_bands[['active', 'splitted']].plot(kind='bar', color=['#DD2763', '#74BBA4'])\n",
        "ax.set_xticklabels(df_active_splitted_bands['year'], rotation=90)\n",
        "plt.title('Relação entre quantidade de bandas que se separaram e bandas que estão ativas')\n",
        "splitted_legend = mpatches.Patch(color='#DD2763', label='Bandas separadas')\n",
        "active_legend = mpatches.Patch(color='#74BBA4', label='Bandas ativas')\n",
        "plt.legend(handles=[splitted_legend, active_legend])\n",
        "plt.figure(figsize=(20,10))\n",
        "\n",
        "sns.set(rc={'figure.figsize':(20, 10)})\n",
        "sns.set(font_scale=1)"
      ],
      "id": "lXJ6Xt4ScclD",
      "execution_count": null,
      "outputs": [
        {
          "output_type": "display_data",
          "data": {
            "image/png": "[encoded data removed]",
            "text/plain": [
              "<Figure size 1440x720 with 1 Axes>"
            ]
          },
          "metadata": {}
        },
        {
          "output_type": "display_data",
          "data": {
            "text/plain": [
              "<Figure size 1440x720 with 0 Axes>"
            ]
          },
          "metadata": {}
        }
      ]
    },
    {
      "cell_type": "markdown",
      "metadata": {
        "id": "aXVo3m-KPgO0"
      },
      "source": [
        "### Fãs"
      ],
      "id": "aXVo3m-KPgO0"
    },
    {
      "cell_type": "code",
      "metadata": {
        "colab": {
          "base_uri": "https://localhost:8080/",
          "height": 1000
        },
        "id": "CIZYTTISwdfg",
        "outputId": "d3c8018f-7d1f-43de-e358-fc0c476441dc"
      },
      "source": [
        "df_fans_by_year = df[['formed', 'fans']].groupby('formed').sum().reset_index().sort_values('formed', ascending=True)\n",
        "df_fans_by_year"
      ],
      "id": "CIZYTTISwdfg",
      "execution_count": null,
      "outputs": [
        {
          "output_type": "execute_result",
          "data": {
            "text/html": [
              "<div>\n",
              "<style scoped>\n",
              "    .dataframe tbody tr th:only-of-type {\n",
              "        vertical-align: middle;\n",
              "    }\n",
              "\n",
              "    .dataframe tbody tr th {\n",
              "        vertical-align: top;\n",
              "    }\n",
              "\n",
              "    .dataframe thead th {\n",
              "        text-align: right;\n",
              "    }\n",
              "</style>\n",
              "<table border=\"1\" class=\"dataframe\">\n",
              "  <thead>\n",
              "    <tr style=\"text-align: right;\">\n",
              "      <th></th>\n",
              "      <th>formed</th>\n",
              "      <th>fans</th>\n",
              "    </tr>\n",
              "  </thead>\n",
              "  <tbody>\n",
              "    <tr>\n",
              "      <th>0</th>\n",
              "      <td>1964</td>\n",
              "      <td>362</td>\n",
              "    </tr>\n",
              "    <tr>\n",
              "      <th>1</th>\n",
              "      <td>1965</td>\n",
              "      <td>519</td>\n",
              "    </tr>\n",
              "    <tr>\n",
              "      <th>2</th>\n",
              "      <td>1967</td>\n",
              "      <td>183</td>\n",
              "    </tr>\n",
              "    <tr>\n",
              "      <th>3</th>\n",
              "      <td>1968</td>\n",
              "      <td>5456</td>\n",
              "    </tr>\n",
              "    <tr>\n",
              "      <th>4</th>\n",
              "      <td>1969</td>\n",
              "      <td>2811</td>\n",
              "    </tr>\n",
              "    <tr>\n",
              "      <th>5</th>\n",
              "      <td>1970</td>\n",
              "      <td>64</td>\n",
              "    </tr>\n",
              "    <tr>\n",
              "      <th>6</th>\n",
              "      <td>1971</td>\n",
              "      <td>124</td>\n",
              "    </tr>\n",
              "    <tr>\n",
              "      <th>7</th>\n",
              "      <td>1972</td>\n",
              "      <td>844</td>\n",
              "    </tr>\n",
              "    <tr>\n",
              "      <th>8</th>\n",
              "      <td>1973</td>\n",
              "      <td>985</td>\n",
              "    </tr>\n",
              "    <tr>\n",
              "      <th>9</th>\n",
              "      <td>1974</td>\n",
              "      <td>74</td>\n",
              "    </tr>\n",
              "    <tr>\n",
              "      <th>10</th>\n",
              "      <td>1975</td>\n",
              "      <td>5612</td>\n",
              "    </tr>\n",
              "    <tr>\n",
              "      <th>11</th>\n",
              "      <td>1976</td>\n",
              "      <td>1140</td>\n",
              "    </tr>\n",
              "    <tr>\n",
              "      <th>12</th>\n",
              "      <td>1977</td>\n",
              "      <td>511</td>\n",
              "    </tr>\n",
              "    <tr>\n",
              "      <th>13</th>\n",
              "      <td>1978</td>\n",
              "      <td>2818</td>\n",
              "    </tr>\n",
              "    <tr>\n",
              "      <th>14</th>\n",
              "      <td>1979</td>\n",
              "      <td>2241</td>\n",
              "    </tr>\n",
              "    <tr>\n",
              "      <th>15</th>\n",
              "      <td>1980</td>\n",
              "      <td>4407</td>\n",
              "    </tr>\n",
              "    <tr>\n",
              "      <th>16</th>\n",
              "      <td>1981</td>\n",
              "      <td>12549</td>\n",
              "    </tr>\n",
              "    <tr>\n",
              "      <th>17</th>\n",
              "      <td>1982</td>\n",
              "      <td>7065</td>\n",
              "    </tr>\n",
              "    <tr>\n",
              "      <th>18</th>\n",
              "      <td>1983</td>\n",
              "      <td>10785</td>\n",
              "    </tr>\n",
              "    <tr>\n",
              "      <th>19</th>\n",
              "      <td>1984</td>\n",
              "      <td>10443</td>\n",
              "    </tr>\n",
              "    <tr>\n",
              "      <th>20</th>\n",
              "      <td>1985</td>\n",
              "      <td>9736</td>\n",
              "    </tr>\n",
              "    <tr>\n",
              "      <th>21</th>\n",
              "      <td>1986</td>\n",
              "      <td>3708</td>\n",
              "    </tr>\n",
              "    <tr>\n",
              "      <th>22</th>\n",
              "      <td>1987</td>\n",
              "      <td>8603</td>\n",
              "    </tr>\n",
              "    <tr>\n",
              "      <th>23</th>\n",
              "      <td>1988</td>\n",
              "      <td>12202</td>\n",
              "    </tr>\n",
              "    <tr>\n",
              "      <th>24</th>\n",
              "      <td>1989</td>\n",
              "      <td>12939</td>\n",
              "    </tr>\n",
              "    <tr>\n",
              "      <th>25</th>\n",
              "      <td>1990</td>\n",
              "      <td>21481</td>\n",
              "    </tr>\n",
              "    <tr>\n",
              "      <th>26</th>\n",
              "      <td>1991</td>\n",
              "      <td>17512</td>\n",
              "    </tr>\n",
              "    <tr>\n",
              "      <th>27</th>\n",
              "      <td>1992</td>\n",
              "      <td>8217</td>\n",
              "    </tr>\n",
              "    <tr>\n",
              "      <th>28</th>\n",
              "      <td>1993</td>\n",
              "      <td>14631</td>\n",
              "    </tr>\n",
              "    <tr>\n",
              "      <th>29</th>\n",
              "      <td>1994</td>\n",
              "      <td>11313</td>\n",
              "    </tr>\n",
              "    <tr>\n",
              "      <th>30</th>\n",
              "      <td>1995</td>\n",
              "      <td>16719</td>\n",
              "    </tr>\n",
              "    <tr>\n",
              "      <th>31</th>\n",
              "      <td>1996</td>\n",
              "      <td>17819</td>\n",
              "    </tr>\n",
              "    <tr>\n",
              "      <th>32</th>\n",
              "      <td>1997</td>\n",
              "      <td>10053</td>\n",
              "    </tr>\n",
              "    <tr>\n",
              "      <th>33</th>\n",
              "      <td>1998</td>\n",
              "      <td>11729</td>\n",
              "    </tr>\n",
              "    <tr>\n",
              "      <th>34</th>\n",
              "      <td>1999</td>\n",
              "      <td>13333</td>\n",
              "    </tr>\n",
              "    <tr>\n",
              "      <th>35</th>\n",
              "      <td>2000</td>\n",
              "      <td>10703</td>\n",
              "    </tr>\n",
              "    <tr>\n",
              "      <th>36</th>\n",
              "      <td>2001</td>\n",
              "      <td>9734</td>\n",
              "    </tr>\n",
              "    <tr>\n",
              "      <th>37</th>\n",
              "      <td>2002</td>\n",
              "      <td>10495</td>\n",
              "    </tr>\n",
              "    <tr>\n",
              "      <th>38</th>\n",
              "      <td>2003</td>\n",
              "      <td>9642</td>\n",
              "    </tr>\n",
              "    <tr>\n",
              "      <th>39</th>\n",
              "      <td>2004</td>\n",
              "      <td>11778</td>\n",
              "    </tr>\n",
              "    <tr>\n",
              "      <th>40</th>\n",
              "      <td>2005</td>\n",
              "      <td>8284</td>\n",
              "    </tr>\n",
              "    <tr>\n",
              "      <th>41</th>\n",
              "      <td>2006</td>\n",
              "      <td>6032</td>\n",
              "    </tr>\n",
              "    <tr>\n",
              "      <th>42</th>\n",
              "      <td>2007</td>\n",
              "      <td>6593</td>\n",
              "    </tr>\n",
              "    <tr>\n",
              "      <th>43</th>\n",
              "      <td>2008</td>\n",
              "      <td>4361</td>\n",
              "    </tr>\n",
              "    <tr>\n",
              "      <th>44</th>\n",
              "      <td>2009</td>\n",
              "      <td>3155</td>\n",
              "    </tr>\n",
              "    <tr>\n",
              "      <th>45</th>\n",
              "      <td>2010</td>\n",
              "      <td>2634</td>\n",
              "    </tr>\n",
              "    <tr>\n",
              "      <th>46</th>\n",
              "      <td>2011</td>\n",
              "      <td>1841</td>\n",
              "    </tr>\n",
              "    <tr>\n",
              "      <th>47</th>\n",
              "      <td>2012</td>\n",
              "      <td>1123</td>\n",
              "    </tr>\n",
              "    <tr>\n",
              "      <th>48</th>\n",
              "      <td>2013</td>\n",
              "      <td>1343</td>\n",
              "    </tr>\n",
              "    <tr>\n",
              "      <th>49</th>\n",
              "      <td>2014</td>\n",
              "      <td>693</td>\n",
              "    </tr>\n",
              "    <tr>\n",
              "      <th>50</th>\n",
              "      <td>2015</td>\n",
              "      <td>371</td>\n",
              "    </tr>\n",
              "    <tr>\n",
              "      <th>51</th>\n",
              "      <td>2016</td>\n",
              "      <td>48</td>\n",
              "    </tr>\n",
              "  </tbody>\n",
              "</table>\n",
              "</div>"
            ],
            "text/plain": [
              "    formed   fans\n",
              "0     1964    362\n",
              "1     1965    519\n",
              "2     1967    183\n",
              "3     1968   5456\n",
              "4     1969   2811\n",
              "5     1970     64\n",
              "6     1971    124\n",
              "7     1972    844\n",
              "8     1973    985\n",
              "9     1974     74\n",
              "10    1975   5612\n",
              "11    1976   1140\n",
              "12    1977    511\n",
              "13    1978   2818\n",
              "14    1979   2241\n",
              "15    1980   4407\n",
              "16    1981  12549\n",
              "17    1982   7065\n",
              "18    1983  10785\n",
              "19    1984  10443\n",
              "20    1985   9736\n",
              "21    1986   3708\n",
              "22    1987   8603\n",
              "23    1988  12202\n",
              "24    1989  12939\n",
              "25    1990  21481\n",
              "26    1991  17512\n",
              "27    1992   8217\n",
              "28    1993  14631\n",
              "29    1994  11313\n",
              "30    1995  16719\n",
              "31    1996  17819\n",
              "32    1997  10053\n",
              "33    1998  11729\n",
              "34    1999  13333\n",
              "35    2000  10703\n",
              "36    2001   9734\n",
              "37    2002  10495\n",
              "38    2003   9642\n",
              "39    2004  11778\n",
              "40    2005   8284\n",
              "41    2006   6032\n",
              "42    2007   6593\n",
              "43    2008   4361\n",
              "44    2009   3155\n",
              "45    2010   2634\n",
              "46    2011   1841\n",
              "47    2012   1123\n",
              "48    2013   1343\n",
              "49    2014    693\n",
              "50    2015    371\n",
              "51    2016     48"
            ]
          },
          "metadata": {},
          "execution_count": 97
        }
      ]
    },
    {
      "cell_type": "code",
      "metadata": {
        "colab": {
          "base_uri": "https://localhost:8080/",
          "height": 502
        },
        "id": "wqTatha3F96r",
        "outputId": "d26fadee-655f-4384-9fdd-6e0cf77f895a"
      },
      "source": [
        "barplot_fans_by_style = sns.barplot(data=df_fans_by_year, x='formed', y='fans')\n",
        "barplot_fans_by_style.set(xlabel='Ano', ylabel='Quantidade de fãs')\n",
        "sns.set(font_scale = 1)\n",
        "plt.xticks(rotation=90)\n",
        "plt.show()"
      ],
      "id": "wqTatha3F96r",
      "execution_count": null,
      "outputs": [
        {
          "output_type": "display_data",
          "data": {
            "image/png": "[encoded data removed]",
            "text/plain": [
              "<Figure size 1440x720 with 1 Axes>"
            ]
          },
          "metadata": {}
        }
      ]
    },
    {
      "cell_type": "markdown",
      "metadata": {
        "id": "2ERy9sWxKxyW"
      },
      "source": [
        "### Bônus\n",
        "\n",
        "\n",
        "Ao observar os gráficos podemos ver que:\n",
        "\n",
        "\n",
        "1. Os períodos de **2000 até 2010**, seguido de **1990 até 2000**, foram os que mais bandas foram formadas e separadas.\n",
        "2. **2005** foi o ano mais bandas formadas.\n",
        "3. **2007** foi o ano com mais bandas separadas.\n",
        "4. **1990, 1996, 1991 e 1995** foram os anos de formação de bandas com maior quantidade de fãs de Metal, enquanto **1967, 1970, 1974 e 2016** bandas com menor quantidade de fãs.\n",
        "\n",
        "Para conhecer um pouco mais sobre essas bandas, selecionamos algumas nesses períodos."
      ],
      "id": "2ERy9sWxKxyW"
    },
    {
      "cell_type": "code",
      "metadata": {
        "colab": {
          "base_uri": "https://localhost:8080/",
          "height": 80
        },
        "id": "M-Wkb2tUh0wk",
        "outputId": "0e0d6684-c00d-4711-8b56-906d1303dd23"
      },
      "source": [
        "# Banda com maior quantidade de fãs formada período de 1990, 1996, 1991 e 1995\n",
        "df_period_max_fans = df[df[\"formed\"].isin([\"1990\", \"1996\", \"1991\", \"1995\"])]\n",
        "df_period_max_fans = df_period_max_fans[df_period_max_fans['fans']==df_period_max_fans['fans'].max()].sort_values('formed', ascending=True)\n",
        "df_period_max_fans.head(1)[[\"band_name\", \"fans\", \"formed\", \"main_style\", \"country\"]]"
      ],
      "id": "M-Wkb2tUh0wk",
      "execution_count": null,
      "outputs": [
        {
          "output_type": "execute_result",
          "data": {
            "text/html": [
              "<div>\n",
              "<style scoped>\n",
              "    .dataframe tbody tr th:only-of-type {\n",
              "        vertical-align: middle;\n",
              "    }\n",
              "\n",
              "    .dataframe tbody tr th {\n",
              "        vertical-align: top;\n",
              "    }\n",
              "\n",
              "    .dataframe thead th {\n",
              "        text-align: right;\n",
              "    }\n",
              "</style>\n",
              "<table border=\"1\" class=\"dataframe\">\n",
              "  <thead>\n",
              "    <tr style=\"text-align: right;\">\n",
              "      <th></th>\n",
              "      <th>band_name</th>\n",
              "      <th>fans</th>\n",
              "      <th>formed</th>\n",
              "      <th>main_style</th>\n",
              "      <th>country</th>\n",
              "    </tr>\n",
              "  </thead>\n",
              "  <tbody>\n",
              "    <tr>\n",
              "      <th>1</th>\n",
              "      <td>Opeth</td>\n",
              "      <td>4147</td>\n",
              "      <td>1990</td>\n",
              "      <td>Extreme progressive</td>\n",
              "      <td>Sweden</td>\n",
              "    </tr>\n",
              "  </tbody>\n",
              "</table>\n",
              "</div>"
            ],
            "text/plain": [
              "  band_name  fans  formed           main_style country\n",
              "1     Opeth  4147    1990  Extreme progressive  Sweden"
            ]
          },
          "metadata": {},
          "execution_count": 99
        }
      ]
    },
    {
      "cell_type": "code",
      "metadata": {
        "colab": {
          "base_uri": "https://localhost:8080/",
          "height": 336
        },
        "id": "nev7pr3GmEqC",
        "outputId": "a4c617b4-5965-4cf9-85fb-9580d7fe0e02"
      },
      "source": [
        "HTML('<iframe width=\"560\" height=\"315\" src=\"https://www.youtube.com/embed/bSpqLqC7U6g\" frameborder=\"0\" allowfullscreen></iframe>')"
      ],
      "id": "nev7pr3GmEqC",
      "execution_count": null,
      "outputs": [
        {
          "output_type": "execute_result",
          "data": {
            "text/html": [
              "<iframe width=\"560\" height=\"315\" src=\"https://www.youtube.com/embed/bSpqLqC7U6g\" frameborder=\"0\" allowfullscreen></iframe>"
            ],
            "text/plain": [
              "<IPython.core.display.HTML object>"
            ]
          },
          "metadata": {},
          "execution_count": 100
        }
      ]
    },
    {
      "cell_type": "code",
      "metadata": {
        "colab": {
          "base_uri": "https://localhost:8080/",
          "height": 80
        },
        "id": "xZMyl2ValHDL",
        "outputId": "d34d01fe-e204-4983-b436-d973baf4b835"
      },
      "source": [
        "# Banda com menor quantidade de fãs formada período de 1967, 1970, 1974 e 2016\n",
        "df_period_min_fans = df[df[\"formed\"].isin([\"1967\", \"1970\", \"1974\", \"2016\"])]\n",
        "df_period_min_fans = df_period_min_fans[df_period_min_fans['fans']==df_period_min_fans['fans'].max()].sort_values('formed', ascending=True)\n",
        "df_period_min_fans.head(1)[[\"band_name\", \"fans\", \"formed\", \"main_style\", \"country\"]]"
      ],
      "id": "xZMyl2ValHDL",
      "execution_count": null,
      "outputs": [
        {
          "output_type": "execute_result",
          "data": {
            "text/html": [
              "<div>\n",
              "<style scoped>\n",
              "    .dataframe tbody tr th:only-of-type {\n",
              "        vertical-align: middle;\n",
              "    }\n",
              "\n",
              "    .dataframe tbody tr th {\n",
              "        vertical-align: top;\n",
              "    }\n",
              "\n",
              "    .dataframe thead th {\n",
              "        text-align: right;\n",
              "    }\n",
              "</style>\n",
              "<table border=\"1\" class=\"dataframe\">\n",
              "  <thead>\n",
              "    <tr style=\"text-align: right;\">\n",
              "      <th></th>\n",
              "      <th>band_name</th>\n",
              "      <th>fans</th>\n",
              "      <th>formed</th>\n",
              "      <th>main_style</th>\n",
              "      <th>country</th>\n",
              "    </tr>\n",
              "  </thead>\n",
              "  <tbody>\n",
              "    <tr>\n",
              "      <th>609</th>\n",
              "      <td>Blue Öyster Cult</td>\n",
              "      <td>118</td>\n",
              "      <td>1967</td>\n",
              "      <td>Hard rock</td>\n",
              "      <td>USA</td>\n",
              "    </tr>\n",
              "  </tbody>\n",
              "</table>\n",
              "</div>"
            ],
            "text/plain": [
              "            band_name  fans  formed main_style country\n",
              "609  Blue Öyster Cult   118    1967  Hard rock     USA"
            ]
          },
          "metadata": {},
          "execution_count": 101
        }
      ]
    },
    {
      "cell_type": "code",
      "metadata": {
        "colab": {
          "base_uri": "https://localhost:8080/",
          "height": 336
        },
        "id": "EzR2V6JDmySW",
        "outputId": "1c186e53-48ae-4248-95b2-6a3a7bfe3d0f"
      },
      "source": [
        "HTML('<iframe width=\"560\" height=\"315\" src=\"https://www.youtube.com/embed/Dy4HA3vUv2c\" frameborder=\"0\" allowfullscreen></iframe>')"
      ],
      "id": "EzR2V6JDmySW",
      "execution_count": null,
      "outputs": [
        {
          "output_type": "execute_result",
          "data": {
            "text/html": [
              "<iframe width=\"560\" height=\"315\" src=\"https://www.youtube.com/embed/Dy4HA3vUv2c\" frameborder=\"0\" allowfullscreen></iframe>"
            ],
            "text/plain": [
              "<IPython.core.display.HTML object>"
            ]
          },
          "metadata": {},
          "execution_count": 102
        }
      ]
    },
    {
      "cell_type": "code",
      "metadata": {
        "colab": {
          "base_uri": "https://localhost:8080/",
          "height": 80
        },
        "id": "Pf2f7fN7lHNt",
        "outputId": "47acb1ec-8910-4c84-8404-43d005ce9eab"
      },
      "source": [
        "# Banda mais antiga e ainda ativa com menor quantidade de fãs\n",
        "df_min_fans = df_non_split[df_non_split['fans']==df_non_split['fans'].min()].sort_values('formed', ascending=True)\n",
        "df_min_fans.head(1)[[\"band_name\", \"fans\", \"formed\", \"main_style\", \"country\"]]"
      ],
      "id": "Pf2f7fN7lHNt",
      "execution_count": null,
      "outputs": [
        {
          "output_type": "execute_result",
          "data": {
            "text/html": [
              "<div>\n",
              "<style scoped>\n",
              "    .dataframe tbody tr th:only-of-type {\n",
              "        vertical-align: middle;\n",
              "    }\n",
              "\n",
              "    .dataframe tbody tr th {\n",
              "        vertical-align: top;\n",
              "    }\n",
              "\n",
              "    .dataframe thead th {\n",
              "        text-align: right;\n",
              "    }\n",
              "</style>\n",
              "<table border=\"1\" class=\"dataframe\">\n",
              "  <thead>\n",
              "    <tr style=\"text-align: right;\">\n",
              "      <th></th>\n",
              "      <th>band_name</th>\n",
              "      <th>fans</th>\n",
              "      <th>formed</th>\n",
              "      <th>main_style</th>\n",
              "      <th>country</th>\n",
              "    </tr>\n",
              "  </thead>\n",
              "  <tbody>\n",
              "    <tr>\n",
              "      <th>4992</th>\n",
              "      <td>Arrest</td>\n",
              "      <td>0</td>\n",
              "      <td>1992</td>\n",
              "      <td>Hard rock</td>\n",
              "      <td>Germany</td>\n",
              "    </tr>\n",
              "  </tbody>\n",
              "</table>\n",
              "</div>"
            ],
            "text/plain": [
              "     band_name  fans  formed main_style  country\n",
              "4992    Arrest     0    1992  Hard rock  Germany"
            ]
          },
          "metadata": {},
          "execution_count": 103
        }
      ]
    },
    {
      "cell_type": "code",
      "metadata": {
        "colab": {
          "base_uri": "https://localhost:8080/",
          "height": 336
        },
        "id": "i0lPEw8fn47c",
        "outputId": "4a73e247-48b3-4aa8-d38c-c36b86637ac8"
      },
      "source": [
        "HTML('<iframe width=\"560\" height=\"315\" src=\"https://www.youtube.com/embed/OBEQakLzlvA\" frameborder=\"0\" allowfullscreen></iframe>')"
      ],
      "id": "i0lPEw8fn47c",
      "execution_count": null,
      "outputs": [
        {
          "output_type": "execute_result",
          "data": {
            "text/html": [
              "<iframe width=\"560\" height=\"315\" src=\"https://www.youtube.com/embed/OBEQakLzlvA\" frameborder=\"0\" allowfullscreen></iframe>"
            ],
            "text/plain": [
              "<IPython.core.display.HTML object>"
            ]
          },
          "metadata": {},
          "execution_count": 104
        }
      ]
    },
    {
      "cell_type": "code",
      "metadata": {
        "colab": {
          "base_uri": "https://localhost:8080/",
          "height": 80
        },
        "id": "VEJczvUklHZN",
        "outputId": "766efb85-cfbb-40cd-cd45-b58ab4e23968"
      },
      "source": [
        "# Banda mais antiga e ainda ativa com maior quantidade de fãs\n",
        "df_max_fans = df_non_split[df_non_split['fans']==df_non_split['fans'].max()].sort_values('formed', ascending=True)\n",
        "df_max_fans.head(1)[[\"band_name\", \"fans\", \"formed\", \"main_style\", \"country\"]]"
      ],
      "id": "VEJczvUklHZN",
      "execution_count": null,
      "outputs": [
        {
          "output_type": "execute_result",
          "data": {
            "text/html": [
              "<div>\n",
              "<style scoped>\n",
              "    .dataframe tbody tr th:only-of-type {\n",
              "        vertical-align: middle;\n",
              "    }\n",
              "\n",
              "    .dataframe tbody tr th {\n",
              "        vertical-align: top;\n",
              "    }\n",
              "\n",
              "    .dataframe thead th {\n",
              "        text-align: right;\n",
              "    }\n",
              "</style>\n",
              "<table border=\"1\" class=\"dataframe\">\n",
              "  <thead>\n",
              "    <tr style=\"text-align: right;\">\n",
              "      <th></th>\n",
              "      <th>band_name</th>\n",
              "      <th>fans</th>\n",
              "      <th>formed</th>\n",
              "      <th>main_style</th>\n",
              "      <th>country</th>\n",
              "    </tr>\n",
              "  </thead>\n",
              "  <tbody>\n",
              "    <tr>\n",
              "      <th>0</th>\n",
              "      <td>Iron Maiden</td>\n",
              "      <td>4195</td>\n",
              "      <td>1975</td>\n",
              "      <td>New wave of british heavy</td>\n",
              "      <td>United Kingdom</td>\n",
              "    </tr>\n",
              "  </tbody>\n",
              "</table>\n",
              "</div>"
            ],
            "text/plain": [
              "     band_name  fans  formed                 main_style         country\n",
              "0  Iron Maiden  4195    1975  New wave of british heavy  United Kingdom"
            ]
          },
          "metadata": {},
          "execution_count": 105
        }
      ]
    },
    {
      "cell_type": "code",
      "metadata": {
        "colab": {
          "base_uri": "https://localhost:8080/",
          "height": 336
        },
        "id": "TAMpo0E4n5uV",
        "outputId": "d5286782-f3e8-4958-9ec0-2cc405ab7341"
      },
      "source": [
        "HTML('<iframe width=\"560\" height=\"315\" src=\"https://www.youtube.com/embed/X4bgXH3sJ2Q\" frameborder=\"0\" allowfullscreen></iframe>')"
      ],
      "id": "TAMpo0E4n5uV",
      "execution_count": null,
      "outputs": [
        {
          "output_type": "execute_result",
          "data": {
            "text/html": [
              "<iframe width=\"560\" height=\"315\" src=\"https://www.youtube.com/embed/X4bgXH3sJ2Q\" frameborder=\"0\" allowfullscreen></iframe>"
            ],
            "text/plain": [
              "<IPython.core.display.HTML object>"
            ]
          },
          "metadata": {},
          "execution_count": 106
        }
      ]
    },
    {
      "cell_type": "markdown",
      "metadata": {
        "id": "uiOh37zBo30E"
      },
      "source": [
        "## Relação de bandas por subgênero"
      ],
      "id": "uiOh37zBo30E"
    },
    {
      "cell_type": "code",
      "metadata": {
        "colab": {
          "base_uri": "https://localhost:8080/"
        },
        "execution": {
          "iopub.execute_input": "2021-10-14T13:20:22.654223Z",
          "iopub.status.busy": "2021-10-14T13:20:22.654223Z",
          "iopub.status.idle": "2021-10-14T13:20:22.661229Z",
          "shell.execute_reply": "2021-10-14T13:20:22.661229Z",
          "shell.execute_reply.started": "2021-10-14T13:20:22.654223Z"
        },
        "id": "GMImXpPkVA8K",
        "tags": [],
        "outputId": "b6599bc7-7471-4d0d-e402-b1ca3c74f2cf"
      },
      "source": [
        "print(f\"\\nNeste dataset, existem {len(df['main_style'].unique())} principais subgêneros e {len(df['secondary_style'].dropna())} bandas que mesclam mais de um subgênero,\\nassim como {', '.join(df['secondary_style'].dropna().unique()[0:5])}...\\n\")"
      ],
      "id": "GMImXpPkVA8K",
      "execution_count": null,
      "outputs": [
        {
          "output_type": "stream",
          "name": "stdout",
          "text": [
            "\n",
            "Neste dataset, existem 208 principais subgêneros e 2152 bandas que mesclam mais de um subgênero,\n",
            "assim como Heavy, Progressive rock, Bay area thrash, Death, Gothic...\n",
            "\n"
          ]
        }
      ]
    },
    {
      "cell_type": "markdown",
      "metadata": {
        "id": "soX6ETnifcBZ"
      },
      "source": [
        "### Bandas"
      ],
      "id": "soX6ETnifcBZ"
    },
    {
      "cell_type": "code",
      "metadata": {
        "execution": {
          "iopub.execute_input": "2021-10-14T13:19:41.551958Z",
          "iopub.status.busy": "2021-10-14T13:19:41.550956Z",
          "iopub.status.idle": "2021-10-14T13:19:41.744130Z",
          "shell.execute_reply": "2021-10-14T13:19:41.743130Z",
          "shell.execute_reply.started": "2021-10-14T13:19:41.551958Z"
        },
        "id": "89bb5a89",
        "tags": []
      },
      "source": [
        "pure = {}\n",
        "mixed = {}\n",
        "style_df = pd.DataFrame(columns=['Style', 'Pure', 'Mixed'])\n",
        "for index, band in df.iterrows():\n",
        "    main_style = band['main_style']\n",
        "    secondary_style = band['secondary_style']\n",
        "    if (pd.isna(secondary_style)):\n",
        "        pure[main_style] = pure.get(main_style, 0) + 1\n",
        "    else:\n",
        "        mixed[secondary_style] = mixed.get(secondary_style, 0) + 1\n",
        "\n",
        "\n",
        "style_df['Style']= mixed.keys()\n",
        "style_df['Mixed']= style_df['Style'].map(mixed)\n",
        "style_df['Pure'] = style_df['Style'].map(pure)\n",
        "\n",
        "style_df = style_df.sort_values(by='Mixed', ascending=False)[:50]"
      ],
      "id": "89bb5a89",
      "execution_count": null,
      "outputs": []
    },
    {
      "cell_type": "code",
      "metadata": {
        "colab": {
          "base_uri": "https://localhost:8080/",
          "height": 588
        },
        "execution": {
          "iopub.execute_input": "2021-10-14T13:20:11.346946Z",
          "iopub.status.busy": "2021-10-14T13:20:11.346946Z",
          "iopub.status.idle": "2021-10-14T13:20:12.747427Z",
          "shell.execute_reply": "2021-10-14T13:20:12.746426Z",
          "shell.execute_reply.started": "2021-10-14T13:20:11.346946Z"
        },
        "id": "ZYhb4_GtYMum",
        "tags": [],
        "outputId": "e7456bde-1b9d-4f3d-ea44-adc0b20c97bb"
      },
      "source": [
        "ax = style_df[['Pure', 'Mixed']].plot(kind='bar', color=['#DD2763', '#74BBA4'])\n",
        "ax.set_xticklabels(style_df['Style'], rotation=90)\n",
        "plt.title('Relação entre subgêneros entre bandas de Metal')\n",
        "mixed_legend = mpatches.Patch(color='#DD2763', label='Subgênero puro')\n",
        "pure_legend = mpatches.Patch(color='#74BBA4', label='Subgêneros misturados')\n",
        "plt.legend(handles=[mixed_legend, pure_legend])\n",
        "plt.figure(figsize=(20,10))\n",
        "\n",
        "sns.set(rc={'figure.figsize':(20, 10)})\n",
        "sns.set(font_scale=1)"
      ],
      "id": "ZYhb4_GtYMum",
      "execution_count": null,
      "outputs": [
        {
          "output_type": "display_data",
          "data": {
            "image/png": "[encoded data removed]",
            "text/plain": [
              "<Figure size 1440x720 with 1 Axes>"
            ]
          },
          "metadata": {}
        },
        {
          "output_type": "display_data",
          "data": {
            "text/plain": [
              "<Figure size 1440x720 with 0 Axes>"
            ]
          },
          "metadata": {}
        }
      ]
    },
    {
      "cell_type": "markdown",
      "metadata": {
        "id": "8gcM-IoLPsj6"
      },
      "source": [
        "### Fãs"
      ],
      "id": "8gcM-IoLPsj6"
    },
    {
      "cell_type": "code",
      "metadata": {
        "colab": {
          "base_uri": "https://localhost:8080/",
          "height": 419
        },
        "id": "s_ybitFKPwmZ",
        "outputId": "c3b07b99-89ef-4cee-fc28-0bc25606ca9a"
      },
      "source": [
        "top_styles = df[['main_style', 'fans']].groupby('main_style').sum().reset_index().sort_values('fans', ascending=False)\n",
        "top_styles"
      ],
      "id": "s_ybitFKPwmZ",
      "execution_count": null,
      "outputs": [
        {
          "output_type": "execute_result",
          "data": {
            "text/html": [
              "<div>\n",
              "<style scoped>\n",
              "    .dataframe tbody tr th:only-of-type {\n",
              "        vertical-align: middle;\n",
              "    }\n",
              "\n",
              "    .dataframe tbody tr th {\n",
              "        vertical-align: top;\n",
              "    }\n",
              "\n",
              "    .dataframe thead th {\n",
              "        text-align: right;\n",
              "    }\n",
              "</style>\n",
              "<table border=\"1\" class=\"dataframe\">\n",
              "  <thead>\n",
              "    <tr style=\"text-align: right;\">\n",
              "      <th></th>\n",
              "      <th>main_style</th>\n",
              "      <th>fans</th>\n",
              "    </tr>\n",
              "  </thead>\n",
              "  <tbody>\n",
              "    <tr>\n",
              "      <th>103</th>\n",
              "      <td>Heavy</td>\n",
              "      <td>28563</td>\n",
              "    </tr>\n",
              "    <tr>\n",
              "      <th>47</th>\n",
              "      <td>Death</td>\n",
              "      <td>27299</td>\n",
              "    </tr>\n",
              "    <tr>\n",
              "      <th>24</th>\n",
              "      <td>Black</td>\n",
              "      <td>20750</td>\n",
              "    </tr>\n",
              "    <tr>\n",
              "      <th>123</th>\n",
              "      <td>Melodic death</td>\n",
              "      <td>16999</td>\n",
              "    </tr>\n",
              "    <tr>\n",
              "      <th>151</th>\n",
              "      <td>Power</td>\n",
              "      <td>16167</td>\n",
              "    </tr>\n",
              "    <tr>\n",
              "      <th>...</th>\n",
              "      <td>...</td>\n",
              "      <td>...</td>\n",
              "    </tr>\n",
              "    <tr>\n",
              "      <th>7</th>\n",
              "      <td>Atmospheric</td>\n",
              "      <td>1</td>\n",
              "    </tr>\n",
              "    <tr>\n",
              "      <th>137</th>\n",
              "      <td>Neoclassical symphonic</td>\n",
              "      <td>1</td>\n",
              "    </tr>\n",
              "    <tr>\n",
              "      <th>171</th>\n",
              "      <td>Psychedelic death</td>\n",
              "      <td>1</td>\n",
              "    </tr>\n",
              "    <tr>\n",
              "      <th>141</th>\n",
              "      <td>Noise</td>\n",
              "      <td>1</td>\n",
              "    </tr>\n",
              "    <tr>\n",
              "      <th>20</th>\n",
              "      <td>Avantgarde death</td>\n",
              "      <td>0</td>\n",
              "    </tr>\n",
              "  </tbody>\n",
              "</table>\n",
              "<p>208 rows × 2 columns</p>\n",
              "</div>"
            ],
            "text/plain": [
              "                 main_style   fans\n",
              "103                   Heavy  28563\n",
              "47                    Death  27299\n",
              "24                    Black  20750\n",
              "123           Melodic death  16999\n",
              "151                   Power  16167\n",
              "..                      ...    ...\n",
              "7               Atmospheric      1\n",
              "137  Neoclassical symphonic      1\n",
              "171       Psychedelic death      1\n",
              "141                   Noise      1\n",
              "20         Avantgarde death      0\n",
              "\n",
              "[208 rows x 2 columns]"
            ]
          },
          "metadata": {},
          "execution_count": 110
        }
      ]
    },
    {
      "cell_type": "code",
      "metadata": {
        "colab": {
          "base_uri": "https://localhost:8080/",
          "height": 596
        },
        "id": "9X7xVW5jP0Lh",
        "outputId": "0729b41f-99a7-4e7d-af01-a7133e54a311"
      },
      "source": [
        "barplot_fans_by_style = sns.barplot(data=top_styles[:30], x='main_style', y='fans')\n",
        "barplot_fans_by_style.set(xlabel='Subgênero principal', ylabel='Quantidade de fãs')\n",
        "sns.set(font_scale = 1)\n",
        "plt.xticks(rotation=90)\n",
        "plt.show()"
      ],
      "id": "9X7xVW5jP0Lh",
      "execution_count": null,
      "outputs": [
        {
          "output_type": "display_data",
          "data": {
            "image/png": "[encoded data removed]",
            "text/plain": [
              "<Figure size 1440x720 with 1 Axes>"
            ]
          },
          "metadata": {}
        }
      ]
    },
    {
      "cell_type": "markdown",
      "metadata": {
        "id": "qBjmvEVguCJM"
      },
      "source": [
        "### Bônus\n",
        "\n",
        "Como foi visto nos gráficos acima, os subgêneros com mais bandas e fãs foram os de \"Heavy\", \"Death\" e \"Black\"."
      ],
      "id": "qBjmvEVguCJM"
    },
    {
      "cell_type": "code",
      "metadata": {
        "colab": {
          "base_uri": "https://localhost:8080/",
          "height": 359
        },
        "id": "B8wRg1sDugso",
        "outputId": "dd6706dd-d7fd-4e84-f16b-c9e8016c1608"
      },
      "source": [
        "df_sorted_by_fans = df.sort_values('fans', ascending=False)[[\"band_name\", \"main_style\", \"fans\"]]\n",
        "df_sorted_by_fans[df_sorted_by_fans[\"main_style\"].isin([\"Heavy\", \"Death\", \"Black\"])].head(10)"
      ],
      "id": "B8wRg1sDugso",
      "execution_count": null,
      "outputs": [
        {
          "output_type": "execute_result",
          "data": {
            "text/html": [
              "<div>\n",
              "<style scoped>\n",
              "    .dataframe tbody tr th:only-of-type {\n",
              "        vertical-align: middle;\n",
              "    }\n",
              "\n",
              "    .dataframe tbody tr th {\n",
              "        vertical-align: top;\n",
              "    }\n",
              "\n",
              "    .dataframe thead th {\n",
              "        text-align: right;\n",
              "    }\n",
              "</style>\n",
              "<table border=\"1\" class=\"dataframe\">\n",
              "  <thead>\n",
              "    <tr style=\"text-align: right;\">\n",
              "      <th></th>\n",
              "      <th>band_name</th>\n",
              "      <th>main_style</th>\n",
              "      <th>fans</th>\n",
              "    </tr>\n",
              "  </thead>\n",
              "  <tbody>\n",
              "    <tr>\n",
              "      <th>2</th>\n",
              "      <td>Metallica</td>\n",
              "      <td>Heavy</td>\n",
              "      <td>3712</td>\n",
              "    </tr>\n",
              "    <tr>\n",
              "      <th>11</th>\n",
              "      <td>Judas Priest</td>\n",
              "      <td>Heavy</td>\n",
              "      <td>2094</td>\n",
              "    </tr>\n",
              "    <tr>\n",
              "      <th>14</th>\n",
              "      <td>Pantera</td>\n",
              "      <td>Heavy</td>\n",
              "      <td>1920</td>\n",
              "    </tr>\n",
              "    <tr>\n",
              "      <th>20</th>\n",
              "      <td>Behemoth</td>\n",
              "      <td>Death</td>\n",
              "      <td>1721</td>\n",
              "    </tr>\n",
              "    <tr>\n",
              "      <th>25</th>\n",
              "      <td>Amorphis</td>\n",
              "      <td>Death</td>\n",
              "      <td>1528</td>\n",
              "    </tr>\n",
              "    <tr>\n",
              "      <th>31</th>\n",
              "      <td>Immortal</td>\n",
              "      <td>Death</td>\n",
              "      <td>1436</td>\n",
              "    </tr>\n",
              "    <tr>\n",
              "      <th>33</th>\n",
              "      <td>Iced Earth</td>\n",
              "      <td>Heavy</td>\n",
              "      <td>1403</td>\n",
              "    </tr>\n",
              "    <tr>\n",
              "      <th>44</th>\n",
              "      <td>Therion</td>\n",
              "      <td>Death</td>\n",
              "      <td>1167</td>\n",
              "    </tr>\n",
              "    <tr>\n",
              "      <th>45</th>\n",
              "      <td>Cannibal Corpse</td>\n",
              "      <td>Death</td>\n",
              "      <td>1162</td>\n",
              "    </tr>\n",
              "    <tr>\n",
              "      <th>47</th>\n",
              "      <td>Emperor</td>\n",
              "      <td>Black</td>\n",
              "      <td>1132</td>\n",
              "    </tr>\n",
              "  </tbody>\n",
              "</table>\n",
              "</div>"
            ],
            "text/plain": [
              "          band_name main_style  fans\n",
              "2         Metallica      Heavy  3712\n",
              "11     Judas Priest      Heavy  2094\n",
              "14          Pantera      Heavy  1920\n",
              "20         Behemoth      Death  1721\n",
              "25         Amorphis      Death  1528\n",
              "31         Immortal      Death  1436\n",
              "33       Iced Earth      Heavy  1403\n",
              "44          Therion      Death  1167\n",
              "45  Cannibal Corpse      Death  1162\n",
              "47          Emperor      Black  1132"
            ]
          },
          "metadata": {},
          "execution_count": 112
        }
      ]
    },
    {
      "cell_type": "markdown",
      "metadata": {
        "id": "Udl7AtGCwUC3"
      },
      "source": [
        "Selecionamos algumas bandas desses gêneros que possuem as maiores quantidades de fãs.\n",
        "\n",
        "**Metallica** (Heavy)\n",
        "\n"
      ],
      "id": "Udl7AtGCwUC3"
    },
    {
      "cell_type": "code",
      "metadata": {
        "colab": {
          "base_uri": "https://localhost:8080/",
          "height": 336
        },
        "id": "YldPWFhSzUih",
        "outputId": "6eb01632-df85-4273-9014-6f26198dc979"
      },
      "source": [
        "HTML('<iframe width=\"560\" height=\"315\" src=\"https://www.youtube.com/embed/tAGnKpE4NCI\" frameborder=\"0\" allowfullscreen></iframe>')"
      ],
      "id": "YldPWFhSzUih",
      "execution_count": null,
      "outputs": [
        {
          "output_type": "execute_result",
          "data": {
            "text/html": [
              "<iframe width=\"560\" height=\"315\" src=\"https://www.youtube.com/embed/tAGnKpE4NCI\" frameborder=\"0\" allowfullscreen></iframe>"
            ],
            "text/plain": [
              "<IPython.core.display.HTML object>"
            ]
          },
          "metadata": {},
          "execution_count": 113
        }
      ]
    },
    {
      "cell_type": "markdown",
      "metadata": {
        "id": "Wn3XAMJgwmW8"
      },
      "source": [
        "**Behemoth** (Death)"
      ],
      "id": "Wn3XAMJgwmW8"
    },
    {
      "cell_type": "code",
      "metadata": {
        "colab": {
          "base_uri": "https://localhost:8080/",
          "height": 336
        },
        "id": "YhTl9lx70KuP",
        "outputId": "90e9e017-caa6-4baf-8051-957e1d5798ee"
      },
      "source": [
        "HTML('<iframe width=\"560\" height=\"315\" src=\"https://www.youtube.com/embed/UA_j_72psoo\" frameborder=\"0\" allowfullscreen></iframe>')"
      ],
      "id": "YhTl9lx70KuP",
      "execution_count": null,
      "outputs": [
        {
          "output_type": "execute_result",
          "data": {
            "text/html": [
              "<iframe width=\"560\" height=\"315\" src=\"https://www.youtube.com/embed/UA_j_72psoo\" frameborder=\"0\" allowfullscreen></iframe>"
            ],
            "text/plain": [
              "<IPython.core.display.HTML object>"
            ]
          },
          "metadata": {},
          "execution_count": 114
        }
      ]
    },
    {
      "cell_type": "markdown",
      "metadata": {
        "id": "Ts-X8MXswpQG"
      },
      "source": [
        "**Emperor** (Black)"
      ],
      "id": "Ts-X8MXswpQG"
    },
    {
      "cell_type": "code",
      "metadata": {
        "colab": {
          "base_uri": "https://localhost:8080/",
          "height": 336
        },
        "id": "sUa45SFk1vAV",
        "outputId": "98fefdba-d741-4751-a202-078c59e12ccc"
      },
      "source": [
        "HTML('<iframe width=\"560\" height=\"315\" src=\"https://www.youtube.com/embed/YgQRRI9goFg\" frameborder=\"0\" allowfullscreen></iframe>')"
      ],
      "id": "sUa45SFk1vAV",
      "execution_count": null,
      "outputs": [
        {
          "output_type": "execute_result",
          "data": {
            "text/html": [
              "<iframe width=\"560\" height=\"315\" src=\"https://www.youtube.com/embed/YgQRRI9goFg\" frameborder=\"0\" allowfullscreen></iframe>"
            ],
            "text/plain": [
              "<IPython.core.display.HTML object>"
            ]
          },
          "metadata": {},
          "execution_count": 115
        }
      ]
    },
    {
      "cell_type": "markdown",
      "metadata": {
        "id": "mEUG__aUoprh"
      },
      "source": [
        "## Relação de bandas por país de origem"
      ],
      "id": "mEUG__aUoprh"
    },
    {
      "cell_type": "code",
      "metadata": {
        "colab": {
          "base_uri": "https://localhost:8080/"
        },
        "execution": {
          "iopub.status.busy": "2021-10-14T13:19:41.314744Z",
          "iopub.status.idle": "2021-10-14T13:19:41.315744Z",
          "shell.execute_reply": "2021-10-14T13:19:41.315744Z"
        },
        "id": "cgYaSYm7U0YD",
        "tags": [],
        "outputId": "1c7e9633-c81c-4654-a740-5d9ac6622331"
      },
      "source": [
        "print(f\"\\nNeste dataset, existem {len(df['country'].unique())} países produzindo Metal, assim como {', '.join(df['country'].unique()[0:5])}... \\n\")"
      ],
      "id": "cgYaSYm7U0YD",
      "execution_count": null,
      "outputs": [
        {
          "output_type": "stream",
          "name": "stdout",
          "text": [
            "\n",
            "Neste dataset, existem 86 países produzindo Metal, assim como United Kingdom, Sweden, USA, Finland, Germany... \n",
            "\n"
          ]
        }
      ]
    },
    {
      "cell_type": "markdown",
      "metadata": {
        "id": "pXYzCDM1Jejh"
      },
      "source": [
        "### TOP #10"
      ],
      "id": "pXYzCDM1Jejh"
    },
    {
      "cell_type": "code",
      "metadata": {
        "colab": {
          "base_uri": "https://localhost:8080/",
          "height": 591
        },
        "execution": {
          "iopub.status.busy": "2021-10-14T13:19:41.316745Z",
          "iopub.status.idle": "2021-10-14T13:19:41.316745Z",
          "shell.execute_reply": "2021-10-14T13:19:41.316745Z"
        },
        "id": "u2udIQ7tJmJ6",
        "tags": [],
        "outputId": "dfa3ab38-d2a6-422e-a742-0867520cfde1"
      },
      "source": [
        "country_top20 = df[\"country\"].value_counts()[:10]\n",
        "\n",
        "def func(pct, allvalues):\n",
        "    absolute = int(pct / 100.*np.sum(allvalues))\n",
        "    return \"{:.1f}%\\n({:d})\".format(pct, absolute)\n",
        "\n",
        "fig = plt.figure(figsize =(20, 10))\n",
        "plt.title('TOP #10 Bandas de Metal por país até 2016')\n",
        "colors = sns.color_palette('pastel')\n",
        "plt.pie(country_top20.values,\n",
        "        labels = country_top20.keys(),\n",
        "        colors = colors,\n",
        "        autopct = lambda pct: func(pct, country_top20.values))\n",
        "\n",
        "plt.show()"
      ],
      "id": "u2udIQ7tJmJ6",
      "execution_count": null,
      "outputs": [
        {
          "output_type": "display_data",
          "data": {
            "image/png": "[encoded data removed]",
            "text/plain": [
              "<Figure size 1440x720 with 1 Axes>"
            ]
          },
          "metadata": {}
        }
      ]
    },
    {
      "cell_type": "markdown",
      "metadata": {
        "id": "V9yYyU7ZI_-p"
      },
      "source": [
        "### Escala de 1 milhão de pessoas 🌽🤘"
      ],
      "id": "V9yYyU7ZI_-p"
    },
    {
      "cell_type": "code",
      "metadata": {
        "colab": {
          "base_uri": "https://localhost:8080/"
        },
        "execution": {
          "iopub.status.busy": "2021-10-14T13:19:41.317747Z",
          "iopub.status.idle": "2021-10-14T13:19:41.317747Z",
          "shell.execute_reply": "2021-10-14T13:19:41.317747Z"
        },
        "id": "d8c32c13",
        "tags": [],
        "outputId": "3bb993a2-1347-461e-9462-cdee2428a5f0"
      },
      "source": [
        "# Exemplo referência: https://ramiro.org/notebook/metal-bands-map/\n",
        "band_countries = df.iso3.value_counts()\n",
        "band_countries.name = \"bands\"\n",
        "band_countries"
      ],
      "id": "d8c32c13",
      "execution_count": null,
      "outputs": [
        {
          "output_type": "execute_result",
          "data": {
            "text/plain": [
              "USA    1124\n",
              "SWE     470\n",
              "DEU     392\n",
              "GBR     342\n",
              "FIN     301\n",
              "       ... \n",
              "BOL       1\n",
              "KGZ       1\n",
              "ECU       1\n",
              "TUN       1\n",
              "ALB       1\n",
              "Name: bands, Length: 86, dtype: Int64"
            ]
          },
          "metadata": {},
          "execution_count": 118
        }
      ]
    },
    {
      "cell_type": "code",
      "metadata": {
        "colab": {
          "base_uri": "https://localhost:8080/",
          "height": 255
        },
        "execution": {
          "iopub.execute_input": "2021-10-14T13:19:41.425844Z",
          "iopub.status.busy": "2021-10-14T13:19:41.424843Z",
          "iopub.status.idle": "2021-10-14T13:19:41.441858Z",
          "shell.execute_reply": "2021-10-14T13:19:41.440858Z",
          "shell.execute_reply.started": "2021-10-14T13:19:41.425844Z"
        },
        "id": "16078e05",
        "tags": [],
        "outputId": "21429652-ead7-4de1-eeb7-1202d5764b64"
      },
      "source": [
        "world = gpd.read_file(gpd.datasets.get_path('naturalearth_lowres')).to_crs('+proj=robin')\n",
        "world = world[world.name != 'Antarctica'] # removendo antártica\n",
        "world = world.join(band_countries, on='iso_a3')\n",
        "\n",
        "# soma a contagem de bandas por país e bandas por 1 milhão de pessoas\n",
        "world['band_ratio'] = world['bands'] / world['pop_est'] * 1_000_000\n",
        "world.sort_values('band_ratio', ascending=False).head()"
      ],
      "id": "16078e05",
      "execution_count": null,
      "outputs": [
        {
          "output_type": "execute_result",
          "data": {
            "text/html": [
              "<div>\n",
              "<style scoped>\n",
              "    .dataframe tbody tr th:only-of-type {\n",
              "        vertical-align: middle;\n",
              "    }\n",
              "\n",
              "    .dataframe tbody tr th {\n",
              "        vertical-align: top;\n",
              "    }\n",
              "\n",
              "    .dataframe thead th {\n",
              "        text-align: right;\n",
              "    }\n",
              "</style>\n",
              "<table border=\"1\" class=\"dataframe\">\n",
              "  <thead>\n",
              "    <tr style=\"text-align: right;\">\n",
              "      <th></th>\n",
              "      <th>pop_est</th>\n",
              "      <th>continent</th>\n",
              "      <th>name</th>\n",
              "      <th>iso_a3</th>\n",
              "      <th>gdp_md_est</th>\n",
              "      <th>geometry</th>\n",
              "      <th>bands</th>\n",
              "      <th>band_ratio</th>\n",
              "    </tr>\n",
              "  </thead>\n",
              "  <tbody>\n",
              "    <tr>\n",
              "      <th>144</th>\n",
              "      <td>339747</td>\n",
              "      <td>Europe</td>\n",
              "      <td>Iceland</td>\n",
              "      <td>ISL</td>\n",
              "      <td>16150.0</td>\n",
              "      <td>POLYGON ((-1025302.197 6952546.772, -1048898.3...</td>\n",
              "      <td>25</td>\n",
              "      <td>73.584167</td>\n",
              "    </tr>\n",
              "    <tr>\n",
              "      <th>151</th>\n",
              "      <td>5491218</td>\n",
              "      <td>Europe</td>\n",
              "      <td>Finland</td>\n",
              "      <td>FIN</td>\n",
              "      <td>224137.0</td>\n",
              "      <td>POLYGON ((1962483.961 7191405.690, 1968166.420...</td>\n",
              "      <td>301</td>\n",
              "      <td>54.814797</td>\n",
              "    </tr>\n",
              "    <tr>\n",
              "      <th>110</th>\n",
              "      <td>9960487</td>\n",
              "      <td>Europe</td>\n",
              "      <td>Sweden</td>\n",
              "      <td>SWE</td>\n",
              "      <td>498100.0</td>\n",
              "      <td>POLYGON ((840937.999 6223578.056, 869899.710 6...</td>\n",
              "      <td>470</td>\n",
              "      <td>47.186448</td>\n",
              "    </tr>\n",
              "    <tr>\n",
              "      <th>22</th>\n",
              "      <td>57713</td>\n",
              "      <td>North America</td>\n",
              "      <td>Greenland</td>\n",
              "      <td>GRL</td>\n",
              "      <td>2173.0</td>\n",
              "      <td>POLYGON ((-2627201.180 8280938.168, -2414731.2...</td>\n",
              "      <td>1</td>\n",
              "      <td>17.327119</td>\n",
              "    </tr>\n",
              "    <tr>\n",
              "      <th>142</th>\n",
              "      <td>5605948</td>\n",
              "      <td>Europe</td>\n",
              "      <td>Denmark</td>\n",
              "      <td>DNK</td>\n",
              "      <td>264800.0</td>\n",
              "      <td>MULTIPOLYGON (((782831.650 5836658.459, 733278...</td>\n",
              "      <td>70</td>\n",
              "      <td>12.486737</td>\n",
              "    </tr>\n",
              "  </tbody>\n",
              "</table>\n",
              "</div>"
            ],
            "text/plain": [
              "     pop_est      continent  ... bands band_ratio\n",
              "144   339747         Europe  ...    25  73.584167\n",
              "151  5491218         Europe  ...   301  54.814797\n",
              "110  9960487         Europe  ...   470  47.186448\n",
              "22     57713  North America  ...     1  17.327119\n",
              "142  5605948         Europe  ...    70  12.486737\n",
              "\n",
              "[5 rows x 8 columns]"
            ]
          },
          "metadata": {},
          "execution_count": 119
        }
      ]
    },
    {
      "cell_type": "code",
      "metadata": {
        "colab": {
          "base_uri": "https://localhost:8080/",
          "height": 502
        },
        "execution": {
          "iopub.status.busy": "2021-10-14T13:19:41.441858Z",
          "iopub.status.idle": "2021-10-14T13:19:41.442859Z",
          "shell.execute_reply": "2021-10-14T13:19:41.442859Z"
        },
        "id": "rrB1PA5FFEJC",
        "tags": [],
        "outputId": "e9061e80-2b46-4c19-8886-10e6e758d8e4"
      },
      "source": [
        "paises_com_bandas = world.dropna(subset=['band_ratio'])\n",
        "paises_sem_bandas = world[world['band_ratio'].isna()]\n",
        "\n",
        "ax = paises_com_bandas.plot(column='band_ratio', cmap='inferno_r', figsize=(20, 12), scheme='fisher_jenks', k=9, legend=True, edgecolor='#aaaaaa')\n",
        "paises_sem_bandas.plot(ax=ax, color='#ffffff', hatch='//', edgecolor='#aaaaaa')\n",
        "\n",
        "ax.set_title('Bandas de Metal (escala de 1 milhão de pessoas)', fontdict={'fontsize': 20}, loc='left')\n",
        "description = '''\n",
        "Com base em bandas existentes e separadas listadas no site metalstorm.net em 2016,\\ndisponibilizadas no dataset Metal Bands by Nation kaggle.com/mrpantherson/metal-by-nation\\ne estimativas de população por naturalearthdata.com'''.strip()\n",
        "ax.annotate(description, xy=(0.07, 0.1), size=12, xycoords='figure fraction')\n",
        "\n",
        "ax.set_axis_off()\n",
        "legend = ax.get_legend()\n",
        "legend.set_bbox_to_anchor((.11, .4))\n",
        "legend.prop.set_size(12)"
      ],
      "id": "rrB1PA5FFEJC",
      "execution_count": null,
      "outputs": [
        {
          "output_type": "display_data",
          "data": {
            "image/png": "[encoded data removed]",
            "text/plain": [
              "<Figure size 1440x864 with 1 Axes>"
            ]
          },
          "metadata": {}
        }
      ]
    },
    {
      "cell_type": "markdown",
      "metadata": {
        "id": "h2ES2kgklv9g"
      },
      "source": [
        "### Relação por fãs por país de origem"
      ],
      "id": "h2ES2kgklv9g"
    },
    {
      "cell_type": "code",
      "metadata": {
        "colab": {
          "base_uri": "https://localhost:8080/",
          "height": 599
        },
        "execution": {
          "iopub.execute_input": "2021-10-14T13:19:41.171614Z",
          "iopub.status.busy": "2021-10-14T13:19:41.170613Z",
          "iopub.status.idle": "2021-10-14T13:19:41.314744Z",
          "shell.execute_reply": "2021-10-14T13:19:41.313743Z",
          "shell.execute_reply.started": "2021-10-14T13:19:41.171614Z"
        },
        "id": "681fedd7",
        "tags": [],
        "outputId": "63c8c79a-2848-4842-8629-3bb8b54796d5"
      },
      "source": [
        "plt.figure(figsize=(16,9))\n",
        "plt.xticks(rotation=45)\n",
        "barplot = sns.barplot(data=df_fans_by_country.head(10), x='country', y='fans', palette=\"husl\")\n",
        "barplot.set(xlabel='País de origem', ylabel='Qtd de fãs')\n",
        "plt.show()"
      ],
      "id": "681fedd7",
      "execution_count": null,
      "outputs": [
        {
          "output_type": "display_data",
          "data": {
            "image/png": "[encoded data removed]",
            "text/plain": [
              "<Figure size 1152x648 with 1 Axes>"
            ]
          },
          "metadata": {}
        }
      ]
    },
    {
      "cell_type": "markdown",
      "metadata": {
        "id": "sQB25-Fb43Jk"
      },
      "source": [
        "### Bônus\n",
        "\n",
        "Os gráficos que relacionam bandas e fãs à países mostram que o país que possui mais bandas e fãs é os Estados Unidos."
      ],
      "id": "sQB25-Fb43Jk"
    },
    {
      "cell_type": "code",
      "metadata": {
        "colab": {
          "base_uri": "https://localhost:8080/",
          "height": 204
        },
        "id": "xvY2Bla35LJg",
        "outputId": "f172a27b-f72b-4550-dd33-f7e4d4d97947"
      },
      "source": [
        "df_sorted_by_fans = df.sort_values('fans', ascending=False)[[\"band_name\", \"main_style\", \"fans\", \"country\"]]\n",
        "df_sorted_by_fans[df_sorted_by_fans[\"country\"] == \"USA\"].head(5)"
      ],
      "id": "xvY2Bla35LJg",
      "execution_count": null,
      "outputs": [
        {
          "output_type": "execute_result",
          "data": {
            "text/html": [
              "<div>\n",
              "<style scoped>\n",
              "    .dataframe tbody tr th:only-of-type {\n",
              "        vertical-align: middle;\n",
              "    }\n",
              "\n",
              "    .dataframe tbody tr th {\n",
              "        vertical-align: top;\n",
              "    }\n",
              "\n",
              "    .dataframe thead th {\n",
              "        text-align: right;\n",
              "    }\n",
              "</style>\n",
              "<table border=\"1\" class=\"dataframe\">\n",
              "  <thead>\n",
              "    <tr style=\"text-align: right;\">\n",
              "      <th></th>\n",
              "      <th>band_name</th>\n",
              "      <th>main_style</th>\n",
              "      <th>fans</th>\n",
              "      <th>country</th>\n",
              "    </tr>\n",
              "  </thead>\n",
              "  <tbody>\n",
              "    <tr>\n",
              "      <th>2</th>\n",
              "      <td>Metallica</td>\n",
              "      <td>Heavy</td>\n",
              "      <td>3712</td>\n",
              "      <td>USA</td>\n",
              "    </tr>\n",
              "    <tr>\n",
              "      <th>3</th>\n",
              "      <td>Megadeth</td>\n",
              "      <td>Thrash</td>\n",
              "      <td>3105</td>\n",
              "      <td>USA</td>\n",
              "    </tr>\n",
              "    <tr>\n",
              "      <th>5</th>\n",
              "      <td>Slayer</td>\n",
              "      <td>Thrash</td>\n",
              "      <td>2955</td>\n",
              "      <td>USA</td>\n",
              "    </tr>\n",
              "    <tr>\n",
              "      <th>6</th>\n",
              "      <td>Death</td>\n",
              "      <td>Progressive death</td>\n",
              "      <td>2690</td>\n",
              "      <td>USA</td>\n",
              "    </tr>\n",
              "    <tr>\n",
              "      <th>7</th>\n",
              "      <td>Dream Theater</td>\n",
              "      <td>Progressive</td>\n",
              "      <td>2329</td>\n",
              "      <td>USA</td>\n",
              "    </tr>\n",
              "  </tbody>\n",
              "</table>\n",
              "</div>"
            ],
            "text/plain": [
              "       band_name         main_style  fans country\n",
              "2      Metallica              Heavy  3712     USA\n",
              "3       Megadeth             Thrash  3105     USA\n",
              "5         Slayer             Thrash  2955     USA\n",
              "6          Death  Progressive death  2690     USA\n",
              "7  Dream Theater        Progressive  2329     USA"
            ]
          },
          "metadata": {},
          "execution_count": 122
        }
      ]
    },
    {
      "cell_type": "markdown",
      "metadata": {
        "id": "MuKn2ipE5hPF"
      },
      "source": [
        "\"Metallica\" é a banda estadunidense com mais fãs, seguida da \"Megadeth\"."
      ],
      "id": "MuKn2ipE5hPF"
    },
    {
      "cell_type": "code",
      "metadata": {
        "colab": {
          "base_uri": "https://localhost:8080/",
          "height": 336
        },
        "id": "0zJjzg9y9jJn",
        "outputId": "42bb987d-5be5-46f2-912f-d9cd2dee3c38"
      },
      "source": [
        "HTML('<iframe width=\"560\" height=\"315\" src=\"https://www.youtube.com/embed/9d4ui9q7eDM\" frameborder=\"0\" allowfullscreen></iframe>')"
      ],
      "id": "0zJjzg9y9jJn",
      "execution_count": null,
      "outputs": [
        {
          "output_type": "execute_result",
          "data": {
            "text/html": [
              "<iframe width=\"560\" height=\"315\" src=\"https://www.youtube.com/embed/9d4ui9q7eDM\" frameborder=\"0\" allowfullscreen></iframe>"
            ],
            "text/plain": [
              "<IPython.core.display.HTML object>"
            ]
          },
          "metadata": {},
          "execution_count": 123
        }
      ]
    },
    {
      "cell_type": "markdown",
      "metadata": {
        "id": "362fef02"
      },
      "source": [
        "## Normalização\te\tdiscretização"
      ],
      "id": "362fef02"
    },
    {
      "cell_type": "code",
      "metadata": {
        "id": "jZjcYqpnf7Qe"
      },
      "source": [
        "from sklearn.preprocessing import RobustScaler, MinMaxScaler\n",
        "rs = RobustScaler()\n",
        "mms = MinMaxScaler()\n",
        "\n",
        "# reescalando o ano de formação das bandas com MinMaxScaler, e a coluna de número de fãs com RobustScaler, pois possui muitos outliers \n",
        "df['formed_normalizado'] = mms.fit_transform(df[['formed']].values)\n",
        "\n",
        "df['fans_normalizado'] = rs.fit_transform(df[['fans']].values)"
      ],
      "id": "jZjcYqpnf7Qe",
      "execution_count": null,
      "outputs": []
    },
    {
      "cell_type": "code",
      "metadata": {
        "colab": {
          "base_uri": "https://localhost:8080/",
          "height": 326
        },
        "id": "T3zkW2Kbmdbm",
        "outputId": "1d0b483a-a17d-4b5b-9a8e-14865772bf2f"
      },
      "source": [
        "df.head()"
      ],
      "id": "T3zkW2Kbmdbm",
      "execution_count": null,
      "outputs": [
        {
          "output_type": "execute_result",
          "data": {
            "text/html": [
              "<div>\n",
              "<style scoped>\n",
              "    .dataframe tbody tr th:only-of-type {\n",
              "        vertical-align: middle;\n",
              "    }\n",
              "\n",
              "    .dataframe tbody tr th {\n",
              "        vertical-align: top;\n",
              "    }\n",
              "\n",
              "    .dataframe thead th {\n",
              "        text-align: right;\n",
              "    }\n",
              "</style>\n",
              "<table border=\"1\" class=\"dataframe\">\n",
              "  <thead>\n",
              "    <tr style=\"text-align: right;\">\n",
              "      <th></th>\n",
              "      <th>band_name</th>\n",
              "      <th>fans</th>\n",
              "      <th>formed</th>\n",
              "      <th>origin</th>\n",
              "      <th>split</th>\n",
              "      <th>style</th>\n",
              "      <th>main_style</th>\n",
              "      <th>secondary_style</th>\n",
              "      <th>country</th>\n",
              "      <th>iso3</th>\n",
              "      <th>formed_normalizado</th>\n",
              "      <th>fans_normalizado</th>\n",
              "    </tr>\n",
              "  </thead>\n",
              "  <tbody>\n",
              "    <tr>\n",
              "      <th>0</th>\n",
              "      <td>Iron Maiden</td>\n",
              "      <td>4195</td>\n",
              "      <td>1975</td>\n",
              "      <td>United Kingdom</td>\n",
              "      <td>-</td>\n",
              "      <td>New wave of british heavy,Heavy</td>\n",
              "      <td>New wave of british heavy</td>\n",
              "      <td>Heavy</td>\n",
              "      <td>United Kingdom</td>\n",
              "      <td>GBR</td>\n",
              "      <td>0.211538</td>\n",
              "      <td>113.081081</td>\n",
              "    </tr>\n",
              "    <tr>\n",
              "      <th>1</th>\n",
              "      <td>Opeth</td>\n",
              "      <td>4147</td>\n",
              "      <td>1990</td>\n",
              "      <td>Sweden</td>\n",
              "      <td>1990</td>\n",
              "      <td>Extreme progressive,Progressive rock,Progressive</td>\n",
              "      <td>Extreme progressive</td>\n",
              "      <td>Progressive rock</td>\n",
              "      <td>Sweden</td>\n",
              "      <td>SWE</td>\n",
              "      <td>0.500000</td>\n",
              "      <td>111.783784</td>\n",
              "    </tr>\n",
              "    <tr>\n",
              "      <th>2</th>\n",
              "      <td>Metallica</td>\n",
              "      <td>3712</td>\n",
              "      <td>1981</td>\n",
              "      <td>USA</td>\n",
              "      <td>-</td>\n",
              "      <td>Heavy,Bay area thrash</td>\n",
              "      <td>Heavy</td>\n",
              "      <td>Bay area thrash</td>\n",
              "      <td>USA</td>\n",
              "      <td>USA</td>\n",
              "      <td>0.326923</td>\n",
              "      <td>100.027027</td>\n",
              "    </tr>\n",
              "    <tr>\n",
              "      <th>3</th>\n",
              "      <td>Megadeth</td>\n",
              "      <td>3105</td>\n",
              "      <td>1983</td>\n",
              "      <td>USA</td>\n",
              "      <td>1983</td>\n",
              "      <td>Thrash,Heavy,Hard rock</td>\n",
              "      <td>Thrash</td>\n",
              "      <td>Heavy</td>\n",
              "      <td>USA</td>\n",
              "      <td>USA</td>\n",
              "      <td>0.365385</td>\n",
              "      <td>83.621622</td>\n",
              "    </tr>\n",
              "    <tr>\n",
              "      <th>4</th>\n",
              "      <td>Amon Amarth</td>\n",
              "      <td>3054</td>\n",
              "      <td>1988</td>\n",
              "      <td>Sweden</td>\n",
              "      <td>-</td>\n",
              "      <td>Melodic death</td>\n",
              "      <td>Melodic death</td>\n",
              "      <td>&lt;NA&gt;</td>\n",
              "      <td>Sweden</td>\n",
              "      <td>SWE</td>\n",
              "      <td>0.461538</td>\n",
              "      <td>82.243243</td>\n",
              "    </tr>\n",
              "  </tbody>\n",
              "</table>\n",
              "</div>"
            ],
            "text/plain": [
              "     band_name  fans  formed  ... iso3 formed_normalizado fans_normalizado\n",
              "0  Iron Maiden  4195    1975  ...  GBR           0.211538       113.081081\n",
              "1        Opeth  4147    1990  ...  SWE           0.500000       111.783784\n",
              "2    Metallica  3712    1981  ...  USA           0.326923       100.027027\n",
              "3     Megadeth  3105    1983  ...  USA           0.365385        83.621622\n",
              "4  Amon Amarth  3054    1988  ...  SWE           0.461538        82.243243\n",
              "\n",
              "[5 rows x 12 columns]"
            ]
          },
          "metadata": {},
          "execution_count": 125
        }
      ]
    },
    {
      "cell_type": "code",
      "metadata": {
        "colab": {
          "base_uri": "https://localhost:8080/",
          "height": 496
        },
        "id": "9OsWHI9HO_aA",
        "outputId": "65c6aca4-a4a6-4dcc-da83-95a1e04a193f"
      },
      "source": [
        "df.hist();"
      ],
      "id": "9OsWHI9HO_aA",
      "execution_count": null,
      "outputs": [
        {
          "output_type": "display_data",
          "data": {
            "image/png": "[encoded data removed]",
            "text/plain": [
              "<Figure size 1440x720 with 4 Axes>"
            ]
          },
          "metadata": {}
        }
      ]
    },
    {
      "cell_type": "code",
      "metadata": {
        "colab": {
          "base_uri": "https://localhost:8080/",
          "height": 297
        },
        "id": "aKV4R7a7GdiP",
        "outputId": "78090b35-b47d-4dde-ef2f-314ac7a47876"
      },
      "source": [
        "# Estatísticas Descritivas com as colunas com tipo certo:\n",
        "df.describe()"
      ],
      "id": "aKV4R7a7GdiP",
      "execution_count": null,
      "outputs": [
        {
          "output_type": "execute_result",
          "data": {
            "text/html": [
              "<div>\n",
              "<style scoped>\n",
              "    .dataframe tbody tr th:only-of-type {\n",
              "        vertical-align: middle;\n",
              "    }\n",
              "\n",
              "    .dataframe tbody tr th {\n",
              "        vertical-align: top;\n",
              "    }\n",
              "\n",
              "    .dataframe thead th {\n",
              "        text-align: right;\n",
              "    }\n",
              "</style>\n",
              "<table border=\"1\" class=\"dataframe\">\n",
              "  <thead>\n",
              "    <tr style=\"text-align: right;\">\n",
              "      <th></th>\n",
              "      <th>fans</th>\n",
              "      <th>formed</th>\n",
              "      <th>formed_normalizado</th>\n",
              "      <th>fans_normalizado</th>\n",
              "    </tr>\n",
              "  </thead>\n",
              "  <tbody>\n",
              "    <tr>\n",
              "      <th>count</th>\n",
              "      <td>4937.000000</td>\n",
              "      <td>4937.000000</td>\n",
              "      <td>4937.000000</td>\n",
              "      <td>4937.000000</td>\n",
              "    </tr>\n",
              "    <tr>\n",
              "      <th>mean</th>\n",
              "      <td>70.451286</td>\n",
              "      <td>2000.512457</td>\n",
              "      <td>0.702163</td>\n",
              "      <td>1.606792</td>\n",
              "    </tr>\n",
              "    <tr>\n",
              "      <th>std</th>\n",
              "      <td>229.119959</td>\n",
              "      <td>8.819819</td>\n",
              "      <td>0.169612</td>\n",
              "      <td>6.192431</td>\n",
              "    </tr>\n",
              "    <tr>\n",
              "      <th>min</th>\n",
              "      <td>0.000000</td>\n",
              "      <td>1964.000000</td>\n",
              "      <td>0.000000</td>\n",
              "      <td>-0.297297</td>\n",
              "    </tr>\n",
              "    <tr>\n",
              "      <th>25%</th>\n",
              "      <td>4.000000</td>\n",
              "      <td>1995.000000</td>\n",
              "      <td>0.596154</td>\n",
              "      <td>-0.189189</td>\n",
              "    </tr>\n",
              "    <tr>\n",
              "      <th>50%</th>\n",
              "      <td>11.000000</td>\n",
              "      <td>2002.000000</td>\n",
              "      <td>0.730769</td>\n",
              "      <td>0.000000</td>\n",
              "    </tr>\n",
              "    <tr>\n",
              "      <th>75%</th>\n",
              "      <td>41.000000</td>\n",
              "      <td>2007.000000</td>\n",
              "      <td>0.826923</td>\n",
              "      <td>0.810811</td>\n",
              "    </tr>\n",
              "    <tr>\n",
              "      <th>max</th>\n",
              "      <td>4195.000000</td>\n",
              "      <td>2016.000000</td>\n",
              "      <td>1.000000</td>\n",
              "      <td>113.081081</td>\n",
              "    </tr>\n",
              "  </tbody>\n",
              "</table>\n",
              "</div>"
            ],
            "text/plain": [
              "              fans       formed  formed_normalizado  fans_normalizado\n",
              "count  4937.000000  4937.000000         4937.000000       4937.000000\n",
              "mean     70.451286  2000.512457            0.702163          1.606792\n",
              "std     229.119959     8.819819            0.169612          6.192431\n",
              "min       0.000000  1964.000000            0.000000         -0.297297\n",
              "25%       4.000000  1995.000000            0.596154         -0.189189\n",
              "50%      11.000000  2002.000000            0.730769          0.000000\n",
              "75%      41.000000  2007.000000            0.826923          0.810811\n",
              "max    4195.000000  2016.000000            1.000000        113.081081"
            ]
          },
          "metadata": {},
          "execution_count": 130
        }
      ]
    },
    {
      "cell_type": "code",
      "metadata": {
        "colab": {
          "base_uri": "https://localhost:8080/",
          "height": 173
        },
        "id": "At7ASsmJG8jx",
        "outputId": "47d04b77-4c25-4bfb-da75-de5d75eb32b2"
      },
      "source": [
        "df.describe(exclude=('int64', 'float64'))"
      ],
      "id": "At7ASsmJG8jx",
      "execution_count": null,
      "outputs": [
        {
          "output_type": "execute_result",
          "data": {
            "text/html": [
              "<div>\n",
              "<style scoped>\n",
              "    .dataframe tbody tr th:only-of-type {\n",
              "        vertical-align: middle;\n",
              "    }\n",
              "\n",
              "    .dataframe tbody tr th {\n",
              "        vertical-align: top;\n",
              "    }\n",
              "\n",
              "    .dataframe thead th {\n",
              "        text-align: right;\n",
              "    }\n",
              "</style>\n",
              "<table border=\"1\" class=\"dataframe\">\n",
              "  <thead>\n",
              "    <tr style=\"text-align: right;\">\n",
              "      <th></th>\n",
              "      <th>band_name</th>\n",
              "      <th>origin</th>\n",
              "      <th>split</th>\n",
              "      <th>style</th>\n",
              "      <th>main_style</th>\n",
              "      <th>secondary_style</th>\n",
              "      <th>country</th>\n",
              "      <th>iso3</th>\n",
              "    </tr>\n",
              "  </thead>\n",
              "  <tbody>\n",
              "    <tr>\n",
              "      <th>count</th>\n",
              "      <td>4937</td>\n",
              "      <td>4937</td>\n",
              "      <td>4937</td>\n",
              "      <td>4937</td>\n",
              "      <td>4937</td>\n",
              "      <td>2152</td>\n",
              "      <td>4937</td>\n",
              "      <td>4937</td>\n",
              "    </tr>\n",
              "    <tr>\n",
              "      <th>unique</th>\n",
              "      <td>4937</td>\n",
              "      <td>113</td>\n",
              "      <td>50</td>\n",
              "      <td>1226</td>\n",
              "      <td>208</td>\n",
              "      <td>194</td>\n",
              "      <td>86</td>\n",
              "      <td>86</td>\n",
              "    </tr>\n",
              "    <tr>\n",
              "      <th>top</th>\n",
              "      <td>This Gift Is A Curse</td>\n",
              "      <td>USA</td>\n",
              "      <td>-</td>\n",
              "      <td>Black</td>\n",
              "      <td>Black</td>\n",
              "      <td>Thrash</td>\n",
              "      <td>USA</td>\n",
              "      <td>USA</td>\n",
              "    </tr>\n",
              "    <tr>\n",
              "      <th>freq</th>\n",
              "      <td>1</td>\n",
              "      <td>1122</td>\n",
              "      <td>2183</td>\n",
              "      <td>345</td>\n",
              "      <td>590</td>\n",
              "      <td>168</td>\n",
              "      <td>1124</td>\n",
              "      <td>1124</td>\n",
              "    </tr>\n",
              "  </tbody>\n",
              "</table>\n",
              "</div>"
            ],
            "text/plain": [
              "                   band_name origin split  ... secondary_style country  iso3\n",
              "count                   4937   4937  4937  ...            2152    4937  4937\n",
              "unique                  4937    113    50  ...             194      86    86\n",
              "top     This Gift Is A Curse    USA     -  ...          Thrash     USA   USA\n",
              "freq                       1   1122  2183  ...             168    1124  1124\n",
              "\n",
              "[4 rows x 8 columns]"
            ]
          },
          "metadata": {},
          "execution_count": 131
        }
      ]
    }
  ]
}