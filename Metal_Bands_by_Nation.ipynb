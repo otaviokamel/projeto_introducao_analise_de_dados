{
 "cells": [
  {
   "cell_type": "markdown",
   "id": "f2e19349",
   "metadata": {
    "id": "c097810b-0ed5-4776-adda-d8c9fb823bdb"
   },
   "source": [
    "<h1><center>𝕸𝖊𝖙𝖆𝖑 𝕭𝖆𝖓𝖉𝖘 🇧​​​​​🇾​​​​​ 🇳​​​​​🇦​​​​​🇹​​​​​🇮​​​​​🇴​​​​​🇳​​​​​</center></h1>\n",
    "<center>\n",
    "1964 ~ 2016\n",
    "<br>\n",
    "<br>\n",
    "\n",
    "#### **Introdução à Ciência dos Dados**\n",
    "*Professor Luciano Barbosa*<br><br>\n",
    "\n",
    "**Grupo**<br>\n",
    "🤘 Arianne Macena [@annemacena](https://github.com/annemacena) - asm7@cin.ufpe.br<br>\n",
    "🤘 Otávio Kamel [@otaviokamel](https://github.com/otaviokamel) - oackb@cin.ufpe.br\n",
    "<br><br>\n",
    "<img src=\"https://media.giphy.com/media/XcLpNX8NFvhAc/giphy.gif\" align=\"center\"></center>"
   ]
  },
  {
   "cell_type": "markdown",
   "id": "0730bf63",
   "metadata": {
    "id": "14d3f5fd-cef2-4a3e-a770-3b7746e6e772",
    "tags": []
   },
   "source": [
    "# Importação de bibliotecas"
   ]
  },
  {
   "cell_type": "code",
   "execution_count": 1,
   "id": "5bc45560",
   "metadata": {
    "execution": {
     "iopub.execute_input": "2021-10-13T18:20:22.104690Z",
     "iopub.status.busy": "2021-10-13T18:20:22.104690Z",
     "iopub.status.idle": "2021-10-13T18:20:23.197285Z",
     "shell.execute_reply": "2021-10-13T18:20:23.197285Z",
     "shell.execute_reply.started": "2021-10-13T18:20:22.104690Z"
    },
    "id": "371de8eb-11b1-4c1e-b9f1-00c2c0528d7a",
    "tags": []
   },
   "outputs": [],
   "source": [
    "import pandas as pd\r\n",
    "import numpy as np\r\n",
    "import seaborn as sns\r\n",
    "from matplotlib import pyplot as plt"
   ]
  },
  {
   "cell_type": "markdown",
   "id": "b688cdca",
   "metadata": {
    "id": "795ae6ef-35b1-40a2-8bfd-bc519ec001ac",
    "tags": []
   },
   "source": [
    "# Descrição dos dados"
   ]
  },
  {
   "cell_type": "code",
   "execution_count": 2,
   "id": "81c2d8ef",
   "metadata": {
    "execution": {
     "iopub.execute_input": "2021-10-13T18:20:23.199291Z",
     "iopub.status.busy": "2021-10-13T18:20:23.199291Z",
     "iopub.status.idle": "2021-10-13T18:20:23.222287Z",
     "shell.execute_reply": "2021-10-13T18:20:23.222055Z",
     "shell.execute_reply.started": "2021-10-13T18:20:23.199291Z"
    },
    "id": "2b6a517b-42d1-4cfd-b50c-8e466b10b9cb",
    "tags": []
   },
   "outputs": [],
   "source": [
    "df = pd.read_csv('metal_bands_2017.csv')"
   ]
  },
  {
   "cell_type": "code",
   "execution_count": 3,
   "id": "fe473277",
   "metadata": {
    "execution": {
     "iopub.execute_input": "2021-10-13T18:20:23.227289Z",
     "iopub.status.busy": "2021-10-13T18:20:23.226288Z",
     "iopub.status.idle": "2021-10-13T18:20:23.255117Z",
     "shell.execute_reply": "2021-10-13T18:20:23.255117Z",
     "shell.execute_reply.started": "2021-10-13T18:20:23.227289Z"
    },
    "id": "b5222fdf-757b-4a75-8ea3-093ee759e402",
    "outputId": "0108c2f7-708c-4c84-d5a7-12b99b24eeac",
    "tags": []
   },
   "outputs": [
    {
     "data": {
      "text/html": [
       "<div>\n",
       "<style scoped>\n",
       "    .dataframe tbody tr th:only-of-type {\n",
       "        vertical-align: middle;\n",
       "    }\n",
       "\n",
       "    .dataframe tbody tr th {\n",
       "        vertical-align: top;\n",
       "    }\n",
       "\n",
       "    .dataframe thead th {\n",
       "        text-align: right;\n",
       "    }\n",
       "</style>\n",
       "<table border=\"1\" class=\"dataframe\">\n",
       "  <thead>\n",
       "    <tr style=\"text-align: right;\">\n",
       "      <th></th>\n",
       "      <th>Unnamed: 0</th>\n",
       "      <th>band_name</th>\n",
       "      <th>fans</th>\n",
       "      <th>formed</th>\n",
       "      <th>origin</th>\n",
       "      <th>split</th>\n",
       "      <th>style</th>\n",
       "    </tr>\n",
       "  </thead>\n",
       "  <tbody>\n",
       "    <tr>\n",
       "      <th>0</th>\n",
       "      <td>0</td>\n",
       "      <td>Iron Maiden</td>\n",
       "      <td>4195</td>\n",
       "      <td>1975</td>\n",
       "      <td>United Kingdom</td>\n",
       "      <td>-</td>\n",
       "      <td>New wave of british heavy,Heavy</td>\n",
       "    </tr>\n",
       "    <tr>\n",
       "      <th>1</th>\n",
       "      <td>1</td>\n",
       "      <td>Opeth</td>\n",
       "      <td>4147</td>\n",
       "      <td>1990</td>\n",
       "      <td>Sweden</td>\n",
       "      <td>1990</td>\n",
       "      <td>Extreme progressive,Progressive rock,Progressive</td>\n",
       "    </tr>\n",
       "    <tr>\n",
       "      <th>2</th>\n",
       "      <td>2</td>\n",
       "      <td>Metallica</td>\n",
       "      <td>3712</td>\n",
       "      <td>1981</td>\n",
       "      <td>USA</td>\n",
       "      <td>-</td>\n",
       "      <td>Heavy,Bay area thrash</td>\n",
       "    </tr>\n",
       "    <tr>\n",
       "      <th>3</th>\n",
       "      <td>3</td>\n",
       "      <td>Megadeth</td>\n",
       "      <td>3105</td>\n",
       "      <td>1983</td>\n",
       "      <td>USA</td>\n",
       "      <td>1983</td>\n",
       "      <td>Thrash,Heavy,Hard rock</td>\n",
       "    </tr>\n",
       "    <tr>\n",
       "      <th>4</th>\n",
       "      <td>4</td>\n",
       "      <td>Amon Amarth</td>\n",
       "      <td>3054</td>\n",
       "      <td>1988</td>\n",
       "      <td>Sweden</td>\n",
       "      <td>-</td>\n",
       "      <td>Melodic death</td>\n",
       "    </tr>\n",
       "  </tbody>\n",
       "</table>\n",
       "</div>"
      ],
      "text/plain": [
       "   Unnamed: 0    band_name  fans formed          origin split  \\\n",
       "0           0  Iron Maiden  4195   1975  United Kingdom     -   \n",
       "1           1        Opeth  4147   1990          Sweden  1990   \n",
       "2           2    Metallica  3712   1981             USA     -   \n",
       "3           3     Megadeth  3105   1983             USA  1983   \n",
       "4           4  Amon Amarth  3054   1988          Sweden     -   \n",
       "\n",
       "                                              style  \n",
       "0                   New wave of british heavy,Heavy  \n",
       "1  Extreme progressive,Progressive rock,Progressive  \n",
       "2                             Heavy,Bay area thrash  \n",
       "3                            Thrash,Heavy,Hard rock  \n",
       "4                                     Melodic death  "
      ]
     },
     "execution_count": 3,
     "metadata": {},
     "output_type": "execute_result"
    }
   ],
   "source": [
    "df.head()"
   ]
  },
  {
   "cell_type": "code",
   "execution_count": 4,
   "id": "b6b21a95",
   "metadata": {
    "execution": {
     "iopub.execute_input": "2021-10-13T18:20:23.255117Z",
     "iopub.status.busy": "2021-10-13T18:20:23.255117Z",
     "iopub.status.idle": "2021-10-13T18:20:23.271131Z",
     "shell.execute_reply": "2021-10-13T18:20:23.271131Z",
     "shell.execute_reply.started": "2021-10-13T18:20:23.255117Z"
    },
    "id": "47a54b11-f202-47c4-9ebe-c1bc094af861",
    "outputId": "87b930aa-89da-4e63-b2f3-b076d3cf971f",
    "tags": []
   },
   "outputs": [
    {
     "data": {
      "text/plain": [
       "(5000, 7)"
      ]
     },
     "execution_count": 4,
     "metadata": {},
     "output_type": "execute_result"
    }
   ],
   "source": [
    "df.shape"
   ]
  },
  {
   "cell_type": "code",
   "execution_count": 5,
   "id": "ab744550",
   "metadata": {
    "execution": {
     "iopub.execute_input": "2021-10-13T18:20:23.271131Z",
     "iopub.status.busy": "2021-10-13T18:20:23.271131Z",
     "iopub.status.idle": "2021-10-13T18:20:23.286949Z",
     "shell.execute_reply": "2021-10-13T18:20:23.286761Z",
     "shell.execute_reply.started": "2021-10-13T18:20:23.271131Z"
    },
    "id": "bfd57453-4569-4901-81e0-427c1d1fe94e",
    "outputId": "0ab1dc77-83b5-4b7b-8843-bb49b3b0f303",
    "tags": []
   },
   "outputs": [
    {
     "data": {
      "text/plain": [
       "Unnamed: 0    0\n",
       "band_name     0\n",
       "fans          0\n",
       "formed        0\n",
       "origin        8\n",
       "split         0\n",
       "style         0\n",
       "dtype: int64"
      ]
     },
     "execution_count": 5,
     "metadata": {},
     "output_type": "execute_result"
    }
   ],
   "source": [
    "df.isna().sum()"
   ]
  },
  {
   "cell_type": "code",
   "execution_count": 6,
   "id": "84c92e23",
   "metadata": {
    "execution": {
     "iopub.execute_input": "2021-10-13T18:20:23.287948Z",
     "iopub.status.busy": "2021-10-13T18:20:23.287948Z",
     "iopub.status.idle": "2021-10-13T18:20:23.302963Z",
     "shell.execute_reply": "2021-10-13T18:20:23.301961Z",
     "shell.execute_reply.started": "2021-10-13T18:20:23.287948Z"
    },
    "id": "fe2e86d6-658e-4dbe-b666-c04a8de31a8c",
    "outputId": "7eebba43-d861-490e-8804-8bd6d065fd32",
    "tags": []
   },
   "outputs": [
    {
     "data": {
      "text/html": [
       "<div>\n",
       "<style scoped>\n",
       "    .dataframe tbody tr th:only-of-type {\n",
       "        vertical-align: middle;\n",
       "    }\n",
       "\n",
       "    .dataframe tbody tr th {\n",
       "        vertical-align: top;\n",
       "    }\n",
       "\n",
       "    .dataframe thead th {\n",
       "        text-align: right;\n",
       "    }\n",
       "</style>\n",
       "<table border=\"1\" class=\"dataframe\">\n",
       "  <thead>\n",
       "    <tr style=\"text-align: right;\">\n",
       "      <th></th>\n",
       "      <th>Unnamed: 0</th>\n",
       "      <th>band_name</th>\n",
       "      <th>fans</th>\n",
       "      <th>formed</th>\n",
       "      <th>origin</th>\n",
       "      <th>split</th>\n",
       "      <th>style</th>\n",
       "    </tr>\n",
       "  </thead>\n",
       "  <tbody>\n",
       "    <tr>\n",
       "      <th>460</th>\n",
       "      <td>460</td>\n",
       "      <td>Enshine</td>\n",
       "      <td>175</td>\n",
       "      <td>2009</td>\n",
       "      <td>NaN</td>\n",
       "      <td>-</td>\n",
       "      <td>Gothic doom</td>\n",
       "    </tr>\n",
       "    <tr>\n",
       "      <th>989</th>\n",
       "      <td>989</td>\n",
       "      <td>Clouds</td>\n",
       "      <td>61</td>\n",
       "      <td>2013</td>\n",
       "      <td>NaN</td>\n",
       "      <td>2013</td>\n",
       "      <td>Atmospheric doom</td>\n",
       "    </tr>\n",
       "    <tr>\n",
       "      <th>1422</th>\n",
       "      <td>1422</td>\n",
       "      <td>Subterranean Masquerade</td>\n",
       "      <td>35</td>\n",
       "      <td>1997</td>\n",
       "      <td>NaN</td>\n",
       "      <td>-</td>\n",
       "      <td>Progressive,Psychedelic rock</td>\n",
       "    </tr>\n",
       "    <tr>\n",
       "      <th>2614</th>\n",
       "      <td>2614</td>\n",
       "      <td>Twilight Of The Gods</td>\n",
       "      <td>11</td>\n",
       "      <td>2010</td>\n",
       "      <td>NaN</td>\n",
       "      <td>-</td>\n",
       "      <td>Heavy</td>\n",
       "    </tr>\n",
       "    <tr>\n",
       "      <th>2996</th>\n",
       "      <td>2996</td>\n",
       "      <td>Archivist</td>\n",
       "      <td>7</td>\n",
       "      <td>2015</td>\n",
       "      <td>NaN</td>\n",
       "      <td>-</td>\n",
       "      <td>Atmospheric black,Post-metal</td>\n",
       "    </tr>\n",
       "    <tr>\n",
       "      <th>3444</th>\n",
       "      <td>3444</td>\n",
       "      <td>Metallic Taste Of Blood</td>\n",
       "      <td>5</td>\n",
       "      <td>2011</td>\n",
       "      <td>NaN</td>\n",
       "      <td>-</td>\n",
       "      <td>Progressive,Instrumental</td>\n",
       "    </tr>\n",
       "    <tr>\n",
       "      <th>3941</th>\n",
       "      <td>3941</td>\n",
       "      <td>Level 10</td>\n",
       "      <td>3</td>\n",
       "      <td>2014</td>\n",
       "      <td>NaN</td>\n",
       "      <td>2014</td>\n",
       "      <td>Heavy,Power</td>\n",
       "    </tr>\n",
       "    <tr>\n",
       "      <th>4201</th>\n",
       "      <td>4201</td>\n",
       "      <td>Death Penalty</td>\n",
       "      <td>2</td>\n",
       "      <td>2013</td>\n",
       "      <td>NaN</td>\n",
       "      <td>2013</td>\n",
       "      <td>Doom,Heavy</td>\n",
       "    </tr>\n",
       "  </tbody>\n",
       "</table>\n",
       "</div>"
      ],
      "text/plain": [
       "      Unnamed: 0                band_name  fans formed origin split  \\\n",
       "460          460                  Enshine   175   2009    NaN     -   \n",
       "989          989                   Clouds    61   2013    NaN  2013   \n",
       "1422        1422  Subterranean Masquerade    35   1997    NaN     -   \n",
       "2614        2614     Twilight Of The Gods    11   2010    NaN     -   \n",
       "2996        2996                Archivist     7   2015    NaN     -   \n",
       "3444        3444  Metallic Taste Of Blood     5   2011    NaN     -   \n",
       "3941        3941                 Level 10     3   2014    NaN  2014   \n",
       "4201        4201            Death Penalty     2   2013    NaN  2013   \n",
       "\n",
       "                             style  \n",
       "460                    Gothic doom  \n",
       "989               Atmospheric doom  \n",
       "1422  Progressive,Psychedelic rock  \n",
       "2614                         Heavy  \n",
       "2996  Atmospheric black,Post-metal  \n",
       "3444      Progressive,Instrumental  \n",
       "3941                   Heavy,Power  \n",
       "4201                    Doom,Heavy  "
      ]
     },
     "execution_count": 6,
     "metadata": {},
     "output_type": "execute_result"
    }
   ],
   "source": [
    "df[df['origin'].isna()]"
   ]
  },
  {
   "cell_type": "code",
   "execution_count": 36,
   "id": "9436e2a1",
   "metadata": {
    "execution": {
     "iopub.execute_input": "2021-10-13T18:23:17.267475Z",
     "iopub.status.busy": "2021-10-13T18:23:17.267475Z",
     "iopub.status.idle": "2021-10-13T18:23:17.281487Z",
     "shell.execute_reply": "2021-10-13T18:23:17.281487Z",
     "shell.execute_reply.started": "2021-10-13T18:23:17.267475Z"
    },
    "id": "0c3264b3-55c6-46f9-9c09-cf72170e486c",
    "outputId": "5d651b5e-5e49-4e9f-adf8-8a7b25a5ef21",
    "tags": []
   },
   "outputs": [
    {
     "data": {
      "text/html": [
       "<div>\n",
       "<style scoped>\n",
       "    .dataframe tbody tr th:only-of-type {\n",
       "        vertical-align: middle;\n",
       "    }\n",
       "\n",
       "    .dataframe tbody tr th {\n",
       "        vertical-align: top;\n",
       "    }\n",
       "\n",
       "    .dataframe thead th {\n",
       "        text-align: right;\n",
       "    }\n",
       "</style>\n",
       "<table border=\"1\" class=\"dataframe\">\n",
       "  <thead>\n",
       "    <tr style=\"text-align: right;\">\n",
       "      <th></th>\n",
       "      <th>fans</th>\n",
       "      <th>formed</th>\n",
       "    </tr>\n",
       "  </thead>\n",
       "  <tbody>\n",
       "    <tr>\n",
       "      <th>count</th>\n",
       "      <td>4988.000000</td>\n",
       "      <td>4988.000000</td>\n",
       "    </tr>\n",
       "    <tr>\n",
       "      <th>mean</th>\n",
       "      <td>87.956095</td>\n",
       "      <td>2000.400762</td>\n",
       "    </tr>\n",
       "    <tr>\n",
       "      <th>std</th>\n",
       "      <td>296.468228</td>\n",
       "      <td>8.880372</td>\n",
       "    </tr>\n",
       "    <tr>\n",
       "      <th>min</th>\n",
       "      <td>0.000000</td>\n",
       "      <td>1964.000000</td>\n",
       "    </tr>\n",
       "    <tr>\n",
       "      <th>25%</th>\n",
       "      <td>4.000000</td>\n",
       "      <td>1995.000000</td>\n",
       "    </tr>\n",
       "    <tr>\n",
       "      <th>50%</th>\n",
       "      <td>12.000000</td>\n",
       "      <td>2002.000000</td>\n",
       "    </tr>\n",
       "    <tr>\n",
       "      <th>75%</th>\n",
       "      <td>42.000000</td>\n",
       "      <td>2007.000000</td>\n",
       "    </tr>\n",
       "    <tr>\n",
       "      <th>max</th>\n",
       "      <td>4195.000000</td>\n",
       "      <td>2016.000000</td>\n",
       "    </tr>\n",
       "  </tbody>\n",
       "</table>\n",
       "</div>"
      ],
      "text/plain": [
       "              fans       formed\n",
       "count  4988.000000  4988.000000\n",
       "mean     87.956095  2000.400762\n",
       "std     296.468228     8.880372\n",
       "min       0.000000  1964.000000\n",
       "25%       4.000000  1995.000000\n",
       "50%      12.000000  2002.000000\n",
       "75%      42.000000  2007.000000\n",
       "max    4195.000000  2016.000000"
      ]
     },
     "execution_count": 36,
     "metadata": {},
     "output_type": "execute_result"
    }
   ],
   "source": [
    "df.describe()"
   ]
  },
  {
   "cell_type": "code",
   "execution_count": 37,
   "id": "f1015fff",
   "metadata": {
    "execution": {
     "iopub.execute_input": "2021-10-13T18:23:19.142468Z",
     "iopub.status.busy": "2021-10-13T18:23:19.142468Z",
     "iopub.status.idle": "2021-10-13T18:23:19.171494Z",
     "shell.execute_reply": "2021-10-13T18:23:19.171494Z",
     "shell.execute_reply.started": "2021-10-13T18:23:19.142468Z"
    },
    "tags": []
   },
   "outputs": [
    {
     "data": {
      "text/html": [
       "<div>\n",
       "<style scoped>\n",
       "    .dataframe tbody tr th:only-of-type {\n",
       "        vertical-align: middle;\n",
       "    }\n",
       "\n",
       "    .dataframe tbody tr th {\n",
       "        vertical-align: top;\n",
       "    }\n",
       "\n",
       "    .dataframe thead th {\n",
       "        text-align: right;\n",
       "    }\n",
       "</style>\n",
       "<table border=\"1\" class=\"dataframe\">\n",
       "  <thead>\n",
       "    <tr style=\"text-align: right;\">\n",
       "      <th></th>\n",
       "      <th>band_name</th>\n",
       "      <th>origin</th>\n",
       "      <th>split</th>\n",
       "      <th>style</th>\n",
       "    </tr>\n",
       "  </thead>\n",
       "  <tbody>\n",
       "    <tr>\n",
       "      <th>count</th>\n",
       "      <td>4988</td>\n",
       "      <td>4988</td>\n",
       "      <td>4988</td>\n",
       "      <td>4988</td>\n",
       "    </tr>\n",
       "    <tr>\n",
       "      <th>unique</th>\n",
       "      <td>4937</td>\n",
       "      <td>113</td>\n",
       "      <td>50</td>\n",
       "      <td>1226</td>\n",
       "    </tr>\n",
       "    <tr>\n",
       "      <th>top</th>\n",
       "      <td>Metallica</td>\n",
       "      <td>USA</td>\n",
       "      <td>-</td>\n",
       "      <td>Black</td>\n",
       "    </tr>\n",
       "    <tr>\n",
       "      <th>freq</th>\n",
       "      <td>2</td>\n",
       "      <td>1138</td>\n",
       "      <td>2206</td>\n",
       "      <td>345</td>\n",
       "    </tr>\n",
       "  </tbody>\n",
       "</table>\n",
       "</div>"
      ],
      "text/plain": [
       "        band_name origin split  style\n",
       "count        4988   4988  4988   4988\n",
       "unique       4937    113    50   1226\n",
       "top     Metallica    USA     -  Black\n",
       "freq            2   1138  2206    345"
      ]
     },
     "execution_count": 37,
     "metadata": {},
     "output_type": "execute_result"
    }
   ],
   "source": [
    "df.describe(include='object')"
   ]
  },
  {
   "cell_type": "code",
   "execution_count": 39,
   "id": "d87bc06e-9f72-4a9a-ba3b-4e8ce669d437",
   "metadata": {
    "execution": {
     "iopub.execute_input": "2021-10-13T18:23:45.994493Z",
     "iopub.status.busy": "2021-10-13T18:23:45.994493Z",
     "iopub.status.idle": "2021-10-13T18:23:46.002501Z",
     "shell.execute_reply": "2021-10-13T18:23:46.002501Z",
     "shell.execute_reply.started": "2021-10-13T18:23:45.994493Z"
    },
    "tags": []
   },
   "outputs": [
    {
     "data": {
      "text/plain": [
       "array(['-', '1990', '1983', '1981', '2001', '1985', '1996', '1969',\n",
       "       '2003', '1989', '2016', '1995', '1991', '1993', '2004', '1988',\n",
       "       '1994', '1980', '2010', '1984', '1997', '1973', '2000', '1975',\n",
       "       '1999', '1987', '1968', '1979', '1992', '2002', '1965', '2005',\n",
       "       '2008', '1978', '1982', '1998', '1976', '1986', '2006', '2011',\n",
       "       '2007', '2014', '1972', '2015', '2013', '2009', '1967', '1977',\n",
       "       '2012', '1974'], dtype=object)"
      ]
     },
     "execution_count": 39,
     "metadata": {},
     "output_type": "execute_result"
    }
   ],
   "source": [
    "# - é para bandas que não se separaram\n",
    "df['split'].unique()"
   ]
  },
  {
   "cell_type": "markdown",
   "id": "e4bdfd4e",
   "metadata": {
    "id": "8a40565a-4610-44ea-ab68-87105fc5e3db"
   },
   "source": [
    "# Pré-Processamento"
   ]
  },
  {
   "cell_type": "code",
   "execution_count": 9,
   "id": "b3a52ab3",
   "metadata": {
    "execution": {
     "iopub.execute_input": "2021-10-13T18:20:23.352036Z",
     "iopub.status.busy": "2021-10-13T18:20:23.352036Z",
     "iopub.status.idle": "2021-10-13T18:20:23.367050Z",
     "shell.execute_reply": "2021-10-13T18:20:23.366049Z",
     "shell.execute_reply.started": "2021-10-13T18:20:23.352036Z"
    },
    "id": "4bf0544c-a6f6-46bf-ba6a-4002733bb00e",
    "outputId": "50b796f3-a9da-482f-c6f8-14fe7741f87c",
    "tags": []
   },
   "outputs": [
    {
     "data": {
      "text/plain": [
       "Unnamed: 0     int64\n",
       "band_name     object\n",
       "fans           int64\n",
       "formed        object\n",
       "origin        object\n",
       "split         object\n",
       "style         object\n",
       "dtype: object"
      ]
     },
     "execution_count": 9,
     "metadata": {},
     "output_type": "execute_result"
    }
   ],
   "source": [
    "df.dtypes"
   ]
  },
  {
   "cell_type": "code",
   "execution_count": 10,
   "id": "aeb64282",
   "metadata": {
    "execution": {
     "iopub.execute_input": "2021-10-13T18:20:23.368050Z",
     "iopub.status.busy": "2021-10-13T18:20:23.368050Z",
     "iopub.status.idle": "2021-10-13T18:20:23.383068Z",
     "shell.execute_reply": "2021-10-13T18:20:23.382063Z",
     "shell.execute_reply.started": "2021-10-13T18:20:23.368050Z"
    }
   },
   "outputs": [
    {
     "data": {
      "text/plain": [
       "array(['1975', '1990', '1981', '1983', '1988', '1985', '1968', '1996',\n",
       "       '1993', '1969', '1984', '1989', '1995', '1991', '1982', '2004',\n",
       "       '1997', '1978', '2002', '1999', '1994', '1987', '1992', '1980',\n",
       "       '1973', '2000', '1998', '2003', '1986', '1979', '2001', '2007',\n",
       "       '2008', '1965', '2005', '1976', '1964', '1972', '2006', '1977',\n",
       "       '2011', '2010', '2009', '2013', '1971', '1967', '2015', '2012',\n",
       "       '2014', '1970', '1974', '2016', '-'], dtype=object)"
      ]
     },
     "execution_count": 10,
     "metadata": {},
     "output_type": "execute_result"
    }
   ],
   "source": [
    "df['formed'].unique()"
   ]
  },
  {
   "cell_type": "code",
   "execution_count": 11,
   "id": "49bf1c1b",
   "metadata": {
    "execution": {
     "iopub.execute_input": "2021-10-13T18:20:23.384066Z",
     "iopub.status.busy": "2021-10-13T18:20:23.384066Z",
     "iopub.status.idle": "2021-10-13T18:20:23.398077Z",
     "shell.execute_reply": "2021-10-13T18:20:23.398077Z",
     "shell.execute_reply.started": "2021-10-13T18:20:23.384066Z"
    }
   },
   "outputs": [
    {
     "data": {
      "text/html": [
       "<div>\n",
       "<style scoped>\n",
       "    .dataframe tbody tr th:only-of-type {\n",
       "        vertical-align: middle;\n",
       "    }\n",
       "\n",
       "    .dataframe tbody tr th {\n",
       "        vertical-align: top;\n",
       "    }\n",
       "\n",
       "    .dataframe thead th {\n",
       "        text-align: right;\n",
       "    }\n",
       "</style>\n",
       "<table border=\"1\" class=\"dataframe\">\n",
       "  <thead>\n",
       "    <tr style=\"text-align: right;\">\n",
       "      <th></th>\n",
       "      <th>Unnamed: 0</th>\n",
       "      <th>band_name</th>\n",
       "      <th>fans</th>\n",
       "      <th>formed</th>\n",
       "      <th>origin</th>\n",
       "      <th>split</th>\n",
       "      <th>style</th>\n",
       "    </tr>\n",
       "  </thead>\n",
       "  <tbody>\n",
       "    <tr>\n",
       "      <th>4442</th>\n",
       "      <td>4442</td>\n",
       "      <td>Throes Of Sanity</td>\n",
       "      <td>2</td>\n",
       "      <td>-</td>\n",
       "      <td>USA</td>\n",
       "      <td>-</td>\n",
       "      <td>Us power</td>\n",
       "    </tr>\n",
       "    <tr>\n",
       "      <th>4599</th>\n",
       "      <td>4599</td>\n",
       "      <td>Doomocracy</td>\n",
       "      <td>1</td>\n",
       "      <td>-</td>\n",
       "      <td>Greece</td>\n",
       "      <td>-</td>\n",
       "      <td>Doom</td>\n",
       "    </tr>\n",
       "    <tr>\n",
       "      <th>4821</th>\n",
       "      <td>4821</td>\n",
       "      <td>Rustless</td>\n",
       "      <td>1</td>\n",
       "      <td>-</td>\n",
       "      <td>Italy</td>\n",
       "      <td>-</td>\n",
       "      <td>Heavy</td>\n",
       "    </tr>\n",
       "    <tr>\n",
       "      <th>4948</th>\n",
       "      <td>4948</td>\n",
       "      <td>Weapon UK</td>\n",
       "      <td>1</td>\n",
       "      <td>-</td>\n",
       "      <td>United Kingdom</td>\n",
       "      <td>-</td>\n",
       "      <td>New wave of british heavy,Heavy</td>\n",
       "    </tr>\n",
       "  </tbody>\n",
       "</table>\n",
       "</div>"
      ],
      "text/plain": [
       "      Unnamed: 0         band_name  fans formed          origin split  \\\n",
       "4442        4442  Throes Of Sanity     2      -             USA     -   \n",
       "4599        4599        Doomocracy     1      -          Greece     -   \n",
       "4821        4821          Rustless     1      -           Italy     -   \n",
       "4948        4948         Weapon UK     1      -  United Kingdom     -   \n",
       "\n",
       "                                style  \n",
       "4442                         Us power  \n",
       "4599                             Doom  \n",
       "4821                            Heavy  \n",
       "4948  New wave of british heavy,Heavy  "
      ]
     },
     "execution_count": 11,
     "metadata": {},
     "output_type": "execute_result"
    }
   ],
   "source": [
    "df[df['formed'] == '-']"
   ]
  },
  {
   "cell_type": "code",
   "execution_count": 12,
   "id": "98a8194e",
   "metadata": {
    "execution": {
     "iopub.execute_input": "2021-10-13T18:20:23.400080Z",
     "iopub.status.busy": "2021-10-13T18:20:23.399079Z",
     "iopub.status.idle": "2021-10-13T18:20:23.415094Z",
     "shell.execute_reply": "2021-10-13T18:20:23.414093Z",
     "shell.execute_reply.started": "2021-10-13T18:20:23.400080Z"
    }
   },
   "outputs": [
    {
     "data": {
      "text/plain": [
       "'2016'"
      ]
     },
     "execution_count": 12,
     "metadata": {},
     "output_type": "execute_result"
    }
   ],
   "source": [
    "df['formed'].max()"
   ]
  },
  {
   "cell_type": "code",
   "execution_count": 13,
   "id": "2d31d787",
   "metadata": {
    "execution": {
     "iopub.execute_input": "2021-10-13T18:20:23.416095Z",
     "iopub.status.busy": "2021-10-13T18:20:23.416095Z",
     "iopub.status.idle": "2021-10-13T18:20:23.431108Z",
     "shell.execute_reply": "2021-10-13T18:20:23.430107Z",
     "shell.execute_reply.started": "2021-10-13T18:20:23.416095Z"
    }
   },
   "outputs": [],
   "source": [
    "# tratar o missing data -> -\r\n",
    "# colocar ano de formaçõa dessas bandas com missing values como 2017? pois praticamente não tem fãs, então devem ser recentes?"
   ]
  },
  {
   "cell_type": "code",
   "execution_count": 14,
   "id": "057b41eb",
   "metadata": {
    "execution": {
     "iopub.execute_input": "2021-10-13T18:20:23.432109Z",
     "iopub.status.busy": "2021-10-13T18:20:23.432109Z",
     "iopub.status.idle": "2021-10-13T18:20:23.446121Z",
     "shell.execute_reply": "2021-10-13T18:20:23.446121Z",
     "shell.execute_reply.started": "2021-10-13T18:20:23.432109Z"
    },
    "id": "16458caa-a8a5-42d4-a712-3a17184a3a69",
    "outputId": "4c3b211d-706c-4483-a7b3-89f39403fdf4",
    "tags": []
   },
   "outputs": [],
   "source": [
    "#df['formed'].astype('int64')"
   ]
  },
  {
   "cell_type": "code",
   "execution_count": 15,
   "id": "9c64df5c",
   "metadata": {
    "execution": {
     "iopub.execute_input": "2021-10-13T18:20:23.448123Z",
     "iopub.status.busy": "2021-10-13T18:20:23.448123Z",
     "iopub.status.idle": "2021-10-13T18:20:23.462135Z",
     "shell.execute_reply": "2021-10-13T18:20:23.462135Z",
     "shell.execute_reply.started": "2021-10-13T18:20:23.448123Z"
    }
   },
   "outputs": [
    {
     "data": {
      "text/plain": [
       "5000"
      ]
     },
     "execution_count": 15,
     "metadata": {},
     "output_type": "execute_result"
    }
   ],
   "source": [
    "# a coluna Unnamed: 0 é apaenas repetição do index do dataframe\r\n",
    "(df.index == df['Unnamed: 0']).sum()"
   ]
  },
  {
   "cell_type": "code",
   "execution_count": 16,
   "id": "88fb3cc4",
   "metadata": {
    "execution": {
     "iopub.execute_input": "2021-10-13T18:20:23.464138Z",
     "iopub.status.busy": "2021-10-13T18:20:23.463136Z",
     "iopub.status.idle": "2021-10-13T18:20:23.479151Z",
     "shell.execute_reply": "2021-10-13T18:20:23.478151Z",
     "shell.execute_reply.started": "2021-10-13T18:20:23.464138Z"
    }
   },
   "outputs": [],
   "source": [
    "df.drop(columns=['Unnamed: 0'], inplace=True)"
   ]
  },
  {
   "cell_type": "markdown",
   "id": "ba6b3957",
   "metadata": {},
   "source": [
    "# Missing data\r\n",
    "\r\n",
    "- imputar como? knn?\r\n",
    "- manualmente?\r\n",
    "- moda?\r\n"
   ]
  },
  {
   "cell_type": "markdown",
   "id": "7f25969a",
   "metadata": {},
   "source": [
    "## detectar outliers"
   ]
  },
  {
   "cell_type": "code",
   "execution_count": 35,
   "id": "e8ff6555-f3c8-4aa5-af85-7ca482c39206",
   "metadata": {
    "execution": {
     "iopub.execute_input": "2021-10-13T18:22:32.119074Z",
     "iopub.status.busy": "2021-10-13T18:22:32.118065Z",
     "iopub.status.idle": "2021-10-13T18:22:36.487510Z",
     "shell.execute_reply": "2021-10-13T18:22:36.486509Z",
     "shell.execute_reply.started": "2021-10-13T18:22:32.119074Z"
    },
    "tags": []
   },
   "outputs": [
    {
     "data": {
      "image/png": "[encoded data removed]",
      "text/plain": [
       "<Figure size 432x288 with 1 Axes>"
      ]
     },
     "metadata": {
      "needs_background": "light"
     },
     "output_type": "display_data"
    },
    {
     "data": {
      "image/png": "[encoded data removed]",
      "text/plain": [
       "<Figure size 432x288 with 1 Axes>"
      ]
     },
     "metadata": {
      "needs_background": "light"
     },
     "output_type": "display_data"
    }
   ],
   "source": [
    "for column in df.select_dtypes(include='object'):\n",
    "    if df[column].nunique() < 1000:\n",
    "        sns.boxplot(x=column, data=df, y='fans')\n",
    "        plt.show()"
   ]
  },
  {
   "cell_type": "markdown",
   "id": "362fef02",
   "metadata": {},
   "source": [
    "## normalizar dados\r\n",
    "- min max\r\n",
    "- robust Scaler \r\n",
    "- standard scaler"
   ]
  },
  {
   "cell_type": "markdown",
   "id": "957fa7b2",
   "metadata": {
    "id": "0c8575a8-0f1f-441a-a706-f2737da9c944"
   },
   "source": [
    "## Análises"
   ]
  },
  {
   "cell_type": "markdown",
   "id": "1e11886a-d9e7-4772-b35e-78e4ad75b84a",
   "metadata": {
    "execution": {
     "iopub.execute_input": "2021-10-13T18:36:22.345105Z",
     "iopub.status.busy": "2021-10-13T18:36:22.345105Z",
     "iopub.status.idle": "2021-10-13T18:36:22.361119Z",
     "shell.execute_reply": "2021-10-13T18:36:22.361119Z",
     "shell.execute_reply.started": "2021-10-13T18:36:22.345105Z"
    },
    "tags": []
   },
   "source": [
    "### Tempo de Duração das Bandas"
   ]
  },
  {
   "cell_type": "code",
   "execution_count": 92,
   "id": "9039e1de-7088-47a5-9763-c1e1b78101fc",
   "metadata": {
    "execution": {
     "iopub.execute_input": "2021-10-13T18:49:45.951709Z",
     "iopub.status.busy": "2021-10-13T18:49:45.951709Z",
     "iopub.status.idle": "2021-10-13T18:49:45.968724Z",
     "shell.execute_reply": "2021-10-13T18:49:45.968724Z",
     "shell.execute_reply.started": "2021-10-13T18:49:45.951709Z"
    },
    "tags": []
   },
   "outputs": [
    {
     "data": {
      "text/plain": [
       "Int64Index([   0,    2,    4,    8,   10,   12,   18,   20,   22,   24,\n",
       "            ...\n",
       "            4978, 4980, 4982, 4984, 4986, 4988, 4990, 4992, 4994, 4996],\n",
       "           dtype='int64', length=2206)"
      ]
     },
     "execution_count": 92,
     "metadata": {},
     "output_type": "execute_result"
    }
   ],
   "source": [
    "df[df['split'] == '-'].index"
   ]
  },
  {
   "cell_type": "code",
   "execution_count": 93,
   "id": "e4b7103a-18d5-44df-be7c-9c0e6a0c5c22",
   "metadata": {
    "execution": {
     "iopub.execute_input": "2021-10-13T18:49:46.107841Z",
     "iopub.status.busy": "2021-10-13T18:49:46.106839Z",
     "iopub.status.idle": "2021-10-13T18:49:46.128859Z",
     "shell.execute_reply": "2021-10-13T18:49:46.128859Z",
     "shell.execute_reply.started": "2021-10-13T18:49:46.107841Z"
    },
    "tags": []
   },
   "outputs": [],
   "source": [
    "# para efeitos de comparação, bandas cujo ano de split é igual a \"-\" foram considerados bandas que ainda estão juntas\n",
    "df_split = df.drop(df[df['split'] == '-'].index)\n",
    "df_non_split = df.drop(df[df['split'] != '-'].index)"
   ]
  },
  {
   "cell_type": "code",
   "execution_count": 94,
   "id": "5afc9028-7219-4e7b-8b23-73ec7f36446c",
   "metadata": {
    "execution": {
     "iopub.execute_input": "2021-10-13T18:49:46.440101Z",
     "iopub.status.busy": "2021-10-13T18:49:46.440101Z",
     "iopub.status.idle": "2021-10-13T18:49:46.444840Z",
     "shell.execute_reply": "2021-10-13T18:49:46.444659Z",
     "shell.execute_reply.started": "2021-10-13T18:49:46.440101Z"
    },
    "tags": []
   },
   "outputs": [
    {
     "data": {
      "text/plain": [
       "(2782, 6)"
      ]
     },
     "execution_count": 94,
     "metadata": {},
     "output_type": "execute_result"
    }
   ],
   "source": [
    "df_split.shape"
   ]
  },
  {
   "cell_type": "code",
   "execution_count": 95,
   "id": "18481250-ef4c-4e60-9b7d-81b0c6d40461",
   "metadata": {
    "execution": {
     "iopub.execute_input": "2021-10-13T18:49:47.622846Z",
     "iopub.status.busy": "2021-10-13T18:49:47.621845Z",
     "iopub.status.idle": "2021-10-13T18:49:47.640862Z",
     "shell.execute_reply": "2021-10-13T18:49:47.640862Z",
     "shell.execute_reply.started": "2021-10-13T18:49:47.622846Z"
    },
    "tags": []
   },
   "outputs": [
    {
     "data": {
      "text/plain": [
       "(2206, 6)"
      ]
     },
     "execution_count": 95,
     "metadata": {},
     "output_type": "execute_result"
    }
   ],
   "source": [
    "df_non_split.shape"
   ]
  },
  {
   "cell_type": "code",
   "execution_count": 96,
   "id": "bd414ae8-3a1a-4796-9dee-faeb4cdd36bb",
   "metadata": {
    "execution": {
     "iopub.execute_input": "2021-10-13T18:49:47.870101Z",
     "iopub.status.busy": "2021-10-13T18:49:47.870101Z",
     "iopub.status.idle": "2021-10-13T18:49:47.884113Z",
     "shell.execute_reply": "2021-10-13T18:49:47.884113Z",
     "shell.execute_reply.started": "2021-10-13T18:49:47.870101Z"
    },
    "tags": []
   },
   "outputs": [],
   "source": [
    "# como as bandas cujo valor de split é igual a \"-\" consideramos como ainda em andamento, colocaremos o ano de 2017 (pois os valores do dataset vão até 2016), para considerar o tempo que as bandas estão juntas"
   ]
  },
  {
   "cell_type": "code",
   "execution_count": 97,
   "id": "3173ed10-5682-4363-9ec6-6f3eb0debfd3",
   "metadata": {
    "execution": {
     "iopub.execute_input": "2021-10-13T18:49:48.582013Z",
     "iopub.status.busy": "2021-10-13T18:49:48.582013Z",
     "iopub.status.idle": "2021-10-13T18:49:48.593388Z",
     "shell.execute_reply": "2021-10-13T18:49:48.593388Z",
     "shell.execute_reply.started": "2021-10-13T18:49:48.582013Z"
    },
    "tags": []
   },
   "outputs": [
    {
     "data": {
      "text/plain": [
       "502     -\n",
       "1424    -\n",
       "3752    -\n",
       "4692    -\n",
       "694     -\n",
       "4982    -\n",
       "3822    -\n",
       "3656    -\n",
       "2362    -\n",
       "628     -\n",
       "Name: split, dtype: object"
      ]
     },
     "execution_count": 97,
     "metadata": {},
     "output_type": "execute_result"
    }
   ],
   "source": [
    "df_non_split['split'].sample(10)"
   ]
  },
  {
   "cell_type": "code",
   "execution_count": 98,
   "id": "d52df1f5-a448-4791-b149-a12d0bda5553",
   "metadata": {
    "execution": {
     "iopub.execute_input": "2021-10-13T18:49:49.037644Z",
     "iopub.status.busy": "2021-10-13T18:49:49.037644Z",
     "iopub.status.idle": "2021-10-13T18:49:49.050655Z",
     "shell.execute_reply": "2021-10-13T18:49:49.050655Z",
     "shell.execute_reply.started": "2021-10-13T18:49:49.037644Z"
    },
    "tags": []
   },
   "outputs": [],
   "source": [
    "df_non_split['split'] = 2017"
   ]
  },
  {
   "cell_type": "code",
   "execution_count": 99,
   "id": "b534accd-24ca-4647-ae69-b279f234b3d3",
   "metadata": {
    "execution": {
     "iopub.execute_input": "2021-10-13T18:49:49.607222Z",
     "iopub.status.busy": "2021-10-13T18:49:49.606221Z",
     "iopub.status.idle": "2021-10-13T18:49:49.618231Z",
     "shell.execute_reply": "2021-10-13T18:49:49.618231Z",
     "shell.execute_reply.started": "2021-10-13T18:49:49.607222Z"
    },
    "tags": []
   },
   "outputs": [
    {
     "data": {
      "text/plain": [
       "3468    2017\n",
       "4690    2017\n",
       "1116    2017\n",
       "1672    2017\n",
       "3136    2017\n",
       "4980    2017\n",
       "4966    2017\n",
       "4026    2017\n",
       "728     2017\n",
       "2524    2017\n",
       "Name: split, dtype: int64"
      ]
     },
     "execution_count": 99,
     "metadata": {},
     "output_type": "execute_result"
    }
   ],
   "source": [
    "df_non_split['split'].sample(10)"
   ]
  },
  {
   "cell_type": "code",
   "execution_count": 109,
   "id": "660b77f6-bd29-4636-85af-fd2a342cfc8f",
   "metadata": {
    "execution": {
     "iopub.execute_input": "2021-10-13T18:51:27.200179Z",
     "iopub.status.busy": "2021-10-13T18:51:27.200179Z",
     "iopub.status.idle": "2021-10-13T18:51:27.206175Z",
     "shell.execute_reply": "2021-10-13T18:51:27.206175Z",
     "shell.execute_reply.started": "2021-10-13T18:51:27.200179Z"
    },
    "tags": []
   },
   "outputs": [
    {
     "data": {
      "text/plain": [
       "1787    2002\n",
       "1705    2000\n",
       "371     2000\n",
       "925     1981\n",
       "2219    2003\n",
       "1505    2012\n",
       "1721    2009\n",
       "1289    2006\n",
       "4937    2002\n",
       "3781    2003\n",
       "Name: split, dtype: int64"
      ]
     },
     "execution_count": 109,
     "metadata": {},
     "output_type": "execute_result"
    }
   ],
   "source": [
    "df_split['split'].sample(10)"
   ]
  },
  {
   "cell_type": "code",
   "execution_count": 110,
   "id": "6803d299-51a5-4270-88bf-47bda62f3cc2",
   "metadata": {
    "execution": {
     "iopub.execute_input": "2021-10-13T18:51:27.544499Z",
     "iopub.status.busy": "2021-10-13T18:51:27.544499Z",
     "iopub.status.idle": "2021-10-13T18:51:27.554508Z",
     "shell.execute_reply": "2021-10-13T18:51:27.554508Z",
     "shell.execute_reply.started": "2021-10-13T18:51:27.544499Z"
    },
    "tags": []
   },
   "outputs": [
    {
     "data": {
      "text/plain": [
       "58      2017\n",
       "4800    2017\n",
       "1162    2017\n",
       "1192    2017\n",
       "4144    2017\n",
       "4494    2017\n",
       "4066    2017\n",
       "1326    2017\n",
       "930     2017\n",
       "2370    2017\n",
       "Name: split, dtype: int64"
      ]
     },
     "execution_count": 110,
     "metadata": {},
     "output_type": "execute_result"
    }
   ],
   "source": [
    "df_non_split['split'].sample(10)"
   ]
  },
  {
   "cell_type": "code",
   "execution_count": 106,
   "id": "1d1a88c4-55b2-419c-947b-6191d958d1d9",
   "metadata": {
    "execution": {
     "iopub.execute_input": "2021-10-13T18:50:49.991932Z",
     "iopub.status.busy": "2021-10-13T18:50:49.991932Z",
     "iopub.status.idle": "2021-10-13T18:50:50.023161Z",
     "shell.execute_reply": "2021-10-13T18:50:50.022876Z",
     "shell.execute_reply.started": "2021-10-13T18:50:49.991932Z"
    },
    "tags": []
   },
   "outputs": [],
   "source": [
    "df_split['split'] = df_split['split'].astype('int64')"
   ]
  },
  {
   "cell_type": "code",
   "execution_count": 107,
   "id": "d6c8f92d-104b-47d2-9b02-c04a70f29e62",
   "metadata": {
    "execution": {
     "iopub.execute_input": "2021-10-13T18:50:52.516895Z",
     "iopub.status.busy": "2021-10-13T18:50:52.515894Z",
     "iopub.status.idle": "2021-10-13T18:50:52.530907Z",
     "shell.execute_reply": "2021-10-13T18:50:52.530907Z",
     "shell.execute_reply.started": "2021-10-13T18:50:52.516895Z"
    },
    "tags": []
   },
   "outputs": [],
   "source": [
    "df_split['band_duration'] = df_split['split'] - df_split['formed']"
   ]
  },
  {
   "cell_type": "code",
   "execution_count": 108,
   "id": "ec9ce9c9-283e-482a-aa08-77e669e4cf12",
   "metadata": {
    "execution": {
     "iopub.execute_input": "2021-10-13T18:51:00.239969Z",
     "iopub.status.busy": "2021-10-13T18:51:00.238958Z",
     "iopub.status.idle": "2021-10-13T18:51:00.253982Z",
     "shell.execute_reply": "2021-10-13T18:51:00.253982Z",
     "shell.execute_reply.started": "2021-10-13T18:51:00.239969Z"
    },
    "tags": []
   },
   "outputs": [
    {
     "data": {
      "text/html": [
       "<div>\n",
       "<style scoped>\n",
       "    .dataframe tbody tr th:only-of-type {\n",
       "        vertical-align: middle;\n",
       "    }\n",
       "\n",
       "    .dataframe tbody tr th {\n",
       "        vertical-align: top;\n",
       "    }\n",
       "\n",
       "    .dataframe thead th {\n",
       "        text-align: right;\n",
       "    }\n",
       "</style>\n",
       "<table border=\"1\" class=\"dataframe\">\n",
       "  <thead>\n",
       "    <tr style=\"text-align: right;\">\n",
       "      <th></th>\n",
       "      <th>band_name</th>\n",
       "      <th>fans</th>\n",
       "      <th>formed</th>\n",
       "      <th>origin</th>\n",
       "      <th>split</th>\n",
       "      <th>style</th>\n",
       "      <th>band_duration</th>\n",
       "    </tr>\n",
       "  </thead>\n",
       "  <tbody>\n",
       "    <tr>\n",
       "      <th>4060</th>\n",
       "      <td>Thy Flesh Consumed</td>\n",
       "      <td>3</td>\n",
       "      <td>2001</td>\n",
       "      <td>Canada</td>\n",
       "      <td>2010</td>\n",
       "      <td>Death</td>\n",
       "      <td>9</td>\n",
       "    </tr>\n",
       "    <tr>\n",
       "      <th>3010</th>\n",
       "      <td>Bone Gnawer</td>\n",
       "      <td>7</td>\n",
       "      <td>2009</td>\n",
       "      <td>Sweden</td>\n",
       "      <td>2015</td>\n",
       "      <td>Death</td>\n",
       "      <td>6</td>\n",
       "    </tr>\n",
       "    <tr>\n",
       "      <th>1193</th>\n",
       "      <td>Sulphur Aeon</td>\n",
       "      <td>46</td>\n",
       "      <td>2010</td>\n",
       "      <td>Germany</td>\n",
       "      <td>2010</td>\n",
       "      <td>Death</td>\n",
       "      <td>0</td>\n",
       "    </tr>\n",
       "    <tr>\n",
       "      <th>4205</th>\n",
       "      <td>Desolate Pathway</td>\n",
       "      <td>2</td>\n",
       "      <td>2013</td>\n",
       "      <td>United Kingdom</td>\n",
       "      <td>2013</td>\n",
       "      <td>Epic doom</td>\n",
       "      <td>0</td>\n",
       "    </tr>\n",
       "    <tr>\n",
       "      <th>3336</th>\n",
       "      <td>Apati</td>\n",
       "      <td>5</td>\n",
       "      <td>2008</td>\n",
       "      <td>Sweden</td>\n",
       "      <td>2011</td>\n",
       "      <td>Depressive black</td>\n",
       "      <td>3</td>\n",
       "    </tr>\n",
       "    <tr>\n",
       "      <th>3243</th>\n",
       "      <td>Joel Grind</td>\n",
       "      <td>6</td>\n",
       "      <td>2012</td>\n",
       "      <td>USA</td>\n",
       "      <td>2012</td>\n",
       "      <td>Black,Speed</td>\n",
       "      <td>0</td>\n",
       "    </tr>\n",
       "    <tr>\n",
       "      <th>2891</th>\n",
       "      <td>Greymachine</td>\n",
       "      <td>8</td>\n",
       "      <td>2009</td>\n",
       "      <td>United Kingdom</td>\n",
       "      <td>2009</td>\n",
       "      <td>Experimental industrial,Avantgarde</td>\n",
       "      <td>0</td>\n",
       "    </tr>\n",
       "    <tr>\n",
       "      <th>3337</th>\n",
       "      <td>Apotheosis</td>\n",
       "      <td>5</td>\n",
       "      <td>1993</td>\n",
       "      <td>Malta</td>\n",
       "      <td>1993</td>\n",
       "      <td>Symphonic black,Thrash</td>\n",
       "      <td>0</td>\n",
       "    </tr>\n",
       "    <tr>\n",
       "      <th>2947</th>\n",
       "      <td>Sorcier Des Glaces</td>\n",
       "      <td>8</td>\n",
       "      <td>1997</td>\n",
       "      <td>Canada</td>\n",
       "      <td>1997</td>\n",
       "      <td>Black</td>\n",
       "      <td>0</td>\n",
       "    </tr>\n",
       "    <tr>\n",
       "      <th>4239</th>\n",
       "      <td>Exiled</td>\n",
       "      <td>2</td>\n",
       "      <td>1997</td>\n",
       "      <td>USA</td>\n",
       "      <td>1997</td>\n",
       "      <td>Power,Speed,Thrash</td>\n",
       "      <td>0</td>\n",
       "    </tr>\n",
       "  </tbody>\n",
       "</table>\n",
       "</div>"
      ],
      "text/plain": [
       "               band_name  fans  formed          origin  split  \\\n",
       "4060  Thy Flesh Consumed     3    2001          Canada   2010   \n",
       "3010         Bone Gnawer     7    2009          Sweden   2015   \n",
       "1193        Sulphur Aeon    46    2010         Germany   2010   \n",
       "4205    Desolate Pathway     2    2013  United Kingdom   2013   \n",
       "3336               Apati     5    2008          Sweden   2011   \n",
       "3243          Joel Grind     6    2012             USA   2012   \n",
       "2891         Greymachine     8    2009  United Kingdom   2009   \n",
       "3337          Apotheosis     5    1993           Malta   1993   \n",
       "2947  Sorcier Des Glaces     8    1997          Canada   1997   \n",
       "4239              Exiled     2    1997             USA   1997   \n",
       "\n",
       "                                   style  band_duration  \n",
       "4060                               Death              9  \n",
       "3010                               Death              6  \n",
       "1193                               Death              0  \n",
       "4205                           Epic doom              0  \n",
       "3336                    Depressive black              3  \n",
       "3243                         Black,Speed              0  \n",
       "2891  Experimental industrial,Avantgarde              0  \n",
       "3337              Symphonic black,Thrash              0  \n",
       "2947                               Black              0  \n",
       "4239                  Power,Speed,Thrash              0  "
      ]
     },
     "execution_count": 108,
     "metadata": {},
     "output_type": "execute_result"
    }
   ],
   "source": [
    "df_split.sample(10)"
   ]
  },
  {
   "cell_type": "code",
   "execution_count": 111,
   "id": "d0648eaa-0e5e-4e03-b247-34e28202dcf4",
   "metadata": {
    "execution": {
     "iopub.execute_input": "2021-10-13T18:51:46.226194Z",
     "iopub.status.busy": "2021-10-13T18:51:46.226194Z",
     "iopub.status.idle": "2021-10-13T18:51:46.230197Z",
     "shell.execute_reply": "2021-10-13T18:51:46.230197Z",
     "shell.execute_reply.started": "2021-10-13T18:51:46.226194Z"
    },
    "tags": []
   },
   "outputs": [],
   "source": [
    "df_non_split['band_duration'] = df_non_split['split'] - df_non_split['formed']"
   ]
  },
  {
   "cell_type": "code",
   "execution_count": 112,
   "id": "07466a1a-afeb-4060-ac5c-a2a61b013621",
   "metadata": {
    "execution": {
     "iopub.execute_input": "2021-10-13T18:51:55.039713Z",
     "iopub.status.busy": "2021-10-13T18:51:55.039713Z",
     "iopub.status.idle": "2021-10-13T18:51:55.057995Z",
     "shell.execute_reply": "2021-10-13T18:51:55.057995Z",
     "shell.execute_reply.started": "2021-10-13T18:51:55.039713Z"
    },
    "tags": []
   },
   "outputs": [
    {
     "data": {
      "text/html": [
       "<div>\n",
       "<style scoped>\n",
       "    .dataframe tbody tr th:only-of-type {\n",
       "        vertical-align: middle;\n",
       "    }\n",
       "\n",
       "    .dataframe tbody tr th {\n",
       "        vertical-align: top;\n",
       "    }\n",
       "\n",
       "    .dataframe thead th {\n",
       "        text-align: right;\n",
       "    }\n",
       "</style>\n",
       "<table border=\"1\" class=\"dataframe\">\n",
       "  <thead>\n",
       "    <tr style=\"text-align: right;\">\n",
       "      <th></th>\n",
       "      <th>band_name</th>\n",
       "      <th>fans</th>\n",
       "      <th>formed</th>\n",
       "      <th>origin</th>\n",
       "      <th>split</th>\n",
       "      <th>style</th>\n",
       "      <th>band_duration</th>\n",
       "    </tr>\n",
       "  </thead>\n",
       "  <tbody>\n",
       "    <tr>\n",
       "      <th>2230</th>\n",
       "      <td>Howls Of Ebb</td>\n",
       "      <td>15</td>\n",
       "      <td>2012</td>\n",
       "      <td>USA</td>\n",
       "      <td>2017</td>\n",
       "      <td>Black,Death</td>\n",
       "      <td>5</td>\n",
       "    </tr>\n",
       "    <tr>\n",
       "      <th>1192</th>\n",
       "      <td>ReinXeed</td>\n",
       "      <td>46</td>\n",
       "      <td>2002</td>\n",
       "      <td>Sweden</td>\n",
       "      <td>2017</td>\n",
       "      <td>Power</td>\n",
       "      <td>15</td>\n",
       "    </tr>\n",
       "    <tr>\n",
       "      <th>1688</th>\n",
       "      <td>To Cast A Shadow</td>\n",
       "      <td>26</td>\n",
       "      <td>2005</td>\n",
       "      <td>Norway</td>\n",
       "      <td>2017</td>\n",
       "      <td>Doom,Gothic</td>\n",
       "      <td>12</td>\n",
       "    </tr>\n",
       "    <tr>\n",
       "      <th>4590</th>\n",
       "      <td>Decease</td>\n",
       "      <td>1</td>\n",
       "      <td>2011</td>\n",
       "      <td>Romania</td>\n",
       "      <td>2017</td>\n",
       "      <td>Death,Thrash</td>\n",
       "      <td>6</td>\n",
       "    </tr>\n",
       "    <tr>\n",
       "      <th>2858</th>\n",
       "      <td>Clandestine Blaze</td>\n",
       "      <td>8</td>\n",
       "      <td>1998</td>\n",
       "      <td>Finland</td>\n",
       "      <td>2017</td>\n",
       "      <td>Black</td>\n",
       "      <td>19</td>\n",
       "    </tr>\n",
       "    <tr>\n",
       "      <th>46</th>\n",
       "      <td>Enslaved</td>\n",
       "      <td>1146</td>\n",
       "      <td>1991</td>\n",
       "      <td>Norway</td>\n",
       "      <td>2017</td>\n",
       "      <td>Viking black,Progressive black</td>\n",
       "      <td>26</td>\n",
       "    </tr>\n",
       "    <tr>\n",
       "      <th>1108</th>\n",
       "      <td>Akphaezya</td>\n",
       "      <td>52</td>\n",
       "      <td>2002</td>\n",
       "      <td>France</td>\n",
       "      <td>2017</td>\n",
       "      <td>Avantgarde</td>\n",
       "      <td>15</td>\n",
       "    </tr>\n",
       "    <tr>\n",
       "      <th>2654</th>\n",
       "      <td>Dee Snider</td>\n",
       "      <td>10</td>\n",
       "      <td>1997</td>\n",
       "      <td>USA</td>\n",
       "      <td>2017</td>\n",
       "      <td>Heavy</td>\n",
       "      <td>20</td>\n",
       "    </tr>\n",
       "    <tr>\n",
       "      <th>1684</th>\n",
       "      <td>Shakra</td>\n",
       "      <td>26</td>\n",
       "      <td>1997</td>\n",
       "      <td>Switzerland</td>\n",
       "      <td>2017</td>\n",
       "      <td>Hard rock,Heavy</td>\n",
       "      <td>20</td>\n",
       "    </tr>\n",
       "    <tr>\n",
       "      <th>688</th>\n",
       "      <td>Brainstorm</td>\n",
       "      <td>101</td>\n",
       "      <td>1989</td>\n",
       "      <td>Germany</td>\n",
       "      <td>2017</td>\n",
       "      <td>Power</td>\n",
       "      <td>28</td>\n",
       "    </tr>\n",
       "  </tbody>\n",
       "</table>\n",
       "</div>"
      ],
      "text/plain": [
       "              band_name  fans  formed       origin  split  \\\n",
       "2230       Howls Of Ebb    15    2012          USA   2017   \n",
       "1192           ReinXeed    46    2002       Sweden   2017   \n",
       "1688   To Cast A Shadow    26    2005       Norway   2017   \n",
       "4590            Decease     1    2011      Romania   2017   \n",
       "2858  Clandestine Blaze     8    1998      Finland   2017   \n",
       "46             Enslaved  1146    1991       Norway   2017   \n",
       "1108          Akphaezya    52    2002       France   2017   \n",
       "2654         Dee Snider    10    1997          USA   2017   \n",
       "1684             Shakra    26    1997  Switzerland   2017   \n",
       "688          Brainstorm   101    1989      Germany   2017   \n",
       "\n",
       "                               style  band_duration  \n",
       "2230                     Black,Death              5  \n",
       "1192                           Power             15  \n",
       "1688                     Doom,Gothic             12  \n",
       "4590                    Death,Thrash              6  \n",
       "2858                           Black             19  \n",
       "46    Viking black,Progressive black             26  \n",
       "1108                      Avantgarde             15  \n",
       "2654                           Heavy             20  \n",
       "1684                 Hard rock,Heavy             20  \n",
       "688                            Power             28  "
      ]
     },
     "execution_count": 112,
     "metadata": {},
     "output_type": "execute_result"
    }
   ],
   "source": [
    "df_non_split.sample(10)"
   ]
  },
  {
   "cell_type": "markdown",
   "id": "06f38ff3-3351-4f14-8ee4-55a733fe3df8",
   "metadata": {
    "tags": []
   },
   "source": [
    "#### Bandas que terminaram"
   ]
  },
  {
   "cell_type": "code",
   "execution_count": 131,
   "id": "49ec6186-63d5-4d48-a66e-15d54603ddef",
   "metadata": {
    "execution": {
     "iopub.execute_input": "2021-10-13T19:02:08.888647Z",
     "iopub.status.busy": "2021-10-13T19:02:08.887646Z",
     "iopub.status.idle": "2021-10-13T19:02:08.894652Z",
     "shell.execute_reply": "2021-10-13T19:02:08.894652Z",
     "shell.execute_reply.started": "2021-10-13T19:02:08.888647Z"
    },
    "tags": []
   },
   "outputs": [
    {
     "data": {
      "text/plain": [
       "1.088785046728972"
      ]
     },
     "execution_count": 131,
     "metadata": {},
     "output_type": "execute_result"
    }
   ],
   "source": [
    "df_split['band_duration'].mean()"
   ]
  },
  {
   "cell_type": "code",
   "execution_count": 129,
   "id": "a7be30a1-d2c8-4f7d-9f36-bc19234f5da9",
   "metadata": {
    "execution": {
     "iopub.execute_input": "2021-10-13T19:00:40.584646Z",
     "iopub.status.busy": "2021-10-13T19:00:40.584646Z",
     "iopub.status.idle": "2021-10-13T19:00:40.959740Z",
     "shell.execute_reply": "2021-10-13T19:00:40.959740Z",
     "shell.execute_reply.started": "2021-10-13T19:00:40.584646Z"
    },
    "tags": []
   },
   "outputs": [
    {
     "data": {
      "image/png": "[encoded data removed]",
      "text/plain": [
       "<Figure size 432x288 with 4 Axes>"
      ]
     },
     "metadata": {
      "needs_background": "light"
     },
     "output_type": "display_data"
    }
   ],
   "source": [
    "df_split.hist();"
   ]
  },
  {
   "cell_type": "code",
   "execution_count": 121,
   "id": "53fd4ee6-5ae7-469c-9e0e-b0a6f029de52",
   "metadata": {
    "execution": {
     "iopub.execute_input": "2021-10-13T18:58:04.531381Z",
     "iopub.status.busy": "2021-10-13T18:58:04.531381Z",
     "iopub.status.idle": "2021-10-13T18:58:04.688938Z",
     "shell.execute_reply": "2021-10-13T18:58:04.688938Z",
     "shell.execute_reply.started": "2021-10-13T18:58:04.531381Z"
    },
    "tags": []
   },
   "outputs": [
    {
     "data": {
      "image/png": "[encoded data removed]",
      "text/plain": [
       "<Figure size 432x288 with 1 Axes>"
      ]
     },
     "metadata": {
      "needs_background": "light"
     },
     "output_type": "display_data"
    }
   ],
   "source": [
    "sns.histplot(data=df_split, x='band_duration', bins=10);"
   ]
  },
  {
   "cell_type": "code",
   "execution_count": 126,
   "id": "e9f68c4e-c7bd-4b9f-a5c2-4c6c54b8b321",
   "metadata": {
    "execution": {
     "iopub.execute_input": "2021-10-13T18:59:49.085410Z",
     "iopub.status.busy": "2021-10-13T18:59:49.085410Z",
     "iopub.status.idle": "2021-10-13T18:59:49.244788Z",
     "shell.execute_reply": "2021-10-13T18:59:49.244788Z",
     "shell.execute_reply.started": "2021-10-13T18:59:49.085410Z"
    },
    "tags": []
   },
   "outputs": [
    {
     "data": {
      "image/png": "[encoded data removed]",
      "text/plain": [
       "<Figure size 432x288 with 1 Axes>"
      ]
     },
     "metadata": {
      "needs_background": "light"
     },
     "output_type": "display_data"
    }
   ],
   "source": [
    "sns.histplot(data=df_split, x='formed', bins=10);"
   ]
  },
  {
   "cell_type": "code",
   "execution_count": 127,
   "id": "c23ef0a6-8060-4713-b978-14e1575f1240",
   "metadata": {
    "execution": {
     "iopub.execute_input": "2021-10-13T18:59:54.493568Z",
     "iopub.status.busy": "2021-10-13T18:59:54.492568Z",
     "iopub.status.idle": "2021-10-13T18:59:54.646171Z",
     "shell.execute_reply": "2021-10-13T18:59:54.646171Z",
     "shell.execute_reply.started": "2021-10-13T18:59:54.493568Z"
    },
    "tags": []
   },
   "outputs": [
    {
     "data": {
      "image/png": "[encoded data removed]",
      "text/plain": [
       "<Figure size 432x288 with 1 Axes>"
      ]
     },
     "metadata": {
      "needs_background": "light"
     },
     "output_type": "display_data"
    }
   ],
   "source": [
    "sns.histplot(data=df_split, x='fans', bins=10);"
   ]
  },
  {
   "cell_type": "markdown",
   "id": "bd746fb3-75b5-4fd2-bde3-57429a7e28d8",
   "metadata": {
    "tags": []
   },
   "source": [
    "#### Bandas que continuam na ativa"
   ]
  },
  {
   "cell_type": "code",
   "execution_count": 132,
   "id": "8c9080e1-8752-4d7c-92e0-a6cb86716874",
   "metadata": {
    "execution": {
     "iopub.execute_input": "2021-10-13T19:02:25.964056Z",
     "iopub.status.busy": "2021-10-13T19:02:25.964056Z",
     "iopub.status.idle": "2021-10-13T19:02:25.974168Z",
     "shell.execute_reply": "2021-10-13T19:02:25.974168Z",
     "shell.execute_reply.started": "2021-10-13T19:02:25.964056Z"
    },
    "tags": []
   },
   "outputs": [
    {
     "data": {
      "text/plain": [
       "16.26745240253853"
      ]
     },
     "execution_count": 132,
     "metadata": {},
     "output_type": "execute_result"
    }
   ],
   "source": [
    "df_non_split['band_duration'].mean()"
   ]
  },
  {
   "cell_type": "code",
   "execution_count": 128,
   "id": "c82ccf96-b52f-4f13-83e2-2a4db01e317f",
   "metadata": {
    "execution": {
     "iopub.execute_input": "2021-10-13T19:00:34.424726Z",
     "iopub.status.busy": "2021-10-13T19:00:34.424726Z",
     "iopub.status.idle": "2021-10-13T19:00:34.802500Z",
     "shell.execute_reply": "2021-10-13T19:00:34.802500Z",
     "shell.execute_reply.started": "2021-10-13T19:00:34.424726Z"
    },
    "tags": []
   },
   "outputs": [
    {
     "data": {
      "image/png": "[encoded data removed]",
      "text/plain": [
       "<Figure size 432x288 with 4 Axes>"
      ]
     },
     "metadata": {
      "needs_background": "light"
     },
     "output_type": "display_data"
    }
   ],
   "source": [
    "df_non_split.hist();"
   ]
  },
  {
   "cell_type": "code",
   "execution_count": 122,
   "id": "8371a64b-697b-4aff-b6c0-9e6fdf31dcc0",
   "metadata": {
    "execution": {
     "iopub.execute_input": "2021-10-13T18:58:25.477630Z",
     "iopub.status.busy": "2021-10-13T18:58:25.476620Z",
     "iopub.status.idle": "2021-10-13T18:58:25.642594Z",
     "shell.execute_reply": "2021-10-13T18:58:25.642594Z",
     "shell.execute_reply.started": "2021-10-13T18:58:25.476620Z"
    },
    "tags": []
   },
   "outputs": [
    {
     "data": {
      "image/png": "[encoded data removed]",
      "text/plain": [
       "<Figure size 432x288 with 1 Axes>"
      ]
     },
     "metadata": {
      "needs_background": "light"
     },
     "output_type": "display_data"
    }
   ],
   "source": [
    "sns.histplot(data=df_non_split, x='band_duration', bins=10);"
   ]
  },
  {
   "cell_type": "code",
   "execution_count": 123,
   "id": "06010537-402e-422f-86bd-41a0490f66c6",
   "metadata": {
    "execution": {
     "iopub.execute_input": "2021-10-13T18:58:39.373998Z",
     "iopub.status.busy": "2021-10-13T18:58:39.373998Z",
     "iopub.status.idle": "2021-10-13T18:58:39.547254Z",
     "shell.execute_reply": "2021-10-13T18:58:39.546253Z",
     "shell.execute_reply.started": "2021-10-13T18:58:39.373998Z"
    },
    "tags": []
   },
   "outputs": [
    {
     "data": {
      "image/png": "[encoded data removed]",
      "text/plain": [
       "<Figure size 432x288 with 1 Axes>"
      ]
     },
     "metadata": {
      "needs_background": "light"
     },
     "output_type": "display_data"
    }
   ],
   "source": [
    "sns.histplot(data=df_non_split, x='formed', bins=10);"
   ]
  },
  {
   "cell_type": "code",
   "execution_count": 125,
   "id": "195bdcc4-73a1-414a-b626-3740b8ac5e49",
   "metadata": {
    "execution": {
     "iopub.execute_input": "2021-10-13T18:59:00.587680Z",
     "iopub.status.busy": "2021-10-13T18:59:00.587680Z",
     "iopub.status.idle": "2021-10-13T18:59:00.739046Z",
     "shell.execute_reply": "2021-10-13T18:59:00.738045Z",
     "shell.execute_reply.started": "2021-10-13T18:59:00.587680Z"
    },
    "tags": []
   },
   "outputs": [
    {
     "data": {
      "image/png": "[encoded data removed]",
      "text/plain": [
       "<Figure size 432x288 with 1 Axes>"
      ]
     },
     "metadata": {
      "needs_background": "light"
     },
     "output_type": "display_data"
    }
   ],
   "source": [
    "sns.histplot(data=df_non_split, x='fans', bins=5);"
   ]
  },
  {
   "cell_type": "markdown",
   "id": "793bdf67-4434-475f-a288-dfc903180a33",
   "metadata": {
    "tags": []
   },
   "source": [
    "### Número de Fãs"
   ]
  },
  {
   "cell_type": "code",
   "execution_count": 17,
   "id": "d5968c84",
   "metadata": {
    "execution": {
     "iopub.execute_input": "2021-10-13T18:20:23.480152Z",
     "iopub.status.busy": "2021-10-13T18:20:23.480152Z",
     "iopub.status.idle": "2021-10-13T18:20:23.510239Z",
     "shell.execute_reply": "2021-10-13T18:20:23.510239Z",
     "shell.execute_reply.started": "2021-10-13T18:20:23.480152Z"
    },
    "id": "62df40d8-fd45-4944-92d5-159edfa2d32b",
    "outputId": "1920ae79-53f5-432f-b3cf-6a207e88feb2",
    "tags": []
   },
   "outputs": [
    {
     "data": {
      "text/html": [
       "<div>\n",
       "<style scoped>\n",
       "    .dataframe tbody tr th:only-of-type {\n",
       "        vertical-align: middle;\n",
       "    }\n",
       "\n",
       "    .dataframe tbody tr th {\n",
       "        vertical-align: top;\n",
       "    }\n",
       "\n",
       "    .dataframe thead th {\n",
       "        text-align: right;\n",
       "    }\n",
       "</style>\n",
       "<table border=\"1\" class=\"dataframe\">\n",
       "  <thead>\n",
       "    <tr style=\"text-align: right;\">\n",
       "      <th></th>\n",
       "      <th>origin</th>\n",
       "      <th>fans</th>\n",
       "    </tr>\n",
       "  </thead>\n",
       "  <tbody>\n",
       "    <tr>\n",
       "      <th>28</th>\n",
       "      <td>Denmark, USA</td>\n",
       "      <td>583.000000</td>\n",
       "    </tr>\n",
       "    <tr>\n",
       "      <th>111</th>\n",
       "      <td>United Kingdom, USA</td>\n",
       "      <td>561.333333</td>\n",
       "    </tr>\n",
       "    <tr>\n",
       "      <th>54</th>\n",
       "      <td>Israel, The Netherlands</td>\n",
       "      <td>307.000000</td>\n",
       "    </tr>\n",
       "    <tr>\n",
       "      <th>1</th>\n",
       "      <td>Andorra</td>\n",
       "      <td>279.000000</td>\n",
       "    </tr>\n",
       "    <tr>\n",
       "      <th>102</th>\n",
       "      <td>Tunisia, France</td>\n",
       "      <td>275.000000</td>\n",
       "    </tr>\n",
       "    <tr>\n",
       "      <th>...</th>\n",
       "      <td>...</td>\n",
       "      <td>...</td>\n",
       "    </tr>\n",
       "    <tr>\n",
       "      <th>0</th>\n",
       "      <td>Albania</td>\n",
       "      <td>2.000000</td>\n",
       "    </tr>\n",
       "    <tr>\n",
       "      <th>56</th>\n",
       "      <td>Italy, Spain</td>\n",
       "      <td>1.000000</td>\n",
       "    </tr>\n",
       "    <tr>\n",
       "      <th>81</th>\n",
       "      <td>Poland, Sweden</td>\n",
       "      <td>1.000000</td>\n",
       "    </tr>\n",
       "    <tr>\n",
       "      <th>112</th>\n",
       "      <td>Venezuela</td>\n",
       "      <td>1.000000</td>\n",
       "    </tr>\n",
       "    <tr>\n",
       "      <th>41</th>\n",
       "      <td>Greenland</td>\n",
       "      <td>0.000000</td>\n",
       "    </tr>\n",
       "  </tbody>\n",
       "</table>\n",
       "<p>113 rows × 2 columns</p>\n",
       "</div>"
      ],
      "text/plain": [
       "                      origin        fans\n",
       "28              Denmark, USA  583.000000\n",
       "111      United Kingdom, USA  561.333333\n",
       "54   Israel, The Netherlands  307.000000\n",
       "1                    Andorra  279.000000\n",
       "102          Tunisia, France  275.000000\n",
       "..                       ...         ...\n",
       "0                    Albania    2.000000\n",
       "56              Italy, Spain    1.000000\n",
       "81            Poland, Sweden    1.000000\n",
       "112                Venezuela    1.000000\n",
       "41                 Greenland    0.000000\n",
       "\n",
       "[113 rows x 2 columns]"
      ]
     },
     "execution_count": 17,
     "metadata": {},
     "output_type": "execute_result"
    }
   ],
   "source": [
    "df_fans_by_country = df[['origin', 'fans']].groupby('origin').mean().reset_index().sort_values('fans', ascending=False)\r\n",
    "df_fans_by_country"
   ]
  },
  {
   "cell_type": "code",
   "execution_count": 18,
   "id": "40aee31a",
   "metadata": {
    "execution": {
     "iopub.execute_input": "2021-10-13T18:20:23.511240Z",
     "iopub.status.busy": "2021-10-13T18:20:23.511240Z",
     "iopub.status.idle": "2021-10-13T18:20:23.684674Z",
     "shell.execute_reply": "2021-10-13T18:20:23.684674Z",
     "shell.execute_reply.started": "2021-10-13T18:20:23.511240Z"
    }
   },
   "outputs": [
    {
     "data": {
      "text/plain": [
       "array([[<AxesSubplot:title={'center':'fans'}>]], dtype=object)"
      ]
     },
     "execution_count": 18,
     "metadata": {},
     "output_type": "execute_result"
    },
    {
     "data": {
      "image/png": "[encoded data removed]",
      "text/plain": [
       "<Figure size 432x288 with 1 Axes>"
      ]
     },
     "metadata": {
      "needs_background": "light"
     },
     "output_type": "display_data"
    }
   ],
   "source": [
    "df.hist();"
   ]
  },
  {
   "cell_type": "code",
   "execution_count": 19,
   "id": "0c01c195",
   "metadata": {
    "execution": {
     "iopub.execute_input": "2021-10-13T18:20:23.686681Z",
     "iopub.status.busy": "2021-10-13T18:20:23.686681Z",
     "iopub.status.idle": "2021-10-13T18:20:25.480152Z",
     "shell.execute_reply": "2021-10-13T18:20:25.480152Z",
     "shell.execute_reply.started": "2021-10-13T18:20:23.686681Z"
    }
   },
   "outputs": [
    {
     "data": {
      "image/png": "[encoded data removed]",
      "text/plain": [
       "<Figure size 432x288 with 1 Axes>"
      ]
     },
     "metadata": {
      "needs_background": "light"
     },
     "output_type": "display_data"
    },
    {
     "data": {
      "image/png": "[encoded data removed]",
      "text/plain": [
       "<Figure size 432x288 with 1 Axes>"
      ]
     },
     "metadata": {
      "needs_background": "light"
     },
     "output_type": "display_data"
    }
   ],
   "source": [
    "for column in df.select_dtypes(include='object'):\r\n",
    "    if df[column].nunique() < 100:\r\n",
    "        sns.countplot(x=column, data=df)\r\n",
    "        plt.show()"
   ]
  },
  {
   "cell_type": "code",
   "execution_count": 20,
   "id": "a35663cc",
   "metadata": {
    "execution": {
     "iopub.execute_input": "2021-10-13T18:20:25.482154Z",
     "iopub.status.busy": "2021-10-13T18:20:25.481153Z",
     "iopub.status.idle": "2021-10-13T18:20:25.624330Z",
     "shell.execute_reply": "2021-10-13T18:20:25.624330Z",
     "shell.execute_reply.started": "2021-10-13T18:20:25.482154Z"
    }
   },
   "outputs": [
    {
     "data": {
      "text/html": [
       "<div>\n",
       "<style scoped>\n",
       "    .dataframe tbody tr th:only-of-type {\n",
       "        vertical-align: middle;\n",
       "    }\n",
       "\n",
       "    .dataframe tbody tr th {\n",
       "        vertical-align: top;\n",
       "    }\n",
       "\n",
       "    .dataframe thead th {\n",
       "        text-align: right;\n",
       "    }\n",
       "</style>\n",
       "<table border=\"1\" class=\"dataframe\">\n",
       "  <thead>\n",
       "    <tr style=\"text-align: right;\">\n",
       "      <th>formed</th>\n",
       "      <th>-</th>\n",
       "      <th>1964</th>\n",
       "      <th>1965</th>\n",
       "      <th>1967</th>\n",
       "      <th>1968</th>\n",
       "      <th>1969</th>\n",
       "      <th>1970</th>\n",
       "      <th>1971</th>\n",
       "      <th>1972</th>\n",
       "      <th>1973</th>\n",
       "      <th>...</th>\n",
       "      <th>2007</th>\n",
       "      <th>2008</th>\n",
       "      <th>2009</th>\n",
       "      <th>2010</th>\n",
       "      <th>2011</th>\n",
       "      <th>2012</th>\n",
       "      <th>2013</th>\n",
       "      <th>2014</th>\n",
       "      <th>2015</th>\n",
       "      <th>2016</th>\n",
       "    </tr>\n",
       "    <tr>\n",
       "      <th>origin</th>\n",
       "      <th></th>\n",
       "      <th></th>\n",
       "      <th></th>\n",
       "      <th></th>\n",
       "      <th></th>\n",
       "      <th></th>\n",
       "      <th></th>\n",
       "      <th></th>\n",
       "      <th></th>\n",
       "      <th></th>\n",
       "      <th></th>\n",
       "      <th></th>\n",
       "      <th></th>\n",
       "      <th></th>\n",
       "      <th></th>\n",
       "      <th></th>\n",
       "      <th></th>\n",
       "      <th></th>\n",
       "      <th></th>\n",
       "      <th></th>\n",
       "      <th></th>\n",
       "    </tr>\n",
       "  </thead>\n",
       "  <tbody>\n",
       "    <tr>\n",
       "      <th>Albania</th>\n",
       "      <td>0.000000</td>\n",
       "      <td>0.0</td>\n",
       "      <td>0.0</td>\n",
       "      <td>0.000000</td>\n",
       "      <td>0.000000</td>\n",
       "      <td>0.000000</td>\n",
       "      <td>0.0</td>\n",
       "      <td>0.0</td>\n",
       "      <td>0.0</td>\n",
       "      <td>0.000000</td>\n",
       "      <td>...</td>\n",
       "      <td>1.000000</td>\n",
       "      <td>0.000000</td>\n",
       "      <td>0.000000</td>\n",
       "      <td>0.000000</td>\n",
       "      <td>0.000000</td>\n",
       "      <td>0.000000</td>\n",
       "      <td>0.000000</td>\n",
       "      <td>0.000000</td>\n",
       "      <td>0.000000</td>\n",
       "      <td>0.0</td>\n",
       "    </tr>\n",
       "    <tr>\n",
       "      <th>Andorra</th>\n",
       "      <td>0.000000</td>\n",
       "      <td>0.0</td>\n",
       "      <td>0.0</td>\n",
       "      <td>0.000000</td>\n",
       "      <td>0.000000</td>\n",
       "      <td>0.000000</td>\n",
       "      <td>0.0</td>\n",
       "      <td>0.0</td>\n",
       "      <td>0.0</td>\n",
       "      <td>0.000000</td>\n",
       "      <td>...</td>\n",
       "      <td>0.000000</td>\n",
       "      <td>0.000000</td>\n",
       "      <td>0.000000</td>\n",
       "      <td>0.000000</td>\n",
       "      <td>0.000000</td>\n",
       "      <td>0.000000</td>\n",
       "      <td>0.000000</td>\n",
       "      <td>0.000000</td>\n",
       "      <td>0.000000</td>\n",
       "      <td>0.0</td>\n",
       "    </tr>\n",
       "    <tr>\n",
       "      <th>Argentina</th>\n",
       "      <td>0.000000</td>\n",
       "      <td>0.0</td>\n",
       "      <td>0.0</td>\n",
       "      <td>0.000000</td>\n",
       "      <td>0.000000</td>\n",
       "      <td>0.000000</td>\n",
       "      <td>0.0</td>\n",
       "      <td>0.0</td>\n",
       "      <td>0.0</td>\n",
       "      <td>0.000000</td>\n",
       "      <td>...</td>\n",
       "      <td>0.000000</td>\n",
       "      <td>0.000000</td>\n",
       "      <td>0.055556</td>\n",
       "      <td>0.000000</td>\n",
       "      <td>0.000000</td>\n",
       "      <td>0.111111</td>\n",
       "      <td>0.055556</td>\n",
       "      <td>0.000000</td>\n",
       "      <td>0.000000</td>\n",
       "      <td>0.0</td>\n",
       "    </tr>\n",
       "    <tr>\n",
       "      <th>Armenia</th>\n",
       "      <td>0.000000</td>\n",
       "      <td>0.0</td>\n",
       "      <td>0.0</td>\n",
       "      <td>0.000000</td>\n",
       "      <td>0.000000</td>\n",
       "      <td>0.000000</td>\n",
       "      <td>0.0</td>\n",
       "      <td>0.0</td>\n",
       "      <td>0.0</td>\n",
       "      <td>0.000000</td>\n",
       "      <td>...</td>\n",
       "      <td>0.000000</td>\n",
       "      <td>0.000000</td>\n",
       "      <td>0.000000</td>\n",
       "      <td>0.000000</td>\n",
       "      <td>0.000000</td>\n",
       "      <td>0.000000</td>\n",
       "      <td>0.000000</td>\n",
       "      <td>0.000000</td>\n",
       "      <td>0.000000</td>\n",
       "      <td>0.0</td>\n",
       "    </tr>\n",
       "    <tr>\n",
       "      <th>Australia</th>\n",
       "      <td>0.000000</td>\n",
       "      <td>0.0</td>\n",
       "      <td>0.0</td>\n",
       "      <td>0.000000</td>\n",
       "      <td>0.000000</td>\n",
       "      <td>0.000000</td>\n",
       "      <td>0.0</td>\n",
       "      <td>0.0</td>\n",
       "      <td>0.0</td>\n",
       "      <td>0.007634</td>\n",
       "      <td>...</td>\n",
       "      <td>0.038168</td>\n",
       "      <td>0.045802</td>\n",
       "      <td>0.038168</td>\n",
       "      <td>0.106870</td>\n",
       "      <td>0.061069</td>\n",
       "      <td>0.007634</td>\n",
       "      <td>0.007634</td>\n",
       "      <td>0.022901</td>\n",
       "      <td>0.007634</td>\n",
       "      <td>0.0</td>\n",
       "    </tr>\n",
       "    <tr>\n",
       "      <th>...</th>\n",
       "      <td>...</td>\n",
       "      <td>...</td>\n",
       "      <td>...</td>\n",
       "      <td>...</td>\n",
       "      <td>...</td>\n",
       "      <td>...</td>\n",
       "      <td>...</td>\n",
       "      <td>...</td>\n",
       "      <td>...</td>\n",
       "      <td>...</td>\n",
       "      <td>...</td>\n",
       "      <td>...</td>\n",
       "      <td>...</td>\n",
       "      <td>...</td>\n",
       "      <td>...</td>\n",
       "      <td>...</td>\n",
       "      <td>...</td>\n",
       "      <td>...</td>\n",
       "      <td>...</td>\n",
       "      <td>...</td>\n",
       "      <td>...</td>\n",
       "    </tr>\n",
       "    <tr>\n",
       "      <th>Ukraine, Canada</th>\n",
       "      <td>0.000000</td>\n",
       "      <td>0.0</td>\n",
       "      <td>0.0</td>\n",
       "      <td>0.000000</td>\n",
       "      <td>0.000000</td>\n",
       "      <td>0.000000</td>\n",
       "      <td>0.0</td>\n",
       "      <td>0.0</td>\n",
       "      <td>0.0</td>\n",
       "      <td>0.000000</td>\n",
       "      <td>...</td>\n",
       "      <td>1.000000</td>\n",
       "      <td>0.000000</td>\n",
       "      <td>0.000000</td>\n",
       "      <td>0.000000</td>\n",
       "      <td>0.000000</td>\n",
       "      <td>0.000000</td>\n",
       "      <td>0.000000</td>\n",
       "      <td>0.000000</td>\n",
       "      <td>0.000000</td>\n",
       "      <td>0.0</td>\n",
       "    </tr>\n",
       "    <tr>\n",
       "      <th>United Kingdom</th>\n",
       "      <td>0.002899</td>\n",
       "      <td>0.0</td>\n",
       "      <td>0.0</td>\n",
       "      <td>0.002899</td>\n",
       "      <td>0.011594</td>\n",
       "      <td>0.014493</td>\n",
       "      <td>0.0</td>\n",
       "      <td>0.0</td>\n",
       "      <td>0.0</td>\n",
       "      <td>0.002899</td>\n",
       "      <td>...</td>\n",
       "      <td>0.055072</td>\n",
       "      <td>0.075362</td>\n",
       "      <td>0.034783</td>\n",
       "      <td>0.049275</td>\n",
       "      <td>0.043478</td>\n",
       "      <td>0.037681</td>\n",
       "      <td>0.031884</td>\n",
       "      <td>0.008696</td>\n",
       "      <td>0.002899</td>\n",
       "      <td>0.0</td>\n",
       "    </tr>\n",
       "    <tr>\n",
       "      <th>United Kingdom, Greece</th>\n",
       "      <td>0.000000</td>\n",
       "      <td>0.0</td>\n",
       "      <td>0.0</td>\n",
       "      <td>0.000000</td>\n",
       "      <td>0.000000</td>\n",
       "      <td>0.000000</td>\n",
       "      <td>0.0</td>\n",
       "      <td>0.0</td>\n",
       "      <td>0.0</td>\n",
       "      <td>0.000000</td>\n",
       "      <td>...</td>\n",
       "      <td>0.000000</td>\n",
       "      <td>0.000000</td>\n",
       "      <td>0.000000</td>\n",
       "      <td>0.000000</td>\n",
       "      <td>0.000000</td>\n",
       "      <td>0.000000</td>\n",
       "      <td>0.000000</td>\n",
       "      <td>0.000000</td>\n",
       "      <td>0.000000</td>\n",
       "      <td>0.0</td>\n",
       "    </tr>\n",
       "    <tr>\n",
       "      <th>United Kingdom, USA</th>\n",
       "      <td>0.000000</td>\n",
       "      <td>0.0</td>\n",
       "      <td>0.0</td>\n",
       "      <td>0.000000</td>\n",
       "      <td>0.000000</td>\n",
       "      <td>0.000000</td>\n",
       "      <td>0.0</td>\n",
       "      <td>0.0</td>\n",
       "      <td>0.0</td>\n",
       "      <td>0.000000</td>\n",
       "      <td>...</td>\n",
       "      <td>0.000000</td>\n",
       "      <td>0.000000</td>\n",
       "      <td>0.000000</td>\n",
       "      <td>0.000000</td>\n",
       "      <td>0.000000</td>\n",
       "      <td>0.000000</td>\n",
       "      <td>0.000000</td>\n",
       "      <td>0.000000</td>\n",
       "      <td>0.000000</td>\n",
       "      <td>0.0</td>\n",
       "    </tr>\n",
       "    <tr>\n",
       "      <th>Venezuela</th>\n",
       "      <td>0.000000</td>\n",
       "      <td>0.0</td>\n",
       "      <td>0.0</td>\n",
       "      <td>0.000000</td>\n",
       "      <td>0.000000</td>\n",
       "      <td>0.000000</td>\n",
       "      <td>0.0</td>\n",
       "      <td>0.0</td>\n",
       "      <td>0.0</td>\n",
       "      <td>0.000000</td>\n",
       "      <td>...</td>\n",
       "      <td>0.000000</td>\n",
       "      <td>0.000000</td>\n",
       "      <td>0.000000</td>\n",
       "      <td>0.000000</td>\n",
       "      <td>1.000000</td>\n",
       "      <td>0.000000</td>\n",
       "      <td>0.000000</td>\n",
       "      <td>0.000000</td>\n",
       "      <td>0.000000</td>\n",
       "      <td>0.0</td>\n",
       "    </tr>\n",
       "  </tbody>\n",
       "</table>\n",
       "<p>113 rows × 53 columns</p>\n",
       "</div>"
      ],
      "text/plain": [
       "formed                         -  1964  1965      1967      1968      1969  \\\n",
       "origin                                                                       \n",
       "Albania                 0.000000   0.0   0.0  0.000000  0.000000  0.000000   \n",
       "Andorra                 0.000000   0.0   0.0  0.000000  0.000000  0.000000   \n",
       "Argentina               0.000000   0.0   0.0  0.000000  0.000000  0.000000   \n",
       "Armenia                 0.000000   0.0   0.0  0.000000  0.000000  0.000000   \n",
       "Australia               0.000000   0.0   0.0  0.000000  0.000000  0.000000   \n",
       "...                          ...   ...   ...       ...       ...       ...   \n",
       "Ukraine, Canada         0.000000   0.0   0.0  0.000000  0.000000  0.000000   \n",
       "United Kingdom          0.002899   0.0   0.0  0.002899  0.011594  0.014493   \n",
       "United Kingdom, Greece  0.000000   0.0   0.0  0.000000  0.000000  0.000000   \n",
       "United Kingdom, USA     0.000000   0.0   0.0  0.000000  0.000000  0.000000   \n",
       "Venezuela               0.000000   0.0   0.0  0.000000  0.000000  0.000000   \n",
       "\n",
       "formed                  1970  1971  1972      1973  ...      2007      2008  \\\n",
       "origin                                              ...                       \n",
       "Albania                  0.0   0.0   0.0  0.000000  ...  1.000000  0.000000   \n",
       "Andorra                  0.0   0.0   0.0  0.000000  ...  0.000000  0.000000   \n",
       "Argentina                0.0   0.0   0.0  0.000000  ...  0.000000  0.000000   \n",
       "Armenia                  0.0   0.0   0.0  0.000000  ...  0.000000  0.000000   \n",
       "Australia                0.0   0.0   0.0  0.007634  ...  0.038168  0.045802   \n",
       "...                      ...   ...   ...       ...  ...       ...       ...   \n",
       "Ukraine, Canada          0.0   0.0   0.0  0.000000  ...  1.000000  0.000000   \n",
       "United Kingdom           0.0   0.0   0.0  0.002899  ...  0.055072  0.075362   \n",
       "United Kingdom, Greece   0.0   0.0   0.0  0.000000  ...  0.000000  0.000000   \n",
       "United Kingdom, USA      0.0   0.0   0.0  0.000000  ...  0.000000  0.000000   \n",
       "Venezuela                0.0   0.0   0.0  0.000000  ...  0.000000  0.000000   \n",
       "\n",
       "formed                      2009      2010      2011      2012      2013  \\\n",
       "origin                                                                     \n",
       "Albania                 0.000000  0.000000  0.000000  0.000000  0.000000   \n",
       "Andorra                 0.000000  0.000000  0.000000  0.000000  0.000000   \n",
       "Argentina               0.055556  0.000000  0.000000  0.111111  0.055556   \n",
       "Armenia                 0.000000  0.000000  0.000000  0.000000  0.000000   \n",
       "Australia               0.038168  0.106870  0.061069  0.007634  0.007634   \n",
       "...                          ...       ...       ...       ...       ...   \n",
       "Ukraine, Canada         0.000000  0.000000  0.000000  0.000000  0.000000   \n",
       "United Kingdom          0.034783  0.049275  0.043478  0.037681  0.031884   \n",
       "United Kingdom, Greece  0.000000  0.000000  0.000000  0.000000  0.000000   \n",
       "United Kingdom, USA     0.000000  0.000000  0.000000  0.000000  0.000000   \n",
       "Venezuela               0.000000  0.000000  1.000000  0.000000  0.000000   \n",
       "\n",
       "formed                      2014      2015  2016  \n",
       "origin                                            \n",
       "Albania                 0.000000  0.000000   0.0  \n",
       "Andorra                 0.000000  0.000000   0.0  \n",
       "Argentina               0.000000  0.000000   0.0  \n",
       "Armenia                 0.000000  0.000000   0.0  \n",
       "Australia               0.022901  0.007634   0.0  \n",
       "...                          ...       ...   ...  \n",
       "Ukraine, Canada         0.000000  0.000000   0.0  \n",
       "United Kingdom          0.008696  0.002899   0.0  \n",
       "United Kingdom, Greece  0.000000  0.000000   0.0  \n",
       "United Kingdom, USA     0.000000  0.000000   0.0  \n",
       "Venezuela               0.000000  0.000000   0.0  \n",
       "\n",
       "[113 rows x 53 columns]"
      ]
     },
     "metadata": {},
     "output_type": "display_data"
    },
    {
     "data": {
      "text/html": [
       "<div>\n",
       "<style scoped>\n",
       "    .dataframe tbody tr th:only-of-type {\n",
       "        vertical-align: middle;\n",
       "    }\n",
       "\n",
       "    .dataframe tbody tr th {\n",
       "        vertical-align: top;\n",
       "    }\n",
       "\n",
       "    .dataframe thead th {\n",
       "        text-align: right;\n",
       "    }\n",
       "</style>\n",
       "<table border=\"1\" class=\"dataframe\">\n",
       "  <thead>\n",
       "    <tr style=\"text-align: right;\">\n",
       "      <th>split</th>\n",
       "      <th>-</th>\n",
       "      <th>1965</th>\n",
       "      <th>1967</th>\n",
       "      <th>1968</th>\n",
       "      <th>1969</th>\n",
       "      <th>1972</th>\n",
       "      <th>1973</th>\n",
       "      <th>1974</th>\n",
       "      <th>1975</th>\n",
       "      <th>1976</th>\n",
       "      <th>...</th>\n",
       "      <th>2007</th>\n",
       "      <th>2008</th>\n",
       "      <th>2009</th>\n",
       "      <th>2010</th>\n",
       "      <th>2011</th>\n",
       "      <th>2012</th>\n",
       "      <th>2013</th>\n",
       "      <th>2014</th>\n",
       "      <th>2015</th>\n",
       "      <th>2016</th>\n",
       "    </tr>\n",
       "    <tr>\n",
       "      <th>origin</th>\n",
       "      <th></th>\n",
       "      <th></th>\n",
       "      <th></th>\n",
       "      <th></th>\n",
       "      <th></th>\n",
       "      <th></th>\n",
       "      <th></th>\n",
       "      <th></th>\n",
       "      <th></th>\n",
       "      <th></th>\n",
       "      <th></th>\n",
       "      <th></th>\n",
       "      <th></th>\n",
       "      <th></th>\n",
       "      <th></th>\n",
       "      <th></th>\n",
       "      <th></th>\n",
       "      <th></th>\n",
       "      <th></th>\n",
       "      <th></th>\n",
       "      <th></th>\n",
       "    </tr>\n",
       "  </thead>\n",
       "  <tbody>\n",
       "    <tr>\n",
       "      <th>Albania</th>\n",
       "      <td>0.000000</td>\n",
       "      <td>0.0</td>\n",
       "      <td>0.0</td>\n",
       "      <td>0.000000</td>\n",
       "      <td>0.000000</td>\n",
       "      <td>0.0</td>\n",
       "      <td>0.000000</td>\n",
       "      <td>0.0</td>\n",
       "      <td>0.000000</td>\n",
       "      <td>0.000000</td>\n",
       "      <td>...</td>\n",
       "      <td>1.000000</td>\n",
       "      <td>0.000000</td>\n",
       "      <td>0.000000</td>\n",
       "      <td>0.000000</td>\n",
       "      <td>0.000000</td>\n",
       "      <td>0.000000</td>\n",
       "      <td>0.000000</td>\n",
       "      <td>0.000000</td>\n",
       "      <td>0.000000</td>\n",
       "      <td>0.000000</td>\n",
       "    </tr>\n",
       "    <tr>\n",
       "      <th>Andorra</th>\n",
       "      <td>0.000000</td>\n",
       "      <td>0.0</td>\n",
       "      <td>0.0</td>\n",
       "      <td>0.000000</td>\n",
       "      <td>0.000000</td>\n",
       "      <td>0.0</td>\n",
       "      <td>0.000000</td>\n",
       "      <td>0.0</td>\n",
       "      <td>0.000000</td>\n",
       "      <td>0.000000</td>\n",
       "      <td>...</td>\n",
       "      <td>0.000000</td>\n",
       "      <td>0.000000</td>\n",
       "      <td>0.000000</td>\n",
       "      <td>0.000000</td>\n",
       "      <td>0.000000</td>\n",
       "      <td>0.000000</td>\n",
       "      <td>0.000000</td>\n",
       "      <td>0.000000</td>\n",
       "      <td>0.000000</td>\n",
       "      <td>0.000000</td>\n",
       "    </tr>\n",
       "    <tr>\n",
       "      <th>Argentina</th>\n",
       "      <td>0.555556</td>\n",
       "      <td>0.0</td>\n",
       "      <td>0.0</td>\n",
       "      <td>0.000000</td>\n",
       "      <td>0.000000</td>\n",
       "      <td>0.0</td>\n",
       "      <td>0.000000</td>\n",
       "      <td>0.0</td>\n",
       "      <td>0.000000</td>\n",
       "      <td>0.000000</td>\n",
       "      <td>...</td>\n",
       "      <td>0.000000</td>\n",
       "      <td>0.000000</td>\n",
       "      <td>0.000000</td>\n",
       "      <td>0.000000</td>\n",
       "      <td>0.000000</td>\n",
       "      <td>0.055556</td>\n",
       "      <td>0.000000</td>\n",
       "      <td>0.000000</td>\n",
       "      <td>0.000000</td>\n",
       "      <td>0.000000</td>\n",
       "    </tr>\n",
       "    <tr>\n",
       "      <th>Armenia</th>\n",
       "      <td>0.000000</td>\n",
       "      <td>0.0</td>\n",
       "      <td>0.0</td>\n",
       "      <td>0.000000</td>\n",
       "      <td>0.000000</td>\n",
       "      <td>0.0</td>\n",
       "      <td>0.000000</td>\n",
       "      <td>0.0</td>\n",
       "      <td>0.000000</td>\n",
       "      <td>0.000000</td>\n",
       "      <td>...</td>\n",
       "      <td>0.000000</td>\n",
       "      <td>0.000000</td>\n",
       "      <td>0.000000</td>\n",
       "      <td>0.000000</td>\n",
       "      <td>0.000000</td>\n",
       "      <td>0.000000</td>\n",
       "      <td>0.000000</td>\n",
       "      <td>0.000000</td>\n",
       "      <td>0.000000</td>\n",
       "      <td>0.000000</td>\n",
       "    </tr>\n",
       "    <tr>\n",
       "      <th>Australia</th>\n",
       "      <td>0.458015</td>\n",
       "      <td>0.0</td>\n",
       "      <td>0.0</td>\n",
       "      <td>0.000000</td>\n",
       "      <td>0.000000</td>\n",
       "      <td>0.0</td>\n",
       "      <td>0.007634</td>\n",
       "      <td>0.0</td>\n",
       "      <td>0.000000</td>\n",
       "      <td>0.000000</td>\n",
       "      <td>...</td>\n",
       "      <td>0.015267</td>\n",
       "      <td>0.015267</td>\n",
       "      <td>0.015267</td>\n",
       "      <td>0.083969</td>\n",
       "      <td>0.022901</td>\n",
       "      <td>0.000000</td>\n",
       "      <td>0.015267</td>\n",
       "      <td>0.015267</td>\n",
       "      <td>0.015267</td>\n",
       "      <td>0.000000</td>\n",
       "    </tr>\n",
       "    <tr>\n",
       "      <th>...</th>\n",
       "      <td>...</td>\n",
       "      <td>...</td>\n",
       "      <td>...</td>\n",
       "      <td>...</td>\n",
       "      <td>...</td>\n",
       "      <td>...</td>\n",
       "      <td>...</td>\n",
       "      <td>...</td>\n",
       "      <td>...</td>\n",
       "      <td>...</td>\n",
       "      <td>...</td>\n",
       "      <td>...</td>\n",
       "      <td>...</td>\n",
       "      <td>...</td>\n",
       "      <td>...</td>\n",
       "      <td>...</td>\n",
       "      <td>...</td>\n",
       "      <td>...</td>\n",
       "      <td>...</td>\n",
       "      <td>...</td>\n",
       "      <td>...</td>\n",
       "    </tr>\n",
       "    <tr>\n",
       "      <th>Ukraine, Canada</th>\n",
       "      <td>1.000000</td>\n",
       "      <td>0.0</td>\n",
       "      <td>0.0</td>\n",
       "      <td>0.000000</td>\n",
       "      <td>0.000000</td>\n",
       "      <td>0.0</td>\n",
       "      <td>0.000000</td>\n",
       "      <td>0.0</td>\n",
       "      <td>0.000000</td>\n",
       "      <td>0.000000</td>\n",
       "      <td>...</td>\n",
       "      <td>0.000000</td>\n",
       "      <td>0.000000</td>\n",
       "      <td>0.000000</td>\n",
       "      <td>0.000000</td>\n",
       "      <td>0.000000</td>\n",
       "      <td>0.000000</td>\n",
       "      <td>0.000000</td>\n",
       "      <td>0.000000</td>\n",
       "      <td>0.000000</td>\n",
       "      <td>0.000000</td>\n",
       "    </tr>\n",
       "    <tr>\n",
       "      <th>United Kingdom</th>\n",
       "      <td>0.423188</td>\n",
       "      <td>0.0</td>\n",
       "      <td>0.0</td>\n",
       "      <td>0.002899</td>\n",
       "      <td>0.014493</td>\n",
       "      <td>0.0</td>\n",
       "      <td>0.000000</td>\n",
       "      <td>0.0</td>\n",
       "      <td>0.002899</td>\n",
       "      <td>0.005797</td>\n",
       "      <td>...</td>\n",
       "      <td>0.046377</td>\n",
       "      <td>0.055072</td>\n",
       "      <td>0.023188</td>\n",
       "      <td>0.023188</td>\n",
       "      <td>0.026087</td>\n",
       "      <td>0.026087</td>\n",
       "      <td>0.020290</td>\n",
       "      <td>0.008696</td>\n",
       "      <td>0.002899</td>\n",
       "      <td>0.008696</td>\n",
       "    </tr>\n",
       "    <tr>\n",
       "      <th>United Kingdom, Greece</th>\n",
       "      <td>1.000000</td>\n",
       "      <td>0.0</td>\n",
       "      <td>0.0</td>\n",
       "      <td>0.000000</td>\n",
       "      <td>0.000000</td>\n",
       "      <td>0.0</td>\n",
       "      <td>0.000000</td>\n",
       "      <td>0.0</td>\n",
       "      <td>0.000000</td>\n",
       "      <td>0.000000</td>\n",
       "      <td>...</td>\n",
       "      <td>0.000000</td>\n",
       "      <td>0.000000</td>\n",
       "      <td>0.000000</td>\n",
       "      <td>0.000000</td>\n",
       "      <td>0.000000</td>\n",
       "      <td>0.000000</td>\n",
       "      <td>0.000000</td>\n",
       "      <td>0.000000</td>\n",
       "      <td>0.000000</td>\n",
       "      <td>0.000000</td>\n",
       "    </tr>\n",
       "    <tr>\n",
       "      <th>United Kingdom, USA</th>\n",
       "      <td>0.333333</td>\n",
       "      <td>0.0</td>\n",
       "      <td>0.0</td>\n",
       "      <td>0.000000</td>\n",
       "      <td>0.000000</td>\n",
       "      <td>0.0</td>\n",
       "      <td>0.000000</td>\n",
       "      <td>0.0</td>\n",
       "      <td>0.333333</td>\n",
       "      <td>0.000000</td>\n",
       "      <td>...</td>\n",
       "      <td>0.000000</td>\n",
       "      <td>0.000000</td>\n",
       "      <td>0.000000</td>\n",
       "      <td>0.000000</td>\n",
       "      <td>0.000000</td>\n",
       "      <td>0.000000</td>\n",
       "      <td>0.000000</td>\n",
       "      <td>0.000000</td>\n",
       "      <td>0.000000</td>\n",
       "      <td>0.000000</td>\n",
       "    </tr>\n",
       "    <tr>\n",
       "      <th>Venezuela</th>\n",
       "      <td>1.000000</td>\n",
       "      <td>0.0</td>\n",
       "      <td>0.0</td>\n",
       "      <td>0.000000</td>\n",
       "      <td>0.000000</td>\n",
       "      <td>0.0</td>\n",
       "      <td>0.000000</td>\n",
       "      <td>0.0</td>\n",
       "      <td>0.000000</td>\n",
       "      <td>0.000000</td>\n",
       "      <td>...</td>\n",
       "      <td>0.000000</td>\n",
       "      <td>0.000000</td>\n",
       "      <td>0.000000</td>\n",
       "      <td>0.000000</td>\n",
       "      <td>0.000000</td>\n",
       "      <td>0.000000</td>\n",
       "      <td>0.000000</td>\n",
       "      <td>0.000000</td>\n",
       "      <td>0.000000</td>\n",
       "      <td>0.000000</td>\n",
       "    </tr>\n",
       "  </tbody>\n",
       "</table>\n",
       "<p>113 rows × 50 columns</p>\n",
       "</div>"
      ],
      "text/plain": [
       "split                          -  1965  1967      1968      1969  1972  \\\n",
       "origin                                                                   \n",
       "Albania                 0.000000   0.0   0.0  0.000000  0.000000   0.0   \n",
       "Andorra                 0.000000   0.0   0.0  0.000000  0.000000   0.0   \n",
       "Argentina               0.555556   0.0   0.0  0.000000  0.000000   0.0   \n",
       "Armenia                 0.000000   0.0   0.0  0.000000  0.000000   0.0   \n",
       "Australia               0.458015   0.0   0.0  0.000000  0.000000   0.0   \n",
       "...                          ...   ...   ...       ...       ...   ...   \n",
       "Ukraine, Canada         1.000000   0.0   0.0  0.000000  0.000000   0.0   \n",
       "United Kingdom          0.423188   0.0   0.0  0.002899  0.014493   0.0   \n",
       "United Kingdom, Greece  1.000000   0.0   0.0  0.000000  0.000000   0.0   \n",
       "United Kingdom, USA     0.333333   0.0   0.0  0.000000  0.000000   0.0   \n",
       "Venezuela               1.000000   0.0   0.0  0.000000  0.000000   0.0   \n",
       "\n",
       "split                       1973  1974      1975      1976  ...      2007  \\\n",
       "origin                                                      ...             \n",
       "Albania                 0.000000   0.0  0.000000  0.000000  ...  1.000000   \n",
       "Andorra                 0.000000   0.0  0.000000  0.000000  ...  0.000000   \n",
       "Argentina               0.000000   0.0  0.000000  0.000000  ...  0.000000   \n",
       "Armenia                 0.000000   0.0  0.000000  0.000000  ...  0.000000   \n",
       "Australia               0.007634   0.0  0.000000  0.000000  ...  0.015267   \n",
       "...                          ...   ...       ...       ...  ...       ...   \n",
       "Ukraine, Canada         0.000000   0.0  0.000000  0.000000  ...  0.000000   \n",
       "United Kingdom          0.000000   0.0  0.002899  0.005797  ...  0.046377   \n",
       "United Kingdom, Greece  0.000000   0.0  0.000000  0.000000  ...  0.000000   \n",
       "United Kingdom, USA     0.000000   0.0  0.333333  0.000000  ...  0.000000   \n",
       "Venezuela               0.000000   0.0  0.000000  0.000000  ...  0.000000   \n",
       "\n",
       "split                       2008      2009      2010      2011      2012  \\\n",
       "origin                                                                     \n",
       "Albania                 0.000000  0.000000  0.000000  0.000000  0.000000   \n",
       "Andorra                 0.000000  0.000000  0.000000  0.000000  0.000000   \n",
       "Argentina               0.000000  0.000000  0.000000  0.000000  0.055556   \n",
       "Armenia                 0.000000  0.000000  0.000000  0.000000  0.000000   \n",
       "Australia               0.015267  0.015267  0.083969  0.022901  0.000000   \n",
       "...                          ...       ...       ...       ...       ...   \n",
       "Ukraine, Canada         0.000000  0.000000  0.000000  0.000000  0.000000   \n",
       "United Kingdom          0.055072  0.023188  0.023188  0.026087  0.026087   \n",
       "United Kingdom, Greece  0.000000  0.000000  0.000000  0.000000  0.000000   \n",
       "United Kingdom, USA     0.000000  0.000000  0.000000  0.000000  0.000000   \n",
       "Venezuela               0.000000  0.000000  0.000000  0.000000  0.000000   \n",
       "\n",
       "split                       2013      2014      2015      2016  \n",
       "origin                                                          \n",
       "Albania                 0.000000  0.000000  0.000000  0.000000  \n",
       "Andorra                 0.000000  0.000000  0.000000  0.000000  \n",
       "Argentina               0.000000  0.000000  0.000000  0.000000  \n",
       "Armenia                 0.000000  0.000000  0.000000  0.000000  \n",
       "Australia               0.015267  0.015267  0.015267  0.000000  \n",
       "...                          ...       ...       ...       ...  \n",
       "Ukraine, Canada         0.000000  0.000000  0.000000  0.000000  \n",
       "United Kingdom          0.020290  0.008696  0.002899  0.008696  \n",
       "United Kingdom, Greece  0.000000  0.000000  0.000000  0.000000  \n",
       "United Kingdom, USA     0.000000  0.000000  0.000000  0.000000  \n",
       "Venezuela               0.000000  0.000000  0.000000  0.000000  \n",
       "\n",
       "[113 rows x 50 columns]"
      ]
     },
     "metadata": {},
     "output_type": "display_data"
    }
   ],
   "source": [
    "# Verificando frequência relativa entre atributos categóricos com menos de 5 valores distintos\r\n",
    "for col in df.drop('origin', axis=1).select_dtypes(include='object'):\r\n",
    "    if df[col].nunique() <=100:\r\n",
    "        display(pd.crosstab(df['origin'], df[col], normalize='index'))"
   ]
  },
  {
   "cell_type": "code",
   "execution_count": 21,
   "id": "18823d3c",
   "metadata": {
    "execution": {
     "iopub.execute_input": "2021-10-13T18:20:25.626331Z",
     "iopub.status.busy": "2021-10-13T18:20:25.625331Z",
     "iopub.status.idle": "2021-10-13T18:20:25.641345Z",
     "shell.execute_reply": "2021-10-13T18:20:25.640344Z",
     "shell.execute_reply.started": "2021-10-13T18:20:25.626331Z"
    }
   },
   "outputs": [],
   "source": [
    "df.dropna(inplace=True)"
   ]
  },
  {
   "cell_type": "code",
   "execution_count": 22,
   "id": "42874bb9",
   "metadata": {
    "execution": {
     "iopub.execute_input": "2021-10-13T18:20:25.644348Z",
     "iopub.status.busy": "2021-10-13T18:20:25.644348Z",
     "iopub.status.idle": "2021-10-13T18:20:25.656709Z",
     "shell.execute_reply": "2021-10-13T18:20:25.656359Z",
     "shell.execute_reply.started": "2021-10-13T18:20:25.644348Z"
    }
   },
   "outputs": [],
   "source": [
    "dropar_index = df[df['formed'] == '-'].index"
   ]
  },
  {
   "cell_type": "code",
   "execution_count": 23,
   "id": "47f5782a",
   "metadata": {
    "execution": {
     "iopub.execute_input": "2021-10-13T18:20:25.658758Z",
     "iopub.status.busy": "2021-10-13T18:20:25.658758Z",
     "iopub.status.idle": "2021-10-13T18:20:25.664725Z",
     "shell.execute_reply": "2021-10-13T18:20:25.664235Z",
     "shell.execute_reply.started": "2021-10-13T18:20:25.658758Z"
    }
   },
   "outputs": [],
   "source": [
    "df.drop(dropar_index, axis=0, inplace=True)"
   ]
  },
  {
   "cell_type": "code",
   "execution_count": 24,
   "id": "9e39a0cc",
   "metadata": {
    "execution": {
     "iopub.execute_input": "2021-10-13T18:20:25.666726Z",
     "iopub.status.busy": "2021-10-13T18:20:25.665725Z",
     "iopub.status.idle": "2021-10-13T18:20:25.678745Z",
     "shell.execute_reply": "2021-10-13T18:20:25.677446Z",
     "shell.execute_reply.started": "2021-10-13T18:20:25.666726Z"
    }
   },
   "outputs": [],
   "source": [
    "df['formed'] = df['formed'].astype('int64')"
   ]
  },
  {
   "cell_type": "code",
   "execution_count": 25,
   "id": "bf0dca19",
   "metadata": {
    "execution": {
     "iopub.execute_input": "2021-10-13T18:20:25.679745Z",
     "iopub.status.busy": "2021-10-13T18:20:25.679745Z",
     "iopub.status.idle": "2021-10-13T18:20:25.693757Z",
     "shell.execute_reply": "2021-10-13T18:20:25.692755Z",
     "shell.execute_reply.started": "2021-10-13T18:20:25.679745Z"
    }
   },
   "outputs": [
    {
     "data": {
      "text/html": [
       "<div>\n",
       "<style scoped>\n",
       "    .dataframe tbody tr th:only-of-type {\n",
       "        vertical-align: middle;\n",
       "    }\n",
       "\n",
       "    .dataframe tbody tr th {\n",
       "        vertical-align: top;\n",
       "    }\n",
       "\n",
       "    .dataframe thead th {\n",
       "        text-align: right;\n",
       "    }\n",
       "</style>\n",
       "<table border=\"1\" class=\"dataframe\">\n",
       "  <thead>\n",
       "    <tr style=\"text-align: right;\">\n",
       "      <th></th>\n",
       "      <th>fans</th>\n",
       "      <th>formed</th>\n",
       "    </tr>\n",
       "  </thead>\n",
       "  <tbody>\n",
       "    <tr>\n",
       "      <th>fans</th>\n",
       "      <td>1.000000</td>\n",
       "      <td>-0.287103</td>\n",
       "    </tr>\n",
       "    <tr>\n",
       "      <th>formed</th>\n",
       "      <td>-0.287103</td>\n",
       "      <td>1.000000</td>\n",
       "    </tr>\n",
       "  </tbody>\n",
       "</table>\n",
       "</div>"
      ],
      "text/plain": [
       "            fans    formed\n",
       "fans    1.000000 -0.287103\n",
       "formed -0.287103  1.000000"
      ]
     },
     "execution_count": 25,
     "metadata": {},
     "output_type": "execute_result"
    }
   ],
   "source": [
    "df.corr(method='pearson')"
   ]
  },
  {
   "cell_type": "code",
   "execution_count": 26,
   "id": "18ada6a4",
   "metadata": {
    "execution": {
     "iopub.execute_input": "2021-10-13T18:20:25.694757Z",
     "iopub.status.busy": "2021-10-13T18:20:25.694757Z",
     "iopub.status.idle": "2021-10-13T18:20:25.709770Z",
     "shell.execute_reply": "2021-10-13T18:20:25.708769Z",
     "shell.execute_reply.started": "2021-10-13T18:20:25.694757Z"
    }
   },
   "outputs": [
    {
     "data": {
      "text/html": [
       "<div>\n",
       "<style scoped>\n",
       "    .dataframe tbody tr th:only-of-type {\n",
       "        vertical-align: middle;\n",
       "    }\n",
       "\n",
       "    .dataframe tbody tr th {\n",
       "        vertical-align: top;\n",
       "    }\n",
       "\n",
       "    .dataframe thead th {\n",
       "        text-align: right;\n",
       "    }\n",
       "</style>\n",
       "<table border=\"1\" class=\"dataframe\">\n",
       "  <thead>\n",
       "    <tr style=\"text-align: right;\">\n",
       "      <th></th>\n",
       "      <th>fans</th>\n",
       "      <th>formed</th>\n",
       "    </tr>\n",
       "  </thead>\n",
       "  <tbody>\n",
       "    <tr>\n",
       "      <th>fans</th>\n",
       "      <td>1.000000</td>\n",
       "      <td>-0.272044</td>\n",
       "    </tr>\n",
       "    <tr>\n",
       "      <th>formed</th>\n",
       "      <td>-0.272044</td>\n",
       "      <td>1.000000</td>\n",
       "    </tr>\n",
       "  </tbody>\n",
       "</table>\n",
       "</div>"
      ],
      "text/plain": [
       "            fans    formed\n",
       "fans    1.000000 -0.272044\n",
       "formed -0.272044  1.000000"
      ]
     },
     "execution_count": 26,
     "metadata": {},
     "output_type": "execute_result"
    }
   ],
   "source": [
    "df.corr(method='kendall')"
   ]
  },
  {
   "cell_type": "code",
   "execution_count": 27,
   "id": "3ab7efa2",
   "metadata": {
    "execution": {
     "iopub.execute_input": "2021-10-13T18:20:25.710771Z",
     "iopub.status.busy": "2021-10-13T18:20:25.710771Z",
     "iopub.status.idle": "2021-10-13T18:20:25.725430Z",
     "shell.execute_reply": "2021-10-13T18:20:25.724430Z",
     "shell.execute_reply.started": "2021-10-13T18:20:25.710771Z"
    }
   },
   "outputs": [
    {
     "data": {
      "text/html": [
       "<div>\n",
       "<style scoped>\n",
       "    .dataframe tbody tr th:only-of-type {\n",
       "        vertical-align: middle;\n",
       "    }\n",
       "\n",
       "    .dataframe tbody tr th {\n",
       "        vertical-align: top;\n",
       "    }\n",
       "\n",
       "    .dataframe thead th {\n",
       "        text-align: right;\n",
       "    }\n",
       "</style>\n",
       "<table border=\"1\" class=\"dataframe\">\n",
       "  <thead>\n",
       "    <tr style=\"text-align: right;\">\n",
       "      <th></th>\n",
       "      <th>fans</th>\n",
       "      <th>formed</th>\n",
       "    </tr>\n",
       "  </thead>\n",
       "  <tbody>\n",
       "    <tr>\n",
       "      <th>fans</th>\n",
       "      <td>1.000000</td>\n",
       "      <td>-0.385753</td>\n",
       "    </tr>\n",
       "    <tr>\n",
       "      <th>formed</th>\n",
       "      <td>-0.385753</td>\n",
       "      <td>1.000000</td>\n",
       "    </tr>\n",
       "  </tbody>\n",
       "</table>\n",
       "</div>"
      ],
      "text/plain": [
       "            fans    formed\n",
       "fans    1.000000 -0.385753\n",
       "formed -0.385753  1.000000"
      ]
     },
     "execution_count": 27,
     "metadata": {},
     "output_type": "execute_result"
    }
   ],
   "source": [
    "df.corr(method='spearman')"
   ]
  },
  {
   "cell_type": "markdown",
   "id": "8f64f0fa",
   "metadata": {
    "id": "d2a3322a-ab5e-48ad-b82a-55b63c298f82"
   },
   "source": [
    "# Visualização de dados"
   ]
  },
  {
   "cell_type": "code",
   "execution_count": 28,
   "id": "04cc16f8",
   "metadata": {
    "execution": {
     "iopub.execute_input": "2021-10-13T18:20:25.726433Z",
     "iopub.status.busy": "2021-10-13T18:20:25.726433Z",
     "iopub.status.idle": "2021-10-13T18:20:25.741445Z",
     "shell.execute_reply": "2021-10-13T18:20:25.740444Z",
     "shell.execute_reply.started": "2021-10-13T18:20:25.726433Z"
    }
   },
   "outputs": [],
   "source": [
    "# scatterplots\r\n",
    "# countplot e histogramas\r\n",
    "# boxplot\r\n",
    "# violinplot"
   ]
  },
  {
   "cell_type": "code",
   "execution_count": 29,
   "id": "c86156b8",
   "metadata": {
    "execution": {
     "iopub.execute_input": "2021-10-13T18:20:25.742446Z",
     "iopub.status.busy": "2021-10-13T18:20:25.742446Z",
     "iopub.status.idle": "2021-10-13T18:20:25.756459Z",
     "shell.execute_reply": "2021-10-13T18:20:25.756459Z",
     "shell.execute_reply.started": "2021-10-13T18:20:25.742446Z"
    },
    "id": "0f5f1a82-4428-47bc-9c0e-74fd9e28818a"
   },
   "outputs": [],
   "source": [
    "#pallete = ['Blue', 'Pink']"
   ]
  },
  {
   "cell_type": "code",
   "execution_count": 30,
   "id": "681fedd7",
   "metadata": {
    "execution": {
     "iopub.execute_input": "2021-10-13T18:20:25.758460Z",
     "iopub.status.busy": "2021-10-13T18:20:25.757460Z",
     "iopub.status.idle": "2021-10-13T18:20:25.995557Z",
     "shell.execute_reply": "2021-10-13T18:20:25.995557Z",
     "shell.execute_reply.started": "2021-10-13T18:20:25.758460Z"
    },
    "id": "1e0c4cbc-3fba-420c-ab68-89480d5a41a8",
    "outputId": "f748d943-8ff6-4805-8415-8c2039339e22",
    "tags": []
   },
   "outputs": [
    {
     "data": {
      "image/png": "[encoded data removed]",
      "text/plain": [
       "<Figure size 1152x648 with 1 Axes>"
      ]
     },
     "metadata": {
      "needs_background": "light"
     },
     "output_type": "display_data"
    }
   ],
   "source": [
    "plt.figure(figsize=(16,9))\r\n",
    "plt.xticks(rotation=45)\r\n",
    "sns.barplot(data=df_fans_by_country.head(10), x='origin', y='fans');"
   ]
  },
  {
   "cell_type": "code",
   "execution_count": 31,
   "id": "d8c32c13",
   "metadata": {
    "execution": {
     "iopub.execute_input": "2021-10-13T18:20:25.995557Z",
     "iopub.status.busy": "2021-10-13T18:20:25.995557Z",
     "iopub.status.idle": "2021-10-13T18:20:26.011035Z",
     "shell.execute_reply": "2021-10-13T18:20:26.011035Z",
     "shell.execute_reply.started": "2021-10-13T18:20:25.995557Z"
    },
    "id": "58a4f295-5276-4f10-877c-8245dcf749e5",
    "outputId": "1cd2fb83-c1b3-479b-cac5-09277e825d59",
    "tags": []
   },
   "outputs": [
    {
     "data": {
      "text/plain": [
       "USA                                1138\n",
       "Sweden                              476\n",
       "Germany                             397\n",
       "United Kingdom                      344\n",
       "Finland                             307\n",
       "                                   ... \n",
       "United Kingdom, Greece                1\n",
       "Ukraine, Canada                       1\n",
       "Greece, USA                           1\n",
       "Bahrain                               1\n",
       "Bosnia and Herzegovina, Croatia       1\n",
       "Name: origin, Length: 113, dtype: int64"
      ]
     },
     "execution_count": 31,
     "metadata": {},
     "output_type": "execute_result"
    }
   ],
   "source": [
    "most_countries = df['origin'].value_counts()\r\n",
    "most_countries"
   ]
  },
  {
   "cell_type": "code",
   "execution_count": 32,
   "id": "16078e05",
   "metadata": {
    "execution": {
     "iopub.execute_input": "2021-10-13T18:20:26.013036Z",
     "iopub.status.busy": "2021-10-13T18:20:26.013036Z",
     "iopub.status.idle": "2021-10-13T18:20:26.216588Z",
     "shell.execute_reply": "2021-10-13T18:20:26.216285Z",
     "shell.execute_reply.started": "2021-10-13T18:20:26.013036Z"
    },
    "id": "641b2f9e-5e52-4f9a-bbe6-48da5a9355d7",
    "outputId": "0acc56b3-44a8-45c8-ce04-1fd7fbba64a4",
    "tags": []
   },
   "outputs": [
    {
     "data": {
      "image/png": "[encoded data removed]",
      "text/plain": [
       "<Figure size 1152x648 with 1 Axes>"
      ]
     },
     "metadata": {
      "needs_background": "light"
     },
     "output_type": "display_data"
    }
   ],
   "source": [
    "plt.figure(figsize=(16,9))\r\n",
    "plt.xticks(rotation=45)\r\n",
    "sns.barplot(x=most_countries.index[:10], y=most_countries[:10]);"
   ]
  },
  {
   "cell_type": "code",
   "execution_count": 33,
   "id": "89bb5a89",
   "metadata": {
    "execution": {
     "iopub.execute_input": "2021-10-13T18:20:26.218590Z",
     "iopub.status.busy": "2021-10-13T18:20:26.217588Z",
     "iopub.status.idle": "2021-10-13T18:20:26.431174Z",
     "shell.execute_reply": "2021-10-13T18:20:26.431174Z",
     "shell.execute_reply.started": "2021-10-13T18:20:26.218590Z"
    },
    "tags": []
   },
   "outputs": [
    {
     "data": {
      "image/png": "[encoded data removed]",
      "text/plain": [
       "<Figure size 1152x720 with 1 Axes>"
      ]
     },
     "metadata": {
      "needs_background": "light"
     },
     "output_type": "display_data"
    }
   ],
   "source": [
    "plot_order = df['style'].value_counts().index.values\r\n",
    "plt.figure(figsize=(16,10))\r\n",
    "sns.countplot(data=df, x='style', order=plot_order[:10]);"
   ]
  }
 ],
 "metadata": {
  "colab": {
   "name": "Metal Bands by Nation",
   "provenance": [],
   "toc_visible": true
  },
  "interpreter": {
   "hash": "5e46cd6b3c24bfbe699e863eb12cf7b43542862bb6183b4af9d137e5d48ed511"
  },
  "kernelspec": {
   "display_name": "Python 3",
   "language": "python",
   "name": "python3"
  },
  "language_info": {
   "codemirror_mode": {
    "name": "ipython",
    "version": 3
   },
   "file_extension": ".py",
   "mimetype": "text/x-python",
   "name": "python",
   "nbconvert_exporter": "python",
   "pygments_lexer": "ipython3",
   "version": "3.8.8"
  }
 },
 "nbformat": 4,
 "nbformat_minor": 5
}
