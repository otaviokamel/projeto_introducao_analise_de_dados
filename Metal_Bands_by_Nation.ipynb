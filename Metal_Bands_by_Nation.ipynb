{
  "nbformat": 4,
  "nbformat_minor": 5,
  "metadata": {
    "colab": {
      "name": "Metal_Bands_by_Nation.ipynb",
      "provenance": [],
      "collapsed_sections": [
        "utijTSbgyeRM",
        "USLZEv03fnMx",
        "8wq8VS7Hfsvy",
        "9mxa0aLryBER",
        "7f25969a",
        "1e11886a-d9e7-4772-b35e-78e4ad75b84a",
        "06f38ff3-3351-4f14-8ee4-55a733fe3df8",
        "bd746fb3-75b5-4fd2-bde3-57429a7e28d8",
        "793bdf67-4434-475f-a288-dfc903180a33",
        "h2ES2kgklv9g",
        "pXYzCDM1Jejh",
        "V9yYyU7ZI_-p"
      ],
      "toc_visible": true
    },
    "interpreter": {
      "hash": "ebe18a5a3e63c5f45e2b50f9a05e9c962aeb2b839f9c9b16622fab96f6b1d586"
    },
    "kernelspec": {
      "display_name": "Python 3.9.7 64-bit ('residencia': conda)",
      "name": "python3"
    },
    "language_info": {
      "codemirror_mode": {
        "name": "ipython",
        "version": 3
      },
      "file_extension": ".py",
      "mimetype": "text/x-python",
      "name": "python",
      "nbconvert_exporter": "python",
      "pygments_lexer": "ipython3",
      "version": "3.9.7"
    }
  },
  "cells": [
    {
      "cell_type": "markdown",
      "metadata": {
        "id": "f2e19349"
      },
      "source": [
        "<h1><center>𝕸𝖊𝖙𝖆𝖑 𝕭𝖆𝖓𝖉𝖘 🇧​​​​​🇾​​​​​ 🇳​​​​​🇦​​​​​🇹​​​​​🇮​​​​​🇴​​​​​🇳​​​​​</center></h1>\n",
        "<center>\n",
        "1964 ~ 2016\n",
        "<br>\n",
        "<br>\n",
        "\n",
        "**Introdução à Ciência dos Dados**\n",
        "\n",
        "*Professor Luciano Barbosa*<br><br>\n",
        "\n",
        "**Grupo**<br>\n",
        "🤘 Arianne Macena [@annemacena](https://github.com/annemacena) - asm7@cin.ufpe.br<br>\n",
        "🤘 Otávio Kamel [@otaviokamel](https://github.com/otaviokamel) - oackb@cin.ufpe.br\n",
        "<br><br>\n",
        "<img src=\"https://media.giphy.com/media/XcLpNX8NFvhAc/giphy.gif\" align=\"center\"></center>"
      ],
      "id": "f2e19349"
    },
    {
      "cell_type": "markdown",
      "metadata": {
        "id": "DuqbI6KdP8aD"
      },
      "source": [
        "# Visão Geral"
      ],
      "id": "DuqbI6KdP8aD"
    },
    {
      "cell_type": "markdown",
      "metadata": {
        "id": "_zd50VY6Qlxi"
      },
      "source": [
        "Para o presente trabalho, foi escolhido o *dataset* \"Metal Bands by Nation\" com a finalidade de fazer uma análise de seus dados e aplicar técnicas de ciência de dados pontuadas em aula. O *dataset* possui dados sobre bandas do gênero \"**Metal**\" ao decorrer dos anos de **1964 até 2016**.\n",
        "\n",
        "Os dados foram coletados do site [Metal Storm](http://metalstorm.net/). Além de uma lista de bandas de Metal, o site possui diversas informações sobre *reviews* de álbums, concertos e entrevistas.\n",
        "\n",
        "A coleta de dados foi feita através de *web scraping* do site da Metal Storm e seu resultado foi hospedado no [Kaggle](https://www.kaggle.com/mrpantherson/metal-by-nation)."
      ],
      "id": "_zd50VY6Qlxi"
    },
    {
      "cell_type": "markdown",
      "metadata": {
        "id": "EsHnK97HyZvY"
      },
      "source": [
        "## Bibliotecas"
      ],
      "id": "EsHnK97HyZvY"
    },
    {
      "cell_type": "code",
      "metadata": {
        "execution": {
          "iopub.execute_input": "2021-10-13T18:20:22.104690Z",
          "iopub.status.busy": "2021-10-13T18:20:22.104690Z",
          "iopub.status.idle": "2021-10-13T18:20:23.197285Z",
          "shell.execute_reply": "2021-10-13T18:20:23.197285Z",
          "shell.execute_reply.started": "2021-10-13T18:20:22.104690Z"
        },
        "id": "5bc45560",
        "tags": []
      },
      "source": [
        "# Importação de bibliotecas\n",
        "import pandas as pd\n",
        "import numpy as np\n",
        "import seaborn as sns\n",
        "from matplotlib import pyplot as plt\n",
        "import matplotlib.patches as mpatches"
      ],
      "id": "5bc45560",
      "execution_count": 531,
      "outputs": []
    },
    {
      "cell_type": "markdown",
      "metadata": {
        "id": "yzmFGgit_yBE"
      },
      "source": [
        "### GeonamesCache"
      ],
      "id": "yzmFGgit_yBE"
    },
    {
      "cell_type": "code",
      "metadata": {
        "colab": {
          "base_uri": "https://localhost:8080/"
        },
        "id": "oKt4hDpAyvXt",
        "outputId": "d1d05d5e-192a-4fcf-b65b-677ff4b503d8"
      },
      "source": [
        "# Biblioteca que possui todos os nomes de países e continentes de acordo com a ISO\n",
        "!pip install geonamescache"
      ],
      "id": "oKt4hDpAyvXt",
      "execution_count": 376,
      "outputs": [
        {
          "output_type": "stream",
          "name": "stdout",
          "text": [
            "Requirement already satisfied: geonamescache in /usr/local/lib/python3.7/dist-packages (1.2.0)\n"
          ]
        }
      ]
    },
    {
      "cell_type": "code",
      "metadata": {
        "id": "uv0dlI29BymY"
      },
      "source": [
        "from geonamescache import GeonamesCache\n",
        "from geonamescache.mappers import country"
      ],
      "id": "uv0dlI29BymY",
      "execution_count": 423,
      "outputs": []
    },
    {
      "cell_type": "code",
      "metadata": {
        "id": "UDeurExV_tHs"
      },
      "source": [
        "countries = GeonamesCache().get_countries_by_names()"
      ],
      "id": "UDeurExV_tHs",
      "execution_count": 419,
      "outputs": []
    },
    {
      "cell_type": "markdown",
      "metadata": {
        "id": "erQ0eZDWD02m"
      },
      "source": [
        "### GeoPandas"
      ],
      "id": "erQ0eZDWD02m"
    },
    {
      "cell_type": "code",
      "metadata": {
        "colab": {
          "base_uri": "https://localhost:8080/"
        },
        "id": "h1bEGlyqD8Y8",
        "outputId": "44c943b8-f3c9-406e-aace-4bc83f7fd43e"
      },
      "source": [
        "!pip install geopandas\n",
        "!pip install mapclassify"
      ],
      "id": "h1bEGlyqD8Y8",
      "execution_count": 444,
      "outputs": [
        {
          "output_type": "stream",
          "name": "stdout",
          "text": [
            "Requirement already satisfied: geopandas in /usr/local/lib/python3.7/dist-packages (0.10.1)\n",
            "Requirement already satisfied: shapely>=1.6 in /usr/local/lib/python3.7/dist-packages (from geopandas) (1.7.1)\n",
            "Requirement already satisfied: pandas>=0.25.0 in /usr/local/lib/python3.7/dist-packages (from geopandas) (1.1.5)\n",
            "Requirement already satisfied: fiona>=1.8 in /usr/local/lib/python3.7/dist-packages (from geopandas) (1.8.20)\n",
            "Requirement already satisfied: pyproj>=2.2.0 in /usr/local/lib/python3.7/dist-packages (from geopandas) (3.2.1)\n",
            "Requirement already satisfied: six>=1.7 in /usr/local/lib/python3.7/dist-packages (from fiona>=1.8->geopandas) (1.15.0)\n",
            "Requirement already satisfied: attrs>=17 in /usr/local/lib/python3.7/dist-packages (from fiona>=1.8->geopandas) (21.2.0)\n",
            "Requirement already satisfied: click>=4.0 in /usr/local/lib/python3.7/dist-packages (from fiona>=1.8->geopandas) (7.1.2)\n",
            "Requirement already satisfied: munch in /usr/local/lib/python3.7/dist-packages (from fiona>=1.8->geopandas) (2.5.0)\n",
            "Requirement already satisfied: cligj>=0.5 in /usr/local/lib/python3.7/dist-packages (from fiona>=1.8->geopandas) (0.7.2)\n",
            "Requirement already satisfied: click-plugins>=1.0 in /usr/local/lib/python3.7/dist-packages (from fiona>=1.8->geopandas) (1.1.1)\n",
            "Requirement already satisfied: certifi in /usr/local/lib/python3.7/dist-packages (from fiona>=1.8->geopandas) (2021.5.30)\n",
            "Requirement already satisfied: setuptools in /usr/local/lib/python3.7/dist-packages (from fiona>=1.8->geopandas) (57.4.0)\n",
            "Requirement already satisfied: numpy>=1.15.4 in /usr/local/lib/python3.7/dist-packages (from pandas>=0.25.0->geopandas) (1.19.5)\n",
            "Requirement already satisfied: python-dateutil>=2.7.3 in /usr/local/lib/python3.7/dist-packages (from pandas>=0.25.0->geopandas) (2.8.2)\n",
            "Requirement already satisfied: pytz>=2017.2 in /usr/local/lib/python3.7/dist-packages (from pandas>=0.25.0->geopandas) (2018.9)\n",
            "Collecting mapclassify\n",
            "  Downloading mapclassify-2.4.3-py3-none-any.whl (38 kB)\n",
            "Requirement already satisfied: scipy>=1.0 in /usr/local/lib/python3.7/dist-packages (from mapclassify) (1.4.1)\n",
            "Requirement already satisfied: numpy>=1.3 in /usr/local/lib/python3.7/dist-packages (from mapclassify) (1.19.5)\n",
            "Requirement already satisfied: scikit-learn in /usr/local/lib/python3.7/dist-packages (from mapclassify) (0.22.2.post1)\n",
            "Requirement already satisfied: pandas>=1.0 in /usr/local/lib/python3.7/dist-packages (from mapclassify) (1.1.5)\n",
            "Requirement already satisfied: networkx in /usr/local/lib/python3.7/dist-packages (from mapclassify) (2.6.3)\n",
            "Requirement already satisfied: python-dateutil>=2.7.3 in /usr/local/lib/python3.7/dist-packages (from pandas>=1.0->mapclassify) (2.8.2)\n",
            "Requirement already satisfied: pytz>=2017.2 in /usr/local/lib/python3.7/dist-packages (from pandas>=1.0->mapclassify) (2018.9)\n",
            "Requirement already satisfied: six>=1.5 in /usr/local/lib/python3.7/dist-packages (from python-dateutil>=2.7.3->pandas>=1.0->mapclassify) (1.15.0)\n",
            "Requirement already satisfied: joblib>=0.11 in /usr/local/lib/python3.7/dist-packages (from scikit-learn->mapclassify) (1.0.1)\n",
            "Installing collected packages: mapclassify\n",
            "Successfully installed mapclassify-2.4.3\n"
          ]
        }
      ]
    },
    {
      "cell_type": "code",
      "metadata": {
        "id": "Hwf4vXcBD5QH"
      },
      "source": [
        "import fiona\n",
        "import geopandas as gpd"
      ],
      "id": "Hwf4vXcBD5QH",
      "execution_count": 438,
      "outputs": []
    },
    {
      "cell_type": "markdown",
      "metadata": {
        "id": "utijTSbgyeRM"
      },
      "source": [
        "## Importação e informações do *dataset*"
      ],
      "id": "utijTSbgyeRM"
    },
    {
      "cell_type": "code",
      "metadata": {
        "execution": {
          "iopub.execute_input": "2021-10-13T18:20:23.199291Z",
          "iopub.status.busy": "2021-10-13T18:20:23.199291Z",
          "iopub.status.idle": "2021-10-13T18:20:23.222287Z",
          "shell.execute_reply": "2021-10-13T18:20:23.222055Z",
          "shell.execute_reply.started": "2021-10-13T18:20:23.199291Z"
        },
        "id": "81c2d8ef",
        "tags": []
      },
      "source": [
        "# importando arquivo com dados do dataset escolhido\n",
        "df = pd.read_csv('metal_bands_2017.csv', encoding='latin-1')"
      ],
      "id": "81c2d8ef",
      "execution_count": 377,
      "outputs": []
    },
    {
      "cell_type": "markdown",
      "metadata": {
        "id": "INNj4h5lWWxO"
      },
      "source": [
        "As colunas do *dataset* são compostas pelos seguintes dados:\n",
        "\n",
        "*   **band_name**: Nome da banda.\n",
        "*   **fans**: A quantidade de fãs a banda possui no site da Metal Storm.\n",
        "*   **formed**: O ano que a banda foi formada.\n",
        "*   **origin**: O país de onde a banda é.\n",
        "*   **split**: O ano que a banda se separou.\n",
        "*   **style**: O estilo ou subgênero da banda.\n",
        "\n"
      ],
      "id": "INNj4h5lWWxO"
    },
    {
      "cell_type": "code",
      "metadata": {
        "execution": {
          "iopub.execute_input": "2021-10-13T18:20:23.227289Z",
          "iopub.status.busy": "2021-10-13T18:20:23.226288Z",
          "iopub.status.idle": "2021-10-13T18:20:23.255117Z",
          "shell.execute_reply": "2021-10-13T18:20:23.255117Z",
          "shell.execute_reply.started": "2021-10-13T18:20:23.227289Z"
        },
        "id": "fe473277",
        "tags": [],
        "colab": {
          "base_uri": "https://localhost:8080/",
          "height": 204
        },
        "outputId": "15faec1e-7d34-47f9-dc1a-0030d475f246"
      },
      "source": [
        "# visualizando as 5 primeiras linhas do dataset\n",
        "df.head()"
      ],
      "id": "fe473277",
      "execution_count": 378,
      "outputs": [
        {
          "output_type": "execute_result",
          "data": {
            "text/html": [
              "<div>\n",
              "<style scoped>\n",
              "    .dataframe tbody tr th:only-of-type {\n",
              "        vertical-align: middle;\n",
              "    }\n",
              "\n",
              "    .dataframe tbody tr th {\n",
              "        vertical-align: top;\n",
              "    }\n",
              "\n",
              "    .dataframe thead th {\n",
              "        text-align: right;\n",
              "    }\n",
              "</style>\n",
              "<table border=\"1\" class=\"dataframe\">\n",
              "  <thead>\n",
              "    <tr style=\"text-align: right;\">\n",
              "      <th></th>\n",
              "      <th>Unnamed: 0</th>\n",
              "      <th>band_name</th>\n",
              "      <th>fans</th>\n",
              "      <th>formed</th>\n",
              "      <th>origin</th>\n",
              "      <th>split</th>\n",
              "      <th>style</th>\n",
              "    </tr>\n",
              "  </thead>\n",
              "  <tbody>\n",
              "    <tr>\n",
              "      <th>0</th>\n",
              "      <td>0</td>\n",
              "      <td>Iron Maiden</td>\n",
              "      <td>4195</td>\n",
              "      <td>1975</td>\n",
              "      <td>United Kingdom</td>\n",
              "      <td>-</td>\n",
              "      <td>New wave of british heavy,Heavy</td>\n",
              "    </tr>\n",
              "    <tr>\n",
              "      <th>1</th>\n",
              "      <td>1</td>\n",
              "      <td>Opeth</td>\n",
              "      <td>4147</td>\n",
              "      <td>1990</td>\n",
              "      <td>Sweden</td>\n",
              "      <td>1990</td>\n",
              "      <td>Extreme progressive,Progressive rock,Progressive</td>\n",
              "    </tr>\n",
              "    <tr>\n",
              "      <th>2</th>\n",
              "      <td>2</td>\n",
              "      <td>Metallica</td>\n",
              "      <td>3712</td>\n",
              "      <td>1981</td>\n",
              "      <td>USA</td>\n",
              "      <td>-</td>\n",
              "      <td>Heavy,Bay area thrash</td>\n",
              "    </tr>\n",
              "    <tr>\n",
              "      <th>3</th>\n",
              "      <td>3</td>\n",
              "      <td>Megadeth</td>\n",
              "      <td>3105</td>\n",
              "      <td>1983</td>\n",
              "      <td>USA</td>\n",
              "      <td>1983</td>\n",
              "      <td>Thrash,Heavy,Hard rock</td>\n",
              "    </tr>\n",
              "    <tr>\n",
              "      <th>4</th>\n",
              "      <td>4</td>\n",
              "      <td>Amon Amarth</td>\n",
              "      <td>3054</td>\n",
              "      <td>1988</td>\n",
              "      <td>Sweden</td>\n",
              "      <td>-</td>\n",
              "      <td>Melodic death</td>\n",
              "    </tr>\n",
              "  </tbody>\n",
              "</table>\n",
              "</div>"
            ],
            "text/plain": [
              "   Unnamed: 0  ...                                             style\n",
              "0           0  ...                   New wave of british heavy,Heavy\n",
              "1           1  ...  Extreme progressive,Progressive rock,Progressive\n",
              "2           2  ...                             Heavy,Bay area thrash\n",
              "3           3  ...                            Thrash,Heavy,Hard rock\n",
              "4           4  ...                                     Melodic death\n",
              "\n",
              "[5 rows x 7 columns]"
            ]
          },
          "metadata": {},
          "execution_count": 378
        }
      ]
    },
    {
      "cell_type": "code",
      "metadata": {
        "execution": {
          "iopub.execute_input": "2021-10-13T18:20:23.255117Z",
          "iopub.status.busy": "2021-10-13T18:20:23.255117Z",
          "iopub.status.idle": "2021-10-13T18:20:23.271131Z",
          "shell.execute_reply": "2021-10-13T18:20:23.271131Z",
          "shell.execute_reply.started": "2021-10-13T18:20:23.255117Z"
        },
        "id": "b6b21a95",
        "tags": [],
        "colab": {
          "base_uri": "https://localhost:8080/"
        },
        "outputId": "34902b5e-7d53-4f2d-8152-6e65229d15b9"
      },
      "source": [
        "# visualizando a dimensionalidade do dataset (linhas, colunas)\n",
        "df.shape"
      ],
      "id": "b6b21a95",
      "execution_count": 379,
      "outputs": [
        {
          "output_type": "execute_result",
          "data": {
            "text/plain": [
              "(5000, 7)"
            ]
          },
          "metadata": {},
          "execution_count": 379
        }
      ]
    },
    {
      "cell_type": "code",
      "metadata": {
        "colab": {
          "base_uri": "https://localhost:8080/",
          "height": 297
        },
        "id": "O8bcKj5GR1_1",
        "outputId": "b3589fdb-ddf3-43e8-ff49-956ab23546d3"
      },
      "source": [
        "df.describe()"
      ],
      "id": "O8bcKj5GR1_1",
      "execution_count": 380,
      "outputs": [
        {
          "output_type": "execute_result",
          "data": {
            "text/html": [
              "<div>\n",
              "<style scoped>\n",
              "    .dataframe tbody tr th:only-of-type {\n",
              "        vertical-align: middle;\n",
              "    }\n",
              "\n",
              "    .dataframe tbody tr th {\n",
              "        vertical-align: top;\n",
              "    }\n",
              "\n",
              "    .dataframe thead th {\n",
              "        text-align: right;\n",
              "    }\n",
              "</style>\n",
              "<table border=\"1\" class=\"dataframe\">\n",
              "  <thead>\n",
              "    <tr style=\"text-align: right;\">\n",
              "      <th></th>\n",
              "      <th>Unnamed: 0</th>\n",
              "      <th>fans</th>\n",
              "    </tr>\n",
              "  </thead>\n",
              "  <tbody>\n",
              "    <tr>\n",
              "      <th>count</th>\n",
              "      <td>5000.000000</td>\n",
              "      <td>5000.000000</td>\n",
              "    </tr>\n",
              "    <tr>\n",
              "      <th>mean</th>\n",
              "      <td>2499.500000</td>\n",
              "      <td>87.805800</td>\n",
              "    </tr>\n",
              "    <tr>\n",
              "      <th>std</th>\n",
              "      <td>1443.520003</td>\n",
              "      <td>296.137523</td>\n",
              "    </tr>\n",
              "    <tr>\n",
              "      <th>min</th>\n",
              "      <td>0.000000</td>\n",
              "      <td>0.000000</td>\n",
              "    </tr>\n",
              "    <tr>\n",
              "      <th>25%</th>\n",
              "      <td>1249.750000</td>\n",
              "      <td>4.000000</td>\n",
              "    </tr>\n",
              "    <tr>\n",
              "      <th>50%</th>\n",
              "      <td>2499.500000</td>\n",
              "      <td>12.000000</td>\n",
              "    </tr>\n",
              "    <tr>\n",
              "      <th>75%</th>\n",
              "      <td>3749.250000</td>\n",
              "      <td>42.000000</td>\n",
              "    </tr>\n",
              "    <tr>\n",
              "      <th>max</th>\n",
              "      <td>4999.000000</td>\n",
              "      <td>4195.000000</td>\n",
              "    </tr>\n",
              "  </tbody>\n",
              "</table>\n",
              "</div>"
            ],
            "text/plain": [
              "        Unnamed: 0         fans\n",
              "count  5000.000000  5000.000000\n",
              "mean   2499.500000    87.805800\n",
              "std    1443.520003   296.137523\n",
              "min       0.000000     0.000000\n",
              "25%    1249.750000     4.000000\n",
              "50%    2499.500000    12.000000\n",
              "75%    3749.250000    42.000000\n",
              "max    4999.000000  4195.000000"
            ]
          },
          "metadata": {},
          "execution_count": 380
        }
      ]
    },
    {
      "cell_type": "code",
      "metadata": {
        "colab": {
          "base_uri": "https://localhost:8080/",
          "height": 173
        },
        "id": "zpr-EJXcR3q5",
        "outputId": "45e41531-0db0-4580-e259-0791682a9e3e"
      },
      "source": [
        "df.describe(include='object')"
      ],
      "id": "zpr-EJXcR3q5",
      "execution_count": 381,
      "outputs": [
        {
          "output_type": "execute_result",
          "data": {
            "text/html": [
              "<div>\n",
              "<style scoped>\n",
              "    .dataframe tbody tr th:only-of-type {\n",
              "        vertical-align: middle;\n",
              "    }\n",
              "\n",
              "    .dataframe tbody tr th {\n",
              "        vertical-align: top;\n",
              "    }\n",
              "\n",
              "    .dataframe thead th {\n",
              "        text-align: right;\n",
              "    }\n",
              "</style>\n",
              "<table border=\"1\" class=\"dataframe\">\n",
              "  <thead>\n",
              "    <tr style=\"text-align: right;\">\n",
              "      <th></th>\n",
              "      <th>band_name</th>\n",
              "      <th>formed</th>\n",
              "      <th>origin</th>\n",
              "      <th>split</th>\n",
              "      <th>style</th>\n",
              "    </tr>\n",
              "  </thead>\n",
              "  <tbody>\n",
              "    <tr>\n",
              "      <th>count</th>\n",
              "      <td>5000</td>\n",
              "      <td>5000</td>\n",
              "      <td>4992</td>\n",
              "      <td>5000</td>\n",
              "      <td>5000</td>\n",
              "    </tr>\n",
              "    <tr>\n",
              "      <th>unique</th>\n",
              "      <td>4949</td>\n",
              "      <td>53</td>\n",
              "      <td>113</td>\n",
              "      <td>50</td>\n",
              "      <td>1227</td>\n",
              "    </tr>\n",
              "    <tr>\n",
              "      <th>top</th>\n",
              "      <td>Symphony X</td>\n",
              "      <td>2005</td>\n",
              "      <td>USA</td>\n",
              "      <td>-</td>\n",
              "      <td>Black</td>\n",
              "    </tr>\n",
              "    <tr>\n",
              "      <th>freq</th>\n",
              "      <td>2</td>\n",
              "      <td>270</td>\n",
              "      <td>1139</td>\n",
              "      <td>2215</td>\n",
              "      <td>345</td>\n",
              "    </tr>\n",
              "  </tbody>\n",
              "</table>\n",
              "</div>"
            ],
            "text/plain": [
              "         band_name formed origin split  style\n",
              "count         5000   5000   4992  5000   5000\n",
              "unique        4949     53    113    50   1227\n",
              "top     Symphony X   2005    USA     -  Black\n",
              "freq             2    270   1139  2215    345"
            ]
          },
          "metadata": {},
          "execution_count": 381
        }
      ]
    },
    {
      "cell_type": "markdown",
      "metadata": {
        "id": "e4bdfd4e"
      },
      "source": [
        "# Pré-Processamento"
      ],
      "id": "e4bdfd4e"
    },
    {
      "cell_type": "markdown",
      "metadata": {
        "id": "ba6b3957"
      },
      "source": [
        "## Tratamento\tde\tdados\n"
      ],
      "id": "ba6b3957"
    },
    {
      "cell_type": "markdown",
      "metadata": {
        "id": "USLZEv03fnMx"
      },
      "source": [
        "### Dados faltantes"
      ],
      "id": "USLZEv03fnMx"
    },
    {
      "cell_type": "code",
      "metadata": {
        "execution": {
          "iopub.execute_input": "2021-10-13T18:20:23.464138Z",
          "iopub.status.busy": "2021-10-13T18:20:23.463136Z",
          "iopub.status.idle": "2021-10-13T18:20:23.479151Z",
          "shell.execute_reply": "2021-10-13T18:20:23.478151Z",
          "shell.execute_reply.started": "2021-10-13T18:20:23.464138Z"
        },
        "id": "88fb3cc4"
      },
      "source": [
        "# a coluna Unnamed: 0 é apenas repetição do index do dataframe, vamos removê-la\n",
        "df.drop(columns=['Unnamed: 0'], inplace=True)"
      ],
      "id": "88fb3cc4",
      "execution_count": 382,
      "outputs": []
    },
    {
      "cell_type": "code",
      "metadata": {
        "colab": {
          "base_uri": "https://localhost:8080/",
          "height": 0
        },
        "id": "zf6Q1rhuXWnx",
        "outputId": "fa21c257-5959-42a1-a909-c1fb8ab60e9d"
      },
      "source": [
        "df.head()"
      ],
      "id": "zf6Q1rhuXWnx",
      "execution_count": 383,
      "outputs": [
        {
          "output_type": "execute_result",
          "data": {
            "text/html": [
              "<div>\n",
              "<style scoped>\n",
              "    .dataframe tbody tr th:only-of-type {\n",
              "        vertical-align: middle;\n",
              "    }\n",
              "\n",
              "    .dataframe tbody tr th {\n",
              "        vertical-align: top;\n",
              "    }\n",
              "\n",
              "    .dataframe thead th {\n",
              "        text-align: right;\n",
              "    }\n",
              "</style>\n",
              "<table border=\"1\" class=\"dataframe\">\n",
              "  <thead>\n",
              "    <tr style=\"text-align: right;\">\n",
              "      <th></th>\n",
              "      <th>band_name</th>\n",
              "      <th>fans</th>\n",
              "      <th>formed</th>\n",
              "      <th>origin</th>\n",
              "      <th>split</th>\n",
              "      <th>style</th>\n",
              "    </tr>\n",
              "  </thead>\n",
              "  <tbody>\n",
              "    <tr>\n",
              "      <th>0</th>\n",
              "      <td>Iron Maiden</td>\n",
              "      <td>4195</td>\n",
              "      <td>1975</td>\n",
              "      <td>United Kingdom</td>\n",
              "      <td>-</td>\n",
              "      <td>New wave of british heavy,Heavy</td>\n",
              "    </tr>\n",
              "    <tr>\n",
              "      <th>1</th>\n",
              "      <td>Opeth</td>\n",
              "      <td>4147</td>\n",
              "      <td>1990</td>\n",
              "      <td>Sweden</td>\n",
              "      <td>1990</td>\n",
              "      <td>Extreme progressive,Progressive rock,Progressive</td>\n",
              "    </tr>\n",
              "    <tr>\n",
              "      <th>2</th>\n",
              "      <td>Metallica</td>\n",
              "      <td>3712</td>\n",
              "      <td>1981</td>\n",
              "      <td>USA</td>\n",
              "      <td>-</td>\n",
              "      <td>Heavy,Bay area thrash</td>\n",
              "    </tr>\n",
              "    <tr>\n",
              "      <th>3</th>\n",
              "      <td>Megadeth</td>\n",
              "      <td>3105</td>\n",
              "      <td>1983</td>\n",
              "      <td>USA</td>\n",
              "      <td>1983</td>\n",
              "      <td>Thrash,Heavy,Hard rock</td>\n",
              "    </tr>\n",
              "    <tr>\n",
              "      <th>4</th>\n",
              "      <td>Amon Amarth</td>\n",
              "      <td>3054</td>\n",
              "      <td>1988</td>\n",
              "      <td>Sweden</td>\n",
              "      <td>-</td>\n",
              "      <td>Melodic death</td>\n",
              "    </tr>\n",
              "  </tbody>\n",
              "</table>\n",
              "</div>"
            ],
            "text/plain": [
              "     band_name  fans  ... split                                             style\n",
              "0  Iron Maiden  4195  ...     -                   New wave of british heavy,Heavy\n",
              "1        Opeth  4147  ...  1990  Extreme progressive,Progressive rock,Progressive\n",
              "2    Metallica  3712  ...     -                             Heavy,Bay area thrash\n",
              "3     Megadeth  3105  ...  1983                            Thrash,Heavy,Hard rock\n",
              "4  Amon Amarth  3054  ...     -                                     Melodic death\n",
              "\n",
              "[5 rows x 6 columns]"
            ]
          },
          "metadata": {},
          "execution_count": 383
        }
      ]
    },
    {
      "cell_type": "code",
      "metadata": {
        "colab": {
          "base_uri": "https://localhost:8080/"
        },
        "id": "rBUigf8uRHY9",
        "outputId": "e0f30d20-6024-47c2-b4b7-8ef9b54fac48"
      },
      "source": [
        "# visualizando quantidade de dados por colunas que possuem dados faltantes\n",
        "df.isna().sum()"
      ],
      "id": "rBUigf8uRHY9",
      "execution_count": 384,
      "outputs": [
        {
          "output_type": "execute_result",
          "data": {
            "text/plain": [
              "band_name    0\n",
              "fans         0\n",
              "formed       0\n",
              "origin       8\n",
              "split        0\n",
              "style        0\n",
              "dtype: int64"
            ]
          },
          "metadata": {},
          "execution_count": 384
        }
      ]
    },
    {
      "cell_type": "code",
      "metadata": {
        "colab": {
          "base_uri": "https://localhost:8080/",
          "height": 0
        },
        "id": "07Y_xYVbXlTo",
        "outputId": "b393ecf8-9dec-4b6d-c3fe-fed886dc7a83"
      },
      "source": [
        "df[df['origin'].isna()]"
      ],
      "id": "07Y_xYVbXlTo",
      "execution_count": 385,
      "outputs": [
        {
          "output_type": "execute_result",
          "data": {
            "text/html": [
              "<div>\n",
              "<style scoped>\n",
              "    .dataframe tbody tr th:only-of-type {\n",
              "        vertical-align: middle;\n",
              "    }\n",
              "\n",
              "    .dataframe tbody tr th {\n",
              "        vertical-align: top;\n",
              "    }\n",
              "\n",
              "    .dataframe thead th {\n",
              "        text-align: right;\n",
              "    }\n",
              "</style>\n",
              "<table border=\"1\" class=\"dataframe\">\n",
              "  <thead>\n",
              "    <tr style=\"text-align: right;\">\n",
              "      <th></th>\n",
              "      <th>band_name</th>\n",
              "      <th>fans</th>\n",
              "      <th>formed</th>\n",
              "      <th>origin</th>\n",
              "      <th>split</th>\n",
              "      <th>style</th>\n",
              "    </tr>\n",
              "  </thead>\n",
              "  <tbody>\n",
              "    <tr>\n",
              "      <th>460</th>\n",
              "      <td>Enshine</td>\n",
              "      <td>175</td>\n",
              "      <td>2009</td>\n",
              "      <td>NaN</td>\n",
              "      <td>-</td>\n",
              "      <td>Gothic doom</td>\n",
              "    </tr>\n",
              "    <tr>\n",
              "      <th>989</th>\n",
              "      <td>Clouds</td>\n",
              "      <td>61</td>\n",
              "      <td>2013</td>\n",
              "      <td>NaN</td>\n",
              "      <td>2013</td>\n",
              "      <td>Atmospheric doom</td>\n",
              "    </tr>\n",
              "    <tr>\n",
              "      <th>1422</th>\n",
              "      <td>Subterranean Masquerade</td>\n",
              "      <td>35</td>\n",
              "      <td>1997</td>\n",
              "      <td>NaN</td>\n",
              "      <td>-</td>\n",
              "      <td>Progressive,Psychedelic rock</td>\n",
              "    </tr>\n",
              "    <tr>\n",
              "      <th>2614</th>\n",
              "      <td>Twilight Of The Gods</td>\n",
              "      <td>11</td>\n",
              "      <td>2010</td>\n",
              "      <td>NaN</td>\n",
              "      <td>-</td>\n",
              "      <td>Heavy</td>\n",
              "    </tr>\n",
              "    <tr>\n",
              "      <th>2996</th>\n",
              "      <td>Archivist</td>\n",
              "      <td>7</td>\n",
              "      <td>2015</td>\n",
              "      <td>NaN</td>\n",
              "      <td>-</td>\n",
              "      <td>Atmospheric black,Post-metal</td>\n",
              "    </tr>\n",
              "    <tr>\n",
              "      <th>3444</th>\n",
              "      <td>Metallic Taste Of Blood</td>\n",
              "      <td>5</td>\n",
              "      <td>2011</td>\n",
              "      <td>NaN</td>\n",
              "      <td>-</td>\n",
              "      <td>Progressive,Instrumental</td>\n",
              "    </tr>\n",
              "    <tr>\n",
              "      <th>3941</th>\n",
              "      <td>Level 10</td>\n",
              "      <td>3</td>\n",
              "      <td>2014</td>\n",
              "      <td>NaN</td>\n",
              "      <td>2014</td>\n",
              "      <td>Heavy,Power</td>\n",
              "    </tr>\n",
              "    <tr>\n",
              "      <th>4201</th>\n",
              "      <td>Death Penalty</td>\n",
              "      <td>2</td>\n",
              "      <td>2013</td>\n",
              "      <td>NaN</td>\n",
              "      <td>2013</td>\n",
              "      <td>Doom,Heavy</td>\n",
              "    </tr>\n",
              "  </tbody>\n",
              "</table>\n",
              "</div>"
            ],
            "text/plain": [
              "                    band_name  fans  ... split                         style\n",
              "460                   Enshine   175  ...     -                   Gothic doom\n",
              "989                    Clouds    61  ...  2013              Atmospheric doom\n",
              "1422  Subterranean Masquerade    35  ...     -  Progressive,Psychedelic rock\n",
              "2614     Twilight Of The Gods    11  ...     -                         Heavy\n",
              "2996                Archivist     7  ...     -  Atmospheric black,Post-metal\n",
              "3444  Metallic Taste Of Blood     5  ...     -      Progressive,Instrumental\n",
              "3941                 Level 10     3  ...  2014                   Heavy,Power\n",
              "4201            Death Penalty     2  ...  2013                    Doom,Heavy\n",
              "\n",
              "[8 rows x 6 columns]"
            ]
          },
          "metadata": {},
          "execution_count": 385
        }
      ]
    },
    {
      "cell_type": "code",
      "metadata": {
        "id": "zDdjgy0YZCww"
      },
      "source": [
        "# removendo linhas que possuem ano de origem faltante\n",
        "df.dropna(inplace=True)"
      ],
      "id": "zDdjgy0YZCww",
      "execution_count": 386,
      "outputs": []
    },
    {
      "cell_type": "code",
      "metadata": {
        "colab": {
          "base_uri": "https://localhost:8080/"
        },
        "id": "PiMZQ3NmZVI7",
        "outputId": "d7a462bf-4a97-4fbc-c5d2-2cf95bbc4a52"
      },
      "source": [
        "df.isna().sum()"
      ],
      "id": "PiMZQ3NmZVI7",
      "execution_count": 387,
      "outputs": [
        {
          "output_type": "execute_result",
          "data": {
            "text/plain": [
              "band_name    0\n",
              "fans         0\n",
              "formed       0\n",
              "origin       0\n",
              "split        0\n",
              "style        0\n",
              "dtype: int64"
            ]
          },
          "metadata": {},
          "execution_count": 387
        }
      ]
    },
    {
      "cell_type": "markdown",
      "metadata": {
        "id": "8wq8VS7Hfsvy"
      },
      "source": [
        "### Dados duplicados"
      ],
      "id": "8wq8VS7Hfsvy"
    },
    {
      "cell_type": "code",
      "metadata": {
        "colab": {
          "base_uri": "https://localhost:8080/"
        },
        "id": "wW-1-g3RZfSF",
        "outputId": "7b1a6cb7-ed19-456a-ea7e-3625f9555894"
      },
      "source": [
        "# verificando se existem nomes de bandas duplicados\n",
        "df[\"band_name\"].duplicated().sum()"
      ],
      "id": "wW-1-g3RZfSF",
      "execution_count": 388,
      "outputs": [
        {
          "output_type": "execute_result",
          "data": {
            "text/plain": [
              "51"
            ]
          },
          "metadata": {},
          "execution_count": 388
        }
      ]
    },
    {
      "cell_type": "code",
      "metadata": {
        "colab": {
          "base_uri": "https://localhost:8080/"
        },
        "id": "VAXEvIqgbana",
        "outputId": "100fd9ea-730c-453c-ee59-ee2582be966a"
      },
      "source": [
        "df.shape"
      ],
      "id": "VAXEvIqgbana",
      "execution_count": 389,
      "outputs": [
        {
          "output_type": "execute_result",
          "data": {
            "text/plain": [
              "(4992, 6)"
            ]
          },
          "metadata": {},
          "execution_count": 389
        }
      ]
    },
    {
      "cell_type": "code",
      "metadata": {
        "id": "LCECWTI5amCb"
      },
      "source": [
        "# removendo linhas com nome de banda duplicado\n",
        "df.drop_duplicates(subset=\"band_name\", keep='first', inplace=True)"
      ],
      "id": "LCECWTI5amCb",
      "execution_count": 390,
      "outputs": []
    },
    {
      "cell_type": "code",
      "metadata": {
        "colab": {
          "base_uri": "https://localhost:8080/"
        },
        "id": "nCrXULt_5IZ2",
        "outputId": "2af3419e-e088-481c-c6b6-18c3498b1010"
      },
      "source": [
        "df.shape"
      ],
      "id": "nCrXULt_5IZ2",
      "execution_count": 391,
      "outputs": [
        {
          "output_type": "execute_result",
          "data": {
            "text/plain": [
              "(4941, 6)"
            ]
          },
          "metadata": {},
          "execution_count": 391
        }
      ]
    },
    {
      "cell_type": "markdown",
      "metadata": {
        "id": "Y9kKj5hYfyEP"
      },
      "source": [
        "### Outros tratamentos"
      ],
      "id": "Y9kKj5hYfyEP"
    },
    {
      "cell_type": "markdown",
      "metadata": {
        "id": "9mxa0aLryBER"
      },
      "source": [
        "##### Removendo bandas sem data de criação"
      ],
      "id": "9mxa0aLryBER"
    },
    {
      "cell_type": "markdown",
      "metadata": {
        "id": "99wayzA9cHx1"
      },
      "source": [
        "Linhas com o caractere \"-\" em qualquer coluna indica que aquele dado não está disponível. Na coluna \"split\" não precisa necessáriamente ser tratado mas na coluna \"formed\" sim pois não tem indicação de qual ano a banda foi criada."
      ],
      "id": "99wayzA9cHx1"
    },
    {
      "cell_type": "code",
      "metadata": {
        "colab": {
          "base_uri": "https://localhost:8080/",
          "height": 0
        },
        "id": "C1XwcpL3enFZ",
        "outputId": "16ff30fa-b23d-4055-a82b-65251ac981e9"
      },
      "source": [
        "df[df['formed'] == '-']"
      ],
      "id": "C1XwcpL3enFZ",
      "execution_count": 392,
      "outputs": [
        {
          "output_type": "execute_result",
          "data": {
            "text/html": [
              "<div>\n",
              "<style scoped>\n",
              "    .dataframe tbody tr th:only-of-type {\n",
              "        vertical-align: middle;\n",
              "    }\n",
              "\n",
              "    .dataframe tbody tr th {\n",
              "        vertical-align: top;\n",
              "    }\n",
              "\n",
              "    .dataframe thead th {\n",
              "        text-align: right;\n",
              "    }\n",
              "</style>\n",
              "<table border=\"1\" class=\"dataframe\">\n",
              "  <thead>\n",
              "    <tr style=\"text-align: right;\">\n",
              "      <th></th>\n",
              "      <th>band_name</th>\n",
              "      <th>fans</th>\n",
              "      <th>formed</th>\n",
              "      <th>origin</th>\n",
              "      <th>split</th>\n",
              "      <th>style</th>\n",
              "    </tr>\n",
              "  </thead>\n",
              "  <tbody>\n",
              "    <tr>\n",
              "      <th>4442</th>\n",
              "      <td>Throes Of Sanity</td>\n",
              "      <td>2</td>\n",
              "      <td>-</td>\n",
              "      <td>USA</td>\n",
              "      <td>-</td>\n",
              "      <td>Us power</td>\n",
              "    </tr>\n",
              "    <tr>\n",
              "      <th>4599</th>\n",
              "      <td>Doomocracy</td>\n",
              "      <td>1</td>\n",
              "      <td>-</td>\n",
              "      <td>Greece</td>\n",
              "      <td>-</td>\n",
              "      <td>Doom</td>\n",
              "    </tr>\n",
              "    <tr>\n",
              "      <th>4821</th>\n",
              "      <td>Rustless</td>\n",
              "      <td>1</td>\n",
              "      <td>-</td>\n",
              "      <td>Italy</td>\n",
              "      <td>-</td>\n",
              "      <td>Heavy</td>\n",
              "    </tr>\n",
              "    <tr>\n",
              "      <th>4948</th>\n",
              "      <td>Weapon UK</td>\n",
              "      <td>1</td>\n",
              "      <td>-</td>\n",
              "      <td>United Kingdom</td>\n",
              "      <td>-</td>\n",
              "      <td>New wave of british heavy,Heavy</td>\n",
              "    </tr>\n",
              "  </tbody>\n",
              "</table>\n",
              "</div>"
            ],
            "text/plain": [
              "             band_name  fans  ... split                            style\n",
              "4442  Throes Of Sanity     2  ...     -                         Us power\n",
              "4599        Doomocracy     1  ...     -                             Doom\n",
              "4821          Rustless     1  ...     -                            Heavy\n",
              "4948         Weapon UK     1  ...     -  New wave of british heavy,Heavy\n",
              "\n",
              "[4 rows x 6 columns]"
            ]
          },
          "metadata": {},
          "execution_count": 392
        }
      ]
    },
    {
      "cell_type": "code",
      "metadata": {
        "execution": {
          "iopub.execute_input": "2021-10-13T18:20:23.384066Z",
          "iopub.status.busy": "2021-10-13T18:20:23.384066Z",
          "iopub.status.idle": "2021-10-13T18:20:23.398077Z",
          "shell.execute_reply": "2021-10-13T18:20:23.398077Z",
          "shell.execute_reply.started": "2021-10-13T18:20:23.384066Z"
        },
        "id": "49bf1c1b",
        "colab": {
          "base_uri": "https://localhost:8080/"
        },
        "outputId": "137201b4-ab9b-4f1f-8ddd-c3be7740cd72"
      },
      "source": [
        "indexNaNFormed = df[df['formed'] == '-'].index\n",
        "indexNaNFormed"
      ],
      "id": "49bf1c1b",
      "execution_count": 393,
      "outputs": [
        {
          "output_type": "execute_result",
          "data": {
            "text/plain": [
              "Int64Index([4442, 4599, 4821, 4948], dtype='int64')"
            ]
          },
          "metadata": {},
          "execution_count": 393
        }
      ]
    },
    {
      "cell_type": "code",
      "metadata": {
        "id": "8RGd02TpcZvW"
      },
      "source": [
        "# como são poucas linhas, vamos removê-las\n",
        "df.drop(indexNaNFormed , inplace=True)"
      ],
      "id": "8RGd02TpcZvW",
      "execution_count": 394,
      "outputs": []
    },
    {
      "cell_type": "code",
      "metadata": {
        "colab": {
          "base_uri": "https://localhost:8080/"
        },
        "id": "gHoLRzhgetZr",
        "outputId": "02c703b1-57ff-442f-b7a7-4e2ba2e40603"
      },
      "source": [
        "df.shape"
      ],
      "id": "gHoLRzhgetZr",
      "execution_count": 395,
      "outputs": [
        {
          "output_type": "execute_result",
          "data": {
            "text/plain": [
              "(4937, 6)"
            ]
          },
          "metadata": {},
          "execution_count": 395
        }
      ]
    },
    {
      "cell_type": "markdown",
      "metadata": {
        "id": "FhS8C3pThCoF"
      },
      "source": [
        "##### Separando subgêneros"
      ],
      "id": "FhS8C3pThCoF"
    },
    {
      "cell_type": "markdown",
      "metadata": {
        "id": "TBvuLzsSf6jT"
      },
      "source": [
        "A coluna \"*style*\" pode conter mais de um subgênero, então vamos dividí-los para que fique melhor a visualização"
      ],
      "id": "TBvuLzsSf6jT"
    },
    {
      "cell_type": "code",
      "metadata": {
        "colab": {
          "base_uri": "https://localhost:8080/"
        },
        "id": "FQaZ2WxOgUQM",
        "outputId": "c0915b68-363b-45a0-b782-46edf7244e0b"
      },
      "source": [
        "generos = df['style'].str.split(',', expand = True)\n",
        "generos.count()"
      ],
      "id": "FQaZ2WxOgUQM",
      "execution_count": 396,
      "outputs": [
        {
          "output_type": "execute_result",
          "data": {
            "text/plain": [
              "0    4937\n",
              "1    2152\n",
              "2     434\n",
              "3      80\n",
              "4      15\n",
              "5       3\n",
              "dtype: int64"
            ]
          },
          "metadata": {},
          "execution_count": 396
        }
      ]
    },
    {
      "cell_type": "code",
      "metadata": {
        "colab": {
          "base_uri": "https://localhost:8080/",
          "height": 204
        },
        "id": "HHmsI18th4rs",
        "outputId": "202f5f24-0e84-4784-9898-107b5fd2ba84"
      },
      "source": [
        "df.head()"
      ],
      "id": "HHmsI18th4rs",
      "execution_count": 397,
      "outputs": [
        {
          "output_type": "execute_result",
          "data": {
            "text/html": [
              "<div>\n",
              "<style scoped>\n",
              "    .dataframe tbody tr th:only-of-type {\n",
              "        vertical-align: middle;\n",
              "    }\n",
              "\n",
              "    .dataframe tbody tr th {\n",
              "        vertical-align: top;\n",
              "    }\n",
              "\n",
              "    .dataframe thead th {\n",
              "        text-align: right;\n",
              "    }\n",
              "</style>\n",
              "<table border=\"1\" class=\"dataframe\">\n",
              "  <thead>\n",
              "    <tr style=\"text-align: right;\">\n",
              "      <th></th>\n",
              "      <th>band_name</th>\n",
              "      <th>fans</th>\n",
              "      <th>formed</th>\n",
              "      <th>origin</th>\n",
              "      <th>split</th>\n",
              "      <th>style</th>\n",
              "    </tr>\n",
              "  </thead>\n",
              "  <tbody>\n",
              "    <tr>\n",
              "      <th>0</th>\n",
              "      <td>Iron Maiden</td>\n",
              "      <td>4195</td>\n",
              "      <td>1975</td>\n",
              "      <td>United Kingdom</td>\n",
              "      <td>-</td>\n",
              "      <td>New wave of british heavy,Heavy</td>\n",
              "    </tr>\n",
              "    <tr>\n",
              "      <th>1</th>\n",
              "      <td>Opeth</td>\n",
              "      <td>4147</td>\n",
              "      <td>1990</td>\n",
              "      <td>Sweden</td>\n",
              "      <td>1990</td>\n",
              "      <td>Extreme progressive,Progressive rock,Progressive</td>\n",
              "    </tr>\n",
              "    <tr>\n",
              "      <th>2</th>\n",
              "      <td>Metallica</td>\n",
              "      <td>3712</td>\n",
              "      <td>1981</td>\n",
              "      <td>USA</td>\n",
              "      <td>-</td>\n",
              "      <td>Heavy,Bay area thrash</td>\n",
              "    </tr>\n",
              "    <tr>\n",
              "      <th>3</th>\n",
              "      <td>Megadeth</td>\n",
              "      <td>3105</td>\n",
              "      <td>1983</td>\n",
              "      <td>USA</td>\n",
              "      <td>1983</td>\n",
              "      <td>Thrash,Heavy,Hard rock</td>\n",
              "    </tr>\n",
              "    <tr>\n",
              "      <th>4</th>\n",
              "      <td>Amon Amarth</td>\n",
              "      <td>3054</td>\n",
              "      <td>1988</td>\n",
              "      <td>Sweden</td>\n",
              "      <td>-</td>\n",
              "      <td>Melodic death</td>\n",
              "    </tr>\n",
              "  </tbody>\n",
              "</table>\n",
              "</div>"
            ],
            "text/plain": [
              "     band_name  fans  ... split                                             style\n",
              "0  Iron Maiden  4195  ...     -                   New wave of british heavy,Heavy\n",
              "1        Opeth  4147  ...  1990  Extreme progressive,Progressive rock,Progressive\n",
              "2    Metallica  3712  ...     -                             Heavy,Bay area thrash\n",
              "3     Megadeth  3105  ...  1983                            Thrash,Heavy,Hard rock\n",
              "4  Amon Amarth  3054  ...     -                                     Melodic death\n",
              "\n",
              "[5 rows x 6 columns]"
            ]
          },
          "metadata": {},
          "execution_count": 397
        }
      ]
    },
    {
      "cell_type": "markdown",
      "metadata": {
        "id": "lmLCHUNihTo2"
      },
      "source": [
        "Como as bandas podem ter até 5 subgêneros, mas nem a metade das bandas possui mais de 1 gênero. Então vamos manter pelo menos um subgênero principal e outro secundário."
      ],
      "id": "lmLCHUNihTo2"
    },
    {
      "cell_type": "code",
      "metadata": {
        "colab": {
          "base_uri": "https://localhost:8080/",
          "height": 255
        },
        "id": "G_UBzmn0htgv",
        "outputId": "02f38c98-7e94-4a60-c5cd-39e5328c595e"
      },
      "source": [
        "df['main_style'] = generos[0]\n",
        "df['secondary_style'] = generos[1]\n",
        "\n",
        "df.head()"
      ],
      "id": "G_UBzmn0htgv",
      "execution_count": 398,
      "outputs": [
        {
          "output_type": "execute_result",
          "data": {
            "text/html": [
              "<div>\n",
              "<style scoped>\n",
              "    .dataframe tbody tr th:only-of-type {\n",
              "        vertical-align: middle;\n",
              "    }\n",
              "\n",
              "    .dataframe tbody tr th {\n",
              "        vertical-align: top;\n",
              "    }\n",
              "\n",
              "    .dataframe thead th {\n",
              "        text-align: right;\n",
              "    }\n",
              "</style>\n",
              "<table border=\"1\" class=\"dataframe\">\n",
              "  <thead>\n",
              "    <tr style=\"text-align: right;\">\n",
              "      <th></th>\n",
              "      <th>band_name</th>\n",
              "      <th>fans</th>\n",
              "      <th>formed</th>\n",
              "      <th>origin</th>\n",
              "      <th>split</th>\n",
              "      <th>style</th>\n",
              "      <th>main_style</th>\n",
              "      <th>secondary_style</th>\n",
              "    </tr>\n",
              "  </thead>\n",
              "  <tbody>\n",
              "    <tr>\n",
              "      <th>0</th>\n",
              "      <td>Iron Maiden</td>\n",
              "      <td>4195</td>\n",
              "      <td>1975</td>\n",
              "      <td>United Kingdom</td>\n",
              "      <td>-</td>\n",
              "      <td>New wave of british heavy,Heavy</td>\n",
              "      <td>New wave of british heavy</td>\n",
              "      <td>Heavy</td>\n",
              "    </tr>\n",
              "    <tr>\n",
              "      <th>1</th>\n",
              "      <td>Opeth</td>\n",
              "      <td>4147</td>\n",
              "      <td>1990</td>\n",
              "      <td>Sweden</td>\n",
              "      <td>1990</td>\n",
              "      <td>Extreme progressive,Progressive rock,Progressive</td>\n",
              "      <td>Extreme progressive</td>\n",
              "      <td>Progressive rock</td>\n",
              "    </tr>\n",
              "    <tr>\n",
              "      <th>2</th>\n",
              "      <td>Metallica</td>\n",
              "      <td>3712</td>\n",
              "      <td>1981</td>\n",
              "      <td>USA</td>\n",
              "      <td>-</td>\n",
              "      <td>Heavy,Bay area thrash</td>\n",
              "      <td>Heavy</td>\n",
              "      <td>Bay area thrash</td>\n",
              "    </tr>\n",
              "    <tr>\n",
              "      <th>3</th>\n",
              "      <td>Megadeth</td>\n",
              "      <td>3105</td>\n",
              "      <td>1983</td>\n",
              "      <td>USA</td>\n",
              "      <td>1983</td>\n",
              "      <td>Thrash,Heavy,Hard rock</td>\n",
              "      <td>Thrash</td>\n",
              "      <td>Heavy</td>\n",
              "    </tr>\n",
              "    <tr>\n",
              "      <th>4</th>\n",
              "      <td>Amon Amarth</td>\n",
              "      <td>3054</td>\n",
              "      <td>1988</td>\n",
              "      <td>Sweden</td>\n",
              "      <td>-</td>\n",
              "      <td>Melodic death</td>\n",
              "      <td>Melodic death</td>\n",
              "      <td>None</td>\n",
              "    </tr>\n",
              "  </tbody>\n",
              "</table>\n",
              "</div>"
            ],
            "text/plain": [
              "     band_name  fans  ...                 main_style   secondary_style\n",
              "0  Iron Maiden  4195  ...  New wave of british heavy             Heavy\n",
              "1        Opeth  4147  ...        Extreme progressive  Progressive rock\n",
              "2    Metallica  3712  ...                      Heavy   Bay area thrash\n",
              "3     Megadeth  3105  ...                     Thrash             Heavy\n",
              "4  Amon Amarth  3054  ...              Melodic death              None\n",
              "\n",
              "[5 rows x 8 columns]"
            ]
          },
          "metadata": {},
          "execution_count": 398
        }
      ]
    },
    {
      "cell_type": "code",
      "metadata": {
        "colab": {
          "base_uri": "https://localhost:8080/"
        },
        "id": "dSi_Cupz5o1g",
        "outputId": "0b92934b-dda8-4082-c591-03c259b3ccda"
      },
      "source": [
        "df.shape"
      ],
      "id": "dSi_Cupz5o1g",
      "execution_count": 399,
      "outputs": [
        {
          "output_type": "execute_result",
          "data": {
            "text/plain": [
              "(4937, 8)"
            ]
          },
          "metadata": {},
          "execution_count": 399
        }
      ]
    },
    {
      "cell_type": "markdown",
      "metadata": {
        "id": "3nMIz5fEyORO"
      },
      "source": [
        "##### Tratando país de origem"
      ],
      "id": "3nMIz5fEyORO"
    },
    {
      "cell_type": "markdown",
      "metadata": {
        "id": "oHEvfatezKzR"
      },
      "source": [
        "Os dados dos países de origem não estão padronizados de acordo com a [ISO 3166-1 alpha-3 ](https://en.wikipedia.org/wiki/ISO_3166-1_alpha-3), é necessário tratá-los.\n",
        "\n",
        "Alguns exemplos de dados não tratados: \"Canada, France\", \"Korean, South\", etc. Vamos dividir esse dado e manter apenas o primeiro antes da vírgula."
      ],
      "id": "oHEvfatezKzR"
    },
    {
      "cell_type": "code",
      "metadata": {
        "colab": {
          "base_uri": "https://localhost:8080/"
        },
        "id": "bZsBJ13NyS8p",
        "outputId": "4bc492a6-a056-4dd2-c08c-625bcf4dae5b"
      },
      "source": [
        "df['origin'].value_counts()"
      ],
      "id": "bZsBJ13NyS8p",
      "execution_count": 400,
      "outputs": [
        {
          "output_type": "execute_result",
          "data": {
            "text/plain": [
              "USA               1122\n",
              "Sweden             469\n",
              "Germany            392\n",
              "United Kingdom     338\n",
              "Finland            300\n",
              "                  ... \n",
              "Iran, Norway         1\n",
              "Colombia, USA        1\n",
              "Canada, France       1\n",
              "Azerbaijan           1\n",
              "Korea, South         1\n",
              "Name: origin, Length: 113, dtype: int64"
            ]
          },
          "metadata": {},
          "execution_count": 400
        }
      ]
    },
    {
      "cell_type": "code",
      "metadata": {
        "colab": {
          "base_uri": "https://localhost:8080/"
        },
        "id": "6DfN4VHy7w6W",
        "outputId": "40d39809-d971-4c10-cc75-9605d0a9dc0c"
      },
      "source": [
        "df.shape"
      ],
      "id": "6DfN4VHy7w6W",
      "execution_count": 401,
      "outputs": [
        {
          "output_type": "execute_result",
          "data": {
            "text/plain": [
              "(4937, 8)"
            ]
          },
          "metadata": {},
          "execution_count": 401
        }
      ]
    },
    {
      "cell_type": "markdown",
      "metadata": {
        "id": "6KlngyOAAgSb"
      },
      "source": [
        "Como estaremos usando uma [biblioteca](https://github.com/yaph/geonamescache) que precisam dos dados dos países (coluna \"origin\") no padrão ISO, precisamos tratar os valores que não estão conforme este padrão."
      ],
      "id": "6KlngyOAAgSb"
    },
    {
      "cell_type": "code",
      "metadata": {
        "colab": {
          "base_uri": "https://localhost:8080/"
        },
        "id": "5Q0bsfmrAVot",
        "outputId": "4ce563c1-3112-46cb-fd93-2646d01e15cb"
      },
      "source": [
        "# printa todos os países que não estão no padrão ISO\n",
        "sorted(set(df.origin.unique()) - set(countries.keys()))"
      ],
      "id": "5Q0bsfmrAVot",
      "execution_count": 422,
      "outputs": [
        {
          "output_type": "execute_result",
          "data": {
            "text/plain": [
              "['Australia, United Kingdom',\n",
              " 'Belgium, United Kingdom',\n",
              " 'Bosnia and Herzegovina, Croatia',\n",
              " 'Canada, France',\n",
              " 'Colombia, USA',\n",
              " 'Czech Republic',\n",
              " 'Denmark, USA',\n",
              " 'Finland, Sweden',\n",
              " 'Greece, Sweden',\n",
              " 'Greece, USA',\n",
              " 'Hungary, United Kingdom',\n",
              " 'Iran, Norway',\n",
              " 'Iraq, USA',\n",
              " 'Israel, Germany',\n",
              " 'Israel, The Netherlands',\n",
              " 'Italy, Spain',\n",
              " 'Kyrgyzstan, Germany',\n",
              " 'Lithuania, Germany',\n",
              " 'Lithuania, United Kingdom',\n",
              " 'Macedonia',\n",
              " 'Mexico, USA',\n",
              " 'Norway, Finland',\n",
              " 'Poland, Sweden',\n",
              " 'Portugal, United Kingdom',\n",
              " 'Russia, Canada',\n",
              " 'Slovak Republic',\n",
              " 'Swaziland',\n",
              " 'Sweden, Finland',\n",
              " 'The Netherlands',\n",
              " 'Tunisia, France',\n",
              " 'UAE',\n",
              " 'USA',\n",
              " 'USA, Cyprus',\n",
              " 'Ukraine, Canada',\n",
              " 'United Kingdom, Greece',\n",
              " 'United Kingdom, USA']"
            ]
          },
          "metadata": {},
          "execution_count": 422
        }
      ]
    },
    {
      "cell_type": "markdown",
      "metadata": {
        "id": "tNSgH_Z887dX"
      },
      "source": [
        "Esse *dataset* tem um registro em específico com o dado da coluna \"origin\" igual à \"South, Korean\". Antes de fazermos o split dos dados da coluna \"origin\", vamos tratar esse registro individualmente."
      ],
      "id": "tNSgH_Z887dX"
    },
    {
      "cell_type": "code",
      "metadata": {
        "colab": {
          "base_uri": "https://localhost:8080/",
          "height": 80
        },
        "id": "25CzMKQZ9s3q",
        "outputId": "055c4c94-0087-43e7-afa7-301e99025dd5"
      },
      "source": [
        "df[df['origin'] == 'Korea, South']"
      ],
      "id": "25CzMKQZ9s3q",
      "execution_count": 402,
      "outputs": [
        {
          "output_type": "execute_result",
          "data": {
            "text/html": [
              "<div>\n",
              "<style scoped>\n",
              "    .dataframe tbody tr th:only-of-type {\n",
              "        vertical-align: middle;\n",
              "    }\n",
              "\n",
              "    .dataframe tbody tr th {\n",
              "        vertical-align: top;\n",
              "    }\n",
              "\n",
              "    .dataframe thead th {\n",
              "        text-align: right;\n",
              "    }\n",
              "</style>\n",
              "<table border=\"1\" class=\"dataframe\">\n",
              "  <thead>\n",
              "    <tr style=\"text-align: right;\">\n",
              "      <th></th>\n",
              "      <th>band_name</th>\n",
              "      <th>fans</th>\n",
              "      <th>formed</th>\n",
              "      <th>origin</th>\n",
              "      <th>split</th>\n",
              "      <th>style</th>\n",
              "      <th>main_style</th>\n",
              "      <th>secondary_style</th>\n",
              "    </tr>\n",
              "  </thead>\n",
              "  <tbody>\n",
              "    <tr>\n",
              "      <th>2094</th>\n",
              "      <td>Jambinai</td>\n",
              "      <td>17</td>\n",
              "      <td>2009</td>\n",
              "      <td>Korea, South</td>\n",
              "      <td>-</td>\n",
              "      <td>Folk,Post-metal</td>\n",
              "      <td>Folk</td>\n",
              "      <td>Post-metal</td>\n",
              "    </tr>\n",
              "  </tbody>\n",
              "</table>\n",
              "</div>"
            ],
            "text/plain": [
              "     band_name  fans formed  ...            style main_style secondary_style\n",
              "2094  Jambinai    17   2009  ...  Folk,Post-metal       Folk      Post-metal\n",
              "\n",
              "[1 rows x 8 columns]"
            ]
          },
          "metadata": {},
          "execution_count": 402
        }
      ]
    },
    {
      "cell_type": "code",
      "metadata": {
        "id": "wgletNGj-cbI"
      },
      "source": [
        "df.loc[df['origin'] == 'Korea, South', 'origin'] = 'South Korea'"
      ],
      "id": "wgletNGj-cbI",
      "execution_count": 403,
      "outputs": []
    },
    {
      "cell_type": "code",
      "metadata": {
        "colab": {
          "base_uri": "https://localhost:8080/",
          "height": 80
        },
        "id": "VKNinwam-sdq",
        "outputId": "378c3289-e7cb-4b26-a791-b47ea7820551"
      },
      "source": [
        "df[df['origin'].str.contains('Korea')]"
      ],
      "id": "VKNinwam-sdq",
      "execution_count": 404,
      "outputs": [
        {
          "output_type": "execute_result",
          "data": {
            "text/html": [
              "<div>\n",
              "<style scoped>\n",
              "    .dataframe tbody tr th:only-of-type {\n",
              "        vertical-align: middle;\n",
              "    }\n",
              "\n",
              "    .dataframe tbody tr th {\n",
              "        vertical-align: top;\n",
              "    }\n",
              "\n",
              "    .dataframe thead th {\n",
              "        text-align: right;\n",
              "    }\n",
              "</style>\n",
              "<table border=\"1\" class=\"dataframe\">\n",
              "  <thead>\n",
              "    <tr style=\"text-align: right;\">\n",
              "      <th></th>\n",
              "      <th>band_name</th>\n",
              "      <th>fans</th>\n",
              "      <th>formed</th>\n",
              "      <th>origin</th>\n",
              "      <th>split</th>\n",
              "      <th>style</th>\n",
              "      <th>main_style</th>\n",
              "      <th>secondary_style</th>\n",
              "    </tr>\n",
              "  </thead>\n",
              "  <tbody>\n",
              "    <tr>\n",
              "      <th>2094</th>\n",
              "      <td>Jambinai</td>\n",
              "      <td>17</td>\n",
              "      <td>2009</td>\n",
              "      <td>South Korea</td>\n",
              "      <td>-</td>\n",
              "      <td>Folk,Post-metal</td>\n",
              "      <td>Folk</td>\n",
              "      <td>Post-metal</td>\n",
              "    </tr>\n",
              "  </tbody>\n",
              "</table>\n",
              "</div>"
            ],
            "text/plain": [
              "     band_name  fans formed  ...            style main_style secondary_style\n",
              "2094  Jambinai    17   2009  ...  Folk,Post-metal       Folk      Post-metal\n",
              "\n",
              "[1 rows x 8 columns]"
            ]
          },
          "metadata": {},
          "execution_count": 404
        }
      ]
    },
    {
      "cell_type": "code",
      "metadata": {
        "id": "XlGvo4Ai8Tt7"
      },
      "source": [
        "# obtendo index das bandas que possuem dados da coluna \"origin\" mal formatados\n",
        "indexes = []\n",
        "for index, band in df.iterrows():\n",
        "    cell_origin = band['origin']\n",
        "    countries = cell_origin.split(',')\n",
        "    if (len(countries) > 1):\n",
        "        indexes.append(index)"
      ],
      "id": "XlGvo4Ai8Tt7",
      "execution_count": null,
      "outputs": []
    },
    {
      "cell_type": "code",
      "metadata": {
        "colab": {
          "base_uri": "https://localhost:8080/",
          "height": 359
        },
        "id": "tbweX-US8mEo",
        "outputId": "c660b768-17ef-4513-93e3-1b43c68cb73d"
      },
      "source": [
        "df[df.index.isin(indexes)].head(10)"
      ],
      "id": "tbweX-US8mEo",
      "execution_count": 416,
      "outputs": [
        {
          "output_type": "execute_result",
          "data": {
            "text/html": [
              "<div>\n",
              "<style scoped>\n",
              "    .dataframe tbody tr th:only-of-type {\n",
              "        vertical-align: middle;\n",
              "    }\n",
              "\n",
              "    .dataframe tbody tr th {\n",
              "        vertical-align: top;\n",
              "    }\n",
              "\n",
              "    .dataframe thead th {\n",
              "        text-align: right;\n",
              "    }\n",
              "</style>\n",
              "<table border=\"1\" class=\"dataframe\">\n",
              "  <thead>\n",
              "    <tr style=\"text-align: right;\">\n",
              "      <th></th>\n",
              "      <th>band_name</th>\n",
              "      <th>fans</th>\n",
              "      <th>formed</th>\n",
              "      <th>origin</th>\n",
              "      <th>split</th>\n",
              "      <th>style</th>\n",
              "      <th>main_style</th>\n",
              "      <th>secondary_style</th>\n",
              "    </tr>\n",
              "  </thead>\n",
              "  <tbody>\n",
              "    <tr>\n",
              "      <th>129</th>\n",
              "      <td>Motörhead</td>\n",
              "      <td>875</td>\n",
              "      <td>1975</td>\n",
              "      <td>United Kingdom, USA</td>\n",
              "      <td>1975</td>\n",
              "      <td>Heavy</td>\n",
              "      <td>Heavy</td>\n",
              "      <td>None</td>\n",
              "    </tr>\n",
              "    <tr>\n",
              "      <th>147</th>\n",
              "      <td>Ozzy Osbourne</td>\n",
              "      <td>750</td>\n",
              "      <td>1979</td>\n",
              "      <td>United Kingdom, USA</td>\n",
              "      <td>1979</td>\n",
              "      <td>Heavy</td>\n",
              "      <td>Heavy</td>\n",
              "      <td>None</td>\n",
              "    </tr>\n",
              "    <tr>\n",
              "      <th>159</th>\n",
              "      <td>King Diamond</td>\n",
              "      <td>641</td>\n",
              "      <td>1985</td>\n",
              "      <td>Denmark, USA</td>\n",
              "      <td>1985</td>\n",
              "      <td>Heavy</td>\n",
              "      <td>Heavy</td>\n",
              "      <td>None</td>\n",
              "    </tr>\n",
              "    <tr>\n",
              "      <th>194</th>\n",
              "      <td>Mercyful Fate</td>\n",
              "      <td>525</td>\n",
              "      <td>1981</td>\n",
              "      <td>Denmark, USA</td>\n",
              "      <td>-</td>\n",
              "      <td>Heavy,First wave of black</td>\n",
              "      <td>Heavy</td>\n",
              "      <td>First wave of black</td>\n",
              "    </tr>\n",
              "    <tr>\n",
              "      <th>295</th>\n",
              "      <td>Melechesh</td>\n",
              "      <td>307</td>\n",
              "      <td>1993</td>\n",
              "      <td>Israel, The Netherlands</td>\n",
              "      <td>1993</td>\n",
              "      <td>Melodic black,Folk</td>\n",
              "      <td>Melodic black</td>\n",
              "      <td>Folk</td>\n",
              "    </tr>\n",
              "    <tr>\n",
              "      <th>319</th>\n",
              "      <td>Myrath</td>\n",
              "      <td>275</td>\n",
              "      <td>2001</td>\n",
              "      <td>Tunisia, France</td>\n",
              "      <td>2001</td>\n",
              "      <td>Progressive,Oriental folk</td>\n",
              "      <td>Progressive</td>\n",
              "      <td>Oriental folk</td>\n",
              "    </tr>\n",
              "    <tr>\n",
              "      <th>448</th>\n",
              "      <td>Inquisition</td>\n",
              "      <td>184</td>\n",
              "      <td>1988</td>\n",
              "      <td>Colombia, USA</td>\n",
              "      <td>-</td>\n",
              "      <td>Black,Thrash</td>\n",
              "      <td>Black</td>\n",
              "      <td>Thrash</td>\n",
              "    </tr>\n",
              "    <tr>\n",
              "      <th>459</th>\n",
              "      <td>Thy Catafalque</td>\n",
              "      <td>177</td>\n",
              "      <td>1998</td>\n",
              "      <td>Hungary, United Kingdom</td>\n",
              "      <td>1998</td>\n",
              "      <td>Avantgarde black</td>\n",
              "      <td>Avantgarde black</td>\n",
              "      <td>None</td>\n",
              "    </tr>\n",
              "    <tr>\n",
              "      <th>545</th>\n",
              "      <td>Nightrage</td>\n",
              "      <td>138</td>\n",
              "      <td>2000</td>\n",
              "      <td>Greece, Sweden</td>\n",
              "      <td>2000</td>\n",
              "      <td>Melodic death</td>\n",
              "      <td>Melodic death</td>\n",
              "      <td>None</td>\n",
              "    </tr>\n",
              "    <tr>\n",
              "      <th>557</th>\n",
              "      <td>Sinergy</td>\n",
              "      <td>134</td>\n",
              "      <td>1997</td>\n",
              "      <td>Sweden, Finland</td>\n",
              "      <td>1997</td>\n",
              "      <td>Heavy,Power</td>\n",
              "      <td>Heavy</td>\n",
              "      <td>Power</td>\n",
              "    </tr>\n",
              "  </tbody>\n",
              "</table>\n",
              "</div>"
            ],
            "text/plain": [
              "          band_name  fans  ...        main_style      secondary_style\n",
              "129       Motörhead   875  ...             Heavy                 None\n",
              "147   Ozzy Osbourne   750  ...             Heavy                 None\n",
              "159    King Diamond   641  ...             Heavy                 None\n",
              "194   Mercyful Fate   525  ...             Heavy  First wave of black\n",
              "295       Melechesh   307  ...     Melodic black                 Folk\n",
              "319          Myrath   275  ...       Progressive        Oriental folk\n",
              "448     Inquisition   184  ...             Black               Thrash\n",
              "459  Thy Catafalque   177  ...  Avantgarde black                 None\n",
              "545       Nightrage   138  ...     Melodic death                 None\n",
              "557         Sinergy   134  ...             Heavy                Power\n",
              "\n",
              "[10 rows x 8 columns]"
            ]
          },
          "metadata": {},
          "execution_count": 416
        }
      ]
    },
    {
      "cell_type": "code",
      "metadata": {
        "colab": {
          "base_uri": "https://localhost:8080/"
        },
        "id": "TrHdOG3J0LgI",
        "outputId": "be69c96c-37f1-4d8c-dea6-6d7de527463e"
      },
      "source": [
        "df[\"country\"] = df['origin'].str.split(',').str[0]\n",
        "df.shape"
      ],
      "id": "TrHdOG3J0LgI",
      "execution_count": 417,
      "outputs": [
        {
          "output_type": "execute_result",
          "data": {
            "text/plain": [
              "(4937, 9)"
            ]
          },
          "metadata": {},
          "execution_count": 417
        }
      ]
    },
    {
      "cell_type": "code",
      "metadata": {
        "colab": {
          "base_uri": "https://localhost:8080/",
          "height": 478
        },
        "id": "3h8N2GAt8H-Q",
        "outputId": "5a65df4a-0c3e-488b-fcb0-e14d365a5dae"
      },
      "source": [
        "df[df.index.isin(indexes)].head(10)"
      ],
      "id": "3h8N2GAt8H-Q",
      "execution_count": 418,
      "outputs": [
        {
          "output_type": "execute_result",
          "data": {
            "text/html": [
              "<div>\n",
              "<style scoped>\n",
              "    .dataframe tbody tr th:only-of-type {\n",
              "        vertical-align: middle;\n",
              "    }\n",
              "\n",
              "    .dataframe tbody tr th {\n",
              "        vertical-align: top;\n",
              "    }\n",
              "\n",
              "    .dataframe thead th {\n",
              "        text-align: right;\n",
              "    }\n",
              "</style>\n",
              "<table border=\"1\" class=\"dataframe\">\n",
              "  <thead>\n",
              "    <tr style=\"text-align: right;\">\n",
              "      <th></th>\n",
              "      <th>band_name</th>\n",
              "      <th>fans</th>\n",
              "      <th>formed</th>\n",
              "      <th>origin</th>\n",
              "      <th>split</th>\n",
              "      <th>style</th>\n",
              "      <th>main_style</th>\n",
              "      <th>secondary_style</th>\n",
              "      <th>country</th>\n",
              "    </tr>\n",
              "  </thead>\n",
              "  <tbody>\n",
              "    <tr>\n",
              "      <th>129</th>\n",
              "      <td>Motörhead</td>\n",
              "      <td>875</td>\n",
              "      <td>1975</td>\n",
              "      <td>United Kingdom, USA</td>\n",
              "      <td>1975</td>\n",
              "      <td>Heavy</td>\n",
              "      <td>Heavy</td>\n",
              "      <td>None</td>\n",
              "      <td>United Kingdom</td>\n",
              "    </tr>\n",
              "    <tr>\n",
              "      <th>147</th>\n",
              "      <td>Ozzy Osbourne</td>\n",
              "      <td>750</td>\n",
              "      <td>1979</td>\n",
              "      <td>United Kingdom, USA</td>\n",
              "      <td>1979</td>\n",
              "      <td>Heavy</td>\n",
              "      <td>Heavy</td>\n",
              "      <td>None</td>\n",
              "      <td>United Kingdom</td>\n",
              "    </tr>\n",
              "    <tr>\n",
              "      <th>159</th>\n",
              "      <td>King Diamond</td>\n",
              "      <td>641</td>\n",
              "      <td>1985</td>\n",
              "      <td>Denmark, USA</td>\n",
              "      <td>1985</td>\n",
              "      <td>Heavy</td>\n",
              "      <td>Heavy</td>\n",
              "      <td>None</td>\n",
              "      <td>Denmark</td>\n",
              "    </tr>\n",
              "    <tr>\n",
              "      <th>194</th>\n",
              "      <td>Mercyful Fate</td>\n",
              "      <td>525</td>\n",
              "      <td>1981</td>\n",
              "      <td>Denmark, USA</td>\n",
              "      <td>-</td>\n",
              "      <td>Heavy,First wave of black</td>\n",
              "      <td>Heavy</td>\n",
              "      <td>First wave of black</td>\n",
              "      <td>Denmark</td>\n",
              "    </tr>\n",
              "    <tr>\n",
              "      <th>295</th>\n",
              "      <td>Melechesh</td>\n",
              "      <td>307</td>\n",
              "      <td>1993</td>\n",
              "      <td>Israel, The Netherlands</td>\n",
              "      <td>1993</td>\n",
              "      <td>Melodic black,Folk</td>\n",
              "      <td>Melodic black</td>\n",
              "      <td>Folk</td>\n",
              "      <td>Israel</td>\n",
              "    </tr>\n",
              "    <tr>\n",
              "      <th>319</th>\n",
              "      <td>Myrath</td>\n",
              "      <td>275</td>\n",
              "      <td>2001</td>\n",
              "      <td>Tunisia, France</td>\n",
              "      <td>2001</td>\n",
              "      <td>Progressive,Oriental folk</td>\n",
              "      <td>Progressive</td>\n",
              "      <td>Oriental folk</td>\n",
              "      <td>Tunisia</td>\n",
              "    </tr>\n",
              "    <tr>\n",
              "      <th>448</th>\n",
              "      <td>Inquisition</td>\n",
              "      <td>184</td>\n",
              "      <td>1988</td>\n",
              "      <td>Colombia, USA</td>\n",
              "      <td>-</td>\n",
              "      <td>Black,Thrash</td>\n",
              "      <td>Black</td>\n",
              "      <td>Thrash</td>\n",
              "      <td>Colombia</td>\n",
              "    </tr>\n",
              "    <tr>\n",
              "      <th>459</th>\n",
              "      <td>Thy Catafalque</td>\n",
              "      <td>177</td>\n",
              "      <td>1998</td>\n",
              "      <td>Hungary, United Kingdom</td>\n",
              "      <td>1998</td>\n",
              "      <td>Avantgarde black</td>\n",
              "      <td>Avantgarde black</td>\n",
              "      <td>None</td>\n",
              "      <td>Hungary</td>\n",
              "    </tr>\n",
              "    <tr>\n",
              "      <th>545</th>\n",
              "      <td>Nightrage</td>\n",
              "      <td>138</td>\n",
              "      <td>2000</td>\n",
              "      <td>Greece, Sweden</td>\n",
              "      <td>2000</td>\n",
              "      <td>Melodic death</td>\n",
              "      <td>Melodic death</td>\n",
              "      <td>None</td>\n",
              "      <td>Greece</td>\n",
              "    </tr>\n",
              "    <tr>\n",
              "      <th>557</th>\n",
              "      <td>Sinergy</td>\n",
              "      <td>134</td>\n",
              "      <td>1997</td>\n",
              "      <td>Sweden, Finland</td>\n",
              "      <td>1997</td>\n",
              "      <td>Heavy,Power</td>\n",
              "      <td>Heavy</td>\n",
              "      <td>Power</td>\n",
              "      <td>Sweden</td>\n",
              "    </tr>\n",
              "  </tbody>\n",
              "</table>\n",
              "</div>"
            ],
            "text/plain": [
              "          band_name  fans  ...      secondary_style         country\n",
              "129       Motörhead   875  ...                 None  United Kingdom\n",
              "147   Ozzy Osbourne   750  ...                 None  United Kingdom\n",
              "159    King Diamond   641  ...                 None         Denmark\n",
              "194   Mercyful Fate   525  ...  First wave of black         Denmark\n",
              "295       Melechesh   307  ...                 Folk          Israel\n",
              "319          Myrath   275  ...        Oriental folk         Tunisia\n",
              "448     Inquisition   184  ...               Thrash        Colombia\n",
              "459  Thy Catafalque   177  ...                 None         Hungary\n",
              "545       Nightrage   138  ...                 None          Greece\n",
              "557         Sinergy   134  ...                Power          Sweden\n",
              "\n",
              "[10 rows x 9 columns]"
            ]
          },
          "metadata": {},
          "execution_count": 418
        }
      ]
    },
    {
      "cell_type": "code",
      "metadata": {
        "colab": {
          "base_uri": "https://localhost:8080/"
        },
        "id": "BOcPWbbH_9SL",
        "outputId": "f4a4d123-5c06-4e6b-eb8f-befb75070bc7"
      },
      "source": [
        "sorted(set(df.country.unique()) - set(countries.keys()))"
      ],
      "id": "BOcPWbbH_9SL",
      "execution_count": 421,
      "outputs": [
        {
          "output_type": "execute_result",
          "data": {
            "text/plain": [
              "['Czech Republic',\n",
              " 'Macedonia',\n",
              " 'Slovak Republic',\n",
              " 'Swaziland',\n",
              " 'The Netherlands',\n",
              " 'UAE',\n",
              " 'USA']"
            ]
          },
          "metadata": {},
          "execution_count": 421
        }
      ]
    },
    {
      "cell_type": "markdown",
      "metadata": {
        "id": "nRyYWNf4A8_-"
      },
      "source": [
        "Mesmo depois do tratamento, alguns países ainda não estão no padrão. Vamos tratá-los individualmente e acrescentar o código ISO em todos os registros do *dataframe* para que esses dados possam ser usados posteriormente."
      ],
      "id": "nRyYWNf4A8_-"
    },
    {
      "cell_type": "code",
      "metadata": {
        "colab": {
          "base_uri": "https://localhost:8080/",
          "height": 272
        },
        "id": "SwVC3raLCrFD",
        "outputId": "e9331e3e-3f66-4f34-9ba7-540532777632"
      },
      "source": [
        "# função da lib geonamescache para mapear o código da iso dado o nome do país\n",
        "mapper = country(from_key='name', to_key='iso3')\n",
        "\n",
        "country_index = {}\n",
        "country_index['Czech Republic'] = 'CZE'\n",
        "country_index['Slovak Republic'] = 'SVK'\n",
        "country_index['The Netherlands'] = 'NLD'\n",
        "country_index['UAE'] = 'ARE'\n",
        "country_index['USA'] = 'USA'\n",
        "country_index['Swaziland'] = 'SZ'\n",
        "country_index['Macedonia'] = 'MKD'\n",
        "\n",
        "df['iso3'] = df.country.apply(lambda x: country_index.get(x, mapper(x)))\n",
        "assert all(~df['iso3'].isna()) # confirmar que todos os registros possuem o dado da coluna \"iso3\"\n",
        "df.head()"
      ],
      "id": "SwVC3raLCrFD",
      "execution_count": 425,
      "outputs": [
        {
          "output_type": "execute_result",
          "data": {
            "text/html": [
              "<div>\n",
              "<style scoped>\n",
              "    .dataframe tbody tr th:only-of-type {\n",
              "        vertical-align: middle;\n",
              "    }\n",
              "\n",
              "    .dataframe tbody tr th {\n",
              "        vertical-align: top;\n",
              "    }\n",
              "\n",
              "    .dataframe thead th {\n",
              "        text-align: right;\n",
              "    }\n",
              "</style>\n",
              "<table border=\"1\" class=\"dataframe\">\n",
              "  <thead>\n",
              "    <tr style=\"text-align: right;\">\n",
              "      <th></th>\n",
              "      <th>band_name</th>\n",
              "      <th>fans</th>\n",
              "      <th>formed</th>\n",
              "      <th>origin</th>\n",
              "      <th>split</th>\n",
              "      <th>style</th>\n",
              "      <th>main_style</th>\n",
              "      <th>secondary_style</th>\n",
              "      <th>country</th>\n",
              "      <th>iso3</th>\n",
              "    </tr>\n",
              "  </thead>\n",
              "  <tbody>\n",
              "    <tr>\n",
              "      <th>0</th>\n",
              "      <td>Iron Maiden</td>\n",
              "      <td>4195</td>\n",
              "      <td>1975</td>\n",
              "      <td>United Kingdom</td>\n",
              "      <td>-</td>\n",
              "      <td>New wave of british heavy,Heavy</td>\n",
              "      <td>New wave of british heavy</td>\n",
              "      <td>Heavy</td>\n",
              "      <td>United Kingdom</td>\n",
              "      <td>GBR</td>\n",
              "    </tr>\n",
              "    <tr>\n",
              "      <th>1</th>\n",
              "      <td>Opeth</td>\n",
              "      <td>4147</td>\n",
              "      <td>1990</td>\n",
              "      <td>Sweden</td>\n",
              "      <td>1990</td>\n",
              "      <td>Extreme progressive,Progressive rock,Progressive</td>\n",
              "      <td>Extreme progressive</td>\n",
              "      <td>Progressive rock</td>\n",
              "      <td>Sweden</td>\n",
              "      <td>SWE</td>\n",
              "    </tr>\n",
              "    <tr>\n",
              "      <th>2</th>\n",
              "      <td>Metallica</td>\n",
              "      <td>3712</td>\n",
              "      <td>1981</td>\n",
              "      <td>USA</td>\n",
              "      <td>-</td>\n",
              "      <td>Heavy,Bay area thrash</td>\n",
              "      <td>Heavy</td>\n",
              "      <td>Bay area thrash</td>\n",
              "      <td>USA</td>\n",
              "      <td>USA</td>\n",
              "    </tr>\n",
              "    <tr>\n",
              "      <th>3</th>\n",
              "      <td>Megadeth</td>\n",
              "      <td>3105</td>\n",
              "      <td>1983</td>\n",
              "      <td>USA</td>\n",
              "      <td>1983</td>\n",
              "      <td>Thrash,Heavy,Hard rock</td>\n",
              "      <td>Thrash</td>\n",
              "      <td>Heavy</td>\n",
              "      <td>USA</td>\n",
              "      <td>USA</td>\n",
              "    </tr>\n",
              "    <tr>\n",
              "      <th>4</th>\n",
              "      <td>Amon Amarth</td>\n",
              "      <td>3054</td>\n",
              "      <td>1988</td>\n",
              "      <td>Sweden</td>\n",
              "      <td>-</td>\n",
              "      <td>Melodic death</td>\n",
              "      <td>Melodic death</td>\n",
              "      <td>None</td>\n",
              "      <td>Sweden</td>\n",
              "      <td>SWE</td>\n",
              "    </tr>\n",
              "  </tbody>\n",
              "</table>\n",
              "</div>"
            ],
            "text/plain": [
              "     band_name  fans formed  ...   secondary_style         country iso3\n",
              "0  Iron Maiden  4195   1975  ...             Heavy  United Kingdom  GBR\n",
              "1        Opeth  4147   1990  ...  Progressive rock          Sweden  SWE\n",
              "2    Metallica  3712   1981  ...   Bay area thrash             USA  USA\n",
              "3     Megadeth  3105   1983  ...             Heavy             USA  USA\n",
              "4  Amon Amarth  3054   1988  ...              None          Sweden  SWE\n",
              "\n",
              "[5 rows x 10 columns]"
            ]
          },
          "metadata": {},
          "execution_count": 425
        }
      ]
    },
    {
      "cell_type": "markdown",
      "metadata": {
        "id": "b688cdca",
        "tags": []
      },
      "source": [
        "### Definição\tde\ttipos"
      ],
      "id": "b688cdca"
    },
    {
      "cell_type": "code",
      "metadata": {
        "execution": {
          "iopub.execute_input": "2021-10-13T18:20:23.352036Z",
          "iopub.status.busy": "2021-10-13T18:20:23.352036Z",
          "iopub.status.idle": "2021-10-13T18:20:23.367050Z",
          "shell.execute_reply": "2021-10-13T18:20:23.366049Z",
          "shell.execute_reply.started": "2021-10-13T18:20:23.352036Z"
        },
        "id": "b3a52ab3",
        "tags": [],
        "colab": {
          "base_uri": "https://localhost:8080/"
        },
        "outputId": "9a3d3654-e508-4364-87a0-133e6f34221f"
      },
      "source": [
        "# visualizando tipos de dados por coluna\n",
        "df.dtypes"
      ],
      "id": "b3a52ab3",
      "execution_count": 426,
      "outputs": [
        {
          "output_type": "execute_result",
          "data": {
            "text/plain": [
              "band_name          object\n",
              "fans                int64\n",
              "formed             object\n",
              "origin             object\n",
              "split              object\n",
              "style              object\n",
              "main_style         object\n",
              "secondary_style    object\n",
              "country            object\n",
              "iso3               object\n",
              "dtype: object"
            ]
          },
          "metadata": {},
          "execution_count": 426
        }
      ]
    },
    {
      "cell_type": "code",
      "metadata": {
        "id": "lFYxhBvZUNuK"
      },
      "source": [
        "# ajustando tipos dos dados\n",
        "df['band_name'] = df['band_name'].astype('string')\n",
        "df['formed'] = df['formed'].astype('int64')\n",
        "df['origin'] = df['origin'].astype('string')\n",
        "df['style'] = df['style'].astype('string')\n",
        "df['main_style'] = df['main_style'].astype('string')\n",
        "df['secondary_style'] = df['secondary_style'].astype('string')\n",
        "df['country'] = df['country'].astype('string')\n",
        "df['iso3'] = df['iso3'].astype('string')"
      ],
      "id": "lFYxhBvZUNuK",
      "execution_count": 427,
      "outputs": []
    },
    {
      "cell_type": "code",
      "metadata": {
        "colab": {
          "base_uri": "https://localhost:8080/"
        },
        "id": "XFy0AOCFU7X0",
        "outputId": "16656990-cb00-46f2-f632-0f6e277b8513"
      },
      "source": [
        "df.dtypes"
      ],
      "id": "XFy0AOCFU7X0",
      "execution_count": 428,
      "outputs": [
        {
          "output_type": "execute_result",
          "data": {
            "text/plain": [
              "band_name          string\n",
              "fans                int64\n",
              "formed              int64\n",
              "origin             string\n",
              "split              object\n",
              "style              string\n",
              "main_style         string\n",
              "secondary_style    string\n",
              "country            string\n",
              "iso3               string\n",
              "dtype: object"
            ]
          },
          "metadata": {},
          "execution_count": 428
        }
      ]
    },
    {
      "cell_type": "markdown",
      "metadata": {
        "id": "362fef02"
      },
      "source": [
        "## Normalização\te\tdiscretização\n",
        "- min max\n",
        "- robust Scaler \n",
        "- standard scaler"
      ],
      "id": "362fef02"
    },
    {
      "cell_type": "markdown",
      "metadata": {
        "id": "7f25969a"
      },
      "source": [
        "## Detectando *outliers*"
      ],
      "id": "7f25969a"
    },
    {
      "cell_type": "code",
      "metadata": {
        "execution": {
          "iopub.execute_input": "2021-10-13T18:22:32.119074Z",
          "iopub.status.busy": "2021-10-13T18:22:32.118065Z",
          "iopub.status.idle": "2021-10-13T18:22:36.487510Z",
          "shell.execute_reply": "2021-10-13T18:22:36.486509Z",
          "shell.execute_reply.started": "2021-10-13T18:22:32.119074Z"
        },
        "tags": [],
        "id": "e8ff6555-f3c8-4aa5-af85-7ca482c39206"
      },
      "source": [
        "for column in df.select_dtypes(include='object'):\n",
        "    if df[column].nunique() < 1000:\n",
        "        sns.boxplot(x=column, data=df, y='fans')\n",
        "        plt.show()"
      ],
      "id": "e8ff6555-f3c8-4aa5-af85-7ca482c39206",
      "execution_count": null,
      "outputs": []
    },
    {
      "cell_type": "markdown",
      "metadata": {
        "id": "957fa7b2"
      },
      "source": [
        "## Análises"
      ],
      "id": "957fa7b2"
    },
    {
      "cell_type": "markdown",
      "metadata": {
        "execution": {
          "iopub.execute_input": "2021-10-13T18:36:22.345105Z",
          "iopub.status.busy": "2021-10-13T18:36:22.345105Z",
          "iopub.status.idle": "2021-10-13T18:36:22.361119Z",
          "shell.execute_reply": "2021-10-13T18:36:22.361119Z",
          "shell.execute_reply.started": "2021-10-13T18:36:22.345105Z"
        },
        "tags": [],
        "id": "1e11886a-d9e7-4772-b35e-78e4ad75b84a"
      },
      "source": [
        "### Tempo de Duração das Bandas"
      ],
      "id": "1e11886a-d9e7-4772-b35e-78e4ad75b84a"
    },
    {
      "cell_type": "code",
      "metadata": {
        "execution": {
          "iopub.execute_input": "2021-10-13T18:49:45.951709Z",
          "iopub.status.busy": "2021-10-13T18:49:45.951709Z",
          "iopub.status.idle": "2021-10-13T18:49:45.968724Z",
          "shell.execute_reply": "2021-10-13T18:49:45.968724Z",
          "shell.execute_reply.started": "2021-10-13T18:49:45.951709Z"
        },
        "tags": [],
        "id": "9039e1de-7088-47a5-9763-c1e1b78101fc"
      },
      "source": [
        "df[df['split'] == '-'].index"
      ],
      "id": "9039e1de-7088-47a5-9763-c1e1b78101fc",
      "execution_count": null,
      "outputs": []
    },
    {
      "cell_type": "code",
      "metadata": {
        "execution": {
          "iopub.execute_input": "2021-10-13T18:49:46.107841Z",
          "iopub.status.busy": "2021-10-13T18:49:46.106839Z",
          "iopub.status.idle": "2021-10-13T18:49:46.128859Z",
          "shell.execute_reply": "2021-10-13T18:49:46.128859Z",
          "shell.execute_reply.started": "2021-10-13T18:49:46.107841Z"
        },
        "tags": [],
        "id": "e4b7103a-18d5-44df-be7c-9c0e6a0c5c22"
      },
      "source": [
        "# para efeitos de comparação, bandas cujo ano de split é igual a \"-\" foram considerados bandas que ainda estão juntas\n",
        "df_split = df.drop(df[df['split'] == '-'].index)\n",
        "df_non_split = df.drop(df[df['split'] != '-'].index)"
      ],
      "id": "e4b7103a-18d5-44df-be7c-9c0e6a0c5c22",
      "execution_count": null,
      "outputs": []
    },
    {
      "cell_type": "code",
      "metadata": {
        "execution": {
          "iopub.execute_input": "2021-10-13T18:49:46.440101Z",
          "iopub.status.busy": "2021-10-13T18:49:46.440101Z",
          "iopub.status.idle": "2021-10-13T18:49:46.444840Z",
          "shell.execute_reply": "2021-10-13T18:49:46.444659Z",
          "shell.execute_reply.started": "2021-10-13T18:49:46.440101Z"
        },
        "tags": [],
        "id": "5afc9028-7219-4e7b-8b23-73ec7f36446c"
      },
      "source": [
        "df_split.shape"
      ],
      "id": "5afc9028-7219-4e7b-8b23-73ec7f36446c",
      "execution_count": null,
      "outputs": []
    },
    {
      "cell_type": "code",
      "metadata": {
        "execution": {
          "iopub.execute_input": "2021-10-13T18:49:47.622846Z",
          "iopub.status.busy": "2021-10-13T18:49:47.621845Z",
          "iopub.status.idle": "2021-10-13T18:49:47.640862Z",
          "shell.execute_reply": "2021-10-13T18:49:47.640862Z",
          "shell.execute_reply.started": "2021-10-13T18:49:47.622846Z"
        },
        "tags": [],
        "id": "18481250-ef4c-4e60-9b7d-81b0c6d40461"
      },
      "source": [
        "df_non_split.shape"
      ],
      "id": "18481250-ef4c-4e60-9b7d-81b0c6d40461",
      "execution_count": null,
      "outputs": []
    },
    {
      "cell_type": "code",
      "metadata": {
        "execution": {
          "iopub.execute_input": "2021-10-13T18:49:47.870101Z",
          "iopub.status.busy": "2021-10-13T18:49:47.870101Z",
          "iopub.status.idle": "2021-10-13T18:49:47.884113Z",
          "shell.execute_reply": "2021-10-13T18:49:47.884113Z",
          "shell.execute_reply.started": "2021-10-13T18:49:47.870101Z"
        },
        "tags": [],
        "id": "bd414ae8-3a1a-4796-9dee-faeb4cdd36bb"
      },
      "source": [
        "# como as bandas cujo valor de split é igual a \"-\" consideramos como ainda em andamento, colocaremos o ano de 2017 (pois os valores do dataset vão até 2016), para considerar o tempo que as bandas estão juntas"
      ],
      "id": "bd414ae8-3a1a-4796-9dee-faeb4cdd36bb",
      "execution_count": null,
      "outputs": []
    },
    {
      "cell_type": "code",
      "metadata": {
        "execution": {
          "iopub.execute_input": "2021-10-13T18:49:48.582013Z",
          "iopub.status.busy": "2021-10-13T18:49:48.582013Z",
          "iopub.status.idle": "2021-10-13T18:49:48.593388Z",
          "shell.execute_reply": "2021-10-13T18:49:48.593388Z",
          "shell.execute_reply.started": "2021-10-13T18:49:48.582013Z"
        },
        "tags": [],
        "id": "3173ed10-5682-4363-9ec6-6f3eb0debfd3"
      },
      "source": [
        "df_non_split['split'].sample(10)"
      ],
      "id": "3173ed10-5682-4363-9ec6-6f3eb0debfd3",
      "execution_count": null,
      "outputs": []
    },
    {
      "cell_type": "code",
      "metadata": {
        "execution": {
          "iopub.execute_input": "2021-10-13T18:49:49.037644Z",
          "iopub.status.busy": "2021-10-13T18:49:49.037644Z",
          "iopub.status.idle": "2021-10-13T18:49:49.050655Z",
          "shell.execute_reply": "2021-10-13T18:49:49.050655Z",
          "shell.execute_reply.started": "2021-10-13T18:49:49.037644Z"
        },
        "tags": [],
        "id": "d52df1f5-a448-4791-b149-a12d0bda5553"
      },
      "source": [
        "df_non_split['split'] = 2017"
      ],
      "id": "d52df1f5-a448-4791-b149-a12d0bda5553",
      "execution_count": null,
      "outputs": []
    },
    {
      "cell_type": "code",
      "metadata": {
        "execution": {
          "iopub.execute_input": "2021-10-13T18:49:49.607222Z",
          "iopub.status.busy": "2021-10-13T18:49:49.606221Z",
          "iopub.status.idle": "2021-10-13T18:49:49.618231Z",
          "shell.execute_reply": "2021-10-13T18:49:49.618231Z",
          "shell.execute_reply.started": "2021-10-13T18:49:49.607222Z"
        },
        "tags": [],
        "id": "b534accd-24ca-4647-ae69-b279f234b3d3"
      },
      "source": [
        "df_non_split['split'].sample(10)"
      ],
      "id": "b534accd-24ca-4647-ae69-b279f234b3d3",
      "execution_count": null,
      "outputs": []
    },
    {
      "cell_type": "code",
      "metadata": {
        "execution": {
          "iopub.execute_input": "2021-10-13T18:51:27.200179Z",
          "iopub.status.busy": "2021-10-13T18:51:27.200179Z",
          "iopub.status.idle": "2021-10-13T18:51:27.206175Z",
          "shell.execute_reply": "2021-10-13T18:51:27.206175Z",
          "shell.execute_reply.started": "2021-10-13T18:51:27.200179Z"
        },
        "tags": [],
        "id": "660b77f6-bd29-4636-85af-fd2a342cfc8f"
      },
      "source": [
        "df_split['split'].sample(10)"
      ],
      "id": "660b77f6-bd29-4636-85af-fd2a342cfc8f",
      "execution_count": null,
      "outputs": []
    },
    {
      "cell_type": "code",
      "metadata": {
        "execution": {
          "iopub.execute_input": "2021-10-13T18:51:27.544499Z",
          "iopub.status.busy": "2021-10-13T18:51:27.544499Z",
          "iopub.status.idle": "2021-10-13T18:51:27.554508Z",
          "shell.execute_reply": "2021-10-13T18:51:27.554508Z",
          "shell.execute_reply.started": "2021-10-13T18:51:27.544499Z"
        },
        "tags": [],
        "id": "6803d299-51a5-4270-88bf-47bda62f3cc2"
      },
      "source": [
        "df_non_split['split'].sample(10)"
      ],
      "id": "6803d299-51a5-4270-88bf-47bda62f3cc2",
      "execution_count": null,
      "outputs": []
    },
    {
      "cell_type": "code",
      "metadata": {
        "execution": {
          "iopub.execute_input": "2021-10-13T18:50:49.991932Z",
          "iopub.status.busy": "2021-10-13T18:50:49.991932Z",
          "iopub.status.idle": "2021-10-13T18:50:50.023161Z",
          "shell.execute_reply": "2021-10-13T18:50:50.022876Z",
          "shell.execute_reply.started": "2021-10-13T18:50:49.991932Z"
        },
        "tags": [],
        "id": "1d1a88c4-55b2-419c-947b-6191d958d1d9"
      },
      "source": [
        "df_split['split'] = df_split['split'].astype('int64')"
      ],
      "id": "1d1a88c4-55b2-419c-947b-6191d958d1d9",
      "execution_count": null,
      "outputs": []
    },
    {
      "cell_type": "code",
      "metadata": {
        "execution": {
          "iopub.execute_input": "2021-10-13T18:50:52.516895Z",
          "iopub.status.busy": "2021-10-13T18:50:52.515894Z",
          "iopub.status.idle": "2021-10-13T18:50:52.530907Z",
          "shell.execute_reply": "2021-10-13T18:50:52.530907Z",
          "shell.execute_reply.started": "2021-10-13T18:50:52.516895Z"
        },
        "tags": [],
        "id": "d6c8f92d-104b-47d2-9b02-c04a70f29e62"
      },
      "source": [
        "df_split['band_duration'] = df_split['split'] - df_split['formed']"
      ],
      "id": "d6c8f92d-104b-47d2-9b02-c04a70f29e62",
      "execution_count": null,
      "outputs": []
    },
    {
      "cell_type": "code",
      "metadata": {
        "execution": {
          "iopub.execute_input": "2021-10-13T18:51:00.239969Z",
          "iopub.status.busy": "2021-10-13T18:51:00.238958Z",
          "iopub.status.idle": "2021-10-13T18:51:00.253982Z",
          "shell.execute_reply": "2021-10-13T18:51:00.253982Z",
          "shell.execute_reply.started": "2021-10-13T18:51:00.239969Z"
        },
        "tags": [],
        "id": "ec9ce9c9-283e-482a-aa08-77e669e4cf12"
      },
      "source": [
        "df_split.sample(10)"
      ],
      "id": "ec9ce9c9-283e-482a-aa08-77e669e4cf12",
      "execution_count": null,
      "outputs": []
    },
    {
      "cell_type": "code",
      "metadata": {
        "execution": {
          "iopub.execute_input": "2021-10-13T18:51:46.226194Z",
          "iopub.status.busy": "2021-10-13T18:51:46.226194Z",
          "iopub.status.idle": "2021-10-13T18:51:46.230197Z",
          "shell.execute_reply": "2021-10-13T18:51:46.230197Z",
          "shell.execute_reply.started": "2021-10-13T18:51:46.226194Z"
        },
        "tags": [],
        "id": "d0648eaa-0e5e-4e03-b247-34e28202dcf4"
      },
      "source": [
        "df_non_split['band_duration'] = df_non_split['split'] - df_non_split['formed']"
      ],
      "id": "d0648eaa-0e5e-4e03-b247-34e28202dcf4",
      "execution_count": null,
      "outputs": []
    },
    {
      "cell_type": "code",
      "metadata": {
        "execution": {
          "iopub.execute_input": "2021-10-13T18:51:55.039713Z",
          "iopub.status.busy": "2021-10-13T18:51:55.039713Z",
          "iopub.status.idle": "2021-10-13T18:51:55.057995Z",
          "shell.execute_reply": "2021-10-13T18:51:55.057995Z",
          "shell.execute_reply.started": "2021-10-13T18:51:55.039713Z"
        },
        "tags": [],
        "id": "07466a1a-afeb-4060-ac5c-a2a61b013621"
      },
      "source": [
        "df_non_split.sample(10)"
      ],
      "id": "07466a1a-afeb-4060-ac5c-a2a61b013621",
      "execution_count": null,
      "outputs": []
    },
    {
      "cell_type": "markdown",
      "metadata": {
        "tags": [],
        "id": "06f38ff3-3351-4f14-8ee4-55a733fe3df8"
      },
      "source": [
        "#### Bandas que terminaram"
      ],
      "id": "06f38ff3-3351-4f14-8ee4-55a733fe3df8"
    },
    {
      "cell_type": "code",
      "metadata": {
        "execution": {
          "iopub.execute_input": "2021-10-13T19:02:08.888647Z",
          "iopub.status.busy": "2021-10-13T19:02:08.887646Z",
          "iopub.status.idle": "2021-10-13T19:02:08.894652Z",
          "shell.execute_reply": "2021-10-13T19:02:08.894652Z",
          "shell.execute_reply.started": "2021-10-13T19:02:08.888647Z"
        },
        "tags": [],
        "id": "49ec6186-63d5-4d48-a66e-15d54603ddef"
      },
      "source": [
        "df_split['band_duration'].mean()"
      ],
      "id": "49ec6186-63d5-4d48-a66e-15d54603ddef",
      "execution_count": null,
      "outputs": []
    },
    {
      "cell_type": "code",
      "metadata": {
        "execution": {
          "iopub.execute_input": "2021-10-13T19:00:40.584646Z",
          "iopub.status.busy": "2021-10-13T19:00:40.584646Z",
          "iopub.status.idle": "2021-10-13T19:00:40.959740Z",
          "shell.execute_reply": "2021-10-13T19:00:40.959740Z",
          "shell.execute_reply.started": "2021-10-13T19:00:40.584646Z"
        },
        "tags": [],
        "id": "a7be30a1-d2c8-4f7d-9f36-bc19234f5da9"
      },
      "source": [
        "df_split.hist();"
      ],
      "id": "a7be30a1-d2c8-4f7d-9f36-bc19234f5da9",
      "execution_count": null,
      "outputs": []
    },
    {
      "cell_type": "code",
      "metadata": {
        "execution": {
          "iopub.execute_input": "2021-10-13T18:58:04.531381Z",
          "iopub.status.busy": "2021-10-13T18:58:04.531381Z",
          "iopub.status.idle": "2021-10-13T18:58:04.688938Z",
          "shell.execute_reply": "2021-10-13T18:58:04.688938Z",
          "shell.execute_reply.started": "2021-10-13T18:58:04.531381Z"
        },
        "tags": [],
        "id": "53fd4ee6-5ae7-469c-9e0e-b0a6f029de52"
      },
      "source": [
        "sns.histplot(data=df_split, x='band_duration', bins=10);"
      ],
      "id": "53fd4ee6-5ae7-469c-9e0e-b0a6f029de52",
      "execution_count": null,
      "outputs": []
    },
    {
      "cell_type": "code",
      "metadata": {
        "execution": {
          "iopub.execute_input": "2021-10-13T18:59:49.085410Z",
          "iopub.status.busy": "2021-10-13T18:59:49.085410Z",
          "iopub.status.idle": "2021-10-13T18:59:49.244788Z",
          "shell.execute_reply": "2021-10-13T18:59:49.244788Z",
          "shell.execute_reply.started": "2021-10-13T18:59:49.085410Z"
        },
        "tags": [],
        "id": "e9f68c4e-c7bd-4b9f-a5c2-4c6c54b8b321"
      },
      "source": [
        "sns.histplot(data=df_split, x='formed', bins=10);"
      ],
      "id": "e9f68c4e-c7bd-4b9f-a5c2-4c6c54b8b321",
      "execution_count": null,
      "outputs": []
    },
    {
      "cell_type": "code",
      "metadata": {
        "execution": {
          "iopub.execute_input": "2021-10-13T18:59:54.493568Z",
          "iopub.status.busy": "2021-10-13T18:59:54.492568Z",
          "iopub.status.idle": "2021-10-13T18:59:54.646171Z",
          "shell.execute_reply": "2021-10-13T18:59:54.646171Z",
          "shell.execute_reply.started": "2021-10-13T18:59:54.493568Z"
        },
        "tags": [],
        "id": "c23ef0a6-8060-4713-b978-14e1575f1240"
      },
      "source": [
        "sns.histplot(data=df_split, x='fans', bins=10);"
      ],
      "id": "c23ef0a6-8060-4713-b978-14e1575f1240",
      "execution_count": null,
      "outputs": []
    },
    {
      "cell_type": "markdown",
      "metadata": {
        "tags": [],
        "id": "bd746fb3-75b5-4fd2-bde3-57429a7e28d8"
      },
      "source": [
        "#### Bandas que continuam na ativa"
      ],
      "id": "bd746fb3-75b5-4fd2-bde3-57429a7e28d8"
    },
    {
      "cell_type": "code",
      "metadata": {
        "execution": {
          "iopub.execute_input": "2021-10-13T19:02:25.964056Z",
          "iopub.status.busy": "2021-10-13T19:02:25.964056Z",
          "iopub.status.idle": "2021-10-13T19:02:25.974168Z",
          "shell.execute_reply": "2021-10-13T19:02:25.974168Z",
          "shell.execute_reply.started": "2021-10-13T19:02:25.964056Z"
        },
        "tags": [],
        "id": "8c9080e1-8752-4d7c-92e0-a6cb86716874"
      },
      "source": [
        "df_non_split['band_duration'].mean()"
      ],
      "id": "8c9080e1-8752-4d7c-92e0-a6cb86716874",
      "execution_count": null,
      "outputs": []
    },
    {
      "cell_type": "code",
      "metadata": {
        "execution": {
          "iopub.execute_input": "2021-10-13T19:00:34.424726Z",
          "iopub.status.busy": "2021-10-13T19:00:34.424726Z",
          "iopub.status.idle": "2021-10-13T19:00:34.802500Z",
          "shell.execute_reply": "2021-10-13T19:00:34.802500Z",
          "shell.execute_reply.started": "2021-10-13T19:00:34.424726Z"
        },
        "tags": [],
        "id": "c82ccf96-b52f-4f13-83e2-2a4db01e317f"
      },
      "source": [
        "df_non_split.hist();"
      ],
      "id": "c82ccf96-b52f-4f13-83e2-2a4db01e317f",
      "execution_count": null,
      "outputs": []
    },
    {
      "cell_type": "code",
      "metadata": {
        "execution": {
          "iopub.execute_input": "2021-10-13T18:58:25.477630Z",
          "iopub.status.busy": "2021-10-13T18:58:25.476620Z",
          "iopub.status.idle": "2021-10-13T18:58:25.642594Z",
          "shell.execute_reply": "2021-10-13T18:58:25.642594Z",
          "shell.execute_reply.started": "2021-10-13T18:58:25.476620Z"
        },
        "tags": [],
        "id": "8371a64b-697b-4aff-b6c0-9e6fdf31dcc0"
      },
      "source": [
        "sns.histplot(data=df_non_split, x='band_duration', bins=10);"
      ],
      "id": "8371a64b-697b-4aff-b6c0-9e6fdf31dcc0",
      "execution_count": null,
      "outputs": []
    },
    {
      "cell_type": "code",
      "metadata": {
        "execution": {
          "iopub.execute_input": "2021-10-13T18:58:39.373998Z",
          "iopub.status.busy": "2021-10-13T18:58:39.373998Z",
          "iopub.status.idle": "2021-10-13T18:58:39.547254Z",
          "shell.execute_reply": "2021-10-13T18:58:39.546253Z",
          "shell.execute_reply.started": "2021-10-13T18:58:39.373998Z"
        },
        "tags": [],
        "id": "06010537-402e-422f-86bd-41a0490f66c6"
      },
      "source": [
        "sns.histplot(data=df_non_split, x='formed', bins=10);"
      ],
      "id": "06010537-402e-422f-86bd-41a0490f66c6",
      "execution_count": null,
      "outputs": []
    },
    {
      "cell_type": "code",
      "metadata": {
        "execution": {
          "iopub.execute_input": "2021-10-13T18:59:00.587680Z",
          "iopub.status.busy": "2021-10-13T18:59:00.587680Z",
          "iopub.status.idle": "2021-10-13T18:59:00.739046Z",
          "shell.execute_reply": "2021-10-13T18:59:00.738045Z",
          "shell.execute_reply.started": "2021-10-13T18:59:00.587680Z"
        },
        "tags": [],
        "id": "195bdcc4-73a1-414a-b626-3740b8ac5e49"
      },
      "source": [
        "sns.histplot(data=df_non_split, x='fans', bins=5);"
      ],
      "id": "195bdcc4-73a1-414a-b626-3740b8ac5e49",
      "execution_count": null,
      "outputs": []
    },
    {
      "cell_type": "markdown",
      "metadata": {
        "tags": [],
        "id": "793bdf67-4434-475f-a288-dfc903180a33"
      },
      "source": [
        "### Número de Fãs"
      ],
      "id": "793bdf67-4434-475f-a288-dfc903180a33"
    },
    {
      "cell_type": "code",
      "metadata": {
        "execution": {
          "iopub.execute_input": "2021-10-13T18:20:23.480152Z",
          "iopub.status.busy": "2021-10-13T18:20:23.480152Z",
          "iopub.status.idle": "2021-10-13T18:20:23.510239Z",
          "shell.execute_reply": "2021-10-13T18:20:23.510239Z",
          "shell.execute_reply.started": "2021-10-13T18:20:23.480152Z"
        },
        "id": "d5968c84",
        "tags": []
      },
      "source": [
        "df_fans_by_country = df[['origin', 'fans']].groupby('origin').mean().reset_index().sort_values('fans', ascending=False)\n",
        "df_fans_by_country"
      ],
      "id": "d5968c84",
      "execution_count": null,
      "outputs": []
    },
    {
      "cell_type": "code",
      "metadata": {
        "execution": {
          "iopub.execute_input": "2021-10-13T18:20:23.511240Z",
          "iopub.status.busy": "2021-10-13T18:20:23.511240Z",
          "iopub.status.idle": "2021-10-13T18:20:23.684674Z",
          "shell.execute_reply": "2021-10-13T18:20:23.684674Z",
          "shell.execute_reply.started": "2021-10-13T18:20:23.511240Z"
        },
        "id": "40aee31a"
      },
      "source": [
        "df.hist();"
      ],
      "id": "40aee31a",
      "execution_count": null,
      "outputs": []
    },
    {
      "cell_type": "code",
      "metadata": {
        "execution": {
          "iopub.execute_input": "2021-10-13T18:20:23.686681Z",
          "iopub.status.busy": "2021-10-13T18:20:23.686681Z",
          "iopub.status.idle": "2021-10-13T18:20:25.480152Z",
          "shell.execute_reply": "2021-10-13T18:20:25.480152Z",
          "shell.execute_reply.started": "2021-10-13T18:20:23.686681Z"
        },
        "id": "0c01c195"
      },
      "source": [
        "for column in df.select_dtypes(include='object'):\n",
        "    if df[column].nunique() < 100:\n",
        "        sns.countplot(x=column, data=df)\n",
        "        plt.show()"
      ],
      "id": "0c01c195",
      "execution_count": null,
      "outputs": []
    },
    {
      "cell_type": "code",
      "metadata": {
        "execution": {
          "iopub.execute_input": "2021-10-13T18:20:25.482154Z",
          "iopub.status.busy": "2021-10-13T18:20:25.481153Z",
          "iopub.status.idle": "2021-10-13T18:20:25.624330Z",
          "shell.execute_reply": "2021-10-13T18:20:25.624330Z",
          "shell.execute_reply.started": "2021-10-13T18:20:25.482154Z"
        },
        "id": "a35663cc"
      },
      "source": [
        "# Verificando frequência relativa entre atributos categóricos com menos de 5 valores distintos\n",
        "for col in df.drop('origin', axis=1).select_dtypes(include='object'):\n",
        "    if df[col].nunique() <=100:\n",
        "        display(pd.crosstab(df['origin'], df[col], normalize='index'))"
      ],
      "id": "a35663cc",
      "execution_count": null,
      "outputs": []
    },
    {
      "cell_type": "code",
      "metadata": {
        "execution": {
          "iopub.execute_input": "2021-10-13T18:20:25.626331Z",
          "iopub.status.busy": "2021-10-13T18:20:25.625331Z",
          "iopub.status.idle": "2021-10-13T18:20:25.641345Z",
          "shell.execute_reply": "2021-10-13T18:20:25.640344Z",
          "shell.execute_reply.started": "2021-10-13T18:20:25.626331Z"
        },
        "id": "18823d3c"
      },
      "source": [
        "df.dropna(inplace=True)"
      ],
      "id": "18823d3c",
      "execution_count": null,
      "outputs": []
    },
    {
      "cell_type": "code",
      "metadata": {
        "execution": {
          "iopub.execute_input": "2021-10-13T18:20:25.644348Z",
          "iopub.status.busy": "2021-10-13T18:20:25.644348Z",
          "iopub.status.idle": "2021-10-13T18:20:25.656709Z",
          "shell.execute_reply": "2021-10-13T18:20:25.656359Z",
          "shell.execute_reply.started": "2021-10-13T18:20:25.644348Z"
        },
        "id": "42874bb9"
      },
      "source": [
        "dropar_index = df[df['formed'] == '-'].index"
      ],
      "id": "42874bb9",
      "execution_count": null,
      "outputs": []
    },
    {
      "cell_type": "code",
      "metadata": {
        "execution": {
          "iopub.execute_input": "2021-10-13T18:20:25.658758Z",
          "iopub.status.busy": "2021-10-13T18:20:25.658758Z",
          "iopub.status.idle": "2021-10-13T18:20:25.664725Z",
          "shell.execute_reply": "2021-10-13T18:20:25.664235Z",
          "shell.execute_reply.started": "2021-10-13T18:20:25.658758Z"
        },
        "id": "47f5782a"
      },
      "source": [
        "df.drop(dropar_index, axis=0, inplace=True)"
      ],
      "id": "47f5782a",
      "execution_count": null,
      "outputs": []
    },
    {
      "cell_type": "code",
      "metadata": {
        "execution": {
          "iopub.execute_input": "2021-10-13T18:20:25.666726Z",
          "iopub.status.busy": "2021-10-13T18:20:25.665725Z",
          "iopub.status.idle": "2021-10-13T18:20:25.678745Z",
          "shell.execute_reply": "2021-10-13T18:20:25.677446Z",
          "shell.execute_reply.started": "2021-10-13T18:20:25.666726Z"
        },
        "id": "9e39a0cc"
      },
      "source": [
        "df['formed'] = df['formed'].astype('int64')"
      ],
      "id": "9e39a0cc",
      "execution_count": null,
      "outputs": []
    },
    {
      "cell_type": "code",
      "metadata": {
        "execution": {
          "iopub.execute_input": "2021-10-13T18:20:25.679745Z",
          "iopub.status.busy": "2021-10-13T18:20:25.679745Z",
          "iopub.status.idle": "2021-10-13T18:20:25.693757Z",
          "shell.execute_reply": "2021-10-13T18:20:25.692755Z",
          "shell.execute_reply.started": "2021-10-13T18:20:25.679745Z"
        },
        "id": "bf0dca19"
      },
      "source": [
        "df.corr(method='pearson')"
      ],
      "id": "bf0dca19",
      "execution_count": null,
      "outputs": []
    },
    {
      "cell_type": "code",
      "metadata": {
        "execution": {
          "iopub.execute_input": "2021-10-13T18:20:25.694757Z",
          "iopub.status.busy": "2021-10-13T18:20:25.694757Z",
          "iopub.status.idle": "2021-10-13T18:20:25.709770Z",
          "shell.execute_reply": "2021-10-13T18:20:25.708769Z",
          "shell.execute_reply.started": "2021-10-13T18:20:25.694757Z"
        },
        "id": "18ada6a4"
      },
      "source": [
        "df.corr(method='kendall')"
      ],
      "id": "18ada6a4",
      "execution_count": null,
      "outputs": []
    },
    {
      "cell_type": "code",
      "metadata": {
        "execution": {
          "iopub.execute_input": "2021-10-13T18:20:25.710771Z",
          "iopub.status.busy": "2021-10-13T18:20:25.710771Z",
          "iopub.status.idle": "2021-10-13T18:20:25.725430Z",
          "shell.execute_reply": "2021-10-13T18:20:25.724430Z",
          "shell.execute_reply.started": "2021-10-13T18:20:25.710771Z"
        },
        "id": "3ab7efa2"
      },
      "source": [
        "df.corr(method='spearman')"
      ],
      "id": "3ab7efa2",
      "execution_count": null,
      "outputs": []
    },
    {
      "cell_type": "markdown",
      "metadata": {
        "id": "8f64f0fa"
      },
      "source": [
        "# Visualização de dados"
      ],
      "id": "8f64f0fa"
    },
    {
      "cell_type": "code",
      "metadata": {
        "execution": {
          "iopub.execute_input": "2021-10-13T18:20:25.726433Z",
          "iopub.status.busy": "2021-10-13T18:20:25.726433Z",
          "iopub.status.idle": "2021-10-13T18:20:25.741445Z",
          "shell.execute_reply": "2021-10-13T18:20:25.740444Z",
          "shell.execute_reply.started": "2021-10-13T18:20:25.726433Z"
        },
        "id": "04cc16f8"
      },
      "source": [
        "# scatterplots\n",
        "# countplot e histogramas\n",
        "# boxplot\n",
        "# violinplot"
      ],
      "id": "04cc16f8",
      "execution_count": null,
      "outputs": []
    },
    {
      "cell_type": "markdown",
      "metadata": {
        "id": "h2ES2kgklv9g"
      },
      "source": [
        "## Quantidade de fãs por país de origem"
      ],
      "id": "h2ES2kgklv9g"
    },
    {
      "cell_type": "code",
      "metadata": {
        "execution": {
          "iopub.execute_input": "2021-10-13T18:20:25.758460Z",
          "iopub.status.busy": "2021-10-13T18:20:25.757460Z",
          "iopub.status.idle": "2021-10-13T18:20:25.995557Z",
          "shell.execute_reply": "2021-10-13T18:20:25.995557Z",
          "shell.execute_reply.started": "2021-10-13T18:20:25.758460Z"
        },
        "id": "681fedd7",
        "tags": [],
        "colab": {
          "base_uri": "https://localhost:8080/",
          "height": 637
        },
        "outputId": "b7c4b4b9-cc36-4b9a-ef0c-0a4eb1e41513"
      },
      "source": [
        "plt.figure(figsize=(16,9))\n",
        "plt.xticks(rotation=45)\n",
        "barplot = sns.barplot(data=df_fans_by_country.head(10), x='origin', y='fans')\n",
        "barplot.set(xlabel='País de origem', ylabel='Qtd de fãs')\n",
        "plt.show()"
      ],
      "id": "681fedd7",
      "execution_count": 502,
      "outputs": [
        {
          "output_type": "display_data",
          "data": {
            "image/png": "[encoded data removed]",
            "text/plain": [
              "<Figure size 1152x648 with 1 Axes>"
            ]
          },
          "metadata": {
            "needs_background": "light"
          }
        }
      ]
    },
    {
      "cell_type": "markdown",
      "metadata": {
        "id": "mEUG__aUoprh"
      },
      "source": [
        "## Relação de bandas por paísde origem"
      ],
      "id": "mEUG__aUoprh"
    },
    {
      "cell_type": "code",
      "metadata": {
        "colab": {
          "base_uri": "https://localhost:8080/"
        },
        "id": "cgYaSYm7U0YD",
        "outputId": "544a87a8-7a6a-4d7c-8fa3-7661c73c83ab"
      },
      "source": [
        "print(f\"\\nNeste dataset, existem {len(df['country'].unique())} países produzindo Metal, assim como {', '.join(df['country'].unique()[0:5])}... \\n\")"
      ],
      "id": "cgYaSYm7U0YD",
      "execution_count": 585,
      "outputs": [
        {
          "output_type": "stream",
          "name": "stdout",
          "text": [
            "\n",
            "Neste dataset, existem 86 países produzindo Metal, assim como United Kingdom, Sweden, USA, Finland, Germany... \n",
            "\n"
          ]
        }
      ]
    },
    {
      "cell_type": "markdown",
      "metadata": {
        "id": "pXYzCDM1Jejh"
      },
      "source": [
        "### TOP #10"
      ],
      "id": "pXYzCDM1Jejh"
    },
    {
      "cell_type": "code",
      "metadata": {
        "colab": {
          "base_uri": "https://localhost:8080/",
          "height": 591
        },
        "id": "u2udIQ7tJmJ6",
        "outputId": "263d89a6-8623-4412-9ecb-ce3162348c5c"
      },
      "source": [
        "country_top20 = df[\"origin\"].value_counts()[:10]\n",
        "\n",
        "def func(pct, allvalues):\n",
        "    absolute = int(pct / 100.*np.sum(allvalues))\n",
        "    return \"{:.1f}%\\n({:d})\".format(pct, absolute)\n",
        "\n",
        "fig = plt.figure(figsize =(20, 10))\n",
        "plt.title('TOP #10 Bandas de Metal por país até 2016')\n",
        "colors = sns.color_palette('GnBu_d')\n",
        "plt.pie(country_top20.values,\n",
        "        labels = country_top20.keys(),\n",
        "        colors = colors,\n",
        "        autopct = lambda pct: func(pct, country_top20.values))\n",
        "\n",
        "plt.show()"
      ],
      "id": "u2udIQ7tJmJ6",
      "execution_count": 509,
      "outputs": [
        {
          "output_type": "display_data",
          "data": {
            "image/png": "[encoded data removed]",
            "text/plain": [
              "<Figure size 1440x720 with 1 Axes>"
            ]
          },
          "metadata": {}
        }
      ]
    },
    {
      "cell_type": "markdown",
      "metadata": {
        "id": "V9yYyU7ZI_-p"
      },
      "source": [
        "### Escala de 1 milhão de pessoas 🌽🤘"
      ],
      "id": "V9yYyU7ZI_-p"
    },
    {
      "cell_type": "code",
      "metadata": {
        "execution": {
          "iopub.execute_input": "2021-10-13T18:20:25.995557Z",
          "iopub.status.busy": "2021-10-13T18:20:25.995557Z",
          "iopub.status.idle": "2021-10-13T18:20:26.011035Z",
          "shell.execute_reply": "2021-10-13T18:20:26.011035Z",
          "shell.execute_reply.started": "2021-10-13T18:20:25.995557Z"
        },
        "id": "d8c32c13",
        "tags": [],
        "colab": {
          "base_uri": "https://localhost:8080/"
        },
        "outputId": "b4be3899-07d9-47c1-8276-c7bdeb82600a"
      },
      "source": [
        "# Exemplo referência: https://ramiro.org/notebook/metal-bands-map/\n",
        "band_countries = df.iso3.value_counts()\n",
        "band_countries.name = \"bands\"\n",
        "band_countries"
      ],
      "id": "d8c32c13",
      "execution_count": 433,
      "outputs": [
        {
          "output_type": "execute_result",
          "data": {
            "text/plain": [
              "USA    1124\n",
              "SWE     470\n",
              "DEU     392\n",
              "GBR     342\n",
              "FIN     301\n",
              "       ... \n",
              "KGZ       1\n",
              "ECU       1\n",
              "ARM       1\n",
              "VEN       1\n",
              "GRL       1\n",
              "Name: bands, Length: 86, dtype: Int64"
            ]
          },
          "metadata": {},
          "execution_count": 433
        }
      ]
    },
    {
      "cell_type": "code",
      "metadata": {
        "execution": {
          "iopub.execute_input": "2021-10-13T18:20:26.013036Z",
          "iopub.status.busy": "2021-10-13T18:20:26.013036Z",
          "iopub.status.idle": "2021-10-13T18:20:26.216588Z",
          "shell.execute_reply": "2021-10-13T18:20:26.216285Z",
          "shell.execute_reply.started": "2021-10-13T18:20:26.013036Z"
        },
        "id": "16078e05",
        "tags": [],
        "colab": {
          "base_uri": "https://localhost:8080/",
          "height": 255
        },
        "outputId": "83a9ce6e-89dc-4073-eccb-1b6fa8c14c5b"
      },
      "source": [
        "world = gpd.read_file(gpd.datasets.get_path('naturalearth_lowres')).to_crs('+proj=robin')\n",
        "world = world[world.name != 'Antarctica'] # removendo antártica\n",
        "world = world.join(band_countries, on='iso_a3')\n",
        "\n",
        "# soma a contagem de bandas por país e bandas por 1 milhão de pessoas\n",
        "world['band_ratio'] = world['bands'] / world['pop_est'] * 1_000_000\n",
        "world.sort_values('band_ratio', ascending=False).head()"
      ],
      "id": "16078e05",
      "execution_count": 436,
      "outputs": [
        {
          "output_type": "execute_result",
          "data": {
            "text/html": [
              "<div>\n",
              "<style scoped>\n",
              "    .dataframe tbody tr th:only-of-type {\n",
              "        vertical-align: middle;\n",
              "    }\n",
              "\n",
              "    .dataframe tbody tr th {\n",
              "        vertical-align: top;\n",
              "    }\n",
              "\n",
              "    .dataframe thead th {\n",
              "        text-align: right;\n",
              "    }\n",
              "</style>\n",
              "<table border=\"1\" class=\"dataframe\">\n",
              "  <thead>\n",
              "    <tr style=\"text-align: right;\">\n",
              "      <th></th>\n",
              "      <th>pop_est</th>\n",
              "      <th>continent</th>\n",
              "      <th>name</th>\n",
              "      <th>iso_a3</th>\n",
              "      <th>gdp_md_est</th>\n",
              "      <th>geometry</th>\n",
              "      <th>bands</th>\n",
              "      <th>band_ratio</th>\n",
              "    </tr>\n",
              "  </thead>\n",
              "  <tbody>\n",
              "    <tr>\n",
              "      <th>144</th>\n",
              "      <td>339747</td>\n",
              "      <td>Europe</td>\n",
              "      <td>Iceland</td>\n",
              "      <td>ISL</td>\n",
              "      <td>16150.0</td>\n",
              "      <td>POLYGON ((-1025302.197 6952546.772, -1048898.3...</td>\n",
              "      <td>25</td>\n",
              "      <td>73.584167</td>\n",
              "    </tr>\n",
              "    <tr>\n",
              "      <th>151</th>\n",
              "      <td>5491218</td>\n",
              "      <td>Europe</td>\n",
              "      <td>Finland</td>\n",
              "      <td>FIN</td>\n",
              "      <td>224137.0</td>\n",
              "      <td>POLYGON ((1962483.961 7191405.690, 1968166.420...</td>\n",
              "      <td>301</td>\n",
              "      <td>54.814797</td>\n",
              "    </tr>\n",
              "    <tr>\n",
              "      <th>110</th>\n",
              "      <td>9960487</td>\n",
              "      <td>Europe</td>\n",
              "      <td>Sweden</td>\n",
              "      <td>SWE</td>\n",
              "      <td>498100.0</td>\n",
              "      <td>POLYGON ((840937.999 6223578.056, 869899.710 6...</td>\n",
              "      <td>470</td>\n",
              "      <td>47.186448</td>\n",
              "    </tr>\n",
              "    <tr>\n",
              "      <th>22</th>\n",
              "      <td>57713</td>\n",
              "      <td>North America</td>\n",
              "      <td>Greenland</td>\n",
              "      <td>GRL</td>\n",
              "      <td>2173.0</td>\n",
              "      <td>POLYGON ((-2627201.180 8280938.168, -2414731.2...</td>\n",
              "      <td>1</td>\n",
              "      <td>17.327119</td>\n",
              "    </tr>\n",
              "    <tr>\n",
              "      <th>142</th>\n",
              "      <td>5605948</td>\n",
              "      <td>Europe</td>\n",
              "      <td>Denmark</td>\n",
              "      <td>DNK</td>\n",
              "      <td>264800.0</td>\n",
              "      <td>MULTIPOLYGON (((782831.650 5836658.459, 733278...</td>\n",
              "      <td>70</td>\n",
              "      <td>12.486737</td>\n",
              "    </tr>\n",
              "  </tbody>\n",
              "</table>\n",
              "</div>"
            ],
            "text/plain": [
              "     pop_est      continent  ... bands band_ratio\n",
              "144   339747         Europe  ...    25  73.584167\n",
              "151  5491218         Europe  ...   301  54.814797\n",
              "110  9960487         Europe  ...   470  47.186448\n",
              "22     57713  North America  ...     1  17.327119\n",
              "142  5605948         Europe  ...    70  12.486737\n",
              "\n",
              "[5 rows x 8 columns]"
            ]
          },
          "metadata": {},
          "execution_count": 436
        }
      ]
    },
    {
      "cell_type": "code",
      "metadata": {
        "colab": {
          "base_uri": "https://localhost:8080/",
          "height": 502
        },
        "id": "rrB1PA5FFEJC",
        "outputId": "6ef8825c-2197-49c5-abad-30913a3d6aec"
      },
      "source": [
        "paises_com_bandas = world.dropna(subset=['band_ratio'])\n",
        "paises_sem_bandas = world[world['band_ratio'].isna()]\n",
        "\n",
        "ax = paises_com_bandas.plot(column='band_ratio', cmap='inferno_r', figsize=(20, 12), scheme='fisher_jenks', k=9, legend=True, edgecolor='#aaaaaa')\n",
        "paises_sem_bandas.plot(ax=ax, color='#ffffff', hatch='//', edgecolor='#aaaaaa')\n",
        "\n",
        "ax.set_title('Bandas de Metal (escala de 1 milhão de pessoas)', fontdict={'fontsize': 20}, loc='left')\n",
        "description = '''\n",
        "Com base em bandas existentes e separadas listadas no site metalstorm.net em 2016,\\ndisponibilizadas no dataset Metal Bands by Nation kaggle.com/mrpantherson/metal-by-nation\\ne estimativas de população por naturalearthdata.com'''.strip()\n",
        "ax.annotate(description, xy=(0.07, 0.1), size=12, xycoords='figure fraction')\n",
        "\n",
        "ax.set_axis_off()\n",
        "legend = ax.get_legend()\n",
        "legend.set_bbox_to_anchor((.11, .4))\n",
        "legend.prop.set_size(12)"
      ],
      "id": "rrB1PA5FFEJC",
      "execution_count": 501,
      "outputs": [
        {
          "output_type": "display_data",
          "data": {
            "image/png": "[encoded data removed]",
            "text/plain": [
              "<Figure size 1440x864 with 1 Axes>"
            ]
          },
          "metadata": {
            "needs_background": "light"
          }
        }
      ]
    },
    {
      "cell_type": "markdown",
      "metadata": {
        "id": "uiOh37zBo30E"
      },
      "source": [
        "## Relação de bandas por subgênero"
      ],
      "id": "uiOh37zBo30E"
    },
    {
      "cell_type": "code",
      "metadata": {
        "colab": {
          "base_uri": "https://localhost:8080/"
        },
        "id": "GMImXpPkVA8K",
        "outputId": "f6c74d7e-ca78-4d61-9c43-2ecca1a02486"
      },
      "source": [
        "#\", \".join(df[\"secondary_style\"].unique()[0:5])\n",
        "print(f\"\\nNeste dataset, existem {len(df['main_style'].unique())} principais subgêneros e {len(df['secondary_style'].dropna())} bandas que mesclam mais de um subgênero,\\nassim como {', '.join(df['secondary_style'].dropna().unique()[0:5])}...\\n\")"
      ],
      "id": "GMImXpPkVA8K",
      "execution_count": 599,
      "outputs": [
        {
          "output_type": "stream",
          "name": "stdout",
          "text": [
            "\n",
            "Neste dataset, existem 208 principais subgêneros e 2152 bandas que mesclam mais de um subgênero,\n",
            "assim como Heavy, Progressive rock, Bay area thrash, Death, Gothic...\n",
            "\n"
          ]
        }
      ]
    },
    {
      "cell_type": "code",
      "metadata": {
        "execution": {
          "iopub.execute_input": "2021-10-13T18:20:26.218590Z",
          "iopub.status.busy": "2021-10-13T18:20:26.217588Z",
          "iopub.status.idle": "2021-10-13T18:20:26.431174Z",
          "shell.execute_reply": "2021-10-13T18:20:26.431174Z",
          "shell.execute_reply.started": "2021-10-13T18:20:26.218590Z"
        },
        "tags": [],
        "id": "89bb5a89"
      },
      "source": [
        "pure = {}\n",
        "mixed = {}\n",
        "style_df = pd.DataFrame(columns=['Style', 'Pure', 'Mixed'])\n",
        "for index, band in df.iterrows():\n",
        "    main_style = band['main_style']\n",
        "    secondary_style = band['secondary_style']\n",
        "    if (pd.isna(secondary_style)):\n",
        "        pure[main_style] = pure.get(main_style, 0) + 1\n",
        "    else:\n",
        "        mixed[secondary_style] = mixed.get(secondary_style, 0) + 1\n",
        "\n",
        "\n",
        "style_df['Style']= mixed.keys()\n",
        "style_df['Mixed']= style_df['Style'].map(mixed)\n",
        "style_df['Pure'] = style_df['Style'].map(pure)\n",
        "\n",
        "style_df = style_df.sort_values(by='Mixed', ascending=False)[:50]"
      ],
      "id": "89bb5a89",
      "execution_count": 532,
      "outputs": []
    },
    {
      "cell_type": "code",
      "metadata": {
        "colab": {
          "base_uri": "https://localhost:8080/",
          "height": 571
        },
        "id": "ZYhb4_GtYMum",
        "outputId": "be60792d-8016-4736-df44-3c2ff8da945d"
      },
      "source": [
        "ax = style_df[['Pure', 'Mixed']].plot(kind='bar', color=['#DD2763', '#74BBA4'])\n",
        "ax.set_xticklabels(style_df['Style'], rotation=90)\n",
        "plt.title('Relação entre subgêneros entre bandas de Metal')\n",
        "mixed_legend = mpatches.Patch(color='#DD2763', label='Subgênero puro')\n",
        "pure_legend = mpatches.Patch(color='#74BBA4', label='Subgêneros misturados')\n",
        "plt.legend(handles=[mixed_legend, pure_legend])\n",
        "\n",
        "sns.set(rc={'figure.figsize':(20, 10)})\n",
        "sns.set(font_scale=1)"
      ],
      "id": "ZYhb4_GtYMum",
      "execution_count": 545,
      "outputs": [
        {
          "output_type": "display_data",
          "data": {
            "image/png": "[encoded data removed]",
            "text/plain": [
              "<Figure size 1440x720 with 1 Axes>"
            ]
          },
          "metadata": {}
        }
      ]
    }
  ]
}